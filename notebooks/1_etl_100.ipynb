{
 "cells": [
  {
   "cell_type": "markdown",
   "metadata": {},
   "source": [
    "# Introduction\n",
    "\n",
    "This notebook is a copy of `1_etl.ipynb` with the modification of increasing the number of unique values for the variables:\n",
    "* [`VendorID`](#Validation:-VendorID)\n",
    "* [`PULocationID`](#Validation:-PULocationID)\n",
    "* [`DOLocationID`](#Validation:-DOLocationID)"
   ]
  },
  {
   "cell_type": "code",
   "execution_count": 1,
   "metadata": {
    "execution": {
     "iopub.execute_input": "2021-04-25T08:25:23.749078Z",
     "iopub.status.busy": "2021-04-25T08:25:23.748781Z",
     "iopub.status.idle": "2021-04-25T08:25:23.768823Z",
     "shell.execute_reply": "2021-04-25T08:25:23.767898Z",
     "shell.execute_reply.started": "2021-04-25T08:25:23.748998Z"
    },
    "tags": []
   },
   "outputs": [],
   "source": [
    "%load_ext autoreload\n",
    "%autoreload 2"
   ]
  },
  {
   "cell_type": "code",
   "execution_count": 2,
   "metadata": {
    "execution": {
     "iopub.execute_input": "2021-04-25T08:25:23.770621Z",
     "iopub.status.busy": "2021-04-25T08:25:23.770314Z",
     "iopub.status.idle": "2021-04-25T08:25:25.605989Z",
     "shell.execute_reply": "2021-04-25T08:25:25.605044Z",
     "shell.execute_reply.started": "2021-04-25T08:25:23.770588Z"
    },
    "tags": []
   },
   "outputs": [],
   "source": [
    "import pandas as pd\n",
    "import matplotlib.pyplot as plt\n",
    "import seaborn as sns\n",
    "from pathlib import Path\n",
    "from dotenv import find_dotenv\n",
    "from datetime import datetime\n",
    "\n",
    "from pyspark.sql import SparkSession\n",
    "from pyspark.conf import SparkConf\n",
    "from pyspark import SparkContext\n",
    "\n",
    "import pyspark.sql.functions as F\n",
    "from pyspark.sql.functions import when\n",
    "from pyspark.sql.types import (\n",
    "    IntegerType,\n",
    "    DateType,\n",
    "    FloatType,\n",
    "    StringType,\n",
    "    TimestampType \n",
    ")\n",
    "\n",
    "# from src.data.utils import count_missing"
   ]
  },
  {
   "cell_type": "code",
   "execution_count": 3,
   "metadata": {
    "execution": {
     "iopub.execute_input": "2021-04-25T08:25:25.607939Z",
     "iopub.status.busy": "2021-04-25T08:25:25.607732Z",
     "iopub.status.idle": "2021-04-25T08:25:25.632565Z",
     "shell.execute_reply": "2021-04-25T08:25:25.631219Z",
     "shell.execute_reply.started": "2021-04-25T08:25:25.607915Z"
    },
    "tags": []
   },
   "outputs": [],
   "source": [
    "project_dir = Path().cwd().parent\n",
    "data_dir = project_dir / 'data'\n",
    "raw_data_dir = data_dir / 'raw'\n",
    "interim_data_dir = data_dir / 'interim'\n",
    "processed_data_dir = data_dir / 'processed'\n",
    "reports_dir = project_dir / 'reports'"
   ]
  },
  {
   "cell_type": "code",
   "execution_count": 4,
   "metadata": {
    "execution": {
     "iopub.execute_input": "2021-04-25T08:25:25.633964Z",
     "iopub.status.busy": "2021-04-25T08:25:25.633765Z",
     "iopub.status.idle": "2021-04-25T08:25:29.465983Z",
     "shell.execute_reply": "2021-04-25T08:25:29.463987Z",
     "shell.execute_reply.started": "2021-04-25T08:25:25.633940Z"
    },
    "tags": []
   },
   "outputs": [],
   "source": [
    "spark = (\n",
    "    SparkSession\n",
    "    .builder\n",
    "    .master('local[12]')\n",
    "    .appName('new_york_taxis')\n",
    "    .getOrCreate()\n",
    ")"
   ]
  },
  {
   "cell_type": "code",
   "execution_count": 5,
   "metadata": {
    "execution": {
     "iopub.execute_input": "2021-04-25T08:25:29.469066Z",
     "iopub.status.busy": "2021-04-25T08:25:29.468538Z",
     "iopub.status.idle": "2021-04-25T08:25:29.504604Z",
     "shell.execute_reply": "2021-04-25T08:25:29.500078Z",
     "shell.execute_reply.started": "2021-04-25T08:25:29.469010Z"
    },
    "tags": []
   },
   "outputs": [
    {
     "data": {
      "text/html": [
       "\n",
       "            <div>\n",
       "                <p><b>SparkSession - in-memory</b></p>\n",
       "                \n",
       "        <div>\n",
       "            <p><b>SparkContext</b></p>\n",
       "\n",
       "            <p><a href=\"http://45311a0c81eb:4040\">Spark UI</a></p>\n",
       "\n",
       "            <dl>\n",
       "              <dt>Version</dt>\n",
       "                <dd><code>v2.4.5</code></dd>\n",
       "              <dt>Master</dt>\n",
       "                <dd><code>local[12]</code></dd>\n",
       "              <dt>AppName</dt>\n",
       "                <dd><code>new_york_taxis</code></dd>\n",
       "            </dl>\n",
       "        </div>\n",
       "        \n",
       "            </div>\n",
       "        "
      ],
      "text/plain": [
       "<pyspark.sql.session.SparkSession at 0x7f0cee451190>"
      ]
     },
     "execution_count": 5,
     "metadata": {},
     "output_type": "execute_result"
    }
   ],
   "source": [
    "spark"
   ]
  },
  {
   "cell_type": "code",
   "execution_count": 6,
   "metadata": {
    "execution": {
     "iopub.execute_input": "2021-04-25T08:25:29.506112Z",
     "iopub.status.busy": "2021-04-25T08:25:29.505891Z",
     "iopub.status.idle": "2021-04-25T08:25:29.535974Z",
     "shell.execute_reply": "2021-04-25T08:25:29.535019Z",
     "shell.execute_reply.started": "2021-04-25T08:25:29.506088Z"
    },
    "tags": []
   },
   "outputs": [
    {
     "data": {
      "text/plain": [
       "'3.0.0'"
      ]
     },
     "execution_count": 6,
     "metadata": {},
     "output_type": "execute_result"
    }
   ],
   "source": [
    "spark._jvm.org.apache.hadoop.util.VersionInfo.getVersion()"
   ]
  },
  {
   "cell_type": "code",
   "execution_count": 7,
   "metadata": {
    "execution": {
     "iopub.execute_input": "2021-04-25T08:25:29.537615Z",
     "iopub.status.busy": "2021-04-25T08:25:29.537378Z",
     "iopub.status.idle": "2021-04-25T08:25:29.572155Z",
     "shell.execute_reply": "2021-04-25T08:25:29.571082Z",
     "shell.execute_reply.started": "2021-04-25T08:25:29.537590Z"
    },
    "tags": []
   },
   "outputs": [
    {
     "data": {
      "text/plain": [
       "[('spark.driver.memory', '24g'),\n",
       " ('spark.driver.extraJavaOptions',\n",
       "  '\"-Dio.netty.tryReflectionSetAccessible=true\"'),\n",
       " ('spark.driver.port', '39157'),\n",
       " ('spark.driver.host', '45311a0c81eb'),\n",
       " ('spark.executor.id', 'driver'),\n",
       " ('spark.app.id', 'local-1619339128627'),\n",
       " ('spark.app.name', 'new_york_taxis'),\n",
       " ('spark.executor.extraJavaOptions',\n",
       "  '\"-Dio.netty.tryReflectionSetAccessible=true\"'),\n",
       " ('spark.master', 'local[12]'),\n",
       " ('spark.rdd.compress', 'True'),\n",
       " ('spark.serializer.objectStreamReset', '100'),\n",
       " ('spark.submit.deployMode', 'client'),\n",
       " ('spark.ui.showConsoleProgress', 'true'),\n",
       " ('spark.debug.maxToStringFields', '1000')]"
      ]
     },
     "execution_count": 7,
     "metadata": {},
     "output_type": "execute_result"
    }
   ],
   "source": [
    "spark.sparkContext._conf.getAll()"
   ]
  },
  {
   "cell_type": "code",
   "execution_count": 8,
   "metadata": {
    "execution": {
     "iopub.execute_input": "2021-04-25T08:25:29.574304Z",
     "iopub.status.busy": "2021-04-25T08:25:29.574073Z",
     "iopub.status.idle": "2021-04-25T08:25:30.037600Z",
     "shell.execute_reply": "2021-04-25T08:25:30.036701Z",
     "shell.execute_reply.started": "2021-04-25T08:25:29.574256Z"
    },
    "tags": []
   },
   "outputs": [],
   "source": [
    "conf = spark.sparkContext._conf.setAll([\n",
    "    ('spark.driver.memory', '16g'),\n",
    "    ('spark.executor.memory', '16g'),\n",
    "    ('spark.app.name', 'new_york_taxis'),\n",
    "])\n",
    "spark.sparkContext.stop()\n",
    "spark = SparkSession.builder.config(conf=conf).getOrCreate()"
   ]
  },
  {
   "cell_type": "code",
   "execution_count": 9,
   "metadata": {
    "execution": {
     "iopub.execute_input": "2021-04-25T08:25:30.038998Z",
     "iopub.status.busy": "2021-04-25T08:25:30.038793Z",
     "iopub.status.idle": "2021-04-25T08:25:30.069190Z",
     "shell.execute_reply": "2021-04-25T08:25:30.068093Z",
     "shell.execute_reply.started": "2021-04-25T08:25:30.038973Z"
    },
    "tags": []
   },
   "outputs": [
    {
     "data": {
      "text/plain": [
       "[('spark.driver.extraJavaOptions',\n",
       "  '\"-Dio.netty.tryReflectionSetAccessible=true\"'),\n",
       " ('spark.driver.port', '39157'),\n",
       " ('spark.driver.host', '45311a0c81eb'),\n",
       " ('spark.executor.id', 'driver'),\n",
       " ('spark.app.id', 'local-1619339128627'),\n",
       " ('spark.driver.memory', '16g'),\n",
       " ('spark.executor.memory', '16g'),\n",
       " ('spark.app.name', 'new_york_taxis'),\n",
       " ('spark.executor.extraJavaOptions',\n",
       "  '\"-Dio.netty.tryReflectionSetAccessible=true\"'),\n",
       " ('spark.master', 'local[12]'),\n",
       " ('spark.rdd.compress', 'True'),\n",
       " ('spark.serializer.objectStreamReset', '100'),\n",
       " ('spark.submit.deployMode', 'client'),\n",
       " ('spark.ui.showConsoleProgress', 'true'),\n",
       " ('spark.debug.maxToStringFields', '1000')]"
      ]
     },
     "execution_count": 9,
     "metadata": {},
     "output_type": "execute_result"
    }
   ],
   "source": [
    "spark.sparkContext._conf.getAll()"
   ]
  },
  {
   "cell_type": "markdown",
   "metadata": {},
   "source": [
    "# Load data\n",
    "\n",
    "The green and yellow taxi data are loaded together, which means that the extra feature, `Trip_type` in the green data set is omitted."
   ]
  },
  {
   "cell_type": "code",
   "execution_count": 10,
   "metadata": {
    "execution": {
     "iopub.execute_input": "2021-04-25T06:24:12.251919Z",
     "iopub.status.busy": "2021-04-25T06:24:12.251714Z",
     "iopub.status.idle": "2021-04-25T06:24:53.974555Z",
     "shell.execute_reply": "2021-04-25T06:24:53.973524Z",
     "shell.execute_reply.started": "2021-04-25T06:24:12.251895Z"
    }
   },
   "outputs": [],
   "source": [
    "df_dict = {}\n",
    "\n",
    "for colour in ['green', 'yellow']:\n",
    "    path = raw_data_dir.joinpath(f'{colour}_tripdata_20*.csv').as_posix()\n",
    "    df = spark.read.csv(path, header=True)\n",
    "    \n",
    "    # Add the taxi colour\n",
    "    df = df.withColumn('colour', F.lit(colour))\n",
    "    df_dict[colour] = df"
   ]
  },
  {
   "cell_type": "markdown",
   "metadata": {},
   "source": [
    "# Check column differences\n",
    "\n",
    "The green taxi data has more columns than does the yellow taxi data. See the table below:\n",
    "\n",
    "|green columns|yellow columns|comment|\n",
    "|-------------|--------------|-------|\n",
    "|`lpep_pickup_datetime`|`pickup_datetime`|Rename to `pickup_datetime`|\n",
    "|`lpep_dropoff_datetime`|`dropoff_datetime`|Rename to `dropoff_datetime`|\n",
    "|`trip_type`||The green taxis have two types, \"Street-hail\" and \"Dispatch\". Drop this column.|\n",
    "|`ehail_fee`||Drop this column.|"
   ]
  },
  {
   "cell_type": "code",
   "execution_count": 11,
   "metadata": {
    "execution": {
     "iopub.execute_input": "2021-04-25T06:24:53.975953Z",
     "iopub.status.busy": "2021-04-25T06:24:53.975741Z",
     "iopub.status.idle": "2021-04-25T06:24:54.028132Z",
     "shell.execute_reply": "2021-04-25T06:24:54.027128Z",
     "shell.execute_reply.started": "2021-04-25T06:24:53.975927Z"
    }
   },
   "outputs": [
    {
     "data": {
      "text/plain": [
       "{'ehail_fee', 'lpep_dropoff_datetime', 'lpep_pickup_datetime', 'trip_type'}"
      ]
     },
     "execution_count": 11,
     "metadata": {},
     "output_type": "execute_result"
    }
   ],
   "source": [
    "set(df_dict['green'].columns) - set(df_dict['yellow'].columns)"
   ]
  },
  {
   "cell_type": "code",
   "execution_count": 12,
   "metadata": {
    "execution": {
     "iopub.execute_input": "2021-04-25T06:24:54.029562Z",
     "iopub.status.busy": "2021-04-25T06:24:54.029341Z",
     "iopub.status.idle": "2021-04-25T06:24:54.052190Z",
     "shell.execute_reply": "2021-04-25T06:24:54.051351Z",
     "shell.execute_reply.started": "2021-04-25T06:24:54.029536Z"
    }
   },
   "outputs": [
    {
     "data": {
      "text/plain": [
       "{'tpep_dropoff_datetime', 'tpep_pickup_datetime'}"
      ]
     },
     "execution_count": 12,
     "metadata": {},
     "output_type": "execute_result"
    }
   ],
   "source": [
    "set(df_dict['yellow'].columns) - set(df_dict['green'].columns)"
   ]
  },
  {
   "cell_type": "markdown",
   "metadata": {},
   "source": [
    "# Combine the green and the yellow\n",
    "\n",
    "This requires the columns to be the same; renaming and dropping of columns is required, see [table](#Check-column-differences)."
   ]
  },
  {
   "cell_type": "code",
   "execution_count": 22,
   "metadata": {
    "execution": {
     "iopub.execute_input": "2021-04-25T06:29:20.373125Z",
     "iopub.status.busy": "2021-04-25T06:29:20.372869Z",
     "iopub.status.idle": "2021-04-25T06:29:20.416079Z",
     "shell.execute_reply": "2021-04-25T06:29:20.415007Z",
     "shell.execute_reply.started": "2021-04-25T06:29:20.373098Z"
    }
   },
   "outputs": [],
   "source": [
    "df_green = (\n",
    "    df_dict['green']\n",
    "    .withColumnRenamed('lpep_pickup_datetime', 'pickup_datetime')\n",
    "    .withColumnRenamed('lpep_dropoff_datetime', 'dropoff_datetime')\n",
    "    .drop('trip_type')\n",
    "    .drop('ehail_fee')\n",
    ")\n",
    "\n",
    "df_yellow = (\n",
    "    df_dict['yellow']\n",
    "    .withColumnRenamed('tpep_pickup_datetime', 'pickup_datetime')\n",
    "    .withColumnRenamed('tpep_dropoff_datetime', 'dropoff_datetime')\n",
    ")"
   ]
  },
  {
   "cell_type": "code",
   "execution_count": 15,
   "metadata": {
    "execution": {
     "iopub.execute_input": "2021-04-25T06:25:39.125330Z",
     "iopub.status.busy": "2021-04-25T06:25:39.125077Z",
     "iopub.status.idle": "2021-04-25T06:25:39.150225Z",
     "shell.execute_reply": "2021-04-25T06:25:39.149165Z",
     "shell.execute_reply.started": "2021-04-25T06:25:39.125303Z"
    }
   },
   "outputs": [
    {
     "data": {
      "text/plain": [
       "['VendorID',\n",
       " 'pickup_datetime',\n",
       " 'dropoff_datetime',\n",
       " 'store_and_fwd_flag',\n",
       " 'RatecodeID',\n",
       " 'PULocationID',\n",
       " 'DOLocationID',\n",
       " 'passenger_count',\n",
       " 'trip_distance',\n",
       " 'fare_amount',\n",
       " 'extra',\n",
       " 'mta_tax',\n",
       " 'tip_amount',\n",
       " 'tolls_amount',\n",
       " 'improvement_surcharge',\n",
       " 'total_amount',\n",
       " 'payment_type',\n",
       " 'congestion_surcharge',\n",
       " 'colour']"
      ]
     },
     "execution_count": 15,
     "metadata": {},
     "output_type": "execute_result"
    }
   ],
   "source": [
    "for col in df_green.columns:\n",
    "    print()"
   ]
  },
  {
   "cell_type": "code",
   "execution_count": 23,
   "metadata": {
    "execution": {
     "iopub.execute_input": "2021-04-25T06:29:24.282675Z",
     "iopub.status.busy": "2021-04-25T06:29:24.282402Z",
     "iopub.status.idle": "2021-04-25T06:29:24.315960Z",
     "shell.execute_reply": "2021-04-25T06:29:24.314873Z",
     "shell.execute_reply.started": "2021-04-25T06:29:24.282634Z"
    }
   },
   "outputs": [
    {
     "data": {
      "text/plain": [
       "DataFrame[pickup_datetime: string]"
      ]
     },
     "execution_count": 23,
     "metadata": {},
     "output_type": "execute_result"
    }
   ],
   "source": [
    "df_yellow.select('pickup_datetime')"
   ]
  },
  {
   "cell_type": "code",
   "execution_count": 24,
   "metadata": {
    "execution": {
     "iopub.execute_input": "2021-04-25T06:29:30.795312Z",
     "iopub.status.busy": "2021-04-25T06:29:30.795039Z",
     "iopub.status.idle": "2021-04-25T06:29:30.863597Z",
     "shell.execute_reply": "2021-04-25T06:29:30.861518Z",
     "shell.execute_reply.started": "2021-04-25T06:29:30.795283Z"
    }
   },
   "outputs": [],
   "source": [
    "df_yellow_reordered = df_yellow.select(\n",
    "    'VendorID',\n",
    "    'pickup_datetime',\n",
    "    'dropoff_datetime',\n",
    "    'store_and_fwd_flag',\n",
    "    'RatecodeID',\n",
    "    'PULocationID',\n",
    "    'DOLocationID',\n",
    "    'passenger_count',\n",
    "    'trip_distance',\n",
    "    'fare_amount',\n",
    "    'extra',\n",
    "    'mta_tax',\n",
    "    'tip_amount',\n",
    "    'tolls_amount',\n",
    "    'improvement_surcharge',\n",
    "    'total_amount',\n",
    "    'payment_type',\n",
    "    'congestion_surcharge',\n",
    "    'colour'\n",
    ")"
   ]
  },
  {
   "cell_type": "code",
   "execution_count": 33,
   "metadata": {
    "execution": {
     "iopub.execute_input": "2021-04-25T06:40:55.836723Z",
     "iopub.status.busy": "2021-04-25T06:40:55.836385Z",
     "iopub.status.idle": "2021-04-25T06:55:58.613753Z",
     "shell.execute_reply": "2021-04-25T06:55:58.612709Z",
     "shell.execute_reply.started": "2021-04-25T06:40:55.836685Z"
    }
   },
   "outputs": [
    {
     "data": {
      "text/plain": [
       "142234006"
      ]
     },
     "execution_count": 33,
     "metadata": {},
     "output_type": "execute_result"
    }
   ],
   "source": [
    "df_yellow_reordered.count()"
   ]
  },
  {
   "cell_type": "code",
   "execution_count": 34,
   "metadata": {
    "execution": {
     "iopub.execute_input": "2021-04-25T06:55:58.615243Z",
     "iopub.status.busy": "2021-04-25T06:55:58.615040Z",
     "iopub.status.idle": "2021-04-25T06:56:01.316174Z",
     "shell.execute_reply": "2021-04-25T06:56:01.315081Z",
     "shell.execute_reply.started": "2021-04-25T06:55:58.615219Z"
    }
   },
   "outputs": [
    {
     "data": {
      "text/plain": [
       "7778101"
      ]
     },
     "execution_count": 34,
     "metadata": {},
     "output_type": "execute_result"
    }
   ],
   "source": [
    "df_green.count()"
   ]
  },
  {
   "cell_type": "code",
   "execution_count": 35,
   "metadata": {
    "execution": {
     "iopub.execute_input": "2021-04-25T06:56:01.318592Z",
     "iopub.status.busy": "2021-04-25T06:56:01.318292Z",
     "iopub.status.idle": "2021-04-25T06:56:01.342377Z",
     "shell.execute_reply": "2021-04-25T06:56:01.341244Z",
     "shell.execute_reply.started": "2021-04-25T06:56:01.318556Z"
    }
   },
   "outputs": [],
   "source": [
    "df = df_yellow_reordered.unionByName(df_green)"
   ]
  },
  {
   "cell_type": "markdown",
   "metadata": {},
   "source": [
    "## Load/save parquet"
   ]
  },
  {
   "cell_type": "code",
   "execution_count": 36,
   "metadata": {
    "execution": {
     "iopub.execute_input": "2021-04-25T06:56:01.344268Z",
     "iopub.status.busy": "2021-04-25T06:56:01.343973Z",
     "iopub.status.idle": "2021-04-25T06:56:01.364745Z",
     "shell.execute_reply": "2021-04-25T06:56:01.363791Z",
     "shell.execute_reply.started": "2021-04-25T06:56:01.344232Z"
    },
    "tags": []
   },
   "outputs": [],
   "source": [
    "path = interim_data_dir.joinpath('df_combined').as_posix()"
   ]
  },
  {
   "cell_type": "code",
   "execution_count": 37,
   "metadata": {
    "execution": {
     "iopub.execute_input": "2021-04-25T06:56:01.366229Z",
     "iopub.status.busy": "2021-04-25T06:56:01.366017Z",
     "iopub.status.idle": "2021-04-25T07:00:38.766904Z",
     "shell.execute_reply": "2021-04-25T07:00:38.765473Z",
     "shell.execute_reply.started": "2021-04-25T06:56:01.366205Z"
    },
    "tags": []
   },
   "outputs": [],
   "source": [
    "df.write.parquet(path, mode='overwrite')\n",
    "df = spark.read.parquet(path)"
   ]
  },
  {
   "cell_type": "code",
   "execution_count": 38,
   "metadata": {
    "execution": {
     "iopub.execute_input": "2021-04-25T07:00:38.768302Z",
     "iopub.status.busy": "2021-04-25T07:00:38.768077Z",
     "iopub.status.idle": "2021-04-25T07:00:40.862776Z",
     "shell.execute_reply": "2021-04-25T07:00:40.861081Z",
     "shell.execute_reply.started": "2021-04-25T07:00:38.768276Z"
    },
    "tags": []
   },
   "outputs": [
    {
     "data": {
      "text/plain": [
       "150012107"
      ]
     },
     "execution_count": 38,
     "metadata": {},
     "output_type": "execute_result"
    }
   ],
   "source": [
    "df.count()"
   ]
  },
  {
   "cell_type": "code",
   "execution_count": 39,
   "metadata": {
    "execution": {
     "iopub.execute_input": "2021-04-25T07:00:40.865837Z",
     "iopub.status.busy": "2021-04-25T07:00:40.865128Z",
     "iopub.status.idle": "2021-04-25T07:00:40.902556Z",
     "shell.execute_reply": "2021-04-25T07:00:40.900809Z",
     "shell.execute_reply.started": "2021-04-25T07:00:40.865771Z"
    },
    "tags": []
   },
   "outputs": [
    {
     "name": "stdout",
     "output_type": "stream",
     "text": [
      "root\n",
      " |-- VendorID: string (nullable = true)\n",
      " |-- pickup_datetime: string (nullable = true)\n",
      " |-- dropoff_datetime: string (nullable = true)\n",
      " |-- store_and_fwd_flag: string (nullable = true)\n",
      " |-- RatecodeID: string (nullable = true)\n",
      " |-- PULocationID: string (nullable = true)\n",
      " |-- DOLocationID: string (nullable = true)\n",
      " |-- passenger_count: string (nullable = true)\n",
      " |-- trip_distance: string (nullable = true)\n",
      " |-- fare_amount: string (nullable = true)\n",
      " |-- extra: string (nullable = true)\n",
      " |-- mta_tax: string (nullable = true)\n",
      " |-- tip_amount: string (nullable = true)\n",
      " |-- tolls_amount: string (nullable = true)\n",
      " |-- improvement_surcharge: string (nullable = true)\n",
      " |-- total_amount: string (nullable = true)\n",
      " |-- payment_type: string (nullable = true)\n",
      " |-- congestion_surcharge: string (nullable = true)\n",
      " |-- colour: string (nullable = true)\n",
      "\n"
     ]
    }
   ],
   "source": [
    "df.printSchema()"
   ]
  },
  {
   "cell_type": "code",
   "execution_count": 40,
   "metadata": {
    "execution": {
     "iopub.execute_input": "2021-04-25T07:00:40.905196Z",
     "iopub.status.busy": "2021-04-25T07:00:40.904955Z",
     "iopub.status.idle": "2021-04-25T07:09:48.024810Z",
     "shell.execute_reply": "2021-04-25T07:09:48.023842Z",
     "shell.execute_reply.started": "2021-04-25T07:00:40.905160Z"
    }
   },
   "outputs": [
    {
     "name": "stdout",
     "output_type": "stream",
     "text": [
      "+-------+--------------------+--------------------+--------------------+--------------------+------------------+--------------------+-------------------+------------------+------------------+--------------------+------------------+-------------------+--------------------+-------------------+---------------------+--------------------+------------------+--------------------+---------+\n",
      "|summary|            VendorID|     pickup_datetime|    dropoff_datetime|  store_and_fwd_flag|        RatecodeID|        PULocationID|       DOLocationID|   passenger_count|     trip_distance|         fare_amount|             extra|            mta_tax|          tip_amount|       tolls_amount|improvement_surcharge|        total_amount|      payment_type|congestion_surcharge|   colour|\n",
      "+-------+--------------------+--------------------+--------------------+--------------------+------------------+--------------------+-------------------+------------------+------------------+--------------------+------------------+-------------------+--------------------+-------------------+---------------------+--------------------+------------------+--------------------+---------+\n",
      "|  count|           147824204|           122294684|           118022307|           114852020|         114876788|           116839570|          116834296|         115160571|         116942124|           116829708|         116828614|          116827875|           116827380|          116827045|            116826726|           116826575|         114833003|           110481854|150012107|\n",
      "|   mean|            Infinity|            Infinity|  53.211600348583886|   10.95073502722323|1.0662392276618409|   159.6841428101841| 1006.5855129620385|1.5813101124910964| 3.340097820669765|  13.311535143016147|1.0470000771234365|0.49568035365716934|  2.0947719391597692|0.35990074216445106|  0.29677469783001437|   18.89511924891171|1.2967030342644963|  2.0930770600025497|     null|\n",
      "| stddev|                 NaN|                 NaN|  1229.1983095187331|    61.7291845185273| 6.944599658208602|   67.94715910044066|  9159372.918976473|  559.929227329854|209.07330226006061|  194.49982475600632| 46.27592018889727|  46.26058462165737|   13.37619016974435| 1.7515892640025585|  0.03744400213204287|   221.1770057927135|0.5054911920563285|   4.474239465174374|     null|\n",
      "|    min|                   \u0000|                   \u0000|                   \u0000|                   \u0000|                 \u0000|                   \u0000|                  \u0000|                 \u0000|                 \u0000|                   \u0000|                 \u0000|                  \u0000|                   \u0000|                  \u0000| \u0000\u0000\u0013X\u0000+�a�P@�\u0005\u000b",
      "X@\u0007...|                   \u0000|                 \u0000|\u0000\u0000\u0018).)&x\u0004\u0018\u0014\u0002\u001e",
      "�\u001e",
      ".\f",
      "...|    green|\n",
      "|    max|􍟰!~A\u0013�\t��9�\u0000\u0003�\u0001X...|􈠁��\u0002&F4\u00180�A�\u00191\u001e",
      "L...|􈁂Ƃ\u000e\u0005\u0006T\u0000��\u0000�\u0014\\�...|�𐨅�/\u0012� h �\u001c",
      "��Ȑ...|              �񡂈\u001e",
      "|�������N���+���\u0010...|�������/K�\u0002���0\u001b�֫�|                𲆇|          񳈾�E�(��|�������z�J����\u0016��...|     ����B�\"\u000e*\u0010А\u0000ś|              �����|����\u0003�\u0002\u0018�8��abD�S...|      �����%�\u0012�\u0019�\f",
      "`|                �����|��KI�EВ�(y\f",
      "Z\u000e&�\u0001B...|              񶾆��|        ���.��l3�̶��|   yellow|\n",
      "+-------+--------------------+--------------------+--------------------+--------------------+------------------+--------------------+-------------------+------------------+------------------+--------------------+------------------+-------------------+--------------------+-------------------+---------------------+--------------------+------------------+--------------------+---------+\n",
      "\n"
     ]
    }
   ],
   "source": [
    "df.describe().show()"
   ]
  },
  {
   "cell_type": "markdown",
   "metadata": {},
   "source": [
    "# Change datatype\n",
    "\n",
    "The columns are all of type string. This section changes some of them into more appropriate types."
   ]
  },
  {
   "cell_type": "code",
   "execution_count": 41,
   "metadata": {
    "execution": {
     "iopub.execute_input": "2021-04-25T07:09:48.026951Z",
     "iopub.status.busy": "2021-04-25T07:09:48.026705Z",
     "iopub.status.idle": "2021-04-25T07:09:48.050327Z",
     "shell.execute_reply": "2021-04-25T07:09:48.049236Z",
     "shell.execute_reply.started": "2021-04-25T07:09:48.026916Z"
    },
    "tags": []
   },
   "outputs": [],
   "source": [
    "datatype_dict = {\n",
    "    'VendorID': StringType(),\n",
    "    'pickup_datetime': TimestampType(),\n",
    "    'dropoff_datetime': TimestampType(),\n",
    "    'passenger_count': IntegerType(),\n",
    "    'trip_distance': FloatType(),\n",
    "    'RatecodeID': StringType(),\n",
    "    'store_and_fwd_flag': StringType(),\n",
    "    'PULocationID': StringType(),\n",
    "    'DOLocationID': StringType(),\n",
    "    'payment_type': StringType(),\n",
    "    'fare_amount': FloatType(),\n",
    "    'extra': FloatType(),\n",
    "    'mta_tax': FloatType(),\n",
    "    'tip_amount': FloatType(),\n",
    "    'tolls_amount': FloatType(),\n",
    "    'improvement_surcharge': FloatType(),\n",
    "    'total_amount': FloatType(),\n",
    "    'congestion_surcharge': FloatType()\n",
    "}"
   ]
  },
  {
   "cell_type": "code",
   "execution_count": 42,
   "metadata": {
    "execution": {
     "iopub.execute_input": "2021-04-25T07:09:48.051734Z",
     "iopub.status.busy": "2021-04-25T07:09:48.051513Z",
     "iopub.status.idle": "2021-04-25T07:09:48.077016Z",
     "shell.execute_reply": "2021-04-25T07:09:48.075882Z",
     "shell.execute_reply.started": "2021-04-25T07:09:48.051708Z"
    },
    "tags": []
   },
   "outputs": [
    {
     "name": "stdout",
     "output_type": "stream",
     "text": [
      ".withColumn('VendorID', F.col('VendorID').astype(StringType()))\n",
      ".withColumn('pickup_datetime', F.col('pickup_datetime').astype(TimestampType()))\n",
      ".withColumn('dropoff_datetime', F.col('dropoff_datetime').astype(TimestampType()))\n",
      ".withColumn('passenger_count', F.col('passenger_count').astype(IntegerType()))\n",
      ".withColumn('trip_distance', F.col('trip_distance').astype(FloatType()))\n",
      ".withColumn('RatecodeID', F.col('RatecodeID').astype(StringType()))\n",
      ".withColumn('store_and_fwd_flag', F.col('store_and_fwd_flag').astype(StringType()))\n",
      ".withColumn('PULocationID', F.col('PULocationID').astype(StringType()))\n",
      ".withColumn('DOLocationID', F.col('DOLocationID').astype(StringType()))\n",
      ".withColumn('payment_type', F.col('payment_type').astype(StringType()))\n",
      ".withColumn('fare_amount', F.col('fare_amount').astype(FloatType()))\n",
      ".withColumn('extra', F.col('extra').astype(FloatType()))\n",
      ".withColumn('mta_tax', F.col('mta_tax').astype(FloatType()))\n",
      ".withColumn('tip_amount', F.col('tip_amount').astype(FloatType()))\n",
      ".withColumn('tolls_amount', F.col('tolls_amount').astype(FloatType()))\n",
      ".withColumn('improvement_surcharge', F.col('improvement_surcharge').astype(FloatType()))\n",
      ".withColumn('total_amount', F.col('total_amount').astype(FloatType()))\n",
      ".withColumn('congestion_surcharge', F.col('congestion_surcharge').astype(FloatType()))\n"
     ]
    }
   ],
   "source": [
    "# For convenience so all the code doesn't have to be manually typed\n",
    "for key, value in datatype_dict.items():\n",
    "    print(f\".withColumn('{key}', F.col('{key}').astype({value}()))\")"
   ]
  },
  {
   "cell_type": "code",
   "execution_count": 43,
   "metadata": {
    "execution": {
     "iopub.execute_input": "2021-04-25T07:09:48.078498Z",
     "iopub.status.busy": "2021-04-25T07:09:48.078256Z",
     "iopub.status.idle": "2021-04-25T07:09:48.467135Z",
     "shell.execute_reply": "2021-04-25T07:09:48.466184Z",
     "shell.execute_reply.started": "2021-04-25T07:09:48.078444Z"
    },
    "tags": []
   },
   "outputs": [],
   "source": [
    "df_typed = (\n",
    "    df\n",
    "    .withColumn('VendorID', F.col('VendorID').astype(StringType()))\n",
    "    .withColumn('pickup_datetime', F.col('pickup_datetime').astype(TimestampType()))\n",
    "    .withColumn('dropoff_datetime', F.col('dropoff_datetime').astype(TimestampType()))\n",
    "    .withColumn('passenger_count', F.col('passenger_count').astype(IntegerType()))\n",
    "    .withColumn('trip_distance', F.col('trip_distance').astype(FloatType()))\n",
    "    .withColumn('RatecodeID', F.col('RatecodeID').astype(StringType()))\n",
    "    .withColumn('store_and_fwd_flag', F.col('store_and_fwd_flag').astype(StringType()))\n",
    "    .withColumn('PULocationID', F.col('PULocationID').astype(StringType()))\n",
    "    .withColumn('DOLocationID', F.col('DOLocationID').astype(StringType()))\n",
    "    .withColumn('payment_type', F.col('payment_type').astype(StringType()))\n",
    "    .withColumn('fare_amount', F.col('fare_amount').astype(FloatType()))\n",
    "    .withColumn('extra', F.col('extra').astype(FloatType()))\n",
    "    .withColumn('mta_tax', F.col('mta_tax').astype(FloatType()))\n",
    "    .withColumn('tip_amount', F.col('tip_amount').astype(FloatType()))\n",
    "    .withColumn('tolls_amount', F.col('tolls_amount').astype(FloatType()))\n",
    "    .withColumn('improvement_surcharge', F.col('improvement_surcharge').astype(FloatType()))\n",
    "    .withColumn('total_amount', F.col('total_amount').astype(FloatType()))\n",
    "    .withColumn('congestion_surcharge', F.col('congestion_surcharge').astype(FloatType()))\n",
    ")"
   ]
  },
  {
   "cell_type": "code",
   "execution_count": 44,
   "metadata": {
    "execution": {
     "iopub.execute_input": "2021-04-25T07:09:48.468428Z",
     "iopub.status.busy": "2021-04-25T07:09:48.468231Z",
     "iopub.status.idle": "2021-04-25T07:09:48.488681Z",
     "shell.execute_reply": "2021-04-25T07:09:48.487758Z",
     "shell.execute_reply.started": "2021-04-25T07:09:48.468405Z"
    },
    "tags": []
   },
   "outputs": [
    {
     "name": "stdout",
     "output_type": "stream",
     "text": [
      "root\n",
      " |-- VendorID: string (nullable = true)\n",
      " |-- pickup_datetime: timestamp (nullable = true)\n",
      " |-- dropoff_datetime: timestamp (nullable = true)\n",
      " |-- store_and_fwd_flag: string (nullable = true)\n",
      " |-- RatecodeID: string (nullable = true)\n",
      " |-- PULocationID: string (nullable = true)\n",
      " |-- DOLocationID: string (nullable = true)\n",
      " |-- passenger_count: integer (nullable = true)\n",
      " |-- trip_distance: float (nullable = true)\n",
      " |-- fare_amount: float (nullable = true)\n",
      " |-- extra: float (nullable = true)\n",
      " |-- mta_tax: float (nullable = true)\n",
      " |-- tip_amount: float (nullable = true)\n",
      " |-- tolls_amount: float (nullable = true)\n",
      " |-- improvement_surcharge: float (nullable = true)\n",
      " |-- total_amount: float (nullable = true)\n",
      " |-- payment_type: string (nullable = true)\n",
      " |-- congestion_surcharge: float (nullable = true)\n",
      " |-- colour: string (nullable = true)\n",
      "\n"
     ]
    }
   ],
   "source": [
    "df_typed.printSchema()"
   ]
  },
  {
   "cell_type": "markdown",
   "metadata": {},
   "source": [
    "# Extract dateparts\n",
    "\n",
    "1. `pickup_year`\n",
    "1. `pickup_month`\n",
    "1. `pickup_dayofyear`\n",
    "1. `pickup_dayofmonth`\n",
    "1. `pickup_dayofweek`\n",
    "1. `pickup_weekofyear`\n",
    "1. `pickup_hour`"
   ]
  },
  {
   "cell_type": "code",
   "execution_count": 56,
   "metadata": {
    "execution": {
     "iopub.execute_input": "2021-04-25T07:13:57.147573Z",
     "iopub.status.busy": "2021-04-25T07:13:57.147319Z",
     "iopub.status.idle": "2021-04-25T07:13:57.168989Z",
     "shell.execute_reply": "2021-04-25T07:13:57.167974Z",
     "shell.execute_reply.started": "2021-04-25T07:13:57.147546Z"
    },
    "tags": []
   },
   "outputs": [],
   "source": [
    "hour = F.udf(lambda x: x.hour if x is not None else None, IntegerType())"
   ]
  },
  {
   "cell_type": "code",
   "execution_count": 57,
   "metadata": {
    "execution": {
     "iopub.execute_input": "2021-04-25T07:13:57.419835Z",
     "iopub.status.busy": "2021-04-25T07:13:57.419554Z",
     "iopub.status.idle": "2021-04-25T07:13:57.520253Z",
     "shell.execute_reply": "2021-04-25T07:13:57.519182Z",
     "shell.execute_reply.started": "2021-04-25T07:13:57.419807Z"
    },
    "tags": []
   },
   "outputs": [],
   "source": [
    "df_dateparts = (\n",
    "    df_typed\n",
    "    .withColumn('pickup_year', F.year('pickup_datetime'))\n",
    "    .withColumn('pickup_month', F.month('pickup_datetime'))\n",
    "    .withColumn('pickup_dayofyear', F.dayofyear('pickup_datetime'))\n",
    "    .withColumn('pickup_dayofmonth', F.dayofmonth('pickup_datetime'))\n",
    "    .withColumn('pickup_dayofweek', F.dayofweek('pickup_datetime'))\n",
    "    .withColumn('pickup_weekofyear', F.weekofyear('pickup_datetime'))\n",
    "    .withColumn('pickup_hourofday', hour('pickup_datetime'))\n",
    ")"
   ]
  },
  {
   "cell_type": "code",
   "execution_count": 58,
   "metadata": {
    "execution": {
     "iopub.execute_input": "2021-04-25T07:13:57.910176Z",
     "iopub.status.busy": "2021-04-25T07:13:57.909920Z",
     "iopub.status.idle": "2021-04-25T07:13:58.001084Z",
     "shell.execute_reply": "2021-04-25T07:13:58.000083Z",
     "shell.execute_reply.started": "2021-04-25T07:13:57.910148Z"
    },
    "tags": []
   },
   "outputs": [
    {
     "data": {
      "text/plain": [
       "43"
      ]
     },
     "execution_count": 58,
     "metadata": {},
     "output_type": "execute_result"
    }
   ],
   "source": [
    "#\n",
    "df_dateparts.rdd.getNumPartitions()"
   ]
  },
  {
   "cell_type": "code",
   "execution_count": 11,
   "metadata": {
    "execution": {
     "iopub.execute_input": "2021-04-25T08:25:56.784855Z",
     "iopub.status.busy": "2021-04-25T08:25:56.784616Z",
     "iopub.status.idle": "2021-04-25T08:25:56.809182Z",
     "shell.execute_reply": "2021-04-25T08:25:56.808032Z",
     "shell.execute_reply.started": "2021-04-25T08:25:56.784832Z"
    },
    "tags": []
   },
   "outputs": [],
   "source": [
    "path = interim_data_dir.joinpath('df_dateparts').as_posix()\n",
    "n_partitions = 12 * 10"
   ]
  },
  {
   "cell_type": "raw",
   "metadata": {
    "execution": {
     "iopub.execute_input": "2021-04-25T07:13:59.772574Z",
     "iopub.status.busy": "2021-04-25T07:13:59.772286Z",
     "iopub.status.idle": "2021-04-25T07:26:43.381138Z",
     "shell.execute_reply": "2021-04-25T07:26:43.339046Z",
     "shell.execute_reply.started": "2021-04-25T07:13:59.772533Z"
    }
   },
   "source": [
    "(\n",
    "    df_dateparts\n",
    "    .repartition(numPartitions=n_partitions)\n",
    "    .write\n",
    "    .parquet(path, mode='overwrite')\n",
    ")"
   ]
  },
  {
   "cell_type": "code",
   "execution_count": 12,
   "metadata": {
    "execution": {
     "iopub.execute_input": "2021-04-25T08:25:56.811394Z",
     "iopub.status.busy": "2021-04-25T08:25:56.811176Z",
     "iopub.status.idle": "2021-04-25T08:26:01.067332Z",
     "shell.execute_reply": "2021-04-25T08:26:01.066379Z",
     "shell.execute_reply.started": "2021-04-25T08:25:56.811369Z"
    }
   },
   "outputs": [],
   "source": [
    "df_dateparts = spark.read.parquet(path)"
   ]
  },
  {
   "cell_type": "markdown",
   "metadata": {},
   "source": [
    "# Count distinct\n",
    "\n",
    "There are categorical columns with defined levels, these are:\n",
    "* `VendorID`\n",
    "* `RatecodeID`\n",
    "* `store_and_fwd_flag`\n",
    "* `PULocationID`\n",
    "* `DOLocationID`\n",
    "* `payment_type`\n",
    "\n",
    "There are numerical columns with limited distinct values, these are:\n",
    "* `Extra`: \\\\$0.50 or \\\\$1\n",
    "* `MTA_tax`: \\\\$0.50\n",
    "* `Improvement_surcharge`: \\\\$0.30\n"
   ]
  },
  {
   "cell_type": "code",
   "execution_count": 13,
   "metadata": {
    "execution": {
     "iopub.execute_input": "2021-04-25T08:26:01.068995Z",
     "iopub.status.busy": "2021-04-25T08:26:01.068779Z",
     "iopub.status.idle": "2021-04-25T08:26:01.112967Z",
     "shell.execute_reply": "2021-04-25T08:26:01.111982Z",
     "shell.execute_reply.started": "2021-04-25T08:26:01.068970Z"
    }
   },
   "outputs": [
    {
     "data": {
      "text/plain": [
       "['VendorID',\n",
       " 'store_and_fwd_flag',\n",
       " 'RatecodeID',\n",
       " 'PULocationID',\n",
       " 'DOLocationID',\n",
       " 'payment_type',\n",
       " 'colour']"
      ]
     },
     "execution_count": 13,
     "metadata": {},
     "output_type": "execute_result"
    }
   ],
   "source": [
    "string_cols = [col for (col, col_type) in df_dateparts.dtypes if col_type == 'string']\n",
    "string_cols"
   ]
  },
  {
   "cell_type": "code",
   "execution_count": 14,
   "metadata": {
    "execution": {
     "iopub.execute_input": "2021-04-25T08:26:01.114674Z",
     "iopub.status.busy": "2021-04-25T08:26:01.114469Z",
     "iopub.status.idle": "2021-04-25T08:26:01.136763Z",
     "shell.execute_reply": "2021-04-25T08:26:01.135860Z",
     "shell.execute_reply.started": "2021-04-25T08:26:01.114649Z"
    }
   },
   "outputs": [],
   "source": [
    "lim_num_cols = ['Extra', 'MTA_tax', 'Improvement_surcharge']"
   ]
  },
  {
   "cell_type": "code",
   "execution_count": 15,
   "metadata": {
    "execution": {
     "iopub.execute_input": "2021-04-25T08:26:01.138072Z",
     "iopub.status.busy": "2021-04-25T08:26:01.137868Z",
     "iopub.status.idle": "2021-04-25T08:26:57.183580Z",
     "shell.execute_reply": "2021-04-25T08:26:57.182528Z",
     "shell.execute_reply.started": "2021-04-25T08:26:01.138047Z"
    }
   },
   "outputs": [
    {
     "name": "stdout",
     "output_type": "stream",
     "text": [
      "+--------+------------------+----------+------------+------------+------------+------+-----+-------+---------------------+\n",
      "|VendorID|store_and_fwd_flag|RatecodeID|PULocationID|DOLocationID|payment_type|colour|Extra|MTA_tax|Improvement_surcharge|\n",
      "+--------+------------------+----------+------------+------------+------------+------+-----+-------+---------------------+\n",
      "|30756224|             23127|     46471|       13209|        8278|        5261|     2|  476|     91|                   20|\n",
      "+--------+------------------+----------+------------+------------+------------+------+-----+-------+---------------------+\n",
      "\n"
     ]
    }
   ],
   "source": [
    "expression = [F.countDistinct(F.col(col)).alias(col) for col in string_cols + lim_num_cols]\n",
    "df_dateparts.select(*expression).show()"
   ]
  },
  {
   "cell_type": "markdown",
   "metadata": {},
   "source": [
    "# Data validation"
   ]
  },
  {
   "cell_type": "markdown",
   "metadata": {},
   "source": [
    "## String type columns\n",
    "\n",
    "* [VendorID](#Validation:-VendorID)\n",
    "* [PULocationID](#Validation:-PULocationID)\n",
    "* [DOLocationID](#Validation:-DOLocationID)\n",
    "* [RatecodeID](#Validation:-RatecodeID)\n",
    "* [Store_and_fwd_flag](#Validation:-Store_and_fwd_flag)\n",
    "* [Payment_type](#Validation:-Payment_type)"
   ]
  },
  {
   "cell_type": "markdown",
   "metadata": {},
   "source": [
    "### Validation: `VendorID`"
   ]
  },
  {
   "cell_type": "code",
   "execution_count": 71,
   "metadata": {
    "execution": {
     "iopub.execute_input": "2021-04-25T08:31:22.465664Z",
     "iopub.status.busy": "2021-04-25T08:31:22.464809Z",
     "iopub.status.idle": "2021-04-25T08:35:49.038421Z",
     "shell.execute_reply": "2021-04-25T08:35:49.037464Z",
     "shell.execute_reply.started": "2021-04-25T08:31:22.465631Z"
    }
   },
   "outputs": [
    {
     "name": "stdout",
     "output_type": "stream",
     "text": [
      "+--------+--------+\n",
      "|VendorID|   count|\n",
      "+--------+--------+\n",
      "|       2|75165983|\n",
      "|       1|39402240|\n",
      "|    null| 2187903|\n",
      "|       4|  270473|\n",
      "|       �|   80113|\n",
      "|      \u000e�|   73222|\n",
      "|      ��|   42438|\n",
      "|      \u0012�|   25063|\n",
      "|      N�|   24192|\n",
      "|      �\u0000|   20156|\n",
      "|      F�|   16438|\n",
      "|   J�\u0000\u000e�|   14632|\n",
      "|       \u000e|   11320|\n",
      "|      �\u0001|   10002|\n",
      "|      R�|    9706|\n",
      "|       !|    9089|\n",
      "|       0|    8070|\n",
      "|       @|    7932|\n",
      "|       N|    7653|\n",
      "|   J�\u0001\u000e�|    7404|\n",
      "+--------+--------+\n",
      "only showing top 20 rows\n",
      "\n"
     ]
    }
   ],
   "source": [
    "(\n",
    "    df_dateparts\n",
    "    .groupBy('VendorID')\n",
    "    .count()\n",
    "    .sort(F.col('count').desc())\n",
    "    .show()\n",
    ")"
   ]
  },
  {
   "cell_type": "code",
   "execution_count": 157,
   "metadata": {
    "execution": {
     "iopub.execute_input": "2021-04-25T09:15:20.699776Z",
     "iopub.status.busy": "2021-04-25T09:15:20.699581Z",
     "iopub.status.idle": "2021-04-25T09:15:24.077597Z",
     "shell.execute_reply": "2021-04-25T09:15:24.076646Z",
     "shell.execute_reply.started": "2021-04-25T09:15:20.699753Z"
    }
   },
   "outputs": [
    {
     "data": {
      "text/plain": [
       "[Row(PULocationID=None, count=33172537),\n",
       " Row(PULocationID='237', count=4788089),\n",
       " Row(PULocationID='161', count=4398323),\n",
       " Row(PULocationID='236', count=4398183),\n",
       " Row(PULocationID='186', count=3890491),\n",
       " Row(PULocationID='162', count=3879188),\n",
       " Row(PULocationID='230', count=3589107),\n",
       " Row(PULocationID='48', count=3409675),\n",
       " Row(PULocationID='132', count=3361237),\n",
       " Row(PULocationID='170', count=3360614),\n",
       " Row(PULocationID='142', count=3280291),\n",
       " Row(PULocationID='234', count=3216647),\n",
       " Row(PULocationID='239', count=2888382),\n",
       " Row(PULocationID='163', count=2867917),\n",
       " Row(PULocationID='79', count=2710559),\n",
       " Row(PULocationID='141', count=2649092),\n",
       " Row(PULocationID='68', count=2598115),\n",
       " Row(PULocationID='138', count=2567229),\n",
       " Row(PULocationID='107', count=2460272),\n",
       " Row(PULocationID='164', count=2458499)]"
      ]
     },
     "execution_count": 157,
     "metadata": {},
     "output_type": "execute_result"
    }
   ],
   "source": [
    "top_n = (\n",
    "    df_dateparts\n",
    "    .groupBy('VendorID')\n",
    "    .count()\n",
    "    .sort(F.col('count').desc())\n",
    "    .limit(100)\n",
    "    .collect()\n",
    ")\n",
    "\n",
    "top_n"
   ]
  },
  {
   "cell_type": "code",
   "execution_count": 158,
   "metadata": {
    "execution": {
     "iopub.execute_input": "2021-04-25T09:15:24.079391Z",
     "iopub.status.busy": "2021-04-25T09:15:24.079197Z",
     "iopub.status.idle": "2021-04-25T09:15:24.099690Z",
     "shell.execute_reply": "2021-04-25T09:15:24.098793Z",
     "shell.execute_reply.started": "2021-04-25T09:15:24.079368Z"
    }
   },
   "outputs": [
    {
     "data": {
      "text/plain": [
       "[None,\n",
       " '237',\n",
       " '161',\n",
       " '236',\n",
       " '186',\n",
       " '162',\n",
       " '230',\n",
       " '48',\n",
       " '132',\n",
       " '170',\n",
       " '142',\n",
       " '234',\n",
       " '239',\n",
       " '163',\n",
       " '79',\n",
       " '141',\n",
       " '68',\n",
       " '138',\n",
       " '107',\n",
       " '164']"
      ]
     },
     "execution_count": 158,
     "metadata": {},
     "output_type": "execute_result"
    }
   ],
   "source": [
    "valid_values = [e['VendorID'] for e in top_n]\n",
    "valid_values"
   ]
  },
  {
   "cell_type": "code",
   "execution_count": 73,
   "metadata": {
    "execution": {
     "iopub.execute_input": "2021-04-25T08:37:49.045040Z",
     "iopub.status.busy": "2021-04-25T08:37:49.044796Z",
     "iopub.status.idle": "2021-04-25T08:37:49.154220Z",
     "shell.execute_reply": "2021-04-25T08:37:49.153341Z",
     "shell.execute_reply.started": "2021-04-25T08:37:49.045015Z"
    }
   },
   "outputs": [],
   "source": [
    "col = 'VendorID'\n",
    "df_vendor = (\n",
    "    df_dateparts\n",
    "    .withColumn(col, \n",
    "                F.when(~F.col(col).isin(valid_values), 'null')\n",
    "                .otherwise(F.col(col)))\n",
    ")"
   ]
  },
  {
   "cell_type": "markdown",
   "metadata": {},
   "source": [
    "### Validation: `PULocationID`"
   ]
  },
  {
   "cell_type": "code",
   "execution_count": 156,
   "metadata": {
    "execution": {
     "iopub.execute_input": "2021-04-25T09:15:16.642926Z",
     "iopub.status.busy": "2021-04-25T09:15:16.642683Z",
     "iopub.status.idle": "2021-04-25T09:15:20.698186Z",
     "shell.execute_reply": "2021-04-25T09:15:20.697235Z",
     "shell.execute_reply.started": "2021-04-25T09:15:16.642901Z"
    }
   },
   "outputs": [
    {
     "name": "stdout",
     "output_type": "stream",
     "text": [
      "+------------+--------+\n",
      "|PULocationID|   count|\n",
      "+------------+--------+\n",
      "|        null|33172537|\n",
      "|         237| 4788089|\n",
      "|         161| 4398323|\n",
      "|         236| 4398183|\n",
      "|         186| 3890491|\n",
      "|         162| 3879188|\n",
      "|         230| 3589107|\n",
      "|          48| 3409675|\n",
      "|         132| 3361237|\n",
      "|         170| 3360614|\n",
      "|         142| 3280291|\n",
      "|         234| 3216647|\n",
      "|         239| 2888382|\n",
      "|         163| 2867917|\n",
      "|          79| 2710559|\n",
      "|         141| 2649092|\n",
      "|          68| 2598115|\n",
      "|         138| 2567229|\n",
      "|         107| 2460272|\n",
      "|         164| 2458499|\n",
      "+------------+--------+\n",
      "only showing top 20 rows\n",
      "\n"
     ]
    }
   ],
   "source": [
    "(\n",
    "    df_dateparts\n",
    "    .groupBy('PULocationID')\n",
    "    .count()\n",
    "    .sort(F.col('count').desc())\n",
    "    .show()\n",
    ")"
   ]
  },
  {
   "cell_type": "code",
   "execution_count": 157,
   "metadata": {
    "execution": {
     "iopub.execute_input": "2021-04-25T09:15:20.699776Z",
     "iopub.status.busy": "2021-04-25T09:15:20.699581Z",
     "iopub.status.idle": "2021-04-25T09:15:24.077597Z",
     "shell.execute_reply": "2021-04-25T09:15:24.076646Z",
     "shell.execute_reply.started": "2021-04-25T09:15:20.699753Z"
    }
   },
   "outputs": [
    {
     "data": {
      "text/plain": [
       "[Row(PULocationID=None, count=33172537),\n",
       " Row(PULocationID='237', count=4788089),\n",
       " Row(PULocationID='161', count=4398323),\n",
       " Row(PULocationID='236', count=4398183),\n",
       " Row(PULocationID='186', count=3890491),\n",
       " Row(PULocationID='162', count=3879188),\n",
       " Row(PULocationID='230', count=3589107),\n",
       " Row(PULocationID='48', count=3409675),\n",
       " Row(PULocationID='132', count=3361237),\n",
       " Row(PULocationID='170', count=3360614),\n",
       " Row(PULocationID='142', count=3280291),\n",
       " Row(PULocationID='234', count=3216647),\n",
       " Row(PULocationID='239', count=2888382),\n",
       " Row(PULocationID='163', count=2867917),\n",
       " Row(PULocationID='79', count=2710559),\n",
       " Row(PULocationID='141', count=2649092),\n",
       " Row(PULocationID='68', count=2598115),\n",
       " Row(PULocationID='138', count=2567229),\n",
       " Row(PULocationID='107', count=2460272),\n",
       " Row(PULocationID='164', count=2458499)]"
      ]
     },
     "execution_count": 157,
     "metadata": {},
     "output_type": "execute_result"
    }
   ],
   "source": [
    "top_n = (\n",
    "    df_dateparts\n",
    "    .groupBy('PULocationID')\n",
    "    .count()\n",
    "    .sort(F.col('count').desc())\n",
    "    .limit(100)\n",
    "    .collect()\n",
    ")\n",
    "\n",
    "top_n"
   ]
  },
  {
   "cell_type": "code",
   "execution_count": 158,
   "metadata": {
    "execution": {
     "iopub.execute_input": "2021-04-25T09:15:24.079391Z",
     "iopub.status.busy": "2021-04-25T09:15:24.079197Z",
     "iopub.status.idle": "2021-04-25T09:15:24.099690Z",
     "shell.execute_reply": "2021-04-25T09:15:24.098793Z",
     "shell.execute_reply.started": "2021-04-25T09:15:24.079368Z"
    }
   },
   "outputs": [
    {
     "data": {
      "text/plain": [
       "[None,\n",
       " '237',\n",
       " '161',\n",
       " '236',\n",
       " '186',\n",
       " '162',\n",
       " '230',\n",
       " '48',\n",
       " '132',\n",
       " '170',\n",
       " '142',\n",
       " '234',\n",
       " '239',\n",
       " '163',\n",
       " '79',\n",
       " '141',\n",
       " '68',\n",
       " '138',\n",
       " '107',\n",
       " '164']"
      ]
     },
     "execution_count": 158,
     "metadata": {},
     "output_type": "execute_result"
    }
   ],
   "source": [
    "valid_values = [e['PULocationID'] for e in top_n]\n",
    "valid_values"
   ]
  },
  {
   "cell_type": "code",
   "execution_count": 159,
   "metadata": {
    "execution": {
     "iopub.execute_input": "2021-04-25T09:15:24.101563Z",
     "iopub.status.busy": "2021-04-25T09:15:24.101008Z",
     "iopub.status.idle": "2021-04-25T09:15:24.212332Z",
     "shell.execute_reply": "2021-04-25T09:15:24.211459Z",
     "shell.execute_reply.started": "2021-04-25T09:15:24.101539Z"
    }
   },
   "outputs": [],
   "source": [
    "col = 'PULocationID'\n",
    "df_pulocationid = (\n",
    "    df_vendor\n",
    "    .withColumn(col, \n",
    "                F.when(F.col(col).isin(valid_values[1:]), F.col(col))\n",
    "                .otherwise('null'))\n",
    ")"
   ]
  },
  {
   "cell_type": "code",
   "execution_count": 160,
   "metadata": {
    "execution": {
     "iopub.execute_input": "2021-04-25T09:15:24.213574Z",
     "iopub.status.busy": "2021-04-25T09:15:24.213374Z",
     "iopub.status.idle": "2021-04-25T09:15:27.919502Z",
     "shell.execute_reply": "2021-04-25T09:15:27.918517Z",
     "shell.execute_reply.started": "2021-04-25T09:15:24.213551Z"
    }
   },
   "outputs": [
    {
     "name": "stdout",
     "output_type": "stream",
     "text": [
      "+------------+--------+\n",
      "|PULocationID|   count|\n",
      "+------------+--------+\n",
      "|        null|87240197|\n",
      "|         237| 4788089|\n",
      "|         161| 4398323|\n",
      "|         236| 4398183|\n",
      "|         186| 3890491|\n",
      "|         162| 3879188|\n",
      "|         230| 3589107|\n",
      "|          48| 3409675|\n",
      "|         132| 3361237|\n",
      "|         170| 3360614|\n",
      "|         142| 3280291|\n",
      "|         234| 3216647|\n",
      "|         239| 2888382|\n",
      "|         163| 2867917|\n",
      "|          79| 2710559|\n",
      "|         141| 2649092|\n",
      "|          68| 2598115|\n",
      "|         138| 2567229|\n",
      "|         107| 2460272|\n",
      "|         164| 2458499|\n",
      "+------------+--------+\n",
      "\n"
     ]
    }
   ],
   "source": [
    "(\n",
    "    df_pulocationid\n",
    "    .groupBy('PULocationID')\n",
    "    .count()\n",
    "    .sort(F.col('count').desc())\n",
    "    .show()\n",
    ")"
   ]
  },
  {
   "cell_type": "markdown",
   "metadata": {},
   "source": [
    "### Validation: `DOLocationID`"
   ]
  },
  {
   "cell_type": "code",
   "execution_count": 161,
   "metadata": {
    "execution": {
     "iopub.execute_input": "2021-04-25T09:15:27.920958Z",
     "iopub.status.busy": "2021-04-25T09:15:27.920766Z",
     "iopub.status.idle": "2021-04-25T09:15:31.300525Z",
     "shell.execute_reply": "2021-04-25T09:15:31.299633Z",
     "shell.execute_reply.started": "2021-04-25T09:15:27.920935Z"
    }
   },
   "outputs": [
    {
     "name": "stdout",
     "output_type": "stream",
     "text": [
      "+------------+--------+\n",
      "|DOLocationID|   count|\n",
      "+------------+--------+\n",
      "|        null|33177811|\n",
      "|         236| 4678456|\n",
      "|         237| 4325226|\n",
      "|         161| 4135680|\n",
      "|         170| 3409310|\n",
      "|         162| 3248441|\n",
      "|         230| 3188425|\n",
      "|          48| 3014969|\n",
      "|         142| 2997134|\n",
      "|         239| 2863508|\n",
      "|         234| 2792470|\n",
      "|         141| 2787876|\n",
      "|         186| 2755437|\n",
      "|         163| 2557537|\n",
      "|         238| 2497880|\n",
      "|          68| 2482786|\n",
      "|          79| 2345136|\n",
      "|         107| 2251145|\n",
      "|         164| 2233307|\n",
      "|         263| 2197062|\n",
      "+------------+--------+\n",
      "only showing top 20 rows\n",
      "\n"
     ]
    }
   ],
   "source": [
    "(\n",
    "    df_pulocationid\n",
    "    .groupBy('DOLocationID')\n",
    "    .count()\n",
    "    .sort(F.col('count').desc())\n",
    "    .show()\n",
    ")"
   ]
  },
  {
   "cell_type": "code",
   "execution_count": 162,
   "metadata": {
    "execution": {
     "iopub.execute_input": "2021-04-25T09:15:31.302038Z",
     "iopub.status.busy": "2021-04-25T09:15:31.301795Z",
     "iopub.status.idle": "2021-04-25T09:15:34.699078Z",
     "shell.execute_reply": "2021-04-25T09:15:34.698156Z",
     "shell.execute_reply.started": "2021-04-25T09:15:31.302014Z"
    }
   },
   "outputs": [
    {
     "data": {
      "text/plain": [
       "[Row(DOLocationID=None, count=33177811),\n",
       " Row(DOLocationID='236', count=4678456),\n",
       " Row(DOLocationID='237', count=4325226),\n",
       " Row(DOLocationID='161', count=4135680),\n",
       " Row(DOLocationID='170', count=3409310),\n",
       " Row(DOLocationID='162', count=3248441),\n",
       " Row(DOLocationID='230', count=3188425),\n",
       " Row(DOLocationID='48', count=3014969),\n",
       " Row(DOLocationID='142', count=2997134),\n",
       " Row(DOLocationID='239', count=2863508),\n",
       " Row(DOLocationID='234', count=2792470),\n",
       " Row(DOLocationID='141', count=2787876),\n",
       " Row(DOLocationID='186', count=2755437),\n",
       " Row(DOLocationID='163', count=2557537),\n",
       " Row(DOLocationID='238', count=2497880),\n",
       " Row(DOLocationID='68', count=2482786),\n",
       " Row(DOLocationID='79', count=2345136),\n",
       " Row(DOLocationID='107', count=2251145),\n",
       " Row(DOLocationID='164', count=2233307),\n",
       " Row(DOLocationID='263', count=2197062)]"
      ]
     },
     "execution_count": 162,
     "metadata": {},
     "output_type": "execute_result"
    }
   ],
   "source": [
    "top_n = (\n",
    "    df_pulocationid\n",
    "    .groupBy('DOLocationID')\n",
    "    .count()\n",
    "    .sort(F.col('count').desc())\n",
    "    .limit(100)\n",
    "    .collect()\n",
    ")\n",
    "\n",
    "top_n"
   ]
  },
  {
   "cell_type": "code",
   "execution_count": 163,
   "metadata": {
    "execution": {
     "iopub.execute_input": "2021-04-25T09:15:34.701643Z",
     "iopub.status.busy": "2021-04-25T09:15:34.701409Z",
     "iopub.status.idle": "2021-04-25T09:15:34.723526Z",
     "shell.execute_reply": "2021-04-25T09:15:34.722656Z",
     "shell.execute_reply.started": "2021-04-25T09:15:34.701620Z"
    }
   },
   "outputs": [
    {
     "data": {
      "text/plain": [
       "[None,\n",
       " '236',\n",
       " '237',\n",
       " '161',\n",
       " '170',\n",
       " '162',\n",
       " '230',\n",
       " '48',\n",
       " '142',\n",
       " '239',\n",
       " '234',\n",
       " '141',\n",
       " '186',\n",
       " '163',\n",
       " '238',\n",
       " '68',\n",
       " '79',\n",
       " '107',\n",
       " '164',\n",
       " '263']"
      ]
     },
     "execution_count": 163,
     "metadata": {},
     "output_type": "execute_result"
    }
   ],
   "source": [
    "valid_values = [e['DOLocationID'] for e in top_n]\n",
    "valid_values"
   ]
  },
  {
   "cell_type": "code",
   "execution_count": 164,
   "metadata": {
    "execution": {
     "iopub.execute_input": "2021-04-25T09:15:34.725336Z",
     "iopub.status.busy": "2021-04-25T09:15:34.725123Z",
     "iopub.status.idle": "2021-04-25T09:15:34.833452Z",
     "shell.execute_reply": "2021-04-25T09:15:34.832532Z",
     "shell.execute_reply.started": "2021-04-25T09:15:34.725306Z"
    }
   },
   "outputs": [],
   "source": [
    "col = 'DOLocationID'\n",
    "df_dolocationid = (\n",
    "    df_pulocationid\n",
    "    .withColumn(col, \n",
    "                F.when(F.col(col).isin(valid_values[:]), F.col(col))\n",
    "                .otherwise('null'))\n",
    ")"
   ]
  },
  {
   "cell_type": "code",
   "execution_count": 165,
   "metadata": {
    "execution": {
     "iopub.execute_input": "2021-04-25T09:15:34.834705Z",
     "iopub.status.busy": "2021-04-25T09:15:34.834498Z",
     "iopub.status.idle": "2021-04-25T09:15:38.453859Z",
     "shell.execute_reply": "2021-04-25T09:15:38.452896Z",
     "shell.execute_reply.started": "2021-04-25T09:15:34.834682Z"
    }
   },
   "outputs": [
    {
     "name": "stdout",
     "output_type": "stream",
     "text": [
      "+------------+--------+\n",
      "|DOLocationID|   count|\n",
      "+------------+--------+\n",
      "|        null|93250322|\n",
      "|         236| 4678456|\n",
      "|         237| 4325226|\n",
      "|         161| 4135680|\n",
      "|         170| 3409310|\n",
      "|         162| 3248441|\n",
      "|         230| 3188425|\n",
      "|          48| 3014969|\n",
      "|         142| 2997134|\n",
      "|         239| 2863508|\n",
      "|         234| 2792470|\n",
      "|         141| 2787876|\n",
      "|         186| 2755437|\n",
      "|         163| 2557537|\n",
      "|         238| 2497880|\n",
      "|          68| 2482786|\n",
      "|          79| 2345136|\n",
      "|         107| 2251145|\n",
      "|         164| 2233307|\n",
      "|         263| 2197062|\n",
      "+------------+--------+\n",
      "\n"
     ]
    }
   ],
   "source": [
    "(\n",
    "    df_dolocationid\n",
    "    .groupBy('DOLocationID')\n",
    "    .count()\n",
    "    .sort(F.col('count').desc())\n",
    "    .show()\n",
    ")"
   ]
  },
  {
   "cell_type": "markdown",
   "metadata": {},
   "source": [
    "### Validation: `Store_and_fwd_flag`\n",
    "\n",
    "There are values that are neither `Y` nor `N`. These will be converted to nulls."
   ]
  },
  {
   "cell_type": "code",
   "execution_count": 166,
   "metadata": {
    "execution": {
     "iopub.execute_input": "2021-04-25T09:15:38.455388Z",
     "iopub.status.busy": "2021-04-25T09:15:38.455163Z",
     "iopub.status.idle": "2021-04-25T09:15:41.402046Z",
     "shell.execute_reply": "2021-04-25T09:15:41.400753Z",
     "shell.execute_reply.started": "2021-04-25T09:15:38.455365Z"
    }
   },
   "outputs": [
    {
     "name": "stdout",
     "output_type": "stream",
     "text": [
      "+--------------------+---------+\n",
      "|  Store_and_fwd_flag|    count|\n",
      "+--------------------+---------+\n",
      "|                   N|113871636|\n",
      "|                null| 35160087|\n",
      "|                   Y|   955618|\n",
      "|     \"type\":\"string\"|       94|\n",
      "|\u0015��\f",
      "\u0015\u0004\u001c",
      "\u0018\u0006yell...|       78|\n",
      "|                   �|       73|\n",
      "|                   \u0005|       46|\n",
      "|                   \u000b",
      "|       44|\n",
      "|                   \u0013|       40|\n",
      "|                   )|       39|\n",
      "|                   \u0019|       33|\n",
      "|                   \u0001|       32|\n",
      "|                   \u0002|       31|\n",
      "|                   \u0010|       30|\n",
      "|                    |       29|\n",
      "|                   \u0018|       26|\n",
      "|                   *|       25|\n",
      "|                   0|       25|\n",
      "|                   \u0003|       25|\n",
      "|                   %|       25|\n",
      "+--------------------+---------+\n",
      "only showing top 20 rows\n",
      "\n"
     ]
    }
   ],
   "source": [
    "(\n",
    "    df_dolocationid\n",
    "    .groupBy('Store_and_fwd_flag')\n",
    "    .count()\n",
    "    .sort(F.col('count').desc())\n",
    "    .show()\n",
    ")"
   ]
  },
  {
   "cell_type": "code",
   "execution_count": 167,
   "metadata": {
    "execution": {
     "iopub.execute_input": "2021-04-25T09:15:41.403372Z",
     "iopub.status.busy": "2021-04-25T09:15:41.403181Z",
     "iopub.status.idle": "2021-04-25T09:15:44.594274Z",
     "shell.execute_reply": "2021-04-25T09:15:44.593352Z",
     "shell.execute_reply.started": "2021-04-25T09:15:41.403349Z"
    }
   },
   "outputs": [
    {
     "name": "stdout",
     "output_type": "stream",
     "text": [
      "+--------------------+---------+\n",
      "|  Store_and_fwd_flag|    count|\n",
      "+--------------------+---------+\n",
      "|                   N|113871636|\n",
      "|                null| 35160087|\n",
      "|                   Y|   955618|\n",
      "|     \"type\":\"string\"|       94|\n",
      "|\u0015��\f",
      "\u0015\u0004\u001c",
      "\u0018\u0006yell...|       78|\n",
      "|                   �|       73|\n",
      "|                   \u0005|       46|\n",
      "|                   \u000b",
      "|       44|\n",
      "|                   \u0013|       40|\n",
      "|                   )|       39|\n",
      "|                   \u0019|       33|\n",
      "|                   \u0001|       32|\n",
      "|                   \u0002|       31|\n",
      "|                   \u0010|       30|\n",
      "|                    |       29|\n",
      "|                   \u0018|       26|\n",
      "|                   *|       25|\n",
      "|                   0|       25|\n",
      "|                   %|       25|\n",
      "|                   \u0003|       25|\n",
      "+--------------------+---------+\n",
      "only showing top 20 rows\n",
      "\n"
     ]
    }
   ],
   "source": [
    "valid_values = ['N', 'Y', None]\n",
    "col = 'Store_and_fwd_flag'\n",
    "(\n",
    "    df_dolocationid\n",
    "    .withColumn(col, \n",
    "                F.when(~F.col(col).isin(valid_values), 'null')\n",
    "                .otherwise(F.col(col)))\n",
    "    .groupBy(col)\n",
    "    .count()\n",
    "    .sort(F.col('count').desc())\n",
    "    .show()\n",
    ")"
   ]
  },
  {
   "cell_type": "code",
   "execution_count": 168,
   "metadata": {
    "execution": {
     "iopub.execute_input": "2021-04-25T09:15:44.595595Z",
     "iopub.status.busy": "2021-04-25T09:15:44.595399Z",
     "iopub.status.idle": "2021-04-25T09:15:47.610609Z",
     "shell.execute_reply": "2021-04-25T09:15:47.609769Z",
     "shell.execute_reply.started": "2021-04-25T09:15:44.595571Z"
    },
    "tags": []
   },
   "outputs": [
    {
     "name": "stdout",
     "output_type": "stream",
     "text": [
      "+------------------+---------+\n",
      "|Store_and_fwd_flag|    count|\n",
      "+------------------+---------+\n",
      "|                 N|113871636|\n",
      "|              null| 35160087|\n",
      "|                 Y|   955618|\n",
      "|              null|    24766|\n",
      "+------------------+---------+\n",
      "\n"
     ]
    }
   ],
   "source": [
    "valid_values = ['N', 'Y', 'null']\n",
    "col = 'Store_and_fwd_flag'\n",
    "(\n",
    "    df_dolocationid\n",
    "    .withColumn(col, \n",
    "                F.when(~F.col('Store_and_fwd_flag').isin(valid_values), 'null')\n",
    "                .otherwise(F.col('Store_and_fwd_flag')))\n",
    "    .groupBy(col)\n",
    "    .count()\n",
    "    .sort(F.col('count').desc())\n",
    "    .show()\n",
    ")"
   ]
  },
  {
   "cell_type": "code",
   "execution_count": 169,
   "metadata": {
    "execution": {
     "iopub.execute_input": "2021-04-25T09:15:47.612129Z",
     "iopub.status.busy": "2021-04-25T09:15:47.611929Z",
     "iopub.status.idle": "2021-04-25T09:15:47.681860Z",
     "shell.execute_reply": "2021-04-25T09:15:47.680941Z",
     "shell.execute_reply.started": "2021-04-25T09:15:47.612106Z"
    },
    "tags": []
   },
   "outputs": [],
   "source": [
    "valid_values = ['N', 'Y']\n",
    "col = 'Store_and_fwd_flag'\n",
    "df_validated_store = (\n",
    "    df_dolocationid\n",
    "    .withColumn(col, \n",
    "                F.when(~F.col(col).isin(valid_values), 'null')\n",
    "                .otherwise(F.col(col)))\n",
    ")"
   ]
  },
  {
   "cell_type": "code",
   "execution_count": 170,
   "metadata": {
    "execution": {
     "iopub.execute_input": "2021-04-25T09:15:47.683054Z",
     "iopub.status.busy": "2021-04-25T09:15:47.682866Z",
     "iopub.status.idle": "2021-04-25T09:15:50.563941Z",
     "shell.execute_reply": "2021-04-25T09:15:50.563023Z",
     "shell.execute_reply.started": "2021-04-25T09:15:47.683031Z"
    }
   },
   "outputs": [
    {
     "name": "stdout",
     "output_type": "stream",
     "text": [
      "+------------------+---------+\n",
      "|Store_and_fwd_flag|    count|\n",
      "+------------------+---------+\n",
      "|                 N|113871636|\n",
      "|              null| 35160087|\n",
      "|                 Y|   955618|\n",
      "|              null|    24766|\n",
      "+------------------+---------+\n",
      "\n"
     ]
    }
   ],
   "source": [
    "(\n",
    "    df_validated_store\n",
    "    .groupBy(col)\n",
    "    .count()\n",
    "    .sort(F.col('count').desc())\n",
    "    .limit(5)\n",
    "    .show()\n",
    ")"
   ]
  },
  {
   "cell_type": "markdown",
   "metadata": {},
   "source": [
    "### Validation: `Payment_type`"
   ]
  },
  {
   "cell_type": "code",
   "execution_count": 171,
   "metadata": {
    "execution": {
     "iopub.execute_input": "2021-04-25T09:15:50.565291Z",
     "iopub.status.busy": "2021-04-25T09:15:50.565099Z",
     "iopub.status.idle": "2021-04-25T09:15:50.583319Z",
     "shell.execute_reply": "2021-04-25T09:15:50.582413Z",
     "shell.execute_reply.started": "2021-04-25T09:15:50.565268Z"
    },
    "tags": []
   },
   "outputs": [],
   "source": [
    "col = 'Payment_type'\n",
    "valid_values = [1, 2, 3, 4, 5, 6]"
   ]
  },
  {
   "cell_type": "code",
   "execution_count": 172,
   "metadata": {
    "execution": {
     "iopub.execute_input": "2021-04-25T09:15:50.584612Z",
     "iopub.status.busy": "2021-04-25T09:15:50.584421Z",
     "iopub.status.idle": "2021-04-25T09:15:53.636574Z",
     "shell.execute_reply": "2021-04-25T09:15:53.635633Z",
     "shell.execute_reply.started": "2021-04-25T09:15:50.584589Z"
    }
   },
   "outputs": [
    {
     "name": "stdout",
     "output_type": "stream",
     "text": [
      "+--------------------+--------+\n",
      "|        Payment_type|   count|\n",
      "+--------------------+--------+\n",
      "|                   1|81957887|\n",
      "|                null|35179104|\n",
      "|                   2|31956641|\n",
      "|                   3|  628793|\n",
      "|                   4|  283654|\n",
      "|                   5|     301|\n",
      "|{\"name\":\"dropoff_...|      94|\n",
      "|\u0015��\f",
      "\u0015\u0004\u001c",
      "\u0018\u0006yell...|      76|\n",
      "|                   \u0016|      22|\n",
      "|                   �|      20|\n",
      "|                  |      16|\n",
      "|                   \u0019|      12|\n",
      "|                   \f",
      "|      11|\n",
      "|                   *|      11|\n",
      "|                   \u0018|      10|\n",
      "|                   \t|      10|\n",
      "|                   &|      10|\n",
      "|                   .|       9|\n",
      "|                   \u0001|       9|\n",
      "|                   \u001e",
      "|       8|\n",
      "+--------------------+--------+\n",
      "only showing top 20 rows\n",
      "\n"
     ]
    }
   ],
   "source": [
    "(\n",
    "    df_validated_store\n",
    "    .groupBy(col)\n",
    "    .count()\n",
    "    .sort(F.col('count').desc())\n",
    "    .show()\n",
    ")"
   ]
  },
  {
   "cell_type": "code",
   "execution_count": 173,
   "metadata": {
    "execution": {
     "iopub.execute_input": "2021-04-25T09:15:53.637943Z",
     "iopub.status.busy": "2021-04-25T09:15:53.637750Z",
     "iopub.status.idle": "2021-04-25T09:15:53.714887Z",
     "shell.execute_reply": "2021-04-25T09:15:53.713930Z",
     "shell.execute_reply.started": "2021-04-25T09:15:53.637920Z"
    },
    "tags": []
   },
   "outputs": [],
   "source": [
    "df_validated_payment = (\n",
    "    df_validated_store\n",
    "    .withColumn(col, \n",
    "                F.when(~F.col(col).isin(valid_values), None)\n",
    "                .otherwise(F.col(col)))\n",
    ")"
   ]
  },
  {
   "cell_type": "code",
   "execution_count": 174,
   "metadata": {
    "execution": {
     "iopub.execute_input": "2021-04-25T09:15:53.716135Z",
     "iopub.status.busy": "2021-04-25T09:15:53.715941Z",
     "iopub.status.idle": "2021-04-25T09:15:57.236305Z",
     "shell.execute_reply": "2021-04-25T09:15:57.235368Z",
     "shell.execute_reply.started": "2021-04-25T09:15:53.716112Z"
    }
   },
   "outputs": [
    {
     "name": "stdout",
     "output_type": "stream",
     "text": [
      "+------------+--------+\n",
      "|Payment_type|   count|\n",
      "+------------+--------+\n",
      "|           1|81957887|\n",
      "|        null|35184829|\n",
      "|           2|31956641|\n",
      "|           3|  628793|\n",
      "|           4|  283654|\n",
      "|           5|     301|\n",
      "|           6|       2|\n",
      "+------------+--------+\n",
      "\n"
     ]
    }
   ],
   "source": [
    "(\n",
    "    df_validated_payment\n",
    "    .groupBy(col)\n",
    "    .count()\n",
    "    .sort(F.col('count').desc())\n",
    "    .show()\n",
    ")"
   ]
  },
  {
   "cell_type": "markdown",
   "metadata": {},
   "source": [
    "### Validation: `RatecodeID`\n",
    "\n",
    "There are codes other than the defined 1, 2, 3, 4, 5, 6 in the data dictionary. Assume that values between 1 - 1.9999 are considered to be 1, similarly for the other integers."
   ]
  },
  {
   "cell_type": "code",
   "execution_count": 175,
   "metadata": {
    "execution": {
     "iopub.execute_input": "2021-04-25T09:15:57.237685Z",
     "iopub.status.busy": "2021-04-25T09:15:57.237471Z",
     "iopub.status.idle": "2021-04-25T09:15:57.256306Z",
     "shell.execute_reply": "2021-04-25T09:15:57.255451Z",
     "shell.execute_reply.started": "2021-04-25T09:15:57.237641Z"
    }
   },
   "outputs": [],
   "source": [
    "col = 'RatecodeID'\n",
    "valid_values = [1, 2, 3, 4, 5, 6]"
   ]
  },
  {
   "cell_type": "code",
   "execution_count": 176,
   "metadata": {
    "execution": {
     "iopub.execute_input": "2021-04-25T09:15:57.257558Z",
     "iopub.status.busy": "2021-04-25T09:15:57.257371Z",
     "iopub.status.idle": "2021-04-25T09:16:00.406746Z",
     "shell.execute_reply": "2021-04-25T09:16:00.405831Z",
     "shell.execute_reply.started": "2021-04-25T09:15:57.257535Z"
    }
   },
   "outputs": [
    {
     "name": "stdout",
     "output_type": "stream",
     "text": [
      "+--------------------+--------+\n",
      "|          RatecodeID|   count|\n",
      "+--------------------+--------+\n",
      "|                null|35135319|\n",
      "|                   \u0000|      62|\n",
      "|                  \u0000\u0000|       8|\n",
      "|                 \u0000\u0000\u0000|       2|\n",
      "|    \u0000\u0000\u0000\u0000\u0000111\u0005\u00108:\u001e",
      "\u0010\u000f!|       1|\n",
      "|\u0000\u0000\u0000\u0000\u0010(\u0001\u000e\u000e<?\u0014E@(<?...|       1|\n",
      "|\u0000\u0000\u0000\u0001&�\u0005W�\u0015��\u000e�A\u0014U...|       1|\n",
      "|       \u0000\u0000\u0000\u0004\u0003\u0000\u00020C\u0004\u00000\u0001|       1|\n",
      "|      \u0000\u0000\u0000\u0007\u001f��@\u0000\u000fL0�\u0007|       1|\n",
      "|\u0000\u0000\u0000\f",
      "!\u0000\f",
      "\f",
      "!\u0016\u001d",
      "\t\u001d",
      "\u001d",
      "\t...|       1|\n",
      "|\u0000\u0000\u0000\u0017\u0017\u0017)\u00058\u0003\u00135:t:\u0003 ...|       1|\n",
      "|         \u0000\u0000\u0000\u001e",
      "\u0004\u0006!)\u001c",
      ".U|       1|\n",
      "|\u0000\u0000\u0000!\u00040�\u0003\u0010<\u0000�\u0007\u0010<\u0000\u0001...|       1|\n",
      "|           \u0000\u0000\u0000%D��\u0011\u0016|       1|\n",
      "|           \u0000\u0000\u0000',4\u0003 5|       1|\n",
      "|\u0000\u0000\u00002`\u0001\u00038\u0002\u0007\u00028�\u0005�\u0010�...|       1|\n",
      "|\u0000\u0000\u00003�\u000e�\u0012\u0010\u0007 \u0002#1!n\u0004...|       1|\n",
      "|               \u0000\u0000\u00007\u000f|       1|\n",
      "|\u0000\u0000\u0000@�\u0002\u00020�\u0000L\u0000\u0005��C\u0011...|       1|\n",
      "|\u0000\u0000\u0000�\u0003*0��.4`\u0012�\u0015...|       1|\n",
      "|\u0000\u0000\u0000�\u0005T\u0000\f",
      "\u0001\u0010\u0014\u0000\u0000\u0000P��...|       1|\n",
      "|\u0000\u0000\u0000� \u0001\u0010(\u0000\t\u00120�\u0002��\u0001...|       1|\n",
      "|\u0000\u0000\u0000� \u0013\u0017X\u0018�\u0002\u000f�`\u0001...|       1|\n",
      "|\u0000\u0000\u0000�0B\u0003d\u0000\u000b",
      "\u0000��\u000e\u001f\u0013�...|       1|\n",
      "|\u0000\u0000\u0000�R\u0002�\u0001a7$�\u0000\u000b",
      "\u00000\u0002...|       1|\n",
      "|               \u0000\u0000\u0000��|       1|\n",
      "|                \u0000\u0000\u0001\u0003|       1|\n",
      "|\u0000\u0000@��\u0000�\u0000��\u0011�H\u0002!...|       1|\n",
      "|\u0000\u0000\u0001\u0010� \u0000\u0000%\u0010�\u0002\u000b",
      "\u000fH\u0000�...|       1|\n",
      "|\u0000\u0000\u0001\u0012l\u0000�\u0007\u0000\u0010�E\u0004\u0003\f",
      " �...|       1|\n",
      "|\u0000\u0000\u0001�\u0001\u001d",
      " \u0000\u001b0\u0000\u0000�\u0001\f",
      " \u0000...|       1|\n",
      "|\u0000\u0000\u0001�\u0002\" \u00033 \u0000!0\u0001\u00150\u0004...|       1|\n",
      "|\u0000\u0000\u0001�\u0010@\f",
      "0�\u0010\u0002\u0004\u0005�\f",
      "\u0000\u0000...|       1|\n",
      "|\u0000\u0000\u0002\u0003\u0004`�\u0001\u0018P �\u0004\u0019\u00000�...|       1|\n",
      "|\u0000\u0000\u0002\t`��\u0005\u0001P B\u0001.��B...|       1|\n",
      "|\u0000\u0000\u0002\u0014L\u0000\u0001\u0006\u0010(`�\u0000\u000e��@...|       1|\n",
      "|\u0000\u0000\u0002\u0019l�A\u0007\u0002� B\u0006\u001b00\u0001...|       1|\n",
      "|        \u0000\u0000\u0003\u0001\u0002\u0005\u0000\u0000\u001a\u0001|       1|\n",
      "|\u0000\u0000\u0003\u0013h��\u0001%|��\u0004\u001e",
      "\u0004\u0010@...|       1|\n",
      "|\u0000\u0000\u0003\u001a�\u0010@\u0003\u001e",
      "X\u0010�\u0007\u0005\u0000P@...|       1|\n",
      "|           \u0000\u0000\u0003\u001c",
      "\u001c",
      "�\u0001\u0000\u0006|       1|\n",
      "|\u0000\u0000\u00030\u0000\u0013�\u0001\u000e\u0010\u0000\u00180\u0000\u0000...|       1|\n",
      "|\u0000\u0000\u0003@\u0000(0\u0000\u000b",
      "\u0000\u0000?�\u0001\u001c",
      "�\u0000...|       1|\n",
      "|\u0000\u0000\u0003�\u0000�\u001d",
      "�\u0003\u0000j�\u000e�\u0010...|       1|\n",
      "|\u0000\u0000\u0004\u0010\u0001\u0000�\u0002<\u0000\u0000�\u0012�M\u0018....|       1|\n",
      "|\u0000\u0000\u0004\u0011\\0@\u0003\u000e���\u0006\u0005t\u0010�...|       1|\n",
      "|\u0000\u0000\u0004\u0019P��\u0000'\u0000��\u0002\u0004\u0014\u0000�...|       1|\n",
      "|               \u0000\u0000\u0004�b|       1|\n",
      "|                 \u0000\u0000\u0005|       1|\n",
      "|\u0000\u0000\u0005-D�A\u0013K8�\u0002\u0001$Hp@...|       1|\n",
      "|             \u0000\u0000\u00054\u0014@@|       1|\n",
      "|           \u0000\u0000\u00058�\u0006\u001a�\u0000|       1|\n",
      "|\u0000\u0000\u0006\u0018�\u0001 ��\u0003\u000e�\u001d",
      "af\u0004�...|       1|\n",
      "|\u0000\u0000\u0006\u001a\u0000\u0005\u0001$bff\u0000\u0001�\f",
      "\u000b",
      "\u0011...|       1|\n",
      "|             \u0000\u0000\u0006%\u001f6\u0001|       1|\n",
      "|    \u0000\u0000\u0006(\u0007\t\u000e\u000b",
      ">\u0012\u0012\"!4-F|       1|\n",
      "|  \u0000\u0000\u0007H\u00129\u0014<\f",
      "@\u0002\u0012(\u0004J�|       1|\n",
      "|\u0000\u0000\u0007�\u0001\u001640\u0015;\u0012�\u001a�v...|       1|\n",
      "|         \u0000\u0005\u0006\u00133\u0006*|       1|\n",
      "|      \u0000 �\u0000B\u0003-���\u0007\u0001|       1|\n",
      "|     \u0000\u0000\t\u0002\u0006#\u0005\u0013\"\u000e\u0005|       1|\n",
      "|        \u0000\u0000\t+���\u0018.lT�|       1|\n",
      "|\u0000\u0000\t1��\u0001\u0000&\u0004�@\u0000\u000f@@�...|       1|\n",
      "|              \u0000\u0000\u000b",
      "\u0006!\u0010|       1|\n",
      "|               \u0000\u0000\u000b",
      "\u0016\u0011|       1|\n",
      "|\u0000\u0000\u000b",
      "!DP\u0001\u0000]\f",
      "P�\u0006\u0000�P�...|       1|\n",
      "|\u0000\u0000\u000b",
      "\u0006�P\u0000\u000e\u0018�0�\u0005\u001d",
      "\u001c",
      "`...|       1|\n",
      "|           \u0000\u0000\u000b",
      "Ȁ�\u0000\u0013|       1|\n",
      "|\u0000\u0000\f",
      "\u0010�\u0005\f",
      "��\u0011 @\u0000\u001ah@\u0007\f",
      "`\u0003|       1|\n",
      "|           \u0000\u0000\f",
      "  \u0017\u0004\u000b",
      "\u0012|       1|\n",
      "|   \u0000\u0000\f",
      "P�\u0016\u001e",
      "��`\u0000\u001d",
      "0\u0002\u0014|       1|\n",
      "|\u0000\u0000\u000e\u000e5\u001f\u0003&%%\u0003\u00115#\u0010##...|       1|\n",
      "|              \u0000\u0000\u000e\u0013|       1|\n",
      "|\u0000\u0000\u000e\u0015aT`\u001c",
      "�\u0000\u0000��\u0000\u001d",
      "\u0010\u0016...|       1|\n",
      "|          \u0000\u0000\u000ed38FV0\u0003|       1|\n",
      "|\u0000\u0000\u000ey\u0015�P�\u001f\u0000@\t\u0003�A\u001c",
      "V...|       1|\n",
      "|                \u0000\u0000\u000e�|       1|\n",
      "|      \u0000\u0000\u000f'\u001a\u0014\u000b",
      "$\u001e",
      "')*-'|       1|\n",
      "|           \u0000\u0000\u0010\f",
      "\tP\u00005!|       1|\n",
      "|\u0000\u0000\u00105\u0005`3\u0000 \u0006\u0000\u0010\u0016\u000f \u0012�...|       1|\n",
      "|\u0000\u0000\u0010P\t��$\u0000\u0000Y�\u000b",
      "4\u0004i0...|       1|\n",
      "|\u0000\u0000\u0011��\u0003T�\u0004\f",
      "`�\u0007\u001f0@\u0007...|       1|\n",
      "|\u0000\u0000\u0012\u0014\u0000\u0000#\"\u0000%\u0001\u0018��\u0018...|       1|\n",
      "|\u0000\u0000\u0013R\u0005a�\u0005I\u000e\u000e\u00070\u0000�\u000e?...|       1|\n",
      "|\u0000\u0000\u0014\u0010�\u0006\u0016P\u0006\u0004\\\u0002\u0001r�@\u0013...|       1|\n",
      "| \u0000\u0000\u0015\f",
      "8\u0000\u0000\u0007\u0001` @\u0004&\u001c",
      "��|       1|\n",
      "|\u0000\u0000\u0016\u0000`\u0000�\u0001\u0000�0\u0001��0�\u0004...|       1|\n",
      "|     \u0000\u0000\u0018\u0005\u001b;\"-\u000f\u0012\u000b",
      "\f",
      "(!7|       1|\n",
      "|          \u0000\u0000\u0018�\u0000\u0011\u0018��4|       1|\n",
      "|\u0000\u0000\u001b(A\u0006&\u0000�Y\u0010`\u0002\u001fX�\u0007...|       1|\n",
      "|              \u0000\u0000\u001b`\u0000\u0000|       1|\n",
      "|\u0000\u0000\u001c",
      "\u001c",
      "<\u000b",
      "\u000f\u0014\u0001\u0001\u001a\u0004\u001c",
      "\u0003\u0003\u0019\u001b...|       1|\n",
      "|    \u0000\u0000\u001c",
      "��pH\u0011@\u0003\u0015`�&`\u0006|       1|\n",
      "|\u0000\u0000\u001d",
      "8\u0000\u0007jP\u0000\u0006X`\u00024\u0018�\u0000...|       1|\n",
      "|             \u0000\u0000\u001d",
      "�Jt\u0000|       1|\n",
      "|\u0000\u0000\u001e",
      "X�\u0002\u0016\u0010����\u0003|��\u0015...|       1|\n",
      "|                 \u0000\u0000 |       1|\n",
      "|       \u0000\u0000!A\u0013\u0006\u0002P�Ȁ\u0000�\u0000|       1|\n",
      "|\u0000\u0000!�\u0004�\u0000\u000e�\u0018$\u0000XX@\u0012:...|       1|\n",
      "|\u0000\u0000\"\u001e",
      "\"\u0003\u0005H\u000b",
      "\u0005#...|       1|\n",
      "+--------------------+--------+\n",
      "only showing top 100 rows\n",
      "\n"
     ]
    }
   ],
   "source": [
    "(\n",
    "    df_validated_payment\n",
    "    .groupBy(col)\n",
    "    .count()\n",
    "    .sort(F.col(col))\n",
    "    .show(100)\n",
    ")"
   ]
  },
  {
   "cell_type": "code",
   "execution_count": 177,
   "metadata": {
    "execution": {
     "iopub.execute_input": "2021-04-25T09:16:00.408378Z",
     "iopub.status.busy": "2021-04-25T09:16:00.408152Z",
     "iopub.status.idle": "2021-04-25T09:16:00.483582Z",
     "shell.execute_reply": "2021-04-25T09:16:00.482691Z",
     "shell.execute_reply.started": "2021-04-25T09:16:00.408354Z"
    },
    "tags": []
   },
   "outputs": [],
   "source": [
    "df_validated_ratecode = (\n",
    "    df_validated_payment\n",
    "    .withColumn(col, when(F.col(col).isin(valid_values), F.col(col))\n",
    "                     .otherwise('null'))\n",
    ")"
   ]
  },
  {
   "cell_type": "code",
   "execution_count": 178,
   "metadata": {
    "execution": {
     "iopub.execute_input": "2021-04-25T09:16:00.487538Z",
     "iopub.status.busy": "2021-04-25T09:16:00.487291Z",
     "iopub.status.idle": "2021-04-25T09:16:03.443880Z",
     "shell.execute_reply": "2021-04-25T09:16:03.442944Z",
     "shell.execute_reply.started": "2021-04-25T09:16:00.487514Z"
    }
   },
   "outputs": [
    {
     "name": "stdout",
     "output_type": "stream",
     "text": [
      "+----------+---------+\n",
      "|RatecodeID|    count|\n",
      "+----------+---------+\n",
      "|         1|110922887|\n",
      "|         2|  2677463|\n",
      "|         3|   233290|\n",
      "|         4|    90473|\n",
      "|         5|   897342|\n",
      "|         6|      783|\n",
      "|      null| 35189869|\n",
      "+----------+---------+\n",
      "\n"
     ]
    }
   ],
   "source": [
    "(\n",
    "    df_validated_ratecode\n",
    "    .groupBy(col)\n",
    "    .count()\n",
    "    .sort(F.col(col))\n",
    "    .show()\n",
    ")"
   ]
  },
  {
   "cell_type": "markdown",
   "metadata": {},
   "source": [
    "## Validate: `Total_amount`\n",
    "\n",
    "`Total_amount` should be >= 0."
   ]
  },
  {
   "cell_type": "code",
   "execution_count": 179,
   "metadata": {
    "execution": {
     "iopub.execute_input": "2021-04-25T09:16:03.446218Z",
     "iopub.status.busy": "2021-04-25T09:16:03.446024Z",
     "iopub.status.idle": "2021-04-25T09:16:03.464805Z",
     "shell.execute_reply": "2021-04-25T09:16:03.463847Z",
     "shell.execute_reply.started": "2021-04-25T09:16:03.446195Z"
    },
    "tags": []
   },
   "outputs": [],
   "source": [
    "col = 'Total_amount'"
   ]
  },
  {
   "cell_type": "code",
   "execution_count": 180,
   "metadata": {
    "execution": {
     "iopub.execute_input": "2021-04-25T09:16:03.466127Z",
     "iopub.status.busy": "2021-04-25T09:16:03.465938Z",
     "iopub.status.idle": "2021-04-25T09:16:06.052153Z",
     "shell.execute_reply": "2021-04-25T09:16:06.051140Z",
     "shell.execute_reply.started": "2021-04-25T09:16:03.466105Z"
    }
   },
   "outputs": [
    {
     "name": "stdout",
     "output_type": "stream",
     "text": [
      "+-------+------------------+\n",
      "|summary|      Total_amount|\n",
      "+-------+------------------+\n",
      "|  count|         116825642|\n",
      "|   mean| 18.89511916200704|\n",
      "| stddev|221.17700598860054|\n",
      "|    min|           -1871.8|\n",
      "|    max|         1084772.1|\n",
      "+-------+------------------+\n",
      "\n"
     ]
    }
   ],
   "source": [
    "(\n",
    "    df_validated_ratecode\n",
    "    .select(col)\n",
    "    .describe()\n",
    "    .show()\n",
    ")"
   ]
  },
  {
   "cell_type": "code",
   "execution_count": 181,
   "metadata": {
    "execution": {
     "iopub.execute_input": "2021-04-25T09:16:06.053471Z",
     "iopub.status.busy": "2021-04-25T09:16:06.053240Z",
     "iopub.status.idle": "2021-04-25T09:16:06.077466Z",
     "shell.execute_reply": "2021-04-25T09:16:06.076530Z",
     "shell.execute_reply.started": "2021-04-25T09:16:06.053447Z"
    },
    "tags": []
   },
   "outputs": [],
   "source": [
    "df_validated_amount = (\n",
    "    df_validated_ratecode\n",
    "    .withColumn(col, F.abs(F.col(col)))\n",
    ")"
   ]
  },
  {
   "cell_type": "markdown",
   "metadata": {},
   "source": [
    "## Validate: `Fare_amount`\n",
    "\n",
    "`Fare_amount` should be >= 0."
   ]
  },
  {
   "cell_type": "code",
   "execution_count": 182,
   "metadata": {
    "execution": {
     "iopub.execute_input": "2021-04-25T09:16:06.078731Z",
     "iopub.status.busy": "2021-04-25T09:16:06.078534Z",
     "iopub.status.idle": "2021-04-25T09:16:06.097165Z",
     "shell.execute_reply": "2021-04-25T09:16:06.096204Z",
     "shell.execute_reply.started": "2021-04-25T09:16:06.078709Z"
    },
    "tags": []
   },
   "outputs": [],
   "source": [
    "col = 'Fare_amount'"
   ]
  },
  {
   "cell_type": "code",
   "execution_count": 183,
   "metadata": {
    "execution": {
     "iopub.execute_input": "2021-04-25T09:16:06.098512Z",
     "iopub.status.busy": "2021-04-25T09:16:06.098320Z",
     "iopub.status.idle": "2021-04-25T09:16:08.526540Z",
     "shell.execute_reply": "2021-04-25T09:16:08.525650Z",
     "shell.execute_reply.started": "2021-04-25T09:16:06.098489Z"
    }
   },
   "outputs": [
    {
     "name": "stdout",
     "output_type": "stream",
     "text": [
      "+-------+------------------+\n",
      "|summary|       Fare_amount|\n",
      "+-------+------------------+\n",
      "|  count|         116825728|\n",
      "|   mean|13.311535144887136|\n",
      "| stddev|194.49982304527154|\n",
      "|    min|           -1856.0|\n",
      "|    max|          998310.0|\n",
      "+-------+------------------+\n",
      "\n"
     ]
    }
   ],
   "source": [
    "(\n",
    "    df_validated_amount\n",
    "    .select(col)\n",
    "    .describe()\n",
    "    .show()\n",
    ")"
   ]
  },
  {
   "cell_type": "code",
   "execution_count": 184,
   "metadata": {
    "execution": {
     "iopub.execute_input": "2021-04-25T09:16:08.527909Z",
     "iopub.status.busy": "2021-04-25T09:16:08.527688Z",
     "iopub.status.idle": "2021-04-25T09:16:08.553421Z",
     "shell.execute_reply": "2021-04-25T09:16:08.552527Z",
     "shell.execute_reply.started": "2021-04-25T09:16:08.527884Z"
    },
    "tags": []
   },
   "outputs": [],
   "source": [
    "df_validated_fare = (\n",
    "    df_validated_amount\n",
    "    .withColumn(col, F.abs(F.col(col)))\n",
    ")"
   ]
  },
  {
   "cell_type": "markdown",
   "metadata": {},
   "source": [
    "## Validate: `pickup_datetime`\n",
    "\n",
    "The data should only contain pickups that occur in years 2019 and 2020. Any rows where the year is not 2019 or 2020 will be dropped."
   ]
  },
  {
   "cell_type": "code",
   "execution_count": 185,
   "metadata": {
    "execution": {
     "iopub.execute_input": "2021-04-25T09:16:08.554681Z",
     "iopub.status.busy": "2021-04-25T09:16:08.554489Z",
     "iopub.status.idle": "2021-04-25T09:16:13.831022Z",
     "shell.execute_reply": "2021-04-25T09:16:13.830052Z",
     "shell.execute_reply.started": "2021-04-25T09:16:08.554658Z"
    }
   },
   "outputs": [
    {
     "data": {
      "text/plain": [
       "2051"
      ]
     },
     "execution_count": 185,
     "metadata": {},
     "output_type": "execute_result"
    }
   ],
   "source": [
    "(\n",
    "    df_validated_fare\n",
    "    .withColumn('pickup_year', F.year('pickup_datetime'))\n",
    "    .filter(~F.col('pickup_year').isin([2019, 2020]))\n",
    "    .count()\n",
    ")"
   ]
  },
  {
   "cell_type": "markdown",
   "metadata": {},
   "source": [
    "There are 1430 rows that are not in 2019 or 2020."
   ]
  },
  {
   "cell_type": "code",
   "execution_count": 186,
   "metadata": {
    "execution": {
     "iopub.execute_input": "2021-04-25T09:16:13.832316Z",
     "iopub.status.busy": "2021-04-25T09:16:13.832124Z",
     "iopub.status.idle": "2021-04-25T09:16:13.895235Z",
     "shell.execute_reply": "2021-04-25T09:16:13.894372Z",
     "shell.execute_reply.started": "2021-04-25T09:16:13.832293Z"
    },
    "tags": []
   },
   "outputs": [],
   "source": [
    "df_validated_pickup_year = (\n",
    "    df_validated_fare\n",
    "    .withColumn('pickup_year', F.year('pickup_datetime'))\n",
    "    .filter(F.col('pickup_year').isin([2019, 2020]))\n",
    ")"
   ]
  },
  {
   "cell_type": "markdown",
   "metadata": {},
   "source": [
    "## Validate: `dropoff_datetime`\n",
    "\n",
    "The data should only contain pickups that occur in years 2019 and 2020. Any rows where the year is not 2019 or 2020 will be dropped."
   ]
  },
  {
   "cell_type": "markdown",
   "metadata": {},
   "source": [
    "There are 197 rows that are not in 2019 or 2020."
   ]
  },
  {
   "cell_type": "code",
   "execution_count": 187,
   "metadata": {
    "execution": {
     "iopub.execute_input": "2021-04-25T09:16:13.896457Z",
     "iopub.status.busy": "2021-04-25T09:16:13.896269Z",
     "iopub.status.idle": "2021-04-25T09:16:13.932148Z",
     "shell.execute_reply": "2021-04-25T09:16:13.931275Z",
     "shell.execute_reply.started": "2021-04-25T09:16:13.896435Z"
    },
    "tags": []
   },
   "outputs": [],
   "source": [
    "df_validated_dropoff_year = (\n",
    "    df_validated_pickup_year\n",
    "    .withColumn('dropoff_year', F.year('pickup_datetime'))\n",
    "    .filter(F.col('dropoff_year').isin([2019, 2020]))\n",
    ")"
   ]
  },
  {
   "cell_type": "markdown",
   "metadata": {},
   "source": [
    "## Validate: trip duration\n",
    "\n",
    "The the trip duration is the difference between the `dropoff_datetime` and `pickup_datetime`. The `trip_duration` is in seconds and should be positive."
   ]
  },
  {
   "cell_type": "code",
   "execution_count": 188,
   "metadata": {
    "execution": {
     "iopub.execute_input": "2021-04-25T09:16:13.933387Z",
     "iopub.status.busy": "2021-04-25T09:16:13.933179Z",
     "iopub.status.idle": "2021-04-25T09:16:13.962235Z",
     "shell.execute_reply": "2021-04-25T09:16:13.961248Z",
     "shell.execute_reply.started": "2021-04-25T09:16:13.933364Z"
    }
   },
   "outputs": [],
   "source": [
    "df_add_trip_duration = (\n",
    "    df_validated_dropoff_year\n",
    "    .withColumn('trip_duration', \n",
    "                F.col('dropoff_datetime').cast('long') - \n",
    "                F.col('pickup_datetime').cast('long'))\n",
    ")"
   ]
  },
  {
   "cell_type": "markdown",
   "metadata": {},
   "source": [
    "Assume that trips last at least for one minute, hence drop rows with `trip_duration` < 60."
   ]
  },
  {
   "cell_type": "code",
   "execution_count": 189,
   "metadata": {
    "execution": {
     "iopub.execute_input": "2021-04-25T09:16:13.963526Z",
     "iopub.status.busy": "2021-04-25T09:16:13.963328Z",
     "iopub.status.idle": "2021-04-25T09:16:13.989637Z",
     "shell.execute_reply": "2021-04-25T09:16:13.988700Z",
     "shell.execute_reply.started": "2021-04-25T09:16:13.963502Z"
    }
   },
   "outputs": [],
   "source": [
    "df_validated_trip_duration = df_add_trip_duration.filter(F.col('trip_duration') > 60)"
   ]
  },
  {
   "cell_type": "code",
   "execution_count": 190,
   "metadata": {
    "execution": {
     "iopub.execute_input": "2021-04-25T09:16:13.991372Z",
     "iopub.status.busy": "2021-04-25T09:16:13.991070Z",
     "iopub.status.idle": "2021-04-25T09:16:22.209110Z",
     "shell.execute_reply": "2021-04-25T09:16:22.207749Z",
     "shell.execute_reply.started": "2021-04-25T09:16:13.991340Z"
    }
   },
   "outputs": [
    {
     "data": {
      "text/plain": [
       "115511074"
      ]
     },
     "execution_count": 190,
     "metadata": {},
     "output_type": "execute_result"
    }
   ],
   "source": [
    "df_validated_trip_duration.count()"
   ]
  },
  {
   "cell_type": "markdown",
   "metadata": {},
   "source": [
    "## Validate `trip_distance`"
   ]
  },
  {
   "cell_type": "markdown",
   "metadata": {},
   "source": [
    "### Negative `trip_distance`\n",
    "\n",
    "The `trip_distance` should be > 0. However, there are trips with distance < 0.\n",
    "\n",
    "These values will be replaced by it's positive distances."
   ]
  },
  {
   "cell_type": "code",
   "execution_count": 191,
   "metadata": {
    "execution": {
     "iopub.execute_input": "2021-04-25T09:16:22.210545Z",
     "iopub.status.busy": "2021-04-25T09:16:22.210353Z",
     "iopub.status.idle": "2021-04-25T09:16:31.238539Z",
     "shell.execute_reply": "2021-04-25T09:16:31.237574Z",
     "shell.execute_reply.started": "2021-04-25T09:16:22.210523Z"
    }
   },
   "outputs": [
    {
     "data": {
      "text/plain": [
       "528237"
      ]
     },
     "execution_count": 191,
     "metadata": {},
     "output_type": "execute_result"
    }
   ],
   "source": [
    "df_validated_trip_duration.filter(F.col('trip_distance') <= 0).count()"
   ]
  },
  {
   "cell_type": "code",
   "execution_count": 192,
   "metadata": {
    "execution": {
     "iopub.execute_input": "2021-04-25T09:16:31.239671Z",
     "iopub.status.busy": "2021-04-25T09:16:31.239488Z",
     "iopub.status.idle": "2021-04-25T09:16:40.161613Z",
     "shell.execute_reply": "2021-04-25T09:16:40.160682Z",
     "shell.execute_reply.started": "2021-04-25T09:16:31.239650Z"
    }
   },
   "outputs": [
    {
     "data": {
      "text/plain": [
       "497347"
      ]
     },
     "execution_count": 192,
     "metadata": {},
     "output_type": "execute_result"
    }
   ],
   "source": [
    "df_validated_trip_duration.filter(F.col('trip_distance') == 0).count()"
   ]
  },
  {
   "cell_type": "code",
   "execution_count": 193,
   "metadata": {
    "execution": {
     "iopub.execute_input": "2021-04-25T09:16:40.162924Z",
     "iopub.status.busy": "2021-04-25T09:16:40.162697Z",
     "iopub.status.idle": "2021-04-25T09:16:40.190235Z",
     "shell.execute_reply": "2021-04-25T09:16:40.189316Z",
     "shell.execute_reply.started": "2021-04-25T09:16:40.162901Z"
    }
   },
   "outputs": [],
   "source": [
    "col = 'trip_distance'\n",
    "df_validated_trip_distance = (\n",
    "    df_validated_trip_duration\n",
    "    .withColumn(col, F.abs(F.col(col)))\n",
    " )"
   ]
  },
  {
   "cell_type": "markdown",
   "metadata": {},
   "source": [
    "### Large `trip_distance`s\n",
    "\n",
    "There are extremely large distances. Only distances up to three standard deviations larger than the mean will be included, any values higher will be regarded as outliers and will be dropped.\n",
    "\n",
    "There are only 202 trips that are greater than three standard deviations larger than the mean."
   ]
  },
  {
   "cell_type": "code",
   "execution_count": 194,
   "metadata": {
    "execution": {
     "iopub.execute_input": "2021-04-25T09:16:40.191448Z",
     "iopub.status.busy": "2021-04-25T09:16:40.191264Z",
     "iopub.status.idle": "2021-04-25T09:16:58.092994Z",
     "shell.execute_reply": "2021-04-25T09:16:58.091977Z",
     "shell.execute_reply.started": "2021-04-25T09:16:40.191425Z"
    }
   },
   "outputs": [
    {
     "name": "stdout",
     "output_type": "stream",
     "text": [
      "+-------+------------------+\n",
      "|summary|     trip_distance|\n",
      "+-------+------------------+\n",
      "|  count|         115511074|\n",
      "|   mean|3.3766191870930244|\n",
      "| stddev|   209.15294383269|\n",
      "|    min|               0.0|\n",
      "|    25%|               1.0|\n",
      "|    50%|              1.69|\n",
      "|    75%|              3.13|\n",
      "|    max|         350914.88|\n",
      "+-------+------------------+\n",
      "\n"
     ]
    }
   ],
   "source": [
    "df_validated_trip_distance.select('trip_distance').summary().show()"
   ]
  },
  {
   "cell_type": "code",
   "execution_count": 195,
   "metadata": {
    "execution": {
     "iopub.execute_input": "2021-04-25T09:16:58.094287Z",
     "iopub.status.busy": "2021-04-25T09:16:58.094097Z",
     "iopub.status.idle": "2021-04-25T09:17:07.196927Z",
     "shell.execute_reply": "2021-04-25T09:17:07.196038Z",
     "shell.execute_reply.started": "2021-04-25T09:16:58.094264Z"
    }
   },
   "outputs": [
    {
     "data": {
      "text/plain": [
       "3.3766191870930244"
      ]
     },
     "execution_count": 195,
     "metadata": {},
     "output_type": "execute_result"
    }
   ],
   "source": [
    "mean = df_validated_trip_distance.select(F.mean(F.col('trip_distance'))).collect()[0][0]\n",
    "mean"
   ]
  },
  {
   "cell_type": "code",
   "execution_count": 196,
   "metadata": {
    "execution": {
     "iopub.execute_input": "2021-04-25T09:17:07.198271Z",
     "iopub.status.busy": "2021-04-25T09:17:07.198080Z",
     "iopub.status.idle": "2021-04-25T09:17:16.199608Z",
     "shell.execute_reply": "2021-04-25T09:17:16.198700Z",
     "shell.execute_reply.started": "2021-04-25T09:17:07.198248Z"
    }
   },
   "outputs": [
    {
     "data": {
      "text/plain": [
       "209.15294383269"
      ]
     },
     "execution_count": 196,
     "metadata": {},
     "output_type": "execute_result"
    }
   ],
   "source": [
    "stddev = df_validated_trip_distance.select(F.stddev(F.col('trip_distance'))).collect()[0][0]\n",
    "stddev"
   ]
  },
  {
   "cell_type": "code",
   "execution_count": 197,
   "metadata": {
    "execution": {
     "iopub.execute_input": "2021-04-25T09:17:16.200919Z",
     "iopub.status.busy": "2021-04-25T09:17:16.200728Z",
     "iopub.status.idle": "2021-04-25T09:17:16.220863Z",
     "shell.execute_reply": "2021-04-25T09:17:16.219994Z",
     "shell.execute_reply.started": "2021-04-25T09:17:16.200896Z"
    }
   },
   "outputs": [
    {
     "data": {
      "text/plain": [
       "630.8354506851631"
      ]
     },
     "execution_count": 197,
     "metadata": {},
     "output_type": "execute_result"
    }
   ],
   "source": [
    "threshold = mean + 3 * stddev\n",
    "threshold"
   ]
  },
  {
   "cell_type": "code",
   "execution_count": 198,
   "metadata": {
    "execution": {
     "iopub.execute_input": "2021-04-25T09:17:16.222290Z",
     "iopub.status.busy": "2021-04-25T09:17:16.222094Z",
     "iopub.status.idle": "2021-04-25T09:17:25.159621Z",
     "shell.execute_reply": "2021-04-25T09:17:25.158294Z",
     "shell.execute_reply.started": "2021-04-25T09:17:16.222267Z"
    }
   },
   "outputs": [
    {
     "data": {
      "text/plain": [
       "543"
      ]
     },
     "execution_count": 198,
     "metadata": {},
     "output_type": "execute_result"
    }
   ],
   "source": [
    "(\n",
    "    df_validated_trip_distance\n",
    "    .filter(F.col('trip_distance') > threshold)\n",
    "    .count() \n",
    ")"
   ]
  },
  {
   "cell_type": "code",
   "execution_count": 199,
   "metadata": {
    "execution": {
     "iopub.execute_input": "2021-04-25T09:17:25.160882Z",
     "iopub.status.busy": "2021-04-25T09:17:25.160690Z",
     "iopub.status.idle": "2021-04-25T09:17:25.214941Z",
     "shell.execute_reply": "2021-04-25T09:17:25.214040Z",
     "shell.execute_reply.started": "2021-04-25T09:17:25.160859Z"
    }
   },
   "outputs": [],
   "source": [
    "df_validated_exclude_large_trip = (\n",
    "    df_validated_trip_distance\n",
    "    .filter(F.col('trip_distance') <= threshold)\n",
    ")"
   ]
  },
  {
   "cell_type": "markdown",
   "metadata": {},
   "source": [
    "## Validate: `Passenger_count`\n",
    "\n",
    "The domain for this column is [1, 4]. However, there may have been larger taxis that can take up to 9 passengers. Having 0 passengers is beyong my understanding at the moment.  This, along with the nulls could be subject to an imputation strategy in the modelling stage."
   ]
  },
  {
   "cell_type": "code",
   "execution_count": 200,
   "metadata": {
    "execution": {
     "iopub.execute_input": "2021-04-25T09:17:25.216184Z",
     "iopub.status.busy": "2021-04-25T09:17:25.215992Z",
     "iopub.status.idle": "2021-04-25T09:17:25.239734Z",
     "shell.execute_reply": "2021-04-25T09:17:25.238552Z",
     "shell.execute_reply.started": "2021-04-25T09:17:25.216161Z"
    }
   },
   "outputs": [],
   "source": [
    "col = 'Passenger_count'\n",
    "valid_values = [1, 2, 3, 4, 5]"
   ]
  },
  {
   "cell_type": "code",
   "execution_count": 201,
   "metadata": {
    "execution": {
     "iopub.execute_input": "2021-04-25T09:17:25.241624Z",
     "iopub.status.busy": "2021-04-25T09:17:25.241374Z",
     "iopub.status.idle": "2021-04-25T09:17:34.587607Z",
     "shell.execute_reply": "2021-04-25T09:17:34.586610Z",
     "shell.execute_reply.started": "2021-04-25T09:17:25.241598Z"
    }
   },
   "outputs": [
    {
     "name": "stdout",
     "output_type": "stream",
     "text": [
      "+---------------+--------+\n",
      "|Passenger_count|   count|\n",
      "+---------------+--------+\n",
      "|           null| 1960830|\n",
      "|              0| 1986853|\n",
      "|              1|81547115|\n",
      "|              2|16470581|\n",
      "|              3| 4512252|\n",
      "|              4| 2111831|\n",
      "|              5| 4314750|\n",
      "|              6| 2605679|\n",
      "|              7|     258|\n",
      "|              8|     226|\n",
      "|              9|     156|\n",
      "+---------------+--------+\n",
      "\n"
     ]
    }
   ],
   "source": [
    "(\n",
    "    df_validated_exclude_large_trip\n",
    "    .groupBy(col)\n",
    "    .count()\n",
    "    .sort(F.col(col))\n",
    "    .show()\n",
    ")"
   ]
  },
  {
   "cell_type": "code",
   "execution_count": 202,
   "metadata": {
    "execution": {
     "iopub.execute_input": "2021-04-25T09:17:34.589000Z",
     "iopub.status.busy": "2021-04-25T09:17:34.588775Z",
     "iopub.status.idle": "2021-04-25T09:17:34.665181Z",
     "shell.execute_reply": "2021-04-25T09:17:34.663998Z",
     "shell.execute_reply.started": "2021-04-25T09:17:34.588965Z"
    }
   },
   "outputs": [],
   "source": [
    "df_passenger = (\n",
    "    df_validated_exclude_large_trip\n",
    "    .withColumn(col, when(~F.col(col).isin(valid_values), None)\n",
    "                     .otherwise(F.col(col)))\n",
    ")"
   ]
  },
  {
   "cell_type": "code",
   "execution_count": 203,
   "metadata": {
    "execution": {
     "iopub.execute_input": "2021-04-25T09:17:34.666931Z",
     "iopub.status.busy": "2021-04-25T09:17:34.666601Z",
     "iopub.status.idle": "2021-04-25T09:17:44.010350Z",
     "shell.execute_reply": "2021-04-25T09:17:44.009484Z",
     "shell.execute_reply.started": "2021-04-25T09:17:34.666894Z"
    }
   },
   "outputs": [
    {
     "name": "stdout",
     "output_type": "stream",
     "text": [
      "+---------------+--------+\n",
      "|Passenger_count|   count|\n",
      "+---------------+--------+\n",
      "|           null| 6554002|\n",
      "|              1|81547115|\n",
      "|              2|16470581|\n",
      "|              3| 4512252|\n",
      "|              4| 2111831|\n",
      "|              5| 4314750|\n",
      "+---------------+--------+\n",
      "\n"
     ]
    }
   ],
   "source": [
    "(\n",
    "    df_passenger\n",
    "    .groupBy(col)\n",
    "    .count()\n",
    "    .sort(F.col(col))\n",
    "    .show()\n",
    ")"
   ]
  },
  {
   "cell_type": "markdown",
   "metadata": {},
   "source": [
    "# Feature engineering"
   ]
  },
  {
   "cell_type": "markdown",
   "metadata": {},
   "source": [
    "## Convert `trip_distance` to km"
   ]
  },
  {
   "cell_type": "code",
   "execution_count": 204,
   "metadata": {
    "execution": {
     "iopub.execute_input": "2021-04-25T09:17:44.011752Z",
     "iopub.status.busy": "2021-04-25T09:17:44.011560Z",
     "iopub.status.idle": "2021-04-25T09:17:44.034853Z",
     "shell.execute_reply": "2021-04-25T09:17:44.033949Z",
     "shell.execute_reply.started": "2021-04-25T09:17:44.011730Z"
    }
   },
   "outputs": [],
   "source": [
    "conversion_factor = 1.60934"
   ]
  },
  {
   "cell_type": "code",
   "execution_count": 205,
   "metadata": {
    "execution": {
     "iopub.execute_input": "2021-04-25T09:17:44.036344Z",
     "iopub.status.busy": "2021-04-25T09:17:44.036073Z",
     "iopub.status.idle": "2021-04-25T09:17:44.091468Z",
     "shell.execute_reply": "2021-04-25T09:17:44.090491Z",
     "shell.execute_reply.started": "2021-04-25T09:17:44.036309Z"
    }
   },
   "outputs": [],
   "source": [
    "df_fe_km = df_passenger.withColumn('trip_distance_km', F.col('trip_distance') * conversion_factor)"
   ]
  },
  {
   "cell_type": "markdown",
   "metadata": {},
   "source": [
    "## Calculate speed\n",
    "\n",
    "The average speed (km/h) is calculated by dividing the `trip_distance_km` by the `trip_duration` (seconds) multiplied by 3,600.\n",
    "\n",
    "There is an inconsistency:\n",
    "1. either the given unit for `trip_distance` in the data dictionary is incorrect, or\n",
    "1. the `trip_distance` values are all incorrect, or\n",
    "1. the `pickup_datetime` and `dropoff_datetime` are incorrect\n",
    "\n",
    "The `trip_distance`s are reported to be in the unit of miles, however, even with very short `trip_duration`s (less than one hour) the `trip_distance` is often in the hundreds; it's unlikely that a NYC taxi would be able to travel 170 miles in 30 minutes.There is an inconsistency:\n",
    "1. either the given unit for `trip_distance` in the data dictionary is incorrect, or\n",
    "1. the `trip_distance` values are all incorrect, or\n",
    "1. the `pickup_datetime` and `dropoff_datetime` are incorrect\n",
    "\n",
    "The `trip_distance`s are reported to be in the unit of miles, however, even with very short `trip_duration`s (less than one hour) the `trip_distance` is often in the hundreds; it's unlikely that a NYC taxi would be able to travel 170 miles in 30 minutes."
   ]
  },
  {
   "cell_type": "code",
   "execution_count": 206,
   "metadata": {
    "execution": {
     "iopub.execute_input": "2021-04-25T09:17:44.092721Z",
     "iopub.status.busy": "2021-04-25T09:17:44.092526Z",
     "iopub.status.idle": "2021-04-25T09:17:53.161549Z",
     "shell.execute_reply": "2021-04-25T09:17:53.160613Z",
     "shell.execute_reply.started": "2021-04-25T09:17:44.092698Z"
    }
   },
   "outputs": [
    {
     "name": "stdout",
     "output_type": "stream",
     "text": [
      "+-------------------+-------------------+-------------------+-------------+------------------+\n",
      "|   dropoff_datetime|    pickup_datetime|trip_duration_hours|trip_distance|  trip_distance_km|\n",
      "+-------------------+-------------------+-------------------+-------------+------------------+\n",
      "|2019-01-11 18:41:36|2019-01-11 18:24:37|0.28305555555555556|         2.09|3.3635204618692396|\n",
      "|2019-01-19 00:55:19|2019-01-19 00:32:17| 0.3838888888888889|          4.4| 7.081096153478622|\n",
      "|2019-01-17 19:15:09|2019-01-17 19:06:29|0.14444444444444443|         1.45| 2.333543076739311|\n",
      "|2019-01-12 14:19:52|2019-01-12 14:14:59|0.08138888888888889|          0.8| 1.287472019184828|\n",
      "|2019-01-10 08:30:56|2019-01-10 08:01:04|0.49777777777777776|          4.6| 7.402963846521377|\n",
      "|2019-01-14 15:51:29|2019-01-14 15:38:49| 0.2111111111111111|         0.98|1.5771532306957246|\n",
      "|2019-01-17 13:54:15|2019-01-17 13:45:56| 0.1386111111111111|         0.85|1.3679390383696557|\n",
      "|2019-01-06 20:30:20|2019-01-06 20:23:44|               0.11|          0.7| 1.126537980815172|\n",
      "|2019-01-08 21:01:35|2019-01-08 20:56:50|0.07916666666666666|         1.15|1.8507409616303443|\n",
      "|2020-11-13 07:28:36|2020-11-13 07:20:15|0.13916666666666666|         1.97| 3.170399846043587|\n",
      "+-------------------+-------------------+-------------------+-------------+------------------+\n",
      "\n"
     ]
    }
   ],
   "source": [
    "(\n",
    "    df_fe_km\n",
    "    .withColumn('trip_duration_hours', F.col('trip_duration') / 3600)\n",
    "    .select('dropoff_datetime', 'pickup_datetime', 'trip_duration_hours', 'trip_distance', 'trip_distance_km')\n",
    "    .sample(fraction=0.0001)\n",
    "    .limit(10)\n",
    "    .show()\n",
    ")"
   ]
  },
  {
   "cell_type": "code",
   "execution_count": 207,
   "metadata": {
    "execution": {
     "iopub.execute_input": "2021-04-25T09:17:53.162776Z",
     "iopub.status.busy": "2021-04-25T09:17:53.162559Z",
     "iopub.status.idle": "2021-04-25T09:17:53.220701Z",
     "shell.execute_reply": "2021-04-25T09:17:53.219679Z",
     "shell.execute_reply.started": "2021-04-25T09:17:53.162753Z"
    }
   },
   "outputs": [],
   "source": [
    "df_speed = (\n",
    "    df_fe_km\n",
    "    .withColumn('speed', F.col('trip_distance_km') / F.col('trip_duration') * 3600)\n",
    ")"
   ]
  },
  {
   "cell_type": "code",
   "execution_count": 208,
   "metadata": {
    "execution": {
     "iopub.execute_input": "2021-04-25T09:17:53.222023Z",
     "iopub.status.busy": "2021-04-25T09:17:53.221830Z",
     "iopub.status.idle": "2021-04-25T09:18:02.332326Z",
     "shell.execute_reply": "2021-04-25T09:18:02.330816Z",
     "shell.execute_reply.started": "2021-04-25T09:17:53.222000Z"
    }
   },
   "outputs": [
    {
     "name": "stdout",
     "output_type": "stream",
     "text": [
      "+-------+------------------+------------------+------------------+\n",
      "|summary|             speed|     trip_duration|     trip_distance|\n",
      "+-------+------------------+------------------+------------------+\n",
      "|  count|         115510531|         115510531|         115510531|\n",
      "|   mean|18.542874873125108|1076.5524563989754|3.0380081948062947|\n",
      "| stddev| 11.89465595912246| 4252.470344964123| 3.907980342419404|\n",
      "|    min|               0.0|                61|               0.0|\n",
      "|    max|  14324.1110830779|           2618881|             603.8|\n",
      "+-------+------------------+------------------+------------------+\n",
      "\n"
     ]
    }
   ],
   "source": [
    "df_speed.select('speed', 'trip_duration', 'trip_distance').describe().show()"
   ]
  },
  {
   "cell_type": "code",
   "execution_count": 209,
   "metadata": {
    "execution": {
     "iopub.execute_input": "2021-04-25T09:18:02.333703Z",
     "iopub.status.busy": "2021-04-25T09:18:02.333387Z",
     "iopub.status.idle": "2021-04-25T09:18:11.243735Z",
     "shell.execute_reply": "2021-04-25T09:18:11.242754Z",
     "shell.execute_reply.started": "2021-04-25T09:18:02.333679Z"
    }
   },
   "outputs": [
    {
     "data": {
      "text/plain": [
       "115467997"
      ]
     },
     "execution_count": 209,
     "metadata": {},
     "output_type": "execute_result"
    }
   ],
   "source": [
    "speed_limit = 80\n",
    "\n",
    "df_speed.filter(F.col('speed') <= speed_limit).count()"
   ]
  },
  {
   "cell_type": "code",
   "execution_count": 210,
   "metadata": {
    "execution": {
     "iopub.execute_input": "2021-04-25T09:18:11.244931Z",
     "iopub.status.busy": "2021-04-25T09:18:11.244747Z",
     "iopub.status.idle": "2021-04-25T09:18:29.054752Z",
     "shell.execute_reply": "2021-04-25T09:18:29.053850Z",
     "shell.execute_reply.started": "2021-04-25T09:18:11.244909Z"
    }
   },
   "outputs": [
    {
     "data": {
      "text/plain": [
       "0.9996317738336775"
      ]
     },
     "execution_count": 210,
     "metadata": {},
     "output_type": "execute_result"
    }
   ],
   "source": [
    "df_speed.filter(F.col('speed') <= speed_limit).count() / df_speed.count()"
   ]
  },
  {
   "cell_type": "markdown",
   "metadata": {},
   "source": [
    "Only about 10 million rows (~9%) of the data have speeds under 80kph."
   ]
  },
  {
   "cell_type": "markdown",
   "metadata": {},
   "source": [
    "### Fixing `trip_distance_km`\n",
    "\n",
    "According to [careertrend.com](https://careertrend.com/how-many-miles-does-an-average-taxi-cab-driver-drive-yearly-13658842.html), the average taxi trip in the US is 5 miles, which is consistent with the average `trip_duration` of 15 minutes and the speed limit of 25mph in NYC. The `trip_distance` in the data is likely to be incorrect.\n",
    "\n",
    "1. The average speed for those in with `speed` <= 80kph (50mph) will be calculated\n",
    "2. This average speed will be used to recalculate the distances based on the `trip_duration`"
   ]
  },
  {
   "cell_type": "code",
   "execution_count": 211,
   "metadata": {
    "execution": {
     "iopub.execute_input": "2021-04-25T09:18:29.056623Z",
     "iopub.status.busy": "2021-04-25T09:18:29.056208Z",
     "iopub.status.idle": "2021-04-25T09:18:38.157529Z",
     "shell.execute_reply": "2021-04-25T09:18:38.156636Z",
     "shell.execute_reply.started": "2021-04-25T09:18:29.056599Z"
    }
   },
   "outputs": [
    {
     "data": {
      "text/plain": [
       "18.486844981069407"
      ]
     },
     "execution_count": 211,
     "metadata": {},
     "output_type": "execute_result"
    }
   ],
   "source": [
    "average_speed = (\n",
    "    df_speed\n",
    "    .filter(F.col('speed') <= speed_limit)\n",
    "    .select(F.mean(F.col('speed')))\n",
    "    .collect()[0][0]\n",
    ")\n",
    "\n",
    "average_speed"
   ]
  },
  {
   "cell_type": "markdown",
   "metadata": {},
   "source": [
    "For rows with speeds less than 80kph, the average speed is 25kph. This is a more reasonable value considering the dense traffic in NYC."
   ]
  },
  {
   "cell_type": "code",
   "execution_count": 212,
   "metadata": {
    "execution": {
     "iopub.execute_input": "2021-04-25T09:18:38.158753Z",
     "iopub.status.busy": "2021-04-25T09:18:38.158561Z",
     "iopub.status.idle": "2021-04-25T09:18:38.229771Z",
     "shell.execute_reply": "2021-04-25T09:18:38.228519Z",
     "shell.execute_reply.started": "2021-04-25T09:18:38.158730Z"
    }
   },
   "outputs": [],
   "source": [
    "df_fixed_distance = (\n",
    "    df_speed\n",
    "    .withColumn('speed', when(F.col('speed') > speed_limit, average_speed)\n",
    "                                    .otherwise(F.col('speed')))\n",
    "    .withColumn('trip_distance_km', F.col('speed') * F.col('trip_duration') / 3600)\n",
    ")"
   ]
  },
  {
   "cell_type": "code",
   "execution_count": 213,
   "metadata": {
    "execution": {
     "iopub.execute_input": "2021-04-25T09:18:38.231260Z",
     "iopub.status.busy": "2021-04-25T09:18:38.231019Z",
     "iopub.status.idle": "2021-04-25T09:18:47.825865Z",
     "shell.execute_reply": "2021-04-25T09:18:47.824852Z",
     "shell.execute_reply.started": "2021-04-25T09:18:38.231236Z"
    }
   },
   "outputs": [
    {
     "name": "stdout",
     "output_type": "stream",
     "text": [
      "+-------+------------------+------------------+-----------------+\n",
      "|summary|             speed|     trip_duration| trip_distance_km|\n",
      "+-------+------------------+------------------+-----------------+\n",
      "|  count|         115510531|         115510531|        115510531|\n",
      "|   mean| 18.48684498106905|1076.5524563989754|4.880649935068947|\n",
      "| stddev|10.057022293415493| 4252.470344964123| 6.24444690772454|\n",
      "|    min|               0.0|                61|              0.0|\n",
      "|    max| 79.99963244941605|           2618881|830.2424361743164|\n",
      "+-------+------------------+------------------+-----------------+\n",
      "\n"
     ]
    }
   ],
   "source": [
    "df_fixed_distance.select('speed', 'trip_duration', 'trip_distance_km').describe().show()"
   ]
  },
  {
   "cell_type": "markdown",
   "metadata": {},
   "source": [
    "# Cleanup\n",
    "\n",
    "Drop unused columns."
   ]
  },
  {
   "cell_type": "code",
   "execution_count": 214,
   "metadata": {
    "execution": {
     "iopub.execute_input": "2021-04-25T09:18:47.827088Z",
     "iopub.status.busy": "2021-04-25T09:18:47.826897Z",
     "iopub.status.idle": "2021-04-25T09:18:47.849949Z",
     "shell.execute_reply": "2021-04-25T09:18:47.848710Z",
     "shell.execute_reply.started": "2021-04-25T09:18:47.827065Z"
    }
   },
   "outputs": [],
   "source": [
    "df_cleaned = df_fixed_distance.drop('trip_distance')"
   ]
  },
  {
   "cell_type": "code",
   "execution_count": 215,
   "metadata": {
    "execution": {
     "iopub.execute_input": "2021-04-25T09:18:47.851896Z",
     "iopub.status.busy": "2021-04-25T09:18:47.851582Z",
     "iopub.status.idle": "2021-04-25T09:18:47.883557Z",
     "shell.execute_reply": "2021-04-25T09:18:47.882580Z",
     "shell.execute_reply.started": "2021-04-25T09:18:47.851858Z"
    }
   },
   "outputs": [
    {
     "name": "stdout",
     "output_type": "stream",
     "text": [
      "root\n",
      " |-- VendorID: string (nullable = true)\n",
      " |-- pickup_datetime: timestamp (nullable = true)\n",
      " |-- dropoff_datetime: timestamp (nullable = true)\n",
      " |-- Store_and_fwd_flag: string (nullable = true)\n",
      " |-- RatecodeID: string (nullable = true)\n",
      " |-- PULocationID: string (nullable = true)\n",
      " |-- DOLocationID: string (nullable = true)\n",
      " |-- Passenger_count: integer (nullable = true)\n",
      " |-- Fare_amount: float (nullable = true)\n",
      " |-- extra: float (nullable = true)\n",
      " |-- mta_tax: float (nullable = true)\n",
      " |-- tip_amount: float (nullable = true)\n",
      " |-- tolls_amount: float (nullable = true)\n",
      " |-- improvement_surcharge: float (nullable = true)\n",
      " |-- Total_amount: float (nullable = true)\n",
      " |-- Payment_type: string (nullable = true)\n",
      " |-- congestion_surcharge: float (nullable = true)\n",
      " |-- colour: string (nullable = true)\n",
      " |-- pickup_year: integer (nullable = true)\n",
      " |-- pickup_month: integer (nullable = true)\n",
      " |-- pickup_dayofyear: integer (nullable = true)\n",
      " |-- pickup_dayofmonth: integer (nullable = true)\n",
      " |-- pickup_dayofweek: integer (nullable = true)\n",
      " |-- pickup_weekofyear: integer (nullable = true)\n",
      " |-- pickup_hourofday: integer (nullable = true)\n",
      " |-- dropoff_year: integer (nullable = true)\n",
      " |-- trip_duration: long (nullable = true)\n",
      " |-- trip_distance_km: double (nullable = true)\n",
      " |-- speed: double (nullable = true)\n",
      "\n"
     ]
    }
   ],
   "source": [
    "df_cleaned.printSchema()"
   ]
  },
  {
   "cell_type": "code",
   "execution_count": 216,
   "metadata": {
    "execution": {
     "iopub.execute_input": "2021-04-25T09:18:47.885084Z",
     "iopub.status.busy": "2021-04-25T09:18:47.884825Z",
     "iopub.status.idle": "2021-04-25T09:19:30.613371Z",
     "shell.execute_reply": "2021-04-25T09:19:30.612461Z",
     "shell.execute_reply.started": "2021-04-25T09:18:47.885061Z"
    }
   },
   "outputs": [
    {
     "name": "stdout",
     "output_type": "stream",
     "text": [
      "+--------+------------------+----------+------------+------------+------------+------+-----+-------+---------------------+\n",
      "|VendorID|Store_and_fwd_flag|RatecodeID|PULocationID|DOLocationID|Payment_type|colour|Extra|MTA_tax|Improvement_surcharge|\n",
      "+--------+------------------+----------+------------+------------+------------+------+-----+-------+---------------------+\n",
      "|       3|                 2|         7|          20|          20|           5|     2|  376|     60|                   12|\n",
      "+--------+------------------+----------+------------+------------+------------+------+-----+-------+---------------------+\n",
      "\n"
     ]
    }
   ],
   "source": [
    "string_cols = [col for (col, col_type) in df_cleaned.dtypes if col_type == 'string']\n",
    "expression = [F.countDistinct(F.col(col)).alias(col) for col in string_cols + lim_num_cols]\n",
    "df_cleaned.select(*expression).show()"
   ]
  },
  {
   "cell_type": "code",
   "execution_count": 218,
   "metadata": {
    "execution": {
     "iopub.execute_input": "2021-04-25T09:24:53.623177Z",
     "iopub.status.busy": "2021-04-25T09:24:53.622548Z",
     "iopub.status.idle": "2021-04-25T09:33:39.505899Z",
     "shell.execute_reply": "2021-04-25T09:33:39.504831Z",
     "shell.execute_reply.started": "2021-04-25T09:24:53.623113Z"
    }
   },
   "outputs": [
    {
     "name": "stdout",
     "output_type": "stream",
     "text": [
      "+-------+-----------------+------------------+------------------+------------------+------------------+------------------+------------------+------------------+-------------------+------------------+-------------------+---------------------+------------------+------------------+--------------------+---------+------------------+-----------------+------------------+------------------+-----------------+------------------+------------------+------------------+------------------+-----------------+------------------+\n",
      "|summary|         VendorID|Store_and_fwd_flag|        RatecodeID|      PULocationID|      DOLocationID|   Passenger_count|       Fare_amount|             extra|            mta_tax|        tip_amount|       tolls_amount|improvement_surcharge|      Total_amount|      Payment_type|congestion_surcharge|   colour|       pickup_year|     pickup_month|  pickup_dayofyear| pickup_dayofmonth| pickup_dayofweek| pickup_weekofyear|  pickup_hourofday|      dropoff_year|     trip_duration| trip_distance_km|             speed|\n",
      "+-------+-----------------+------------------+------------------+------------------+------------------+------------------+------------------+------------------+-------------------+------------------+-------------------+---------------------+------------------+------------------+--------------------+---------+------------------+-----------------+------------------+------------------+-----------------+------------------+------------------+------------------+------------------+-----------------+------------------+\n",
      "|  count|        113549701|         113549701|         115510531|         115510531|         115510531|         108956529|         115510531|         115510531|          115510531|         115510531|          115510531|            115510530|         115510531|         113549701|           109232050|115510531|         115510531|        115510531|         115510531|         115510531|        115510531|         115510531|         115510531|         115510531|         115510531|        115510531|         115510531|\n",
      "|   mean|1.661637145129955|              null|1.0477031545535598|165.73416003023024| 176.1731112041983|1.4505427848201735|13.243935801522328|1.0524402026368043|0.49748589078862965|2.0875965599849287|0.35851975711574424|  0.29734400054091364|18.848720856727397|1.2914093362517969|    2.10780540280989|     null|2019.2255635289218|5.922927070606229|164.56971804588102|15.416117513995326|4.124401133607463| 23.95365278859293|13.878194283428583|2019.2255635289218|1076.5524563989754|4.880649935068947| 18.48684498106905|\n",
      "| stddev|0.487726912295182|              null|0.3347008414895583| 56.94174430170737|60.801180196393986|0.9601471069286445| 183.4202658655809| 46.53836105908208| 46.522138356219806|13.432018433885752| 1.7286617129617443|  0.03338877996524422|211.78089845323737|0.4771333623728579|   0.922455002656075|     null|0.4179528978899031|3.656530445442871|111.56711275988543| 8.710240812646616|1.944240924455367|15.899909430985304| 5.897511487473419|0.4179528978899031| 4252.470344964123| 6.24444690772454|10.057022293415493|\n",
      "|    min|                1|                 N|                 1|               107|               107|                 1|               0.0|             -60.0|               -0.5|           -493.22|              -70.0|                 -0.3|               0.0|                 1|               -2.75|    green|              2019|                1|                 1|                 1|                1|                 1|                 0|              2019|                61|              0.0|               0.0|\n",
      "|    max|                4|                 Y|              null|              null|              null|                 5|          998310.0|          500000.8|           500000.5|         141492.02|             3288.0|                  1.0|         1084772.1|                 5|                 3.0|   yellow|              2020|               12|               366|                31|                7|                53|                23|              2020|           2618881|830.2424361743164| 79.99963244941605|\n",
      "+-------+-----------------+------------------+------------------+------------------+------------------+------------------+------------------+------------------+-------------------+------------------+-------------------+---------------------+------------------+------------------+--------------------+---------+------------------+-----------------+------------------+------------------+-----------------+------------------+------------------+------------------+------------------+-----------------+------------------+\n",
      "\n"
     ]
    }
   ],
   "source": [
    "df_cleaned.describe().show()"
   ]
  },
  {
   "cell_type": "markdown",
   "metadata": {},
   "source": [
    "# Save data\n",
    "\n",
    "The data is saved in the parquet format because it is columnar. Columnar storage is preferred because the types of queries that are used are aggregations per column, such as average total amount per group etc."
   ]
  },
  {
   "cell_type": "code",
   "execution_count": 217,
   "metadata": {
    "execution": {
     "iopub.execute_input": "2021-04-25T09:19:38.147633Z",
     "iopub.status.busy": "2021-04-25T09:19:38.147394Z",
     "iopub.status.idle": "2021-04-25T09:24:53.617419Z",
     "shell.execute_reply": "2021-04-25T09:24:53.616367Z",
     "shell.execute_reply.started": "2021-04-25T09:19:38.147608Z"
    },
    "tags": []
   },
   "outputs": [],
   "source": [
    "path = processed_data_dir.joinpath('df_cleaned_100').as_posix()\n",
    "df_cleaned.repartition(numPartitions=n_partitions).write.parquet(path, mode='overwrite')"
   ]
  },
  {
   "cell_type": "code",
   "execution_count": 219,
   "metadata": {
    "execution": {
     "iopub.execute_input": "2021-04-25T09:34:51.485303Z",
     "iopub.status.busy": "2021-04-25T09:34:51.485058Z",
     "iopub.status.idle": "2021-04-25T09:34:51.863408Z",
     "shell.execute_reply": "2021-04-25T09:34:51.861028Z",
     "shell.execute_reply.started": "2021-04-25T09:34:51.485278Z"
    }
   },
   "outputs": [],
   "source": [
    "spark.sparkContext.stop()"
   ]
  }
 ],
 "metadata": {
  "kernelspec": {
   "display_name": "Python 3",
   "language": "python",
   "name": "python3"
  },
  "language_info": {
   "codemirror_mode": {
    "name": "ipython",
    "version": 3
   },
   "file_extension": ".py",
   "mimetype": "text/x-python",
   "name": "python",
   "nbconvert_exporter": "python",
   "pygments_lexer": "ipython3",
   "version": "3.7.10"
  },
  "toc-autonumbering": true
 },
 "nbformat": 4,
 "nbformat_minor": 4
}
