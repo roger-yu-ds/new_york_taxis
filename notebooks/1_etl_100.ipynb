{
 "cells": [
  {
   "cell_type": "markdown",
   "metadata": {},
   "source": [
    "# Introduction\n",
    "\n",
    "This notebook is a copy of `1_etl.ipynb` with the modification of increasing the number of unique values for the variables:\n",
    "* [`VendorID`](#Validation:-VendorID)\n",
    "* [`PULocationID`](#Validation:-PULocationID)\n",
    "* [`DOLocationID`](#Validation:-DOLocationID)"
   ]
  },
  {
   "cell_type": "code",
   "execution_count": 1,
   "metadata": {
    "execution": {
     "iopub.execute_input": "2021-04-25T11:35:30.248642Z",
     "iopub.status.busy": "2021-04-25T11:35:30.248315Z",
     "iopub.status.idle": "2021-04-25T11:35:30.278250Z",
     "shell.execute_reply": "2021-04-25T11:35:30.277050Z",
     "shell.execute_reply.started": "2021-04-25T11:35:30.248571Z"
    },
    "tags": []
   },
   "outputs": [],
   "source": [
    "%load_ext autoreload\n",
    "%autoreload 2"
   ]
  },
  {
   "cell_type": "code",
   "execution_count": 2,
   "metadata": {
    "execution": {
     "iopub.execute_input": "2021-04-25T11:35:30.281463Z",
     "iopub.status.busy": "2021-04-25T11:35:30.281014Z",
     "iopub.status.idle": "2021-04-25T11:35:32.324392Z",
     "shell.execute_reply": "2021-04-25T11:35:32.323593Z",
     "shell.execute_reply.started": "2021-04-25T11:35:30.281359Z"
    },
    "tags": []
   },
   "outputs": [],
   "source": [
    "import pandas as pd\n",
    "import matplotlib.pyplot as plt\n",
    "import seaborn as sns\n",
    "from pathlib import Path\n",
    "from dotenv import find_dotenv\n",
    "from datetime import datetime\n",
    "\n",
    "from pyspark.sql import SparkSession\n",
    "from pyspark.conf import SparkConf\n",
    "from pyspark import SparkContext\n",
    "\n",
    "import pyspark.sql.functions as F\n",
    "from pyspark.sql.functions import when\n",
    "from pyspark.sql.types import (\n",
    "    IntegerType,\n",
    "    DateType,\n",
    "    FloatType,\n",
    "    StringType,\n",
    "    TimestampType \n",
    ")\n",
    "\n",
    "# from src.data.utils import count_missing"
   ]
  },
  {
   "cell_type": "code",
   "execution_count": 3,
   "metadata": {
    "execution": {
     "iopub.execute_input": "2021-04-25T11:35:32.328182Z",
     "iopub.status.busy": "2021-04-25T11:35:32.327602Z",
     "iopub.status.idle": "2021-04-25T11:35:32.354804Z",
     "shell.execute_reply": "2021-04-25T11:35:32.353680Z",
     "shell.execute_reply.started": "2021-04-25T11:35:32.328103Z"
    },
    "tags": []
   },
   "outputs": [],
   "source": [
    "project_dir = Path().cwd().parent\n",
    "data_dir = project_dir / 'data'\n",
    "raw_data_dir = data_dir / 'raw'\n",
    "interim_data_dir = data_dir / 'interim'\n",
    "processed_data_dir = data_dir / 'processed'\n",
    "reports_dir = project_dir / 'reports'"
   ]
  },
  {
   "cell_type": "code",
   "execution_count": 4,
   "metadata": {
    "execution": {
     "iopub.execute_input": "2021-04-25T11:35:32.357304Z",
     "iopub.status.busy": "2021-04-25T11:35:32.356910Z",
     "iopub.status.idle": "2021-04-25T11:35:37.510606Z",
     "shell.execute_reply": "2021-04-25T11:35:37.509345Z",
     "shell.execute_reply.started": "2021-04-25T11:35:32.357235Z"
    },
    "tags": []
   },
   "outputs": [],
   "source": [
    "spark = (\n",
    "    SparkSession\n",
    "    .builder\n",
    "    .master('local[12]')\n",
    "    .appName('new_york_taxis')\n",
    "    .getOrCreate()\n",
    ")"
   ]
  },
  {
   "cell_type": "code",
   "execution_count": 5,
   "metadata": {
    "execution": {
     "iopub.execute_input": "2021-04-25T11:35:37.512485Z",
     "iopub.status.busy": "2021-04-25T11:35:37.512192Z",
     "iopub.status.idle": "2021-04-25T11:35:37.561720Z",
     "shell.execute_reply": "2021-04-25T11:35:37.557657Z",
     "shell.execute_reply.started": "2021-04-25T11:35:37.512437Z"
    },
    "tags": []
   },
   "outputs": [
    {
     "data": {
      "text/html": [
       "\n",
       "            <div>\n",
       "                <p><b>SparkSession - in-memory</b></p>\n",
       "                \n",
       "        <div>\n",
       "            <p><b>SparkContext</b></p>\n",
       "\n",
       "            <p><a href=\"http://d5681308c4ca:4040\">Spark UI</a></p>\n",
       "\n",
       "            <dl>\n",
       "              <dt>Version</dt>\n",
       "                <dd><code>v2.4.5</code></dd>\n",
       "              <dt>Master</dt>\n",
       "                <dd><code>local[12]</code></dd>\n",
       "              <dt>AppName</dt>\n",
       "                <dd><code>new_york_taxis</code></dd>\n",
       "            </dl>\n",
       "        </div>\n",
       "        \n",
       "            </div>\n",
       "        "
      ],
      "text/plain": [
       "<pyspark.sql.session.SparkSession at 0x7f21c520aed0>"
      ]
     },
     "execution_count": 5,
     "metadata": {},
     "output_type": "execute_result"
    }
   ],
   "source": [
    "spark"
   ]
  },
  {
   "cell_type": "code",
   "execution_count": 6,
   "metadata": {
    "execution": {
     "iopub.execute_input": "2021-04-25T11:35:37.563909Z",
     "iopub.status.busy": "2021-04-25T11:35:37.563634Z",
     "iopub.status.idle": "2021-04-25T11:35:37.608937Z",
     "shell.execute_reply": "2021-04-25T11:35:37.607334Z",
     "shell.execute_reply.started": "2021-04-25T11:35:37.563880Z"
    },
    "tags": []
   },
   "outputs": [
    {
     "data": {
      "text/plain": [
       "'3.0.0'"
      ]
     },
     "execution_count": 6,
     "metadata": {},
     "output_type": "execute_result"
    }
   ],
   "source": [
    "spark._jvm.org.apache.hadoop.util.VersionInfo.getVersion()"
   ]
  },
  {
   "cell_type": "code",
   "execution_count": 7,
   "metadata": {
    "execution": {
     "iopub.execute_input": "2021-04-25T11:35:37.611837Z",
     "iopub.status.busy": "2021-04-25T11:35:37.611034Z",
     "iopub.status.idle": "2021-04-25T11:35:37.659282Z",
     "shell.execute_reply": "2021-04-25T11:35:37.657977Z",
     "shell.execute_reply.started": "2021-04-25T11:35:37.611587Z"
    },
    "tags": []
   },
   "outputs": [
    {
     "data": {
      "text/plain": [
       "[('spark.driver.extraJavaOptions',\n",
       "  '\"-Dio.netty.tryReflectionSetAccessible=true\"'),\n",
       " ('spark.driver.memory', '22g'),\n",
       " ('spark.driver.port', '42577'),\n",
       " ('spark.executor.id', 'driver'),\n",
       " ('spark.driver.host', 'd5681308c4ca'),\n",
       " ('spark.app.name', 'new_york_taxis'),\n",
       " ('spark.executor.extraJavaOptions',\n",
       "  '\"-Dio.netty.tryReflectionSetAccessible=true\"'),\n",
       " ('spark.master', 'local[12]'),\n",
       " ('spark.app.id', 'local-1619350536246'),\n",
       " ('spark.rdd.compress', 'True'),\n",
       " ('spark.serializer.objectStreamReset', '100'),\n",
       " ('spark.submit.deployMode', 'client'),\n",
       " ('spark.ui.showConsoleProgress', 'true'),\n",
       " ('spark.debug.maxToStringFields', '1000')]"
      ]
     },
     "execution_count": 7,
     "metadata": {},
     "output_type": "execute_result"
    }
   ],
   "source": [
    "spark.sparkContext._conf.getAll()"
   ]
  },
  {
   "cell_type": "code",
   "execution_count": 8,
   "metadata": {
    "execution": {
     "iopub.execute_input": "2021-04-25T11:35:37.662266Z",
     "iopub.status.busy": "2021-04-25T11:35:37.661883Z",
     "iopub.status.idle": "2021-04-25T11:35:38.357885Z",
     "shell.execute_reply": "2021-04-25T11:35:38.356994Z",
     "shell.execute_reply.started": "2021-04-25T11:35:37.662224Z"
    },
    "tags": []
   },
   "outputs": [],
   "source": [
    "conf = spark.sparkContext._conf.setAll([\n",
    "    ('spark.driver.memory', '16g'),\n",
    "    ('spark.executor.memory', '16g'),\n",
    "    ('spark.app.name', 'new_york_taxis'),\n",
    "])\n",
    "spark.sparkContext.stop()\n",
    "spark = SparkSession.builder.config(conf=conf).getOrCreate()"
   ]
  },
  {
   "cell_type": "code",
   "execution_count": 9,
   "metadata": {
    "execution": {
     "iopub.execute_input": "2021-04-25T11:35:38.359581Z",
     "iopub.status.busy": "2021-04-25T11:35:38.359330Z",
     "iopub.status.idle": "2021-04-25T11:35:38.401692Z",
     "shell.execute_reply": "2021-04-25T11:35:38.399872Z",
     "shell.execute_reply.started": "2021-04-25T11:35:38.359540Z"
    },
    "tags": []
   },
   "outputs": [
    {
     "data": {
      "text/plain": [
       "[('spark.driver.extraJavaOptions',\n",
       "  '\"-Dio.netty.tryReflectionSetAccessible=true\"'),\n",
       " ('spark.driver.port', '42577'),\n",
       " ('spark.driver.host', 'd5681308c4ca'),\n",
       " ('spark.executor.id', 'driver'),\n",
       " ('spark.driver.memory', '16g'),\n",
       " ('spark.executor.memory', '16g'),\n",
       " ('spark.app.name', 'new_york_taxis'),\n",
       " ('spark.executor.extraJavaOptions',\n",
       "  '\"-Dio.netty.tryReflectionSetAccessible=true\"'),\n",
       " ('spark.master', 'local[12]'),\n",
       " ('spark.app.id', 'local-1619350536246'),\n",
       " ('spark.rdd.compress', 'True'),\n",
       " ('spark.serializer.objectStreamReset', '100'),\n",
       " ('spark.submit.deployMode', 'client'),\n",
       " ('spark.ui.showConsoleProgress', 'true'),\n",
       " ('spark.debug.maxToStringFields', '1000')]"
      ]
     },
     "execution_count": 9,
     "metadata": {},
     "output_type": "execute_result"
    }
   ],
   "source": [
    "spark.sparkContext._conf.getAll()"
   ]
  },
  {
   "cell_type": "markdown",
   "metadata": {},
   "source": [
    "# Load data\n",
    "\n",
    "The green and yellow taxi data are loaded together, which means that the extra feature, `Trip_type` in the green data set is omitted."
   ]
  },
  {
   "cell_type": "code",
   "execution_count": 10,
   "metadata": {
    "execution": {
     "iopub.execute_input": "2021-04-25T06:24:12.251919Z",
     "iopub.status.busy": "2021-04-25T06:24:12.251714Z",
     "iopub.status.idle": "2021-04-25T06:24:53.974555Z",
     "shell.execute_reply": "2021-04-25T06:24:53.973524Z",
     "shell.execute_reply.started": "2021-04-25T06:24:12.251895Z"
    }
   },
   "outputs": [],
   "source": [
    "df_dict = {}\n",
    "\n",
    "for colour in ['green', 'yellow']:\n",
    "    path = raw_data_dir.joinpath(f'{colour}_tripdata_20*.csv').as_posix()\n",
    "    df = spark.read.csv(path, header=True)\n",
    "    \n",
    "    # Add the taxi colour\n",
    "    df = df.withColumn('colour', F.lit(colour))\n",
    "    df_dict[colour] = df"
   ]
  },
  {
   "cell_type": "markdown",
   "metadata": {},
   "source": [
    "# Check column differences\n",
    "\n",
    "The green taxi data has more columns than does the yellow taxi data. See the table below:\n",
    "\n",
    "|green columns|yellow columns|comment|\n",
    "|-------------|--------------|-------|\n",
    "|`lpep_pickup_datetime`|`pickup_datetime`|Rename to `pickup_datetime`|\n",
    "|`lpep_dropoff_datetime`|`dropoff_datetime`|Rename to `dropoff_datetime`|\n",
    "|`trip_type`||The green taxis have two types, \"Street-hail\" and \"Dispatch\". Drop this column.|\n",
    "|`ehail_fee`||Drop this column.|"
   ]
  },
  {
   "cell_type": "code",
   "execution_count": 11,
   "metadata": {
    "execution": {
     "iopub.execute_input": "2021-04-25T06:24:53.975953Z",
     "iopub.status.busy": "2021-04-25T06:24:53.975741Z",
     "iopub.status.idle": "2021-04-25T06:24:54.028132Z",
     "shell.execute_reply": "2021-04-25T06:24:54.027128Z",
     "shell.execute_reply.started": "2021-04-25T06:24:53.975927Z"
    }
   },
   "outputs": [
    {
     "data": {
      "text/plain": [
       "{'ehail_fee', 'lpep_dropoff_datetime', 'lpep_pickup_datetime', 'trip_type'}"
      ]
     },
     "execution_count": 11,
     "metadata": {},
     "output_type": "execute_result"
    }
   ],
   "source": [
    "set(df_dict['green'].columns) - set(df_dict['yellow'].columns)"
   ]
  },
  {
   "cell_type": "code",
   "execution_count": 12,
   "metadata": {
    "execution": {
     "iopub.execute_input": "2021-04-25T06:24:54.029562Z",
     "iopub.status.busy": "2021-04-25T06:24:54.029341Z",
     "iopub.status.idle": "2021-04-25T06:24:54.052190Z",
     "shell.execute_reply": "2021-04-25T06:24:54.051351Z",
     "shell.execute_reply.started": "2021-04-25T06:24:54.029536Z"
    }
   },
   "outputs": [
    {
     "data": {
      "text/plain": [
       "{'tpep_dropoff_datetime', 'tpep_pickup_datetime'}"
      ]
     },
     "execution_count": 12,
     "metadata": {},
     "output_type": "execute_result"
    }
   ],
   "source": [
    "set(df_dict['yellow'].columns) - set(df_dict['green'].columns)"
   ]
  },
  {
   "cell_type": "markdown",
   "metadata": {},
   "source": [
    "# Combine the green and the yellow\n",
    "\n",
    "This requires the columns to be the same; renaming and dropping of columns is required, see [table](#Check-column-differences)."
   ]
  },
  {
   "cell_type": "code",
   "execution_count": 22,
   "metadata": {
    "execution": {
     "iopub.execute_input": "2021-04-25T06:29:20.373125Z",
     "iopub.status.busy": "2021-04-25T06:29:20.372869Z",
     "iopub.status.idle": "2021-04-25T06:29:20.416079Z",
     "shell.execute_reply": "2021-04-25T06:29:20.415007Z",
     "shell.execute_reply.started": "2021-04-25T06:29:20.373098Z"
    }
   },
   "outputs": [],
   "source": [
    "df_green = (\n",
    "    df_dict['green']\n",
    "    .withColumnRenamed('lpep_pickup_datetime', 'pickup_datetime')\n",
    "    .withColumnRenamed('lpep_dropoff_datetime', 'dropoff_datetime')\n",
    "    .drop('trip_type')\n",
    "    .drop('ehail_fee')\n",
    ")\n",
    "\n",
    "df_yellow = (\n",
    "    df_dict['yellow']\n",
    "    .withColumnRenamed('tpep_pickup_datetime', 'pickup_datetime')\n",
    "    .withColumnRenamed('tpep_dropoff_datetime', 'dropoff_datetime')\n",
    ")"
   ]
  },
  {
   "cell_type": "code",
   "execution_count": 15,
   "metadata": {
    "execution": {
     "iopub.execute_input": "2021-04-25T06:25:39.125330Z",
     "iopub.status.busy": "2021-04-25T06:25:39.125077Z",
     "iopub.status.idle": "2021-04-25T06:25:39.150225Z",
     "shell.execute_reply": "2021-04-25T06:25:39.149165Z",
     "shell.execute_reply.started": "2021-04-25T06:25:39.125303Z"
    }
   },
   "outputs": [
    {
     "data": {
      "text/plain": [
       "['VendorID',\n",
       " 'pickup_datetime',\n",
       " 'dropoff_datetime',\n",
       " 'store_and_fwd_flag',\n",
       " 'RatecodeID',\n",
       " 'PULocationID',\n",
       " 'DOLocationID',\n",
       " 'passenger_count',\n",
       " 'trip_distance',\n",
       " 'fare_amount',\n",
       " 'extra',\n",
       " 'mta_tax',\n",
       " 'tip_amount',\n",
       " 'tolls_amount',\n",
       " 'improvement_surcharge',\n",
       " 'total_amount',\n",
       " 'payment_type',\n",
       " 'congestion_surcharge',\n",
       " 'colour']"
      ]
     },
     "execution_count": 15,
     "metadata": {},
     "output_type": "execute_result"
    }
   ],
   "source": [
    "for col in df_green.columns:\n",
    "    print()"
   ]
  },
  {
   "cell_type": "code",
   "execution_count": 23,
   "metadata": {
    "execution": {
     "iopub.execute_input": "2021-04-25T06:29:24.282675Z",
     "iopub.status.busy": "2021-04-25T06:29:24.282402Z",
     "iopub.status.idle": "2021-04-25T06:29:24.315960Z",
     "shell.execute_reply": "2021-04-25T06:29:24.314873Z",
     "shell.execute_reply.started": "2021-04-25T06:29:24.282634Z"
    }
   },
   "outputs": [
    {
     "data": {
      "text/plain": [
       "DataFrame[pickup_datetime: string]"
      ]
     },
     "execution_count": 23,
     "metadata": {},
     "output_type": "execute_result"
    }
   ],
   "source": [
    "df_yellow.select('pickup_datetime')"
   ]
  },
  {
   "cell_type": "code",
   "execution_count": 24,
   "metadata": {
    "execution": {
     "iopub.execute_input": "2021-04-25T06:29:30.795312Z",
     "iopub.status.busy": "2021-04-25T06:29:30.795039Z",
     "iopub.status.idle": "2021-04-25T06:29:30.863597Z",
     "shell.execute_reply": "2021-04-25T06:29:30.861518Z",
     "shell.execute_reply.started": "2021-04-25T06:29:30.795283Z"
    }
   },
   "outputs": [],
   "source": [
    "df_yellow_reordered = df_yellow.select(\n",
    "    'VendorID',\n",
    "    'pickup_datetime',\n",
    "    'dropoff_datetime',\n",
    "    'store_and_fwd_flag',\n",
    "    'RatecodeID',\n",
    "    'PULocationID',\n",
    "    'DOLocationID',\n",
    "    'passenger_count',\n",
    "    'trip_distance',\n",
    "    'fare_amount',\n",
    "    'extra',\n",
    "    'mta_tax',\n",
    "    'tip_amount',\n",
    "    'tolls_amount',\n",
    "    'improvement_surcharge',\n",
    "    'total_amount',\n",
    "    'payment_type',\n",
    "    'congestion_surcharge',\n",
    "    'colour'\n",
    ")"
   ]
  },
  {
   "cell_type": "code",
   "execution_count": 33,
   "metadata": {
    "execution": {
     "iopub.execute_input": "2021-04-25T06:40:55.836723Z",
     "iopub.status.busy": "2021-04-25T06:40:55.836385Z",
     "iopub.status.idle": "2021-04-25T06:55:58.613753Z",
     "shell.execute_reply": "2021-04-25T06:55:58.612709Z",
     "shell.execute_reply.started": "2021-04-25T06:40:55.836685Z"
    }
   },
   "outputs": [
    {
     "data": {
      "text/plain": [
       "142234006"
      ]
     },
     "execution_count": 33,
     "metadata": {},
     "output_type": "execute_result"
    }
   ],
   "source": [
    "df_yellow_reordered.count()"
   ]
  },
  {
   "cell_type": "code",
   "execution_count": 34,
   "metadata": {
    "execution": {
     "iopub.execute_input": "2021-04-25T06:55:58.615243Z",
     "iopub.status.busy": "2021-04-25T06:55:58.615040Z",
     "iopub.status.idle": "2021-04-25T06:56:01.316174Z",
     "shell.execute_reply": "2021-04-25T06:56:01.315081Z",
     "shell.execute_reply.started": "2021-04-25T06:55:58.615219Z"
    }
   },
   "outputs": [
    {
     "data": {
      "text/plain": [
       "7778101"
      ]
     },
     "execution_count": 34,
     "metadata": {},
     "output_type": "execute_result"
    }
   ],
   "source": [
    "df_green.count()"
   ]
  },
  {
   "cell_type": "code",
   "execution_count": 35,
   "metadata": {
    "execution": {
     "iopub.execute_input": "2021-04-25T06:56:01.318592Z",
     "iopub.status.busy": "2021-04-25T06:56:01.318292Z",
     "iopub.status.idle": "2021-04-25T06:56:01.342377Z",
     "shell.execute_reply": "2021-04-25T06:56:01.341244Z",
     "shell.execute_reply.started": "2021-04-25T06:56:01.318556Z"
    }
   },
   "outputs": [],
   "source": [
    "df = df_yellow_reordered.unionByName(df_green)"
   ]
  },
  {
   "cell_type": "markdown",
   "metadata": {},
   "source": [
    "## Load/save parquet"
   ]
  },
  {
   "cell_type": "code",
   "execution_count": 36,
   "metadata": {
    "execution": {
     "iopub.execute_input": "2021-04-25T06:56:01.344268Z",
     "iopub.status.busy": "2021-04-25T06:56:01.343973Z",
     "iopub.status.idle": "2021-04-25T06:56:01.364745Z",
     "shell.execute_reply": "2021-04-25T06:56:01.363791Z",
     "shell.execute_reply.started": "2021-04-25T06:56:01.344232Z"
    },
    "tags": []
   },
   "outputs": [],
   "source": [
    "path = interim_data_dir.joinpath('df_combined').as_posix()"
   ]
  },
  {
   "cell_type": "code",
   "execution_count": 37,
   "metadata": {
    "execution": {
     "iopub.execute_input": "2021-04-25T06:56:01.366229Z",
     "iopub.status.busy": "2021-04-25T06:56:01.366017Z",
     "iopub.status.idle": "2021-04-25T07:00:38.766904Z",
     "shell.execute_reply": "2021-04-25T07:00:38.765473Z",
     "shell.execute_reply.started": "2021-04-25T06:56:01.366205Z"
    },
    "tags": []
   },
   "outputs": [],
   "source": [
    "df.write.parquet(path, mode='overwrite')\n",
    "df = spark.read.parquet(path)"
   ]
  },
  {
   "cell_type": "code",
   "execution_count": 38,
   "metadata": {
    "execution": {
     "iopub.execute_input": "2021-04-25T07:00:38.768302Z",
     "iopub.status.busy": "2021-04-25T07:00:38.768077Z",
     "iopub.status.idle": "2021-04-25T07:00:40.862776Z",
     "shell.execute_reply": "2021-04-25T07:00:40.861081Z",
     "shell.execute_reply.started": "2021-04-25T07:00:38.768276Z"
    },
    "tags": []
   },
   "outputs": [
    {
     "data": {
      "text/plain": [
       "150012107"
      ]
     },
     "execution_count": 38,
     "metadata": {},
     "output_type": "execute_result"
    }
   ],
   "source": [
    "df.count()"
   ]
  },
  {
   "cell_type": "code",
   "execution_count": 39,
   "metadata": {
    "execution": {
     "iopub.execute_input": "2021-04-25T07:00:40.865837Z",
     "iopub.status.busy": "2021-04-25T07:00:40.865128Z",
     "iopub.status.idle": "2021-04-25T07:00:40.902556Z",
     "shell.execute_reply": "2021-04-25T07:00:40.900809Z",
     "shell.execute_reply.started": "2021-04-25T07:00:40.865771Z"
    },
    "tags": []
   },
   "outputs": [
    {
     "name": "stdout",
     "output_type": "stream",
     "text": [
      "root\n",
      " |-- VendorID: string (nullable = true)\n",
      " |-- pickup_datetime: string (nullable = true)\n",
      " |-- dropoff_datetime: string (nullable = true)\n",
      " |-- store_and_fwd_flag: string (nullable = true)\n",
      " |-- RatecodeID: string (nullable = true)\n",
      " |-- PULocationID: string (nullable = true)\n",
      " |-- DOLocationID: string (nullable = true)\n",
      " |-- passenger_count: string (nullable = true)\n",
      " |-- trip_distance: string (nullable = true)\n",
      " |-- fare_amount: string (nullable = true)\n",
      " |-- extra: string (nullable = true)\n",
      " |-- mta_tax: string (nullable = true)\n",
      " |-- tip_amount: string (nullable = true)\n",
      " |-- tolls_amount: string (nullable = true)\n",
      " |-- improvement_surcharge: string (nullable = true)\n",
      " |-- total_amount: string (nullable = true)\n",
      " |-- payment_type: string (nullable = true)\n",
      " |-- congestion_surcharge: string (nullable = true)\n",
      " |-- colour: string (nullable = true)\n",
      "\n"
     ]
    }
   ],
   "source": [
    "df.printSchema()"
   ]
  },
  {
   "cell_type": "code",
   "execution_count": 40,
   "metadata": {
    "execution": {
     "iopub.execute_input": "2021-04-25T07:00:40.905196Z",
     "iopub.status.busy": "2021-04-25T07:00:40.904955Z",
     "iopub.status.idle": "2021-04-25T07:09:48.024810Z",
     "shell.execute_reply": "2021-04-25T07:09:48.023842Z",
     "shell.execute_reply.started": "2021-04-25T07:00:40.905160Z"
    }
   },
   "outputs": [
    {
     "name": "stdout",
     "output_type": "stream",
     "text": [
      "+-------+--------------------+--------------------+--------------------+--------------------+------------------+--------------------+-------------------+------------------+------------------+--------------------+------------------+-------------------+--------------------+-------------------+---------------------+--------------------+------------------+--------------------+---------+\n",
      "|summary|            VendorID|     pickup_datetime|    dropoff_datetime|  store_and_fwd_flag|        RatecodeID|        PULocationID|       DOLocationID|   passenger_count|     trip_distance|         fare_amount|             extra|            mta_tax|          tip_amount|       tolls_amount|improvement_surcharge|        total_amount|      payment_type|congestion_surcharge|   colour|\n",
      "+-------+--------------------+--------------------+--------------------+--------------------+------------------+--------------------+-------------------+------------------+------------------+--------------------+------------------+-------------------+--------------------+-------------------+---------------------+--------------------+------------------+--------------------+---------+\n",
      "|  count|           147824204|           122294684|           118022307|           114852020|         114876788|           116839570|          116834296|         115160571|         116942124|           116829708|         116828614|          116827875|           116827380|          116827045|            116826726|           116826575|         114833003|           110481854|150012107|\n",
      "|   mean|            Infinity|            Infinity|  53.211600348583886|   10.95073502722323|1.0662392276618409|   159.6841428101841| 1006.5855129620385|1.5813101124910964| 3.340097820669765|  13.311535143016147|1.0470000771234365|0.49568035365716934|  2.0947719391597692|0.35990074216445106|  0.29677469783001437|   18.89511924891171|1.2967030342644963|  2.0930770600025497|     null|\n",
      "| stddev|                 NaN|                 NaN|  1229.1983095187331|    61.7291845185273| 6.944599658208602|   67.94715910044066|  9159372.918976473|  559.929227329854|209.07330226006061|  194.49982475600632| 46.27592018889727|  46.26058462165737|   13.37619016974435| 1.7515892640025585|  0.03744400213204287|   221.1770057927135|0.5054911920563285|   4.474239465174374|     null|\n",
      "|    min|                   \u0000|                   \u0000|                   \u0000|                   \u0000|                 \u0000|                   \u0000|                  \u0000|                 \u0000|                 \u0000|                   \u0000|                 \u0000|                  \u0000|                   \u0000|                  \u0000| \u0000\u0000\u0013X\u0000+�a�P@�\u0005\u000b",
      "X@\u0007...|                   \u0000|                 \u0000|\u0000\u0000\u0018).)&x\u0004\u0018\u0014\u0002\u001e",
      "�\u001e",
      ".\f",
      "...|    green|\n",
      "|    max|􍟰!~A\u0013�\t��9�\u0000\u0003�\u0001X...|􈠁��\u0002&F4\u00180�A�\u00191\u001e",
      "L...|􈁂Ƃ\u000e\u0005\u0006T\u0000��\u0000�\u0014\\�...|�𐨅�/\u0012� h �\u001c",
      "��Ȑ...|              �񡂈\u001e",
      "|�������N���+���\u0010...|�������/K�\u0002���0\u001b�֫�|                𲆇|          񳈾�E�(��|�������z�J����\u0016��...|     ����B�\"\u000e*\u0010А\u0000ś|              �����|����\u0003�\u0002\u0018�8��abD�S...|      �����%�\u0012�\u0019�\f",
      "`|                �����|��KI�EВ�(y\f",
      "Z\u000e&�\u0001B...|              񶾆��|        ���.��l3�̶��|   yellow|\n",
      "+-------+--------------------+--------------------+--------------------+--------------------+------------------+--------------------+-------------------+------------------+------------------+--------------------+------------------+-------------------+--------------------+-------------------+---------------------+--------------------+------------------+--------------------+---------+\n",
      "\n"
     ]
    }
   ],
   "source": [
    "df.describe().show()"
   ]
  },
  {
   "cell_type": "markdown",
   "metadata": {},
   "source": [
    "# Change datatype\n",
    "\n",
    "The columns are all of type string. This section changes some of them into more appropriate types."
   ]
  },
  {
   "cell_type": "code",
   "execution_count": 41,
   "metadata": {
    "execution": {
     "iopub.execute_input": "2021-04-25T07:09:48.026951Z",
     "iopub.status.busy": "2021-04-25T07:09:48.026705Z",
     "iopub.status.idle": "2021-04-25T07:09:48.050327Z",
     "shell.execute_reply": "2021-04-25T07:09:48.049236Z",
     "shell.execute_reply.started": "2021-04-25T07:09:48.026916Z"
    },
    "tags": []
   },
   "outputs": [],
   "source": [
    "datatype_dict = {\n",
    "    'VendorID': StringType(),\n",
    "    'pickup_datetime': TimestampType(),\n",
    "    'dropoff_datetime': TimestampType(),\n",
    "    'passenger_count': IntegerType(),\n",
    "    'trip_distance': FloatType(),\n",
    "    'RatecodeID': StringType(),\n",
    "    'store_and_fwd_flag': StringType(),\n",
    "    'PULocationID': StringType(),\n",
    "    'DOLocationID': StringType(),\n",
    "    'payment_type': StringType(),\n",
    "    'fare_amount': FloatType(),\n",
    "    'extra': FloatType(),\n",
    "    'mta_tax': FloatType(),\n",
    "    'tip_amount': FloatType(),\n",
    "    'tolls_amount': FloatType(),\n",
    "    'improvement_surcharge': FloatType(),\n",
    "    'total_amount': FloatType(),\n",
    "    'congestion_surcharge': FloatType()\n",
    "}"
   ]
  },
  {
   "cell_type": "code",
   "execution_count": 42,
   "metadata": {
    "execution": {
     "iopub.execute_input": "2021-04-25T07:09:48.051734Z",
     "iopub.status.busy": "2021-04-25T07:09:48.051513Z",
     "iopub.status.idle": "2021-04-25T07:09:48.077016Z",
     "shell.execute_reply": "2021-04-25T07:09:48.075882Z",
     "shell.execute_reply.started": "2021-04-25T07:09:48.051708Z"
    },
    "tags": []
   },
   "outputs": [
    {
     "name": "stdout",
     "output_type": "stream",
     "text": [
      ".withColumn('VendorID', F.col('VendorID').astype(StringType()))\n",
      ".withColumn('pickup_datetime', F.col('pickup_datetime').astype(TimestampType()))\n",
      ".withColumn('dropoff_datetime', F.col('dropoff_datetime').astype(TimestampType()))\n",
      ".withColumn('passenger_count', F.col('passenger_count').astype(IntegerType()))\n",
      ".withColumn('trip_distance', F.col('trip_distance').astype(FloatType()))\n",
      ".withColumn('RatecodeID', F.col('RatecodeID').astype(StringType()))\n",
      ".withColumn('store_and_fwd_flag', F.col('store_and_fwd_flag').astype(StringType()))\n",
      ".withColumn('PULocationID', F.col('PULocationID').astype(StringType()))\n",
      ".withColumn('DOLocationID', F.col('DOLocationID').astype(StringType()))\n",
      ".withColumn('payment_type', F.col('payment_type').astype(StringType()))\n",
      ".withColumn('fare_amount', F.col('fare_amount').astype(FloatType()))\n",
      ".withColumn('extra', F.col('extra').astype(FloatType()))\n",
      ".withColumn('mta_tax', F.col('mta_tax').astype(FloatType()))\n",
      ".withColumn('tip_amount', F.col('tip_amount').astype(FloatType()))\n",
      ".withColumn('tolls_amount', F.col('tolls_amount').astype(FloatType()))\n",
      ".withColumn('improvement_surcharge', F.col('improvement_surcharge').astype(FloatType()))\n",
      ".withColumn('total_amount', F.col('total_amount').astype(FloatType()))\n",
      ".withColumn('congestion_surcharge', F.col('congestion_surcharge').astype(FloatType()))\n"
     ]
    }
   ],
   "source": [
    "# For convenience so all the code doesn't have to be manually typed\n",
    "for key, value in datatype_dict.items():\n",
    "    print(f\".withColumn('{key}', F.col('{key}').astype({value}()))\")"
   ]
  },
  {
   "cell_type": "code",
   "execution_count": 43,
   "metadata": {
    "execution": {
     "iopub.execute_input": "2021-04-25T07:09:48.078498Z",
     "iopub.status.busy": "2021-04-25T07:09:48.078256Z",
     "iopub.status.idle": "2021-04-25T07:09:48.467135Z",
     "shell.execute_reply": "2021-04-25T07:09:48.466184Z",
     "shell.execute_reply.started": "2021-04-25T07:09:48.078444Z"
    },
    "tags": []
   },
   "outputs": [],
   "source": [
    "df_typed = (\n",
    "    df\n",
    "    .withColumn('VendorID', F.col('VendorID').astype(StringType()))\n",
    "    .withColumn('pickup_datetime', F.col('pickup_datetime').astype(TimestampType()))\n",
    "    .withColumn('dropoff_datetime', F.col('dropoff_datetime').astype(TimestampType()))\n",
    "    .withColumn('passenger_count', F.col('passenger_count').astype(IntegerType()))\n",
    "    .withColumn('trip_distance', F.col('trip_distance').astype(FloatType()))\n",
    "    .withColumn('RatecodeID', F.col('RatecodeID').astype(StringType()))\n",
    "    .withColumn('store_and_fwd_flag', F.col('store_and_fwd_flag').astype(StringType()))\n",
    "    .withColumn('PULocationID', F.col('PULocationID').astype(StringType()))\n",
    "    .withColumn('DOLocationID', F.col('DOLocationID').astype(StringType()))\n",
    "    .withColumn('payment_type', F.col('payment_type').astype(StringType()))\n",
    "    .withColumn('fare_amount', F.col('fare_amount').astype(FloatType()))\n",
    "    .withColumn('extra', F.col('extra').astype(FloatType()))\n",
    "    .withColumn('mta_tax', F.col('mta_tax').astype(FloatType()))\n",
    "    .withColumn('tip_amount', F.col('tip_amount').astype(FloatType()))\n",
    "    .withColumn('tolls_amount', F.col('tolls_amount').astype(FloatType()))\n",
    "    .withColumn('improvement_surcharge', F.col('improvement_surcharge').astype(FloatType()))\n",
    "    .withColumn('total_amount', F.col('total_amount').astype(FloatType()))\n",
    "    .withColumn('congestion_surcharge', F.col('congestion_surcharge').astype(FloatType()))\n",
    ")"
   ]
  },
  {
   "cell_type": "code",
   "execution_count": 44,
   "metadata": {
    "execution": {
     "iopub.execute_input": "2021-04-25T07:09:48.468428Z",
     "iopub.status.busy": "2021-04-25T07:09:48.468231Z",
     "iopub.status.idle": "2021-04-25T07:09:48.488681Z",
     "shell.execute_reply": "2021-04-25T07:09:48.487758Z",
     "shell.execute_reply.started": "2021-04-25T07:09:48.468405Z"
    },
    "tags": []
   },
   "outputs": [
    {
     "name": "stdout",
     "output_type": "stream",
     "text": [
      "root\n",
      " |-- VendorID: string (nullable = true)\n",
      " |-- pickup_datetime: timestamp (nullable = true)\n",
      " |-- dropoff_datetime: timestamp (nullable = true)\n",
      " |-- store_and_fwd_flag: string (nullable = true)\n",
      " |-- RatecodeID: string (nullable = true)\n",
      " |-- PULocationID: string (nullable = true)\n",
      " |-- DOLocationID: string (nullable = true)\n",
      " |-- passenger_count: integer (nullable = true)\n",
      " |-- trip_distance: float (nullable = true)\n",
      " |-- fare_amount: float (nullable = true)\n",
      " |-- extra: float (nullable = true)\n",
      " |-- mta_tax: float (nullable = true)\n",
      " |-- tip_amount: float (nullable = true)\n",
      " |-- tolls_amount: float (nullable = true)\n",
      " |-- improvement_surcharge: float (nullable = true)\n",
      " |-- total_amount: float (nullable = true)\n",
      " |-- payment_type: string (nullable = true)\n",
      " |-- congestion_surcharge: float (nullable = true)\n",
      " |-- colour: string (nullable = true)\n",
      "\n"
     ]
    }
   ],
   "source": [
    "df_typed.printSchema()"
   ]
  },
  {
   "cell_type": "markdown",
   "metadata": {},
   "source": [
    "# Extract dateparts\n",
    "\n",
    "1. `pickup_year`\n",
    "1. `pickup_month`\n",
    "1. `pickup_dayofyear`\n",
    "1. `pickup_dayofmonth`\n",
    "1. `pickup_dayofweek`\n",
    "1. `pickup_weekofyear`\n",
    "1. `pickup_hour`"
   ]
  },
  {
   "cell_type": "code",
   "execution_count": 56,
   "metadata": {
    "execution": {
     "iopub.execute_input": "2021-04-25T07:13:57.147573Z",
     "iopub.status.busy": "2021-04-25T07:13:57.147319Z",
     "iopub.status.idle": "2021-04-25T07:13:57.168989Z",
     "shell.execute_reply": "2021-04-25T07:13:57.167974Z",
     "shell.execute_reply.started": "2021-04-25T07:13:57.147546Z"
    },
    "tags": []
   },
   "outputs": [],
   "source": [
    "hour = F.udf(lambda x: x.hour if x is not None else None, IntegerType())"
   ]
  },
  {
   "cell_type": "code",
   "execution_count": 57,
   "metadata": {
    "execution": {
     "iopub.execute_input": "2021-04-25T07:13:57.419835Z",
     "iopub.status.busy": "2021-04-25T07:13:57.419554Z",
     "iopub.status.idle": "2021-04-25T07:13:57.520253Z",
     "shell.execute_reply": "2021-04-25T07:13:57.519182Z",
     "shell.execute_reply.started": "2021-04-25T07:13:57.419807Z"
    },
    "tags": []
   },
   "outputs": [],
   "source": [
    "df_dateparts = (\n",
    "    df_typed\n",
    "    .withColumn('pickup_year', F.year('pickup_datetime'))\n",
    "    .withColumn('pickup_month', F.month('pickup_datetime'))\n",
    "    .withColumn('pickup_dayofyear', F.dayofyear('pickup_datetime'))\n",
    "    .withColumn('pickup_dayofmonth', F.dayofmonth('pickup_datetime'))\n",
    "    .withColumn('pickup_dayofweek', F.dayofweek('pickup_datetime'))\n",
    "    .withColumn('pickup_weekofyear', F.weekofyear('pickup_datetime'))\n",
    "    .withColumn('pickup_hourofday', hour('pickup_datetime'))\n",
    ")"
   ]
  },
  {
   "cell_type": "code",
   "execution_count": 58,
   "metadata": {
    "execution": {
     "iopub.execute_input": "2021-04-25T07:13:57.910176Z",
     "iopub.status.busy": "2021-04-25T07:13:57.909920Z",
     "iopub.status.idle": "2021-04-25T07:13:58.001084Z",
     "shell.execute_reply": "2021-04-25T07:13:58.000083Z",
     "shell.execute_reply.started": "2021-04-25T07:13:57.910148Z"
    },
    "tags": []
   },
   "outputs": [
    {
     "data": {
      "text/plain": [
       "43"
      ]
     },
     "execution_count": 58,
     "metadata": {},
     "output_type": "execute_result"
    }
   ],
   "source": [
    "#\n",
    "df_dateparts.rdd.getNumPartitions()"
   ]
  },
  {
   "cell_type": "code",
   "execution_count": 10,
   "metadata": {
    "execution": {
     "iopub.execute_input": "2021-04-25T11:36:06.897465Z",
     "iopub.status.busy": "2021-04-25T11:36:06.897123Z",
     "iopub.status.idle": "2021-04-25T11:36:06.929001Z",
     "shell.execute_reply": "2021-04-25T11:36:06.927360Z",
     "shell.execute_reply.started": "2021-04-25T11:36:06.897429Z"
    },
    "tags": []
   },
   "outputs": [],
   "source": [
    "path = interim_data_dir.joinpath('df_dateparts').as_posix()\n",
    "n_partitions = 12 * 10"
   ]
  },
  {
   "cell_type": "raw",
   "metadata": {
    "execution": {
     "iopub.execute_input": "2021-04-25T07:13:59.772574Z",
     "iopub.status.busy": "2021-04-25T07:13:59.772286Z",
     "iopub.status.idle": "2021-04-25T07:26:43.381138Z",
     "shell.execute_reply": "2021-04-25T07:26:43.339046Z",
     "shell.execute_reply.started": "2021-04-25T07:13:59.772533Z"
    }
   },
   "source": [
    "(\n",
    "    df_dateparts\n",
    "    .repartition(numPartitions=n_partitions)\n",
    "    .write\n",
    "    .parquet(path, mode='overwrite')\n",
    ")"
   ]
  },
  {
   "cell_type": "code",
   "execution_count": 11,
   "metadata": {
    "execution": {
     "iopub.execute_input": "2021-04-25T11:36:09.655038Z",
     "iopub.status.busy": "2021-04-25T11:36:09.654580Z",
     "iopub.status.idle": "2021-04-25T11:36:15.797965Z",
     "shell.execute_reply": "2021-04-25T11:36:15.797118Z",
     "shell.execute_reply.started": "2021-04-25T11:36:09.654978Z"
    }
   },
   "outputs": [],
   "source": [
    "df_dateparts = spark.read.parquet(path)"
   ]
  },
  {
   "cell_type": "markdown",
   "metadata": {},
   "source": [
    "# Count distinct\n",
    "\n",
    "There are categorical columns with defined levels, these are:\n",
    "* `VendorID`\n",
    "* `RatecodeID`\n",
    "* `store_and_fwd_flag`\n",
    "* `PULocationID`\n",
    "* `DOLocationID`\n",
    "* `payment_type`\n",
    "\n",
    "There are numerical columns with limited distinct values, these are:\n",
    "* `Extra`: \\\\$0.50 or \\\\$1\n",
    "* `MTA_tax`: \\\\$0.50\n",
    "* `Improvement_surcharge`: \\\\$0.30\n"
   ]
  },
  {
   "cell_type": "code",
   "execution_count": 12,
   "metadata": {
    "execution": {
     "iopub.execute_input": "2021-04-25T11:36:15.800024Z",
     "iopub.status.busy": "2021-04-25T11:36:15.799643Z",
     "iopub.status.idle": "2021-04-25T11:36:15.867487Z",
     "shell.execute_reply": "2021-04-25T11:36:15.866435Z",
     "shell.execute_reply.started": "2021-04-25T11:36:15.799989Z"
    }
   },
   "outputs": [
    {
     "data": {
      "text/plain": [
       "['VendorID',\n",
       " 'store_and_fwd_flag',\n",
       " 'RatecodeID',\n",
       " 'PULocationID',\n",
       " 'DOLocationID',\n",
       " 'payment_type',\n",
       " 'colour']"
      ]
     },
     "execution_count": 12,
     "metadata": {},
     "output_type": "execute_result"
    }
   ],
   "source": [
    "string_cols = [col for (col, col_type) in df_dateparts.dtypes if col_type == 'string']\n",
    "string_cols"
   ]
  },
  {
   "cell_type": "code",
   "execution_count": 13,
   "metadata": {
    "execution": {
     "iopub.execute_input": "2021-04-25T11:36:15.870958Z",
     "iopub.status.busy": "2021-04-25T11:36:15.870587Z",
     "iopub.status.idle": "2021-04-25T11:36:15.896483Z",
     "shell.execute_reply": "2021-04-25T11:36:15.895181Z",
     "shell.execute_reply.started": "2021-04-25T11:36:15.870909Z"
    }
   },
   "outputs": [],
   "source": [
    "lim_num_cols = ['Extra', 'MTA_tax', 'Improvement_surcharge']"
   ]
  },
  {
   "cell_type": "raw",
   "metadata": {
    "execution": {
     "iopub.execute_input": "2021-04-25T08:26:01.138072Z",
     "iopub.status.busy": "2021-04-25T08:26:01.137868Z",
     "iopub.status.idle": "2021-04-25T08:26:57.183580Z",
     "shell.execute_reply": "2021-04-25T08:26:57.182528Z",
     "shell.execute_reply.started": "2021-04-25T08:26:01.138047Z"
    }
   },
   "source": [
    "expression = [F.countDistinct(F.col(col)).alias(col) for col in string_cols + lim_num_cols]\n",
    "df_dateparts.select(*expression).show()"
   ]
  },
  {
   "cell_type": "markdown",
   "metadata": {},
   "source": [
    "# Data validation"
   ]
  },
  {
   "cell_type": "markdown",
   "metadata": {},
   "source": [
    "## String type columns\n",
    "\n",
    "* [VendorID](#Validation:-VendorID)\n",
    "* [PULocationID](#Validation:-PULocationID)\n",
    "* [DOLocationID](#Validation:-DOLocationID)\n",
    "* [RatecodeID](#Validation:-RatecodeID)\n",
    "* [Store_and_fwd_flag](#Validation:-Store_and_fwd_flag)\n",
    "* [Payment_type](#Validation:-Payment_type)"
   ]
  },
  {
   "cell_type": "markdown",
   "metadata": {},
   "source": [
    "### Validation: `VendorID`"
   ]
  },
  {
   "cell_type": "raw",
   "metadata": {
    "execution": {
     "iopub.execute_input": "2021-04-25T08:31:22.465664Z",
     "iopub.status.busy": "2021-04-25T08:31:22.464809Z",
     "iopub.status.idle": "2021-04-25T08:35:49.038421Z",
     "shell.execute_reply": "2021-04-25T08:35:49.037464Z",
     "shell.execute_reply.started": "2021-04-25T08:31:22.465631Z"
    }
   },
   "source": [
    "(\n",
    "    df_dateparts\n",
    "    .groupBy('VendorID')\n",
    "    .count()\n",
    "    .sort(F.col('count').desc())\n",
    "    .show()\n",
    ")"
   ]
  },
  {
   "cell_type": "code",
   "execution_count": 14,
   "metadata": {
    "execution": {
     "iopub.execute_input": "2021-04-25T11:36:15.899754Z",
     "iopub.status.busy": "2021-04-25T11:36:15.898417Z",
     "iopub.status.idle": "2021-04-25T11:37:03.825718Z",
     "shell.execute_reply": "2021-04-25T11:37:03.822435Z",
     "shell.execute_reply.started": "2021-04-25T11:36:15.899608Z"
    }
   },
   "outputs": [
    {
     "data": {
      "text/plain": [
       "[Row(VendorID='2', count=75165983),\n",
       " Row(VendorID='1', count=39402240),\n",
       " Row(VendorID=None, count=2187903),\n",
       " Row(VendorID='4', count=270473),\n",
       " Row(VendorID='�', count=80113),\n",
       " Row(VendorID='\\x0e�', count=73222),\n",
       " Row(VendorID='��', count=42438),\n",
       " Row(VendorID='\\x12�', count=25063),\n",
       " Row(VendorID='N�', count=24192),\n",
       " Row(VendorID='�\\x00', count=20156),\n",
       " Row(VendorID='F�', count=16438),\n",
       " Row(VendorID='J�\\x00\\x0e�', count=14632),\n",
       " Row(VendorID='\\x0e', count=11320),\n",
       " Row(VendorID='�\\x01', count=10002),\n",
       " Row(VendorID='R�', count=9706),\n",
       " Row(VendorID='!', count=9089),\n",
       " Row(VendorID='0', count=8070),\n",
       " Row(VendorID='@', count=7932),\n",
       " Row(VendorID='N', count=7653),\n",
       " Row(VendorID='J�\\x01\\x0e�', count=7404),\n",
       " Row(VendorID='\\x16�', count=7104),\n",
       " Row(VendorID='J�\\x00\\x0e', count=6665),\n",
       " Row(VendorID='$', count=6463),\n",
       " Row(VendorID='(', count=6222),\n",
       " Row(VendorID='#', count=6155),\n",
       " Row(VendorID='J�', count=5815),\n",
       " Row(VendorID='�@', count=5528),\n",
       " Row(VendorID='`', count=5502),\n",
       " Row(VendorID='%', count=5461),\n",
       " Row(VendorID='F', count=5434),\n",
       " Row(VendorID='�\\x02', count=5269),\n",
       " Row(VendorID='\"', count=5261),\n",
       " Row(VendorID='Z�', count=5112),\n",
       " Row(VendorID=\"'\", count=5089),\n",
       " Row(VendorID=')', count=5076),\n",
       " Row(VendorID='&', count=4927),\n",
       " Row(VendorID='J\\x17\\x00\\x0e�', count=4667),\n",
       " Row(VendorID='-', count=4665),\n",
       " Row(VendorID='p', count=4506),\n",
       " Row(VendorID='\\x0e>', count=4480),\n",
       " Row(VendorID='*', count=4479),\n",
       " Row(VendorID='P', count=4457),\n",
       " Row(VendorID='V�', count=4401),\n",
       " Row(VendorID=\"\\x0e'\", count=4382),\n",
       " Row(VendorID='\\x12', count=4366),\n",
       " Row(VendorID='\\x0el', count=4346),\n",
       " Row(VendorID='\\x0eU', count=4326),\n",
       " Row(VendorID='+', count=4084),\n",
       " Row(VendorID='\\x0e5', count=4025),\n",
       " Row(VendorID='\\x0eL', count=3994),\n",
       " Row(VendorID='\\x0ez', count=3935),\n",
       " Row(VendorID='\\x0ec', count=3918),\n",
       " Row(VendorID='J�\\x02\\x0e�', count=3718),\n",
       " Row(VendorID='R', count=3714),\n",
       " Row(VendorID='J.\\x00\\x0e�', count=3706),\n",
       " Row(VendorID='\\x16', count=3688),\n",
       " Row(VendorID='\\x01', count=3560),\n",
       " Row(VendorID='�\\x03', count=3510),\n",
       " Row(VendorID='A', count=3397),\n",
       " Row(VendorID='JE\\x00\\x0e�', count=3394),\n",
       " Row(VendorID='.', count=3374),\n",
       " Row(VendorID='�\\x10', count=3306),\n",
       " Row(VendorID='� ', count=3291),\n",
       " Row(VendorID='/', count=3288),\n",
       " Row(VendorID='J�\\x01\\x0e', count=3193),\n",
       " Row(VendorID='J\\\\\\x00\\x0e�', count=3163),\n",
       " Row(VendorID='�p', count=3153),\n",
       " Row(VendorID='�`', count=3152),\n",
       " Row(VendorID='\\x0b', count=3133),\n",
       " Row(VendorID='\\x0c', count=3109),\n",
       " Row(VendorID='5', count=3071),\n",
       " Row(VendorID='V', count=3014),\n",
       " Row(VendorID='Js\\x00\\x0e�', count=3007),\n",
       " Row(VendorID='\\x05', count=2970),\n",
       " Row(VendorID='�0', count=2968),\n",
       " Row(VendorID='\\x10', count=2964),\n",
       " Row(VendorID='\\x0b\\x0e�', count=2929),\n",
       " Row(VendorID='N\\x10', count=2904),\n",
       " Row(VendorID='8', count=2890),\n",
       " Row(VendorID='\\x08', count=2889),\n",
       " Row(VendorID='\\x04', count=2885),\n",
       " Row(VendorID='\\t', count=2796),\n",
       " Row(VendorID='\\x14', count=2794),\n",
       " Row(VendorID='3', count=2769),\n",
       " Row(VendorID='���', count=2714),\n",
       " Row(VendorID=\"N'\", count=2698),\n",
       " Row(VendorID='\\x02', count=2679),\n",
       " Row(VendorID='\\x0c\\x0e�', count=2662),\n",
       " Row(VendorID='\\x7f', count=2640),\n",
       " Row(VendorID='�\\x04', count=2631),\n",
       " Row(VendorID='N>', count=2626),\n",
       " Row(VendorID='\\x06', count=2603),\n",
       " Row(VendorID='Nl', count=2592),\n",
       " Row(VendorID='NU', count=2568),\n",
       " Row(VendorID='\\x1a', count=2557),\n",
       " Row(VendorID='6', count=2540),\n",
       " Row(VendorID='�\\x0e�', count=2509),\n",
       " Row(VendorID='�P', count=2503),\n",
       " Row(VendorID='\\x0f', count=2475),\n",
       " Row(VendorID='7', count=2436)]"
      ]
     },
     "execution_count": 14,
     "metadata": {},
     "output_type": "execute_result"
    }
   ],
   "source": [
    "top_n = (\n",
    "    df_dateparts\n",
    "    .groupBy('VendorID')\n",
    "    .count()\n",
    "    .sort(F.col('count').desc())\n",
    "    .limit(100)\n",
    "    .collect()\n",
    ")\n",
    "\n",
    "top_n"
   ]
  },
  {
   "cell_type": "code",
   "execution_count": 15,
   "metadata": {
    "execution": {
     "iopub.execute_input": "2021-04-25T11:37:03.829334Z",
     "iopub.status.busy": "2021-04-25T11:37:03.828825Z",
     "iopub.status.idle": "2021-04-25T11:37:03.868460Z",
     "shell.execute_reply": "2021-04-25T11:37:03.866565Z",
     "shell.execute_reply.started": "2021-04-25T11:37:03.829277Z"
    }
   },
   "outputs": [
    {
     "data": {
      "text/plain": [
       "['2',\n",
       " '1',\n",
       " '4',\n",
       " '�',\n",
       " '\\x0e�',\n",
       " '��',\n",
       " '\\x12�',\n",
       " 'N�',\n",
       " '�\\x00',\n",
       " 'F�',\n",
       " 'J�\\x00\\x0e�',\n",
       " '\\x0e',\n",
       " '�\\x01',\n",
       " 'R�',\n",
       " '!',\n",
       " '0',\n",
       " '@',\n",
       " 'N',\n",
       " 'J�\\x01\\x0e�',\n",
       " '\\x16�',\n",
       " 'J�\\x00\\x0e',\n",
       " '$',\n",
       " '(',\n",
       " '#',\n",
       " 'J�',\n",
       " '�@',\n",
       " '`',\n",
       " '%',\n",
       " 'F',\n",
       " '�\\x02',\n",
       " '\"',\n",
       " 'Z�',\n",
       " \"'\",\n",
       " ')',\n",
       " '&',\n",
       " 'J\\x17\\x00\\x0e�',\n",
       " '-',\n",
       " 'p',\n",
       " '\\x0e>',\n",
       " '*',\n",
       " 'P',\n",
       " 'V�',\n",
       " \"\\x0e'\",\n",
       " '\\x12',\n",
       " '\\x0el',\n",
       " '\\x0eU',\n",
       " '+',\n",
       " '\\x0e5',\n",
       " '\\x0eL',\n",
       " '\\x0ez',\n",
       " '\\x0ec',\n",
       " 'J�\\x02\\x0e�',\n",
       " 'R',\n",
       " 'J.\\x00\\x0e�',\n",
       " '\\x16',\n",
       " '\\x01',\n",
       " '�\\x03',\n",
       " 'A',\n",
       " 'JE\\x00\\x0e�',\n",
       " '.',\n",
       " '�\\x10',\n",
       " '� ',\n",
       " '/',\n",
       " 'J�\\x01\\x0e',\n",
       " 'J\\\\\\x00\\x0e�',\n",
       " '�p',\n",
       " '�`',\n",
       " '\\x0b',\n",
       " '\\x0c',\n",
       " '5',\n",
       " 'V',\n",
       " 'Js\\x00\\x0e�',\n",
       " '\\x05',\n",
       " '�0',\n",
       " '\\x10',\n",
       " '\\x0b\\x0e�',\n",
       " 'N\\x10',\n",
       " '8',\n",
       " '\\x08',\n",
       " '\\x04',\n",
       " '\\t',\n",
       " '\\x14',\n",
       " '3',\n",
       " '���',\n",
       " \"N'\",\n",
       " '\\x02',\n",
       " '\\x0c\\x0e�',\n",
       " '\\x7f',\n",
       " '�\\x04',\n",
       " 'N>',\n",
       " '\\x06',\n",
       " 'Nl',\n",
       " 'NU',\n",
       " '\\x1a',\n",
       " '6',\n",
       " '�\\x0e�',\n",
       " '�P',\n",
       " '\\x0f',\n",
       " '7']"
      ]
     },
     "execution_count": 15,
     "metadata": {},
     "output_type": "execute_result"
    }
   ],
   "source": [
    "valid_values = [e['VendorID'] for e in top_n if e['VendorID'] is not None]\n",
    "valid_values"
   ]
  },
  {
   "cell_type": "code",
   "execution_count": 16,
   "metadata": {
    "execution": {
     "iopub.execute_input": "2021-04-25T11:37:03.873103Z",
     "iopub.status.busy": "2021-04-25T11:37:03.872612Z",
     "iopub.status.idle": "2021-04-25T11:37:05.367655Z",
     "shell.execute_reply": "2021-04-25T11:37:05.365773Z",
     "shell.execute_reply.started": "2021-04-25T11:37:03.873010Z"
    }
   },
   "outputs": [],
   "source": [
    "col = 'VendorID'\n",
    "df_vendor = (\n",
    "    df_dateparts\n",
    "    .withColumn(col, \n",
    "                F.when(~F.col(col).isin(valid_values), 'null')\n",
    "                .otherwise(F.col(col)))\n",
    ")"
   ]
  },
  {
   "cell_type": "markdown",
   "metadata": {},
   "source": [
    "### Validation: `PULocationID`"
   ]
  },
  {
   "cell_type": "raw",
   "metadata": {
    "execution": {
     "iopub.execute_input": "2021-04-25T09:15:16.642926Z",
     "iopub.status.busy": "2021-04-25T09:15:16.642683Z",
     "iopub.status.idle": "2021-04-25T09:15:20.698186Z",
     "shell.execute_reply": "2021-04-25T09:15:20.697235Z",
     "shell.execute_reply.started": "2021-04-25T09:15:16.642901Z"
    }
   },
   "source": [
    "(\n",
    "    df_dateparts\n",
    "    .groupBy('PULocationID')\n",
    "    .count()\n",
    "    .sort(F.col('count').desc())\n",
    "    .show()\n",
    ")"
   ]
  },
  {
   "cell_type": "code",
   "execution_count": 17,
   "metadata": {
    "execution": {
     "iopub.execute_input": "2021-04-25T11:37:05.370087Z",
     "iopub.status.busy": "2021-04-25T11:37:05.369735Z",
     "iopub.status.idle": "2021-04-25T11:37:12.757269Z",
     "shell.execute_reply": "2021-04-25T11:37:12.755849Z",
     "shell.execute_reply.started": "2021-04-25T11:37:05.370038Z"
    }
   },
   "outputs": [
    {
     "data": {
      "text/plain": [
       "[Row(PULocationID=None, count=33172537),\n",
       " Row(PULocationID='237', count=4788089),\n",
       " Row(PULocationID='161', count=4398323),\n",
       " Row(PULocationID='236', count=4398183),\n",
       " Row(PULocationID='186', count=3890491),\n",
       " Row(PULocationID='162', count=3879188),\n",
       " Row(PULocationID='230', count=3589107),\n",
       " Row(PULocationID='48', count=3409675),\n",
       " Row(PULocationID='132', count=3361237),\n",
       " Row(PULocationID='170', count=3360614),\n",
       " Row(PULocationID='142', count=3280291),\n",
       " Row(PULocationID='234', count=3216647),\n",
       " Row(PULocationID='239', count=2888382),\n",
       " Row(PULocationID='163', count=2867917),\n",
       " Row(PULocationID='79', count=2710559),\n",
       " Row(PULocationID='141', count=2649092),\n",
       " Row(PULocationID='68', count=2598115),\n",
       " Row(PULocationID='138', count=2567229),\n",
       " Row(PULocationID='107', count=2460272),\n",
       " Row(PULocationID='164', count=2458499),\n",
       " Row(PULocationID='238', count=2265321),\n",
       " Row(PULocationID='100', count=2191074),\n",
       " Row(PULocationID='263', count=2125817),\n",
       " Row(PULocationID='229', count=2098217),\n",
       " Row(PULocationID='249', count=2094299),\n",
       " Row(PULocationID='140', count=2083094),\n",
       " Row(PULocationID='90', count=1911726),\n",
       " Row(PULocationID='43', count=1783742),\n",
       " Row(PULocationID='231', count=1742322),\n",
       " Row(PULocationID='246', count=1726662),\n",
       " Row(PULocationID='113', count=1630759),\n",
       " Row(PULocationID='233', count=1418024),\n",
       " Row(PULocationID='75', count=1416517),\n",
       " Row(PULocationID='137', count=1385422),\n",
       " Row(PULocationID='262', count=1380091),\n",
       " Row(PULocationID='114', count=1334996),\n",
       " Row(PULocationID='143', count=1301681),\n",
       " Row(PULocationID='148', count=1270369),\n",
       " Row(PULocationID='74', count=1086969),\n",
       " Row(PULocationID='158', count=1030313),\n",
       " Row(PULocationID='151', count=1029851),\n",
       " Row(PULocationID='144', count=1012147),\n",
       " Row(PULocationID='264', count=967638),\n",
       " Row(PULocationID='50', count=939473),\n",
       " Row(PULocationID='166', count=906970),\n",
       " Row(PULocationID='41', count=897897),\n",
       " Row(PULocationID='13', count=893215),\n",
       " Row(PULocationID='211', count=824321),\n",
       " Row(PULocationID='87', count=737616),\n",
       " Row(PULocationID='261', count=603067),\n",
       " Row(PULocationID='125', count=584686),\n",
       " Row(PULocationID='42', count=494823),\n",
       " Row(PULocationID='7', count=449689),\n",
       " Row(PULocationID='88', count=394793),\n",
       " Row(PULocationID='24', count=368779),\n",
       " Row(PULocationID='82', count=357790),\n",
       " Row(PULocationID='244', count=332383),\n",
       " Row(PULocationID='97', count=302461),\n",
       " Row(PULocationID='65', count=295752),\n",
       " Row(PULocationID='33', count=279361),\n",
       " Row(PULocationID='116', count=255448),\n",
       " Row(PULocationID='95', count=250421),\n",
       " Row(PULocationID='129', count=241051),\n",
       " Row(PULocationID='25', count=233476),\n",
       " Row(PULocationID='181', count=223248),\n",
       " Row(PULocationID='209', count=222663),\n",
       " Row(PULocationID='226', count=214078),\n",
       " Row(PULocationID='224', count=213257),\n",
       " Row(PULocationID='45', count=202344),\n",
       " Row(PULocationID='260', count=202068),\n",
       " Row(PULocationID='145', count=201034),\n",
       " Row(PULocationID='4', count=179091),\n",
       " Row(PULocationID='152', count=173512),\n",
       " Row(PULocationID='66', count=171053),\n",
       " Row(PULocationID='255', count=162286),\n",
       " Row(PULocationID='130', count=160856),\n",
       " Row(PULocationID='232', count=155825),\n",
       " Row(PULocationID='223', count=152933),\n",
       " Row(PULocationID='146', count=130312),\n",
       " Row(PULocationID='61', count=121435),\n",
       " Row(PULocationID='52', count=119079),\n",
       " Row(PULocationID='193', count=116302),\n",
       " Row(PULocationID='265', count=110027),\n",
       " Row(PULocationID='179', count=101418),\n",
       " Row(PULocationID='256', count=94350),\n",
       " Row(PULocationID='49', count=90507),\n",
       " Row(PULocationID='76', count=80839),\n",
       " Row(PULocationID='196', count=76903),\n",
       " Row(PULocationID='40', count=76687),\n",
       " Row(PULocationID='17', count=75514),\n",
       " Row(PULocationID='188', count=74962),\n",
       " Row(PULocationID='134', count=73633),\n",
       " Row(PULocationID='80', count=72541),\n",
       " Row(PULocationID='92', count=69827),\n",
       " Row(PULocationID='112', count=67930),\n",
       " Row(PULocationID='243', count=64650),\n",
       " Row(PULocationID='89', count=62606),\n",
       " Row(PULocationID='168', count=61924),\n",
       " Row(PULocationID='225', count=59799),\n",
       " Row(PULocationID='247', count=57032)]"
      ]
     },
     "execution_count": 17,
     "metadata": {},
     "output_type": "execute_result"
    }
   ],
   "source": [
    "top_n = (\n",
    "    df_dateparts\n",
    "    .groupBy('PULocationID')\n",
    "    .count()\n",
    "    .sort(F.col('count').desc())\n",
    "    .limit(100)\n",
    "    .collect()\n",
    ")\n",
    "\n",
    "top_n"
   ]
  },
  {
   "cell_type": "code",
   "execution_count": 18,
   "metadata": {
    "execution": {
     "iopub.execute_input": "2021-04-25T11:37:12.764217Z",
     "iopub.status.busy": "2021-04-25T11:37:12.763744Z",
     "iopub.status.idle": "2021-04-25T11:37:12.812253Z",
     "shell.execute_reply": "2021-04-25T11:37:12.810325Z",
     "shell.execute_reply.started": "2021-04-25T11:37:12.764168Z"
    }
   },
   "outputs": [
    {
     "data": {
      "text/plain": [
       "[None,\n",
       " '237',\n",
       " '161',\n",
       " '236',\n",
       " '186',\n",
       " '162',\n",
       " '230',\n",
       " '48',\n",
       " '132',\n",
       " '170',\n",
       " '142',\n",
       " '234',\n",
       " '239',\n",
       " '163',\n",
       " '79',\n",
       " '141',\n",
       " '68',\n",
       " '138',\n",
       " '107',\n",
       " '164',\n",
       " '238',\n",
       " '100',\n",
       " '263',\n",
       " '229',\n",
       " '249',\n",
       " '140',\n",
       " '90',\n",
       " '43',\n",
       " '231',\n",
       " '246',\n",
       " '113',\n",
       " '233',\n",
       " '75',\n",
       " '137',\n",
       " '262',\n",
       " '114',\n",
       " '143',\n",
       " '148',\n",
       " '74',\n",
       " '158',\n",
       " '151',\n",
       " '144',\n",
       " '264',\n",
       " '50',\n",
       " '166',\n",
       " '41',\n",
       " '13',\n",
       " '211',\n",
       " '87',\n",
       " '261',\n",
       " '125',\n",
       " '42',\n",
       " '7',\n",
       " '88',\n",
       " '24',\n",
       " '82',\n",
       " '244',\n",
       " '97',\n",
       " '65',\n",
       " '33',\n",
       " '116',\n",
       " '95',\n",
       " '129',\n",
       " '25',\n",
       " '181',\n",
       " '209',\n",
       " '226',\n",
       " '224',\n",
       " '45',\n",
       " '260',\n",
       " '145',\n",
       " '4',\n",
       " '152',\n",
       " '66',\n",
       " '255',\n",
       " '130',\n",
       " '232',\n",
       " '223',\n",
       " '146',\n",
       " '61',\n",
       " '52',\n",
       " '193',\n",
       " '265',\n",
       " '179',\n",
       " '256',\n",
       " '49',\n",
       " '76',\n",
       " '196',\n",
       " '40',\n",
       " '17',\n",
       " '188',\n",
       " '134',\n",
       " '80',\n",
       " '92',\n",
       " '112',\n",
       " '243',\n",
       " '89',\n",
       " '168',\n",
       " '225',\n",
       " '247']"
      ]
     },
     "execution_count": 18,
     "metadata": {},
     "output_type": "execute_result"
    }
   ],
   "source": [
    "valid_values = [e['PULocationID'] for e in top_n]\n",
    "valid_values"
   ]
  },
  {
   "cell_type": "code",
   "execution_count": 19,
   "metadata": {
    "execution": {
     "iopub.execute_input": "2021-04-25T11:37:12.815057Z",
     "iopub.status.busy": "2021-04-25T11:37:12.814673Z",
     "iopub.status.idle": "2021-04-25T11:37:13.436714Z",
     "shell.execute_reply": "2021-04-25T11:37:13.435252Z",
     "shell.execute_reply.started": "2021-04-25T11:37:12.815007Z"
    }
   },
   "outputs": [],
   "source": [
    "col = 'PULocationID'\n",
    "df_pulocationid = (\n",
    "    df_vendor\n",
    "    .withColumn(col, \n",
    "                F.when(F.col(col).isin(valid_values[1:]), F.col(col))\n",
    "                .otherwise('null'))\n",
    ")"
   ]
  },
  {
   "cell_type": "raw",
   "metadata": {
    "execution": {
     "iopub.execute_input": "2021-04-25T09:15:24.213574Z",
     "iopub.status.busy": "2021-04-25T09:15:24.213374Z",
     "iopub.status.idle": "2021-04-25T09:15:27.919502Z",
     "shell.execute_reply": "2021-04-25T09:15:27.918517Z",
     "shell.execute_reply.started": "2021-04-25T09:15:24.213551Z"
    }
   },
   "source": [
    "(\n",
    "    df_pulocationid\n",
    "    .groupBy('PULocationID')\n",
    "    .count()\n",
    "    .sort(F.col('count').desc())\n",
    "    .show()\n",
    ")"
   ]
  },
  {
   "cell_type": "markdown",
   "metadata": {},
   "source": [
    "### Validation: `DOLocationID`"
   ]
  },
  {
   "cell_type": "raw",
   "metadata": {
    "execution": {
     "iopub.execute_input": "2021-04-25T09:15:27.920958Z",
     "iopub.status.busy": "2021-04-25T09:15:27.920766Z",
     "iopub.status.idle": "2021-04-25T09:15:31.300525Z",
     "shell.execute_reply": "2021-04-25T09:15:31.299633Z",
     "shell.execute_reply.started": "2021-04-25T09:15:27.920935Z"
    }
   },
   "source": [
    "(\n",
    "    df_pulocationid\n",
    "    .groupBy('DOLocationID')\n",
    "    .count()\n",
    "    .sort(F.col('count').desc())\n",
    "    .show()\n",
    ")"
   ]
  },
  {
   "cell_type": "code",
   "execution_count": 20,
   "metadata": {
    "execution": {
     "iopub.execute_input": "2021-04-25T11:37:13.438778Z",
     "iopub.status.busy": "2021-04-25T11:37:13.438326Z",
     "iopub.status.idle": "2021-04-25T11:37:21.208265Z",
     "shell.execute_reply": "2021-04-25T11:37:21.206745Z",
     "shell.execute_reply.started": "2021-04-25T11:37:13.438730Z"
    }
   },
   "outputs": [
    {
     "data": {
      "text/plain": [
       "[Row(DOLocationID=None, count=33177811),\n",
       " Row(DOLocationID='236', count=4678456),\n",
       " Row(DOLocationID='237', count=4325226),\n",
       " Row(DOLocationID='161', count=4135680),\n",
       " Row(DOLocationID='170', count=3409310),\n",
       " Row(DOLocationID='162', count=3248441),\n",
       " Row(DOLocationID='230', count=3188425),\n",
       " Row(DOLocationID='48', count=3014969),\n",
       " Row(DOLocationID='142', count=2997134),\n",
       " Row(DOLocationID='239', count=2863508),\n",
       " Row(DOLocationID='234', count=2792470),\n",
       " Row(DOLocationID='141', count=2787876),\n",
       " Row(DOLocationID='186', count=2755437),\n",
       " Row(DOLocationID='163', count=2557537),\n",
       " Row(DOLocationID='238', count=2497880),\n",
       " Row(DOLocationID='68', count=2482786),\n",
       " Row(DOLocationID='79', count=2345136),\n",
       " Row(DOLocationID='107', count=2251145),\n",
       " Row(DOLocationID='164', count=2233307),\n",
       " Row(DOLocationID='263', count=2197062),\n",
       " Row(DOLocationID='140', count=2127942),\n",
       " Row(DOLocationID='229', count=2082053),\n",
       " Row(DOLocationID='246', count=2081797),\n",
       " Row(DOLocationID='231', count=1750589),\n",
       " Row(DOLocationID='249', count=1734279),\n",
       " Row(DOLocationID='100', count=1702337),\n",
       " Row(DOLocationID='75', count=1673065),\n",
       " Row(DOLocationID='233', count=1631663),\n",
       " Row(DOLocationID='90', count=1585400),\n",
       " Row(DOLocationID='137', count=1532201),\n",
       " Row(DOLocationID='143', count=1528183),\n",
       " Row(DOLocationID='262', count=1512274),\n",
       " Row(DOLocationID='43', count=1437108),\n",
       " Row(DOLocationID='113', count=1436436),\n",
       " Row(DOLocationID='50', count=1292310),\n",
       " Row(DOLocationID='74', count=1246027),\n",
       " Row(DOLocationID='138', count=1212719),\n",
       " Row(DOLocationID='151', count=1069418),\n",
       " Row(DOLocationID='148', count=1058741),\n",
       " Row(DOLocationID='158', count=1056898),\n",
       " Row(DOLocationID='114', count=1052871),\n",
       " Row(DOLocationID='166', count=1004543),\n",
       " Row(DOLocationID='41', count=1004062),\n",
       " Row(DOLocationID='132', count=966478),\n",
       " Row(DOLocationID='13', count=959215),\n",
       " Row(DOLocationID='264', count=953594),\n",
       " Row(DOLocationID='144', count=935116),\n",
       " Row(DOLocationID='211', count=861141),\n",
       " Row(DOLocationID='87', count=837826),\n",
       " Row(DOLocationID='42', count=812987),\n",
       " Row(DOLocationID='7', count=590957),\n",
       " Row(DOLocationID='125', count=532872),\n",
       " Row(DOLocationID='244', count=518575),\n",
       " Row(DOLocationID='261', count=495565),\n",
       " Row(DOLocationID='232', count=484177),\n",
       " Row(DOLocationID='4', count=479537),\n",
       " Row(DOLocationID='181', count=446421),\n",
       " Row(DOLocationID='224', count=443013),\n",
       " Row(DOLocationID='116', count=428223),\n",
       " Row(DOLocationID='24', count=427548),\n",
       " Row(DOLocationID='88', count=417897),\n",
       " Row(DOLocationID='129', count=400472),\n",
       " Row(DOLocationID='145', count=393977),\n",
       " Row(DOLocationID='33', count=379737),\n",
       " Row(DOLocationID='226', count=339122),\n",
       " Row(DOLocationID='223', count=318363),\n",
       " Row(DOLocationID='209', count=310380),\n",
       " Row(DOLocationID='255', count=305484),\n",
       " Row(DOLocationID='265', count=296157),\n",
       " Row(DOLocationID='45', count=292827),\n",
       " Row(DOLocationID='61', count=286369),\n",
       " Row(DOLocationID='256', count=276725),\n",
       " Row(DOLocationID='97', count=274832),\n",
       " Row(DOLocationID='152', count=267859),\n",
       " Row(DOLocationID='25', count=264961),\n",
       " Row(DOLocationID='112', count=263142),\n",
       " Row(DOLocationID='95', count=254447),\n",
       " Row(DOLocationID='49', count=252392),\n",
       " Row(DOLocationID='243', count=250271),\n",
       " Row(DOLocationID='65', count=241013),\n",
       " Row(DOLocationID='82', count=220564),\n",
       " Row(DOLocationID='1', count=212353),\n",
       " Row(DOLocationID='17', count=207780),\n",
       " Row(DOLocationID='179', count=205689),\n",
       " Row(DOLocationID='260', count=200819),\n",
       " Row(DOLocationID='80', count=192004),\n",
       " Row(DOLocationID='66', count=190264),\n",
       " Row(DOLocationID='37', count=167940),\n",
       " Row(DOLocationID='146', count=165254),\n",
       " Row(DOLocationID='225', count=161545),\n",
       " Row(DOLocationID='168', count=157900),\n",
       " Row(DOLocationID='40', count=155053),\n",
       " Row(DOLocationID='89', count=152003),\n",
       " Row(DOLocationID='193', count=149953),\n",
       " Row(DOLocationID='188', count=147798),\n",
       " Row(DOLocationID='189', count=137555),\n",
       " Row(DOLocationID='52', count=114509),\n",
       " Row(DOLocationID='14', count=114070),\n",
       " Row(DOLocationID='76', count=111752),\n",
       " Row(DOLocationID='216', count=111705)]"
      ]
     },
     "execution_count": 20,
     "metadata": {},
     "output_type": "execute_result"
    }
   ],
   "source": [
    "top_n = (\n",
    "    df_pulocationid\n",
    "    .groupBy('DOLocationID')\n",
    "    .count()\n",
    "    .sort(F.col('count').desc())\n",
    "    .limit(100)\n",
    "    .collect()\n",
    ")\n",
    "\n",
    "top_n"
   ]
  },
  {
   "cell_type": "code",
   "execution_count": 21,
   "metadata": {
    "execution": {
     "iopub.execute_input": "2021-04-25T11:37:21.210345Z",
     "iopub.status.busy": "2021-04-25T11:37:21.209925Z",
     "iopub.status.idle": "2021-04-25T11:37:21.246061Z",
     "shell.execute_reply": "2021-04-25T11:37:21.244793Z",
     "shell.execute_reply.started": "2021-04-25T11:37:21.210290Z"
    }
   },
   "outputs": [
    {
     "data": {
      "text/plain": [
       "[None,\n",
       " '236',\n",
       " '237',\n",
       " '161',\n",
       " '170',\n",
       " '162',\n",
       " '230',\n",
       " '48',\n",
       " '142',\n",
       " '239',\n",
       " '234',\n",
       " '141',\n",
       " '186',\n",
       " '163',\n",
       " '238',\n",
       " '68',\n",
       " '79',\n",
       " '107',\n",
       " '164',\n",
       " '263',\n",
       " '140',\n",
       " '229',\n",
       " '246',\n",
       " '231',\n",
       " '249',\n",
       " '100',\n",
       " '75',\n",
       " '233',\n",
       " '90',\n",
       " '137',\n",
       " '143',\n",
       " '262',\n",
       " '43',\n",
       " '113',\n",
       " '50',\n",
       " '74',\n",
       " '138',\n",
       " '151',\n",
       " '148',\n",
       " '158',\n",
       " '114',\n",
       " '166',\n",
       " '41',\n",
       " '132',\n",
       " '13',\n",
       " '264',\n",
       " '144',\n",
       " '211',\n",
       " '87',\n",
       " '42',\n",
       " '7',\n",
       " '125',\n",
       " '244',\n",
       " '261',\n",
       " '232',\n",
       " '4',\n",
       " '181',\n",
       " '224',\n",
       " '116',\n",
       " '24',\n",
       " '88',\n",
       " '129',\n",
       " '145',\n",
       " '33',\n",
       " '226',\n",
       " '223',\n",
       " '209',\n",
       " '255',\n",
       " '265',\n",
       " '45',\n",
       " '61',\n",
       " '256',\n",
       " '97',\n",
       " '152',\n",
       " '25',\n",
       " '112',\n",
       " '95',\n",
       " '49',\n",
       " '243',\n",
       " '65',\n",
       " '82',\n",
       " '1',\n",
       " '17',\n",
       " '179',\n",
       " '260',\n",
       " '80',\n",
       " '66',\n",
       " '37',\n",
       " '146',\n",
       " '225',\n",
       " '168',\n",
       " '40',\n",
       " '89',\n",
       " '193',\n",
       " '188',\n",
       " '189',\n",
       " '52',\n",
       " '14',\n",
       " '76',\n",
       " '216']"
      ]
     },
     "execution_count": 21,
     "metadata": {},
     "output_type": "execute_result"
    }
   ],
   "source": [
    "valid_values = [e['DOLocationID'] for e in top_n]\n",
    "valid_values"
   ]
  },
  {
   "cell_type": "code",
   "execution_count": 22,
   "metadata": {
    "execution": {
     "iopub.execute_input": "2021-04-25T11:37:21.248017Z",
     "iopub.status.busy": "2021-04-25T11:37:21.247750Z",
     "iopub.status.idle": "2021-04-25T11:37:21.879995Z",
     "shell.execute_reply": "2021-04-25T11:37:21.878232Z",
     "shell.execute_reply.started": "2021-04-25T11:37:21.247985Z"
    }
   },
   "outputs": [],
   "source": [
    "col = 'DOLocationID'\n",
    "df_dolocationid = (\n",
    "    df_pulocationid\n",
    "    .withColumn(col, \n",
    "                F.when(F.col(col).isin(valid_values[:]), F.col(col))\n",
    "                .otherwise('null'))\n",
    ")"
   ]
  },
  {
   "cell_type": "raw",
   "metadata": {
    "execution": {
     "iopub.execute_input": "2021-04-25T09:15:34.834705Z",
     "iopub.status.busy": "2021-04-25T09:15:34.834498Z",
     "iopub.status.idle": "2021-04-25T09:15:38.453859Z",
     "shell.execute_reply": "2021-04-25T09:15:38.452896Z",
     "shell.execute_reply.started": "2021-04-25T09:15:34.834682Z"
    }
   },
   "source": [
    "(\n",
    "    df_dolocationid\n",
    "    .groupBy('DOLocationID')\n",
    "    .count()\n",
    "    .sort(F.col('count').desc())\n",
    "    .show()\n",
    ")"
   ]
  },
  {
   "cell_type": "markdown",
   "metadata": {},
   "source": [
    "### Validation: `Store_and_fwd_flag`\n",
    "\n",
    "There are values that are neither `Y` nor `N`. These will be converted to nulls."
   ]
  },
  {
   "cell_type": "raw",
   "metadata": {
    "execution": {
     "iopub.execute_input": "2021-04-25T09:15:38.455388Z",
     "iopub.status.busy": "2021-04-25T09:15:38.455163Z",
     "iopub.status.idle": "2021-04-25T09:15:41.402046Z",
     "shell.execute_reply": "2021-04-25T09:15:41.400753Z",
     "shell.execute_reply.started": "2021-04-25T09:15:38.455365Z"
    }
   },
   "source": [
    "(\n",
    "    df_dolocationid\n",
    "    .groupBy('Store_and_fwd_flag')\n",
    "    .count()\n",
    "    .sort(F.col('count').desc())\n",
    "    .show()\n",
    ")"
   ]
  },
  {
   "cell_type": "raw",
   "metadata": {
    "execution": {
     "iopub.execute_input": "2021-04-25T09:15:41.403372Z",
     "iopub.status.busy": "2021-04-25T09:15:41.403181Z",
     "iopub.status.idle": "2021-04-25T09:15:44.594274Z",
     "shell.execute_reply": "2021-04-25T09:15:44.593352Z",
     "shell.execute_reply.started": "2021-04-25T09:15:41.403349Z"
    }
   },
   "source": [
    "valid_values = ['N', 'Y', None]\n",
    "col = 'Store_and_fwd_flag'\n",
    "(\n",
    "    df_dolocationid\n",
    "    .withColumn(col, \n",
    "                F.when(~F.col(col).isin(valid_values), 'null')\n",
    "                .otherwise(F.col(col)))\n",
    "    .groupBy(col)\n",
    "    .count()\n",
    "    .sort(F.col('count').desc())\n",
    "    .show()\n",
    ")"
   ]
  },
  {
   "cell_type": "raw",
   "metadata": {
    "execution": {
     "iopub.execute_input": "2021-04-25T09:15:44.595595Z",
     "iopub.status.busy": "2021-04-25T09:15:44.595399Z",
     "iopub.status.idle": "2021-04-25T09:15:47.610609Z",
     "shell.execute_reply": "2021-04-25T09:15:47.609769Z",
     "shell.execute_reply.started": "2021-04-25T09:15:44.595571Z"
    },
    "tags": []
   },
   "source": [
    "valid_values = ['N', 'Y', 'null']\n",
    "col = 'Store_and_fwd_flag'\n",
    "(\n",
    "    df_dolocationid\n",
    "    .withColumn(col, \n",
    "                F.when(~F.col('Store_and_fwd_flag').isin(valid_values), 'null')\n",
    "                .otherwise(F.col('Store_and_fwd_flag')))\n",
    "    .groupBy(col)\n",
    "    .count()\n",
    "    .sort(F.col('count').desc())\n",
    "    .show()\n",
    ")"
   ]
  },
  {
   "cell_type": "code",
   "execution_count": 23,
   "metadata": {
    "execution": {
     "iopub.execute_input": "2021-04-25T11:37:21.882688Z",
     "iopub.status.busy": "2021-04-25T11:37:21.882200Z",
     "iopub.status.idle": "2021-04-25T11:37:21.996070Z",
     "shell.execute_reply": "2021-04-25T11:37:21.994105Z",
     "shell.execute_reply.started": "2021-04-25T11:37:21.882626Z"
    },
    "tags": []
   },
   "outputs": [],
   "source": [
    "valid_values = ['N', 'Y']\n",
    "col = 'Store_and_fwd_flag'\n",
    "df_validated_store = (\n",
    "    df_dolocationid\n",
    "    .withColumn(col, \n",
    "                F.when(~F.col(col).isin(valid_values), 'null')\n",
    "                .otherwise(F.col(col)))\n",
    ")"
   ]
  },
  {
   "cell_type": "raw",
   "metadata": {
    "execution": {
     "iopub.execute_input": "2021-04-25T09:15:47.683054Z",
     "iopub.status.busy": "2021-04-25T09:15:47.682866Z",
     "iopub.status.idle": "2021-04-25T09:15:50.563941Z",
     "shell.execute_reply": "2021-04-25T09:15:50.563023Z",
     "shell.execute_reply.started": "2021-04-25T09:15:47.683031Z"
    }
   },
   "source": [
    "(\n",
    "    df_validated_store\n",
    "    .groupBy(col)\n",
    "    .count()\n",
    "    .sort(F.col('count').desc())\n",
    "    .limit(5)\n",
    "    .show()\n",
    ")"
   ]
  },
  {
   "cell_type": "markdown",
   "metadata": {},
   "source": [
    "### Validation: `Payment_type`"
   ]
  },
  {
   "cell_type": "code",
   "execution_count": 24,
   "metadata": {
    "execution": {
     "iopub.execute_input": "2021-04-25T11:37:21.998768Z",
     "iopub.status.busy": "2021-04-25T11:37:21.998233Z",
     "iopub.status.idle": "2021-04-25T11:37:22.051625Z",
     "shell.execute_reply": "2021-04-25T11:37:22.050072Z",
     "shell.execute_reply.started": "2021-04-25T11:37:21.998695Z"
    },
    "tags": []
   },
   "outputs": [],
   "source": [
    "col = 'Payment_type'\n",
    "valid_values = [1, 2, 3, 4, 5, 6]"
   ]
  },
  {
   "cell_type": "raw",
   "metadata": {
    "execution": {
     "iopub.execute_input": "2021-04-25T09:15:50.584612Z",
     "iopub.status.busy": "2021-04-25T09:15:50.584421Z",
     "iopub.status.idle": "2021-04-25T09:15:53.636574Z",
     "shell.execute_reply": "2021-04-25T09:15:53.635633Z",
     "shell.execute_reply.started": "2021-04-25T09:15:50.584589Z"
    }
   },
   "source": [
    "(\n",
    "    df_validated_store\n",
    "    .groupBy(col)\n",
    "    .count()\n",
    "    .sort(F.col('count').desc())\n",
    "    .show()\n",
    ")"
   ]
  },
  {
   "cell_type": "code",
   "execution_count": 25,
   "metadata": {
    "execution": {
     "iopub.execute_input": "2021-04-25T11:37:22.055267Z",
     "iopub.status.busy": "2021-04-25T11:37:22.054830Z",
     "iopub.status.idle": "2021-04-25T11:37:22.166566Z",
     "shell.execute_reply": "2021-04-25T11:37:22.165699Z",
     "shell.execute_reply.started": "2021-04-25T11:37:22.055206Z"
    },
    "tags": []
   },
   "outputs": [],
   "source": [
    "df_validated_payment = (\n",
    "    df_validated_store\n",
    "    .withColumn(col, \n",
    "                F.when(~F.col(col).isin(valid_values), None)\n",
    "                .otherwise(F.col(col)))\n",
    ")"
   ]
  },
  {
   "cell_type": "raw",
   "metadata": {
    "execution": {
     "iopub.execute_input": "2021-04-25T09:15:53.716135Z",
     "iopub.status.busy": "2021-04-25T09:15:53.715941Z",
     "iopub.status.idle": "2021-04-25T09:15:57.236305Z",
     "shell.execute_reply": "2021-04-25T09:15:57.235368Z",
     "shell.execute_reply.started": "2021-04-25T09:15:53.716112Z"
    }
   },
   "source": [
    "(\n",
    "    df_validated_payment\n",
    "    .groupBy(col)\n",
    "    .count()\n",
    "    .sort(F.col('count').desc())\n",
    "    .show()\n",
    ")"
   ]
  },
  {
   "cell_type": "markdown",
   "metadata": {},
   "source": [
    "### Validation: `RatecodeID`\n",
    "\n",
    "There are codes other than the defined 1, 2, 3, 4, 5, 6 in the data dictionary. Assume that values between 1 - 1.9999 are considered to be 1, similarly for the other integers."
   ]
  },
  {
   "cell_type": "code",
   "execution_count": 26,
   "metadata": {
    "execution": {
     "iopub.execute_input": "2021-04-25T11:37:22.177008Z",
     "iopub.status.busy": "2021-04-25T11:37:22.168308Z",
     "iopub.status.idle": "2021-04-25T11:37:22.199900Z",
     "shell.execute_reply": "2021-04-25T11:37:22.198816Z",
     "shell.execute_reply.started": "2021-04-25T11:37:22.176944Z"
    }
   },
   "outputs": [],
   "source": [
    "col = 'RatecodeID'\n",
    "valid_values = [1, 2, 3, 4, 5, 6]"
   ]
  },
  {
   "cell_type": "raw",
   "metadata": {
    "execution": {
     "iopub.execute_input": "2021-04-25T09:15:57.257558Z",
     "iopub.status.busy": "2021-04-25T09:15:57.257371Z",
     "iopub.status.idle": "2021-04-25T09:16:00.406746Z",
     "shell.execute_reply": "2021-04-25T09:16:00.405831Z",
     "shell.execute_reply.started": "2021-04-25T09:15:57.257535Z"
    }
   },
   "source": [
    "(\n",
    "    df_validated_payment\n",
    "    .groupBy(col)\n",
    "    .count()\n",
    "    .sort(F.col(col))\n",
    "    .show(100)\n",
    ")"
   ]
  },
  {
   "cell_type": "code",
   "execution_count": 27,
   "metadata": {
    "execution": {
     "iopub.execute_input": "2021-04-25T11:37:22.201684Z",
     "iopub.status.busy": "2021-04-25T11:37:22.201418Z",
     "iopub.status.idle": "2021-04-25T11:37:22.292076Z",
     "shell.execute_reply": "2021-04-25T11:37:22.290603Z",
     "shell.execute_reply.started": "2021-04-25T11:37:22.201655Z"
    },
    "tags": []
   },
   "outputs": [],
   "source": [
    "df_validated_ratecode = (\n",
    "    df_validated_payment\n",
    "    .withColumn(col, when(F.col(col).isin(valid_values), F.col(col))\n",
    "                     .otherwise('null'))\n",
    ")"
   ]
  },
  {
   "cell_type": "raw",
   "metadata": {
    "execution": {
     "iopub.execute_input": "2021-04-25T09:16:00.487538Z",
     "iopub.status.busy": "2021-04-25T09:16:00.487291Z",
     "iopub.status.idle": "2021-04-25T09:16:03.443880Z",
     "shell.execute_reply": "2021-04-25T09:16:03.442944Z",
     "shell.execute_reply.started": "2021-04-25T09:16:00.487514Z"
    }
   },
   "source": [
    "(\n",
    "    df_validated_ratecode\n",
    "    .groupBy(col)\n",
    "    .count()\n",
    "    .sort(F.col(col))\n",
    "    .show()\n",
    ")"
   ]
  },
  {
   "cell_type": "markdown",
   "metadata": {},
   "source": [
    "## Validate: `Total_amount`\n",
    "\n",
    "`Total_amount` should be >= 0."
   ]
  },
  {
   "cell_type": "code",
   "execution_count": 28,
   "metadata": {
    "execution": {
     "iopub.execute_input": "2021-04-25T11:37:22.293982Z",
     "iopub.status.busy": "2021-04-25T11:37:22.293708Z",
     "iopub.status.idle": "2021-04-25T11:37:22.331602Z",
     "shell.execute_reply": "2021-04-25T11:37:22.329656Z",
     "shell.execute_reply.started": "2021-04-25T11:37:22.293952Z"
    },
    "tags": []
   },
   "outputs": [],
   "source": [
    "col = 'Total_amount'"
   ]
  },
  {
   "cell_type": "raw",
   "metadata": {
    "execution": {
     "iopub.execute_input": "2021-04-25T09:16:03.466127Z",
     "iopub.status.busy": "2021-04-25T09:16:03.465938Z",
     "iopub.status.idle": "2021-04-25T09:16:06.052153Z",
     "shell.execute_reply": "2021-04-25T09:16:06.051140Z",
     "shell.execute_reply.started": "2021-04-25T09:16:03.466105Z"
    }
   },
   "source": [
    "(\n",
    "    df_validated_ratecode\n",
    "    .select(col)\n",
    "    .describe()\n",
    "    .show()\n",
    ")"
   ]
  },
  {
   "cell_type": "code",
   "execution_count": 29,
   "metadata": {
    "execution": {
     "iopub.execute_input": "2021-04-25T11:37:22.333961Z",
     "iopub.status.busy": "2021-04-25T11:37:22.333555Z",
     "iopub.status.idle": "2021-04-25T11:37:22.390690Z",
     "shell.execute_reply": "2021-04-25T11:37:22.388973Z",
     "shell.execute_reply.started": "2021-04-25T11:37:22.333910Z"
    },
    "tags": []
   },
   "outputs": [],
   "source": [
    "df_validated_amount = (\n",
    "    df_validated_ratecode\n",
    "    .withColumn(col, F.abs(F.col(col)))\n",
    ")"
   ]
  },
  {
   "cell_type": "markdown",
   "metadata": {},
   "source": [
    "## Validate: `Fare_amount`\n",
    "\n",
    "`Fare_amount` should be >= 0."
   ]
  },
  {
   "cell_type": "code",
   "execution_count": 30,
   "metadata": {
    "execution": {
     "iopub.execute_input": "2021-04-25T11:37:22.393327Z",
     "iopub.status.busy": "2021-04-25T11:37:22.392812Z",
     "iopub.status.idle": "2021-04-25T11:37:22.428790Z",
     "shell.execute_reply": "2021-04-25T11:37:22.427480Z",
     "shell.execute_reply.started": "2021-04-25T11:37:22.393269Z"
    },
    "tags": []
   },
   "outputs": [],
   "source": [
    "col = 'Fare_amount'"
   ]
  },
  {
   "cell_type": "raw",
   "metadata": {
    "execution": {
     "iopub.execute_input": "2021-04-25T09:16:06.098512Z",
     "iopub.status.busy": "2021-04-25T09:16:06.098320Z",
     "iopub.status.idle": "2021-04-25T09:16:08.526540Z",
     "shell.execute_reply": "2021-04-25T09:16:08.525650Z",
     "shell.execute_reply.started": "2021-04-25T09:16:06.098489Z"
    }
   },
   "source": [
    "(\n",
    "    df_validated_amount\n",
    "    .select(col)\n",
    "    .describe()\n",
    "    .show()\n",
    ")"
   ]
  },
  {
   "cell_type": "code",
   "execution_count": 31,
   "metadata": {
    "execution": {
     "iopub.execute_input": "2021-04-25T11:37:22.430843Z",
     "iopub.status.busy": "2021-04-25T11:37:22.430224Z",
     "iopub.status.idle": "2021-04-25T11:37:22.479417Z",
     "shell.execute_reply": "2021-04-25T11:37:22.478235Z",
     "shell.execute_reply.started": "2021-04-25T11:37:22.430794Z"
    },
    "tags": []
   },
   "outputs": [],
   "source": [
    "df_validated_fare = (\n",
    "    df_validated_amount\n",
    "    .withColumn(col, F.abs(F.col(col)))\n",
    ")"
   ]
  },
  {
   "cell_type": "markdown",
   "metadata": {},
   "source": [
    "## Validate: `pickup_datetime`\n",
    "\n",
    "The data should only contain pickups that occur in years 2019 and 2020. Any rows where the year is not 2019 or 2020 will be dropped."
   ]
  },
  {
   "cell_type": "code",
   "execution_count": 32,
   "metadata": {
    "execution": {
     "iopub.execute_input": "2021-04-25T11:37:22.481796Z",
     "iopub.status.busy": "2021-04-25T11:37:22.481442Z",
     "iopub.status.idle": "2021-04-25T11:37:37.003601Z",
     "shell.execute_reply": "2021-04-25T11:37:37.002474Z",
     "shell.execute_reply.started": "2021-04-25T11:37:22.481758Z"
    }
   },
   "outputs": [
    {
     "data": {
      "text/plain": [
       "2051"
      ]
     },
     "execution_count": 32,
     "metadata": {},
     "output_type": "execute_result"
    }
   ],
   "source": [
    "(\n",
    "    df_validated_fare\n",
    "    .withColumn('pickup_year', F.year('pickup_datetime'))\n",
    "    .filter(~F.col('pickup_year').isin([2019, 2020]))\n",
    "    .count()\n",
    ")"
   ]
  },
  {
   "cell_type": "markdown",
   "metadata": {},
   "source": [
    "There are 1430 rows that are not in 2019 or 2020."
   ]
  },
  {
   "cell_type": "code",
   "execution_count": 33,
   "metadata": {
    "execution": {
     "iopub.execute_input": "2021-04-25T11:37:37.009976Z",
     "iopub.status.busy": "2021-04-25T11:37:37.009534Z",
     "iopub.status.idle": "2021-04-25T11:37:37.154190Z",
     "shell.execute_reply": "2021-04-25T11:37:37.151832Z",
     "shell.execute_reply.started": "2021-04-25T11:37:37.009934Z"
    },
    "tags": []
   },
   "outputs": [],
   "source": [
    "df_validated_pickup_year = (\n",
    "    df_validated_fare\n",
    "    .withColumn('pickup_year', F.year('pickup_datetime'))\n",
    "    .filter(F.col('pickup_year').isin([2019, 2020]))\n",
    ")"
   ]
  },
  {
   "cell_type": "markdown",
   "metadata": {},
   "source": [
    "## Validate: `dropoff_datetime`\n",
    "\n",
    "The data should only contain pickups that occur in years 2019 and 2020. Any rows where the year is not 2019 or 2020 will be dropped."
   ]
  },
  {
   "cell_type": "markdown",
   "metadata": {},
   "source": [
    "There are 197 rows that are not in 2019 or 2020."
   ]
  },
  {
   "cell_type": "code",
   "execution_count": 34,
   "metadata": {
    "execution": {
     "iopub.execute_input": "2021-04-25T11:37:37.157293Z",
     "iopub.status.busy": "2021-04-25T11:37:37.156758Z",
     "iopub.status.idle": "2021-04-25T11:37:37.234366Z",
     "shell.execute_reply": "2021-04-25T11:37:37.233026Z",
     "shell.execute_reply.started": "2021-04-25T11:37:37.157245Z"
    },
    "tags": []
   },
   "outputs": [],
   "source": [
    "df_validated_dropoff_year = (\n",
    "    df_validated_pickup_year\n",
    "    .withColumn('dropoff_year', F.year('pickup_datetime'))\n",
    "    .filter(F.col('dropoff_year').isin([2019, 2020]))\n",
    ")"
   ]
  },
  {
   "cell_type": "markdown",
   "metadata": {},
   "source": [
    "## Validate: trip duration\n",
    "\n",
    "The the trip duration is the difference between the `dropoff_datetime` and `pickup_datetime`. The `trip_duration` is in seconds and should be positive."
   ]
  },
  {
   "cell_type": "code",
   "execution_count": 35,
   "metadata": {
    "execution": {
     "iopub.execute_input": "2021-04-25T11:37:37.236474Z",
     "iopub.status.busy": "2021-04-25T11:37:37.236094Z",
     "iopub.status.idle": "2021-04-25T11:37:37.507436Z",
     "shell.execute_reply": "2021-04-25T11:37:37.506374Z",
     "shell.execute_reply.started": "2021-04-25T11:37:37.236426Z"
    }
   },
   "outputs": [],
   "source": [
    "df_add_trip_duration = (\n",
    "    df_validated_dropoff_year\n",
    "    .withColumn('trip_duration', \n",
    "                F.col('dropoff_datetime').cast('long') - \n",
    "                F.col('pickup_datetime').cast('long'))\n",
    ")"
   ]
  },
  {
   "cell_type": "markdown",
   "metadata": {},
   "source": [
    "Assume that trips last at least for one minute, hence drop rows with `trip_duration` < 60."
   ]
  },
  {
   "cell_type": "code",
   "execution_count": 36,
   "metadata": {
    "execution": {
     "iopub.execute_input": "2021-04-25T11:37:37.509345Z",
     "iopub.status.busy": "2021-04-25T11:37:37.508998Z",
     "iopub.status.idle": "2021-04-25T11:37:37.565301Z",
     "shell.execute_reply": "2021-04-25T11:37:37.564159Z",
     "shell.execute_reply.started": "2021-04-25T11:37:37.509302Z"
    }
   },
   "outputs": [],
   "source": [
    "df_validated_trip_duration = df_add_trip_duration.filter(F.col('trip_duration') > 60)"
   ]
  },
  {
   "cell_type": "code",
   "execution_count": 37,
   "metadata": {
    "execution": {
     "iopub.execute_input": "2021-04-25T11:37:37.567163Z",
     "iopub.status.busy": "2021-04-25T11:37:37.566834Z",
     "iopub.status.idle": "2021-04-25T11:38:06.836803Z",
     "shell.execute_reply": "2021-04-25T11:38:06.834442Z",
     "shell.execute_reply.started": "2021-04-25T11:37:37.567122Z"
    }
   },
   "outputs": [
    {
     "data": {
      "text/plain": [
       "115511074"
      ]
     },
     "execution_count": 37,
     "metadata": {},
     "output_type": "execute_result"
    }
   ],
   "source": [
    "df_validated_trip_duration.count()"
   ]
  },
  {
   "cell_type": "markdown",
   "metadata": {},
   "source": [
    "## Validate `trip_distance`"
   ]
  },
  {
   "cell_type": "markdown",
   "metadata": {},
   "source": [
    "### Negative `trip_distance`\n",
    "\n",
    "The `trip_distance` should be > 0. However, there are trips with distance < 0.\n",
    "\n",
    "These values will be replaced by it's positive distances."
   ]
  },
  {
   "cell_type": "code",
   "execution_count": 38,
   "metadata": {
    "execution": {
     "iopub.execute_input": "2021-04-25T11:38:06.840157Z",
     "iopub.status.busy": "2021-04-25T11:38:06.839425Z",
     "iopub.status.idle": "2021-04-25T11:38:25.326491Z",
     "shell.execute_reply": "2021-04-25T11:38:25.325016Z",
     "shell.execute_reply.started": "2021-04-25T11:38:06.840021Z"
    }
   },
   "outputs": [
    {
     "data": {
      "text/plain": [
       "528237"
      ]
     },
     "execution_count": 38,
     "metadata": {},
     "output_type": "execute_result"
    }
   ],
   "source": [
    "df_validated_trip_duration.filter(F.col('trip_distance') <= 0).count()"
   ]
  },
  {
   "cell_type": "code",
   "execution_count": 39,
   "metadata": {
    "execution": {
     "iopub.execute_input": "2021-04-25T11:38:25.328464Z",
     "iopub.status.busy": "2021-04-25T11:38:25.328057Z",
     "iopub.status.idle": "2021-04-25T11:38:42.635573Z",
     "shell.execute_reply": "2021-04-25T11:38:42.634135Z",
     "shell.execute_reply.started": "2021-04-25T11:38:25.328426Z"
    }
   },
   "outputs": [
    {
     "data": {
      "text/plain": [
       "497347"
      ]
     },
     "execution_count": 39,
     "metadata": {},
     "output_type": "execute_result"
    }
   ],
   "source": [
    "df_validated_trip_duration.filter(F.col('trip_distance') == 0).count()"
   ]
  },
  {
   "cell_type": "code",
   "execution_count": 40,
   "metadata": {
    "execution": {
     "iopub.execute_input": "2021-04-25T11:38:42.637424Z",
     "iopub.status.busy": "2021-04-25T11:38:42.637019Z",
     "iopub.status.idle": "2021-04-25T11:38:42.675591Z",
     "shell.execute_reply": "2021-04-25T11:38:42.674480Z",
     "shell.execute_reply.started": "2021-04-25T11:38:42.637387Z"
    }
   },
   "outputs": [],
   "source": [
    "col = 'trip_distance'\n",
    "df_validated_trip_distance = (\n",
    "    df_validated_trip_duration\n",
    "    .withColumn(col, F.abs(F.col(col)))\n",
    " )"
   ]
  },
  {
   "cell_type": "markdown",
   "metadata": {},
   "source": [
    "### Large `trip_distance`s\n",
    "\n",
    "There are extremely large distances. Only distances up to three standard deviations larger than the mean will be included, any values higher will be regarded as outliers and will be dropped.\n",
    "\n",
    "There are only 202 trips that are greater than three standard deviations larger than the mean."
   ]
  },
  {
   "cell_type": "raw",
   "metadata": {
    "execution": {
     "iopub.execute_input": "2021-04-25T09:16:40.191448Z",
     "iopub.status.busy": "2021-04-25T09:16:40.191264Z",
     "iopub.status.idle": "2021-04-25T09:16:58.092994Z",
     "shell.execute_reply": "2021-04-25T09:16:58.091977Z",
     "shell.execute_reply.started": "2021-04-25T09:16:40.191425Z"
    }
   },
   "source": [
    "df_validated_trip_distance.select('trip_distance').summary().show()"
   ]
  },
  {
   "cell_type": "code",
   "execution_count": 41,
   "metadata": {
    "execution": {
     "iopub.execute_input": "2021-04-25T11:38:42.677642Z",
     "iopub.status.busy": "2021-04-25T11:38:42.677225Z",
     "iopub.status.idle": "2021-04-25T11:38:58.072735Z",
     "shell.execute_reply": "2021-04-25T11:38:58.071086Z",
     "shell.execute_reply.started": "2021-04-25T11:38:42.677590Z"
    }
   },
   "outputs": [
    {
     "data": {
      "text/plain": [
       "3.3766191870930244"
      ]
     },
     "execution_count": 41,
     "metadata": {},
     "output_type": "execute_result"
    }
   ],
   "source": [
    "mean = df_validated_trip_distance.select(F.mean(F.col('trip_distance'))).collect()[0][0]\n",
    "mean"
   ]
  },
  {
   "cell_type": "code",
   "execution_count": 42,
   "metadata": {
    "execution": {
     "iopub.execute_input": "2021-04-25T11:38:58.074907Z",
     "iopub.status.busy": "2021-04-25T11:38:58.074509Z",
     "iopub.status.idle": "2021-04-25T11:39:12.238433Z",
     "shell.execute_reply": "2021-04-25T11:39:12.237310Z",
     "shell.execute_reply.started": "2021-04-25T11:38:58.074842Z"
    }
   },
   "outputs": [
    {
     "data": {
      "text/plain": [
       "209.15294383269"
      ]
     },
     "execution_count": 42,
     "metadata": {},
     "output_type": "execute_result"
    }
   ],
   "source": [
    "stddev = df_validated_trip_distance.select(F.stddev(F.col('trip_distance'))).collect()[0][0]\n",
    "stddev"
   ]
  },
  {
   "cell_type": "code",
   "execution_count": 43,
   "metadata": {
    "execution": {
     "iopub.execute_input": "2021-04-25T11:39:12.240872Z",
     "iopub.status.busy": "2021-04-25T11:39:12.240497Z",
     "iopub.status.idle": "2021-04-25T11:39:12.267701Z",
     "shell.execute_reply": "2021-04-25T11:39:12.266200Z",
     "shell.execute_reply.started": "2021-04-25T11:39:12.240837Z"
    }
   },
   "outputs": [
    {
     "data": {
      "text/plain": [
       "630.8354506851631"
      ]
     },
     "execution_count": 43,
     "metadata": {},
     "output_type": "execute_result"
    }
   ],
   "source": [
    "threshold = mean + 3 * stddev\n",
    "threshold"
   ]
  },
  {
   "cell_type": "code",
   "execution_count": 44,
   "metadata": {
    "execution": {
     "iopub.execute_input": "2021-04-25T11:39:12.269699Z",
     "iopub.status.busy": "2021-04-25T11:39:12.269419Z",
     "iopub.status.idle": "2021-04-25T11:39:38.077321Z",
     "shell.execute_reply": "2021-04-25T11:39:38.075468Z",
     "shell.execute_reply.started": "2021-04-25T11:39:12.269666Z"
    }
   },
   "outputs": [
    {
     "data": {
      "text/plain": [
       "543"
      ]
     },
     "execution_count": 44,
     "metadata": {},
     "output_type": "execute_result"
    }
   ],
   "source": [
    "(\n",
    "    df_validated_trip_distance\n",
    "    .filter(F.col('trip_distance') > threshold)\n",
    "    .count() \n",
    ")"
   ]
  },
  {
   "cell_type": "code",
   "execution_count": 45,
   "metadata": {
    "execution": {
     "iopub.execute_input": "2021-04-25T11:39:38.080394Z",
     "iopub.status.busy": "2021-04-25T11:39:38.079982Z",
     "iopub.status.idle": "2021-04-25T11:39:38.277328Z",
     "shell.execute_reply": "2021-04-25T11:39:38.275224Z",
     "shell.execute_reply.started": "2021-04-25T11:39:38.080341Z"
    }
   },
   "outputs": [],
   "source": [
    "df_validated_exclude_large_trip = (\n",
    "    df_validated_trip_distance\n",
    "    .filter(F.col('trip_distance') <= threshold)\n",
    ")"
   ]
  },
  {
   "cell_type": "markdown",
   "metadata": {},
   "source": [
    "## Validate: `Passenger_count`\n",
    "\n",
    "The domain for this column is [1, 4]. However, there may have been larger taxis that can take up to 9 passengers. Having 0 passengers is beyong my understanding at the moment.  This, along with the nulls could be subject to an imputation strategy in the modelling stage."
   ]
  },
  {
   "cell_type": "code",
   "execution_count": 46,
   "metadata": {
    "execution": {
     "iopub.execute_input": "2021-04-25T11:39:38.280267Z",
     "iopub.status.busy": "2021-04-25T11:39:38.279700Z",
     "iopub.status.idle": "2021-04-25T11:39:38.323974Z",
     "shell.execute_reply": "2021-04-25T11:39:38.322115Z",
     "shell.execute_reply.started": "2021-04-25T11:39:38.280220Z"
    }
   },
   "outputs": [],
   "source": [
    "col = 'Passenger_count'\n",
    "valid_values = [1, 2, 3, 4, 5]"
   ]
  },
  {
   "cell_type": "raw",
   "metadata": {
    "execution": {
     "iopub.execute_input": "2021-04-25T09:17:25.241624Z",
     "iopub.status.busy": "2021-04-25T09:17:25.241374Z",
     "iopub.status.idle": "2021-04-25T09:17:34.587607Z",
     "shell.execute_reply": "2021-04-25T09:17:34.586610Z",
     "shell.execute_reply.started": "2021-04-25T09:17:25.241598Z"
    }
   },
   "source": [
    "(\n",
    "    df_validated_exclude_large_trip\n",
    "    .groupBy(col)\n",
    "    .count()\n",
    "    .sort(F.col(col))\n",
    "    .show()\n",
    ")"
   ]
  },
  {
   "cell_type": "code",
   "execution_count": 47,
   "metadata": {
    "execution": {
     "iopub.execute_input": "2021-04-25T11:39:38.327015Z",
     "iopub.status.busy": "2021-04-25T11:39:38.326405Z",
     "iopub.status.idle": "2021-04-25T11:39:38.449817Z",
     "shell.execute_reply": "2021-04-25T11:39:38.448429Z",
     "shell.execute_reply.started": "2021-04-25T11:39:38.326938Z"
    }
   },
   "outputs": [],
   "source": [
    "df_passenger = (\n",
    "    df_validated_exclude_large_trip\n",
    "    .withColumn(col, when(~F.col(col).isin(valid_values), None)\n",
    "                     .otherwise(F.col(col)))\n",
    ")"
   ]
  },
  {
   "cell_type": "raw",
   "metadata": {
    "execution": {
     "iopub.execute_input": "2021-04-25T09:17:34.666931Z",
     "iopub.status.busy": "2021-04-25T09:17:34.666601Z",
     "iopub.status.idle": "2021-04-25T09:17:44.010350Z",
     "shell.execute_reply": "2021-04-25T09:17:44.009484Z",
     "shell.execute_reply.started": "2021-04-25T09:17:34.666894Z"
    }
   },
   "source": [
    "(\n",
    "    df_passenger\n",
    "    .groupBy(col)\n",
    "    .count()\n",
    "    .sort(F.col(col))\n",
    "    .show()\n",
    ")"
   ]
  },
  {
   "cell_type": "markdown",
   "metadata": {},
   "source": [
    "# Feature engineering"
   ]
  },
  {
   "cell_type": "markdown",
   "metadata": {},
   "source": [
    "## Convert `trip_distance` to km"
   ]
  },
  {
   "cell_type": "code",
   "execution_count": 48,
   "metadata": {
    "execution": {
     "iopub.execute_input": "2021-04-25T11:39:38.453049Z",
     "iopub.status.busy": "2021-04-25T11:39:38.452296Z",
     "iopub.status.idle": "2021-04-25T11:39:38.496985Z",
     "shell.execute_reply": "2021-04-25T11:39:38.495563Z",
     "shell.execute_reply.started": "2021-04-25T11:39:38.452873Z"
    }
   },
   "outputs": [],
   "source": [
    "conversion_factor = 1.60934"
   ]
  },
  {
   "cell_type": "code",
   "execution_count": 49,
   "metadata": {
    "execution": {
     "iopub.execute_input": "2021-04-25T11:39:38.500417Z",
     "iopub.status.busy": "2021-04-25T11:39:38.499431Z",
     "iopub.status.idle": "2021-04-25T11:39:38.557679Z",
     "shell.execute_reply": "2021-04-25T11:39:38.556052Z",
     "shell.execute_reply.started": "2021-04-25T11:39:38.500069Z"
    }
   },
   "outputs": [],
   "source": [
    "df_fe_km = df_passenger.withColumn('trip_distance_km', F.col('trip_distance') * conversion_factor)"
   ]
  },
  {
   "cell_type": "markdown",
   "metadata": {},
   "source": [
    "## Calculate speed\n",
    "\n",
    "The average speed (km/h) is calculated by dividing the `trip_distance_km` by the `trip_duration` (seconds) multiplied by 3,600.\n",
    "\n",
    "There is an inconsistency:\n",
    "1. either the given unit for `trip_distance` in the data dictionary is incorrect, or\n",
    "1. the `trip_distance` values are all incorrect, or\n",
    "1. the `pickup_datetime` and `dropoff_datetime` are incorrect\n",
    "\n",
    "The `trip_distance`s are reported to be in the unit of miles, however, even with very short `trip_duration`s (less than one hour) the `trip_distance` is often in the hundreds; it's unlikely that a NYC taxi would be able to travel 170 miles in 30 minutes.There is an inconsistency:\n",
    "1. either the given unit for `trip_distance` in the data dictionary is incorrect, or\n",
    "1. the `trip_distance` values are all incorrect, or\n",
    "1. the `pickup_datetime` and `dropoff_datetime` are incorrect\n",
    "\n",
    "The `trip_distance`s are reported to be in the unit of miles, however, even with very short `trip_duration`s (less than one hour) the `trip_distance` is often in the hundreds; it's unlikely that a NYC taxi would be able to travel 170 miles in 30 minutes."
   ]
  },
  {
   "cell_type": "raw",
   "metadata": {
    "execution": {
     "iopub.execute_input": "2021-04-25T09:17:44.092721Z",
     "iopub.status.busy": "2021-04-25T09:17:44.092526Z",
     "iopub.status.idle": "2021-04-25T09:17:53.161549Z",
     "shell.execute_reply": "2021-04-25T09:17:53.160613Z",
     "shell.execute_reply.started": "2021-04-25T09:17:44.092698Z"
    }
   },
   "source": [
    "(\n",
    "    df_fe_km\n",
    "    .withColumn('trip_duration_hours', F.col('trip_duration') / 3600)\n",
    "    .select('dropoff_datetime', 'pickup_datetime', 'trip_duration_hours', 'trip_distance', 'trip_distance_km')\n",
    "    .sample(fraction=0.0001)\n",
    "    .limit(10)\n",
    "    .show()\n",
    ")"
   ]
  },
  {
   "cell_type": "code",
   "execution_count": 50,
   "metadata": {
    "execution": {
     "iopub.execute_input": "2021-04-25T11:39:38.560330Z",
     "iopub.status.busy": "2021-04-25T11:39:38.559801Z",
     "iopub.status.idle": "2021-04-25T11:39:38.640896Z",
     "shell.execute_reply": "2021-04-25T11:39:38.639595Z",
     "shell.execute_reply.started": "2021-04-25T11:39:38.560263Z"
    }
   },
   "outputs": [],
   "source": [
    "df_speed = (\n",
    "    df_fe_km\n",
    "    .withColumn('speed', F.col('trip_distance_km') / F.col('trip_duration') * 3600)\n",
    ")"
   ]
  },
  {
   "cell_type": "raw",
   "metadata": {
    "execution": {
     "iopub.execute_input": "2021-04-25T09:17:53.222023Z",
     "iopub.status.busy": "2021-04-25T09:17:53.221830Z",
     "iopub.status.idle": "2021-04-25T09:18:02.332326Z",
     "shell.execute_reply": "2021-04-25T09:18:02.330816Z",
     "shell.execute_reply.started": "2021-04-25T09:17:53.222000Z"
    }
   },
   "source": [
    "df_speed.select('speed', 'trip_duration', 'trip_distance').describe().show()"
   ]
  },
  {
   "cell_type": "code",
   "execution_count": 51,
   "metadata": {
    "execution": {
     "iopub.execute_input": "2021-04-25T11:39:38.643341Z",
     "iopub.status.busy": "2021-04-25T11:39:38.643011Z",
     "iopub.status.idle": "2021-04-25T11:39:59.933192Z",
     "shell.execute_reply": "2021-04-25T11:39:59.931623Z",
     "shell.execute_reply.started": "2021-04-25T11:39:38.643304Z"
    }
   },
   "outputs": [
    {
     "data": {
      "text/plain": [
       "115467997"
      ]
     },
     "execution_count": 51,
     "metadata": {},
     "output_type": "execute_result"
    }
   ],
   "source": [
    "speed_limit = 80\n",
    "\n",
    "df_speed.filter(F.col('speed') <= speed_limit).count()"
   ]
  },
  {
   "cell_type": "code",
   "execution_count": 52,
   "metadata": {
    "execution": {
     "iopub.execute_input": "2021-04-25T11:39:59.935221Z",
     "iopub.status.busy": "2021-04-25T11:39:59.934802Z",
     "iopub.status.idle": "2021-04-25T11:40:26.133657Z",
     "shell.execute_reply": "2021-04-25T11:40:26.132525Z",
     "shell.execute_reply.started": "2021-04-25T11:39:59.935184Z"
    }
   },
   "outputs": [
    {
     "data": {
      "text/plain": [
       "0.9996317738336775"
      ]
     },
     "execution_count": 52,
     "metadata": {},
     "output_type": "execute_result"
    }
   ],
   "source": [
    "df_speed.filter(F.col('speed') <= speed_limit).count() / df_speed.count()"
   ]
  },
  {
   "cell_type": "markdown",
   "metadata": {},
   "source": [
    "Only about 10 million rows (~9%) of the data have speeds under 80kph."
   ]
  },
  {
   "cell_type": "markdown",
   "metadata": {},
   "source": [
    "### Fixing `trip_distance_km`\n",
    "\n",
    "According to [careertrend.com](https://careertrend.com/how-many-miles-does-an-average-taxi-cab-driver-drive-yearly-13658842.html), the average taxi trip in the US is 5 miles, which is consistent with the average `trip_duration` of 15 minutes and the speed limit of 25mph in NYC. The `trip_distance` in the data is likely to be incorrect.\n",
    "\n",
    "1. The average speed for those in with `speed` <= 80kph (50mph) will be calculated\n",
    "2. This average speed will be used to recalculate the distances based on the `trip_duration`"
   ]
  },
  {
   "cell_type": "code",
   "execution_count": 53,
   "metadata": {
    "execution": {
     "iopub.execute_input": "2021-04-25T11:40:26.135514Z",
     "iopub.status.busy": "2021-04-25T11:40:26.135171Z",
     "iopub.status.idle": "2021-04-25T11:40:39.999669Z",
     "shell.execute_reply": "2021-04-25T11:40:39.998379Z",
     "shell.execute_reply.started": "2021-04-25T11:40:26.135476Z"
    }
   },
   "outputs": [
    {
     "data": {
      "text/plain": [
       "18.486844981069407"
      ]
     },
     "execution_count": 53,
     "metadata": {},
     "output_type": "execute_result"
    }
   ],
   "source": [
    "average_speed = (\n",
    "    df_speed\n",
    "    .filter(F.col('speed') <= speed_limit)\n",
    "    .select(F.mean(F.col('speed')))\n",
    "    .collect()[0][0]\n",
    ")\n",
    "\n",
    "average_speed"
   ]
  },
  {
   "cell_type": "markdown",
   "metadata": {},
   "source": [
    "For rows with speeds less than 80kph, the average speed is 25kph. This is a more reasonable value considering the dense traffic in NYC."
   ]
  },
  {
   "cell_type": "code",
   "execution_count": 54,
   "metadata": {
    "execution": {
     "iopub.execute_input": "2021-04-25T11:40:40.002053Z",
     "iopub.status.busy": "2021-04-25T11:40:40.001519Z",
     "iopub.status.idle": "2021-04-25T11:40:40.119305Z",
     "shell.execute_reply": "2021-04-25T11:40:40.117833Z",
     "shell.execute_reply.started": "2021-04-25T11:40:40.001998Z"
    }
   },
   "outputs": [],
   "source": [
    "df_fixed_distance = (\n",
    "    df_speed\n",
    "    .withColumn('speed', when(F.col('speed') > speed_limit, average_speed)\n",
    "                                    .otherwise(F.col('speed')))\n",
    "    .withColumn('trip_distance_km', F.col('speed') * F.col('trip_duration') / 3600)\n",
    ")"
   ]
  },
  {
   "cell_type": "raw",
   "metadata": {
    "execution": {
     "iopub.execute_input": "2021-04-25T09:18:38.231260Z",
     "iopub.status.busy": "2021-04-25T09:18:38.231019Z",
     "iopub.status.idle": "2021-04-25T09:18:47.825865Z",
     "shell.execute_reply": "2021-04-25T09:18:47.824852Z",
     "shell.execute_reply.started": "2021-04-25T09:18:38.231236Z"
    }
   },
   "source": [
    "df_fixed_distance.select('speed', 'trip_duration', 'trip_distance_km').describe().show()"
   ]
  },
  {
   "cell_type": "markdown",
   "metadata": {},
   "source": [
    "# Cleanup\n",
    "\n",
    "Drop unused columns."
   ]
  },
  {
   "cell_type": "code",
   "execution_count": 55,
   "metadata": {
    "execution": {
     "iopub.execute_input": "2021-04-25T11:40:40.120974Z",
     "iopub.status.busy": "2021-04-25T11:40:40.120573Z",
     "iopub.status.idle": "2021-04-25T11:40:40.155516Z",
     "shell.execute_reply": "2021-04-25T11:40:40.153971Z",
     "shell.execute_reply.started": "2021-04-25T11:40:40.120920Z"
    }
   },
   "outputs": [],
   "source": [
    "df_cleaned = df_fixed_distance.drop('trip_distance')"
   ]
  },
  {
   "cell_type": "code",
   "execution_count": 56,
   "metadata": {
    "execution": {
     "iopub.execute_input": "2021-04-25T11:40:40.157012Z",
     "iopub.status.busy": "2021-04-25T11:40:40.156757Z",
     "iopub.status.idle": "2021-04-25T11:40:40.186995Z",
     "shell.execute_reply": "2021-04-25T11:40:40.185441Z",
     "shell.execute_reply.started": "2021-04-25T11:40:40.156982Z"
    }
   },
   "outputs": [
    {
     "name": "stdout",
     "output_type": "stream",
     "text": [
      "root\n",
      " |-- VendorID: string (nullable = true)\n",
      " |-- pickup_datetime: timestamp (nullable = true)\n",
      " |-- dropoff_datetime: timestamp (nullable = true)\n",
      " |-- Store_and_fwd_flag: string (nullable = true)\n",
      " |-- RatecodeID: string (nullable = true)\n",
      " |-- PULocationID: string (nullable = true)\n",
      " |-- DOLocationID: string (nullable = true)\n",
      " |-- Passenger_count: integer (nullable = true)\n",
      " |-- Fare_amount: float (nullable = true)\n",
      " |-- extra: float (nullable = true)\n",
      " |-- mta_tax: float (nullable = true)\n",
      " |-- tip_amount: float (nullable = true)\n",
      " |-- tolls_amount: float (nullable = true)\n",
      " |-- improvement_surcharge: float (nullable = true)\n",
      " |-- Total_amount: float (nullable = true)\n",
      " |-- Payment_type: string (nullable = true)\n",
      " |-- congestion_surcharge: float (nullable = true)\n",
      " |-- colour: string (nullable = true)\n",
      " |-- pickup_year: integer (nullable = true)\n",
      " |-- pickup_month: integer (nullable = true)\n",
      " |-- pickup_dayofyear: integer (nullable = true)\n",
      " |-- pickup_dayofmonth: integer (nullable = true)\n",
      " |-- pickup_dayofweek: integer (nullable = true)\n",
      " |-- pickup_weekofyear: integer (nullable = true)\n",
      " |-- pickup_hourofday: integer (nullable = true)\n",
      " |-- dropoff_year: integer (nullable = true)\n",
      " |-- trip_duration: long (nullable = true)\n",
      " |-- trip_distance_km: double (nullable = true)\n",
      " |-- speed: double (nullable = true)\n",
      "\n"
     ]
    }
   ],
   "source": [
    "df_cleaned.printSchema()"
   ]
  },
  {
   "cell_type": "raw",
   "metadata": {
    "execution": {
     "iopub.execute_input": "2021-04-25T09:18:47.885084Z",
     "iopub.status.busy": "2021-04-25T09:18:47.884825Z",
     "iopub.status.idle": "2021-04-25T09:19:30.613371Z",
     "shell.execute_reply": "2021-04-25T09:19:30.612461Z",
     "shell.execute_reply.started": "2021-04-25T09:18:47.885061Z"
    }
   },
   "source": [
    "string_cols = [col for (col, col_type) in df_cleaned.dtypes if col_type == 'string']\n",
    "expression = [F.countDistinct(F.col(col)).alias(col) for col in string_cols + lim_num_cols]\n",
    "df_cleaned.select(*expression).show()"
   ]
  },
  {
   "cell_type": "raw",
   "metadata": {
    "execution": {
     "iopub.execute_input": "2021-04-25T09:24:53.623177Z",
     "iopub.status.busy": "2021-04-25T09:24:53.622548Z",
     "iopub.status.idle": "2021-04-25T09:33:39.505899Z",
     "shell.execute_reply": "2021-04-25T09:33:39.504831Z",
     "shell.execute_reply.started": "2021-04-25T09:24:53.623113Z"
    }
   },
   "source": [
    "df_cleaned.describe().show()"
   ]
  },
  {
   "cell_type": "markdown",
   "metadata": {},
   "source": [
    "# Save data\n",
    "\n",
    "The data is saved in the parquet format because it is columnar. Columnar storage is preferred because the types of queries that are used are aggregations per column, such as average total amount per group etc."
   ]
  },
  {
   "cell_type": "code",
   "execution_count": null,
   "metadata": {
    "execution": {
     "iopub.execute_input": "2021-04-25T11:40:40.188997Z",
     "iopub.status.busy": "2021-04-25T11:40:40.188681Z"
    },
    "tags": []
   },
   "outputs": [],
   "source": [
    "path = processed_data_dir.joinpath('df_cleaned_100').as_posix()\n",
    "df_cleaned.repartition(numPartitions=n_partitions).write.parquet(path, mode='overwrite')"
   ]
  },
  {
   "cell_type": "code",
   "execution_count": 219,
   "metadata": {
    "execution": {
     "iopub.execute_input": "2021-04-25T09:34:51.485303Z",
     "iopub.status.busy": "2021-04-25T09:34:51.485058Z",
     "iopub.status.idle": "2021-04-25T09:34:51.863408Z",
     "shell.execute_reply": "2021-04-25T09:34:51.861028Z",
     "shell.execute_reply.started": "2021-04-25T09:34:51.485278Z"
    }
   },
   "outputs": [],
   "source": [
    "spark.sparkContext.stop()"
   ]
  }
 ],
 "metadata": {
  "kernelspec": {
   "display_name": "Python 3",
   "language": "python",
   "name": "python3"
  },
  "language_info": {
   "codemirror_mode": {
    "name": "ipython",
    "version": 3
   },
   "file_extension": ".py",
   "mimetype": "text/x-python",
   "name": "python",
   "nbconvert_exporter": "python",
   "pygments_lexer": "ipython3",
   "version": "3.7.10"
  },
  "toc-autonumbering": true
 },
 "nbformat": 4,
 "nbformat_minor": 4
}
