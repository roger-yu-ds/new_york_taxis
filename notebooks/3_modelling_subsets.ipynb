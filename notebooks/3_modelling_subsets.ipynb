{
 "cells": [
  {
   "cell_type": "markdown",
   "metadata": {},
   "source": [
    "# Introduction\n",
    "\n",
    "This notebook is the ETL for the yellow and green NYC taxi data for the years 2019-2020.\n",
    "\n",
    "The data has been downloaded separately from https://www1.nyc.gov/site/tlc/about/tlc-trip-record-data.page and stored in `../data/raw/`. The file names are in the format `<colour>_tripdata_yyyy-mm.csv`."
   ]
  },
  {
   "cell_type": "raw",
   "metadata": {
    "jupyter": {
     "outputs_hidden": true
    }
   },
   "source": [
    "import sys\n",
    "!{sys.executable} -m pip install scipy==1.6.2 pandas-profiling python-dotenv"
   ]
  },
  {
   "cell_type": "code",
   "execution_count": 1,
   "metadata": {
    "execution": {
     "iopub.execute_input": "2021-04-24T22:32:03.312339Z",
     "iopub.status.busy": "2021-04-24T22:32:03.311990Z",
     "iopub.status.idle": "2021-04-24T22:32:03.334300Z",
     "shell.execute_reply": "2021-04-24T22:32:03.333302Z",
     "shell.execute_reply.started": "2021-04-24T22:32:03.312255Z"
    }
   },
   "outputs": [],
   "source": [
    "%load_ext autoreload\n",
    "%autoreload 2"
   ]
  },
  {
   "cell_type": "code",
   "execution_count": 2,
   "metadata": {
    "execution": {
     "iopub.execute_input": "2021-04-24T22:32:03.644876Z",
     "iopub.status.busy": "2021-04-24T22:32:03.644627Z",
     "iopub.status.idle": "2021-04-24T22:32:04.202104Z",
     "shell.execute_reply": "2021-04-24T22:32:04.201202Z",
     "shell.execute_reply.started": "2021-04-24T22:32:03.644851Z"
    }
   },
   "outputs": [],
   "source": [
    "import pandas as pd\n",
    "from pathlib import Path\n",
    "from dotenv import find_dotenv\n",
    "from functools import reduce\n",
    "from pyspark.sql import SparkSession\n",
    "import pyspark.sql.functions as F\n",
    "from pyspark.sql import DataFrame\n",
    "from pyspark.sql.types import (\n",
    "    IntegerType,\n",
    "    DateType,\n",
    "    FloatType,\n",
    "    StringType\n",
    ")\n",
    "from pyspark.ml.regression import (\n",
    "    RandomForestRegressor,\n",
    "    GBTRegressor\n",
    ")\n",
    "from pyspark.ml.feature import (\n",
    "    StringIndexer,\n",
    "    VectorAssembler,\n",
    "    VectorIndexer,\n",
    "    OneHotEncoderEstimator\n",
    ")\n",
    "from pyspark.ml.evaluation import (\n",
    "    RegressionEvaluator\n",
    ")\n",
    "from pyspark.ml import Pipeline"
   ]
  },
  {
   "cell_type": "code",
   "execution_count": null,
   "metadata": {
    "execution": {
     "iopub.status.busy": "2021-04-25T01:27:04.010405Z",
     "iopub.status.idle": "2021-04-25T01:27:04.010700Z",
     "shell.execute_reply": "2021-04-25T01:27:04.010556Z"
    }
   },
   "outputs": [],
   "source": [
    "project_dir = Path(find_dotenv()).cwd().parent\n",
    "data_dir = project_dir / 'data'\n",
    "raw_data_dir = data_dir / 'raw'\n",
    "processed_data_dir = data_dir / 'processed'\n",
    "reports_dir = project_dir / 'reports'\n",
    "models_dir = project_dir / 'models'\n",
    "results_dir = processed_data_dir / 'results'"
   ]
  },
  {
   "cell_type": "code",
   "execution_count": 4,
   "metadata": {
    "execution": {
     "iopub.execute_input": "2021-04-24T22:32:04.315020Z",
     "iopub.status.busy": "2021-04-24T22:32:04.314766Z",
     "iopub.status.idle": "2021-04-24T22:32:06.750458Z",
     "shell.execute_reply": "2021-04-24T22:32:06.749415Z",
     "shell.execute_reply.started": "2021-04-24T22:32:04.314997Z"
    }
   },
   "outputs": [],
   "source": [
    "spark = (\n",
    "    SparkSession\n",
    "    .builder\n",
    "    .appName('new_york_taxis')\n",
    "    .getOrCreate()\n",
    ")"
   ]
  },
  {
   "cell_type": "code",
   "execution_count": 5,
   "metadata": {
    "execution": {
     "iopub.execute_input": "2021-04-24T22:32:06.752392Z",
     "iopub.status.busy": "2021-04-24T22:32:06.752102Z",
     "iopub.status.idle": "2021-04-24T22:32:06.782426Z",
     "shell.execute_reply": "2021-04-24T22:32:06.781454Z",
     "shell.execute_reply.started": "2021-04-24T22:32:06.752356Z"
    }
   },
   "outputs": [
    {
     "data": {
      "text/plain": [
       "'2.4.5'"
      ]
     },
     "execution_count": 5,
     "metadata": {},
     "output_type": "execute_result"
    }
   ],
   "source": [
    "spark.version"
   ]
  },
  {
   "cell_type": "code",
   "execution_count": 6,
   "metadata": {
    "execution": {
     "iopub.execute_input": "2021-04-24T22:32:06.784131Z",
     "iopub.status.busy": "2021-04-24T22:32:06.783861Z",
     "iopub.status.idle": "2021-04-24T22:32:06.810393Z",
     "shell.execute_reply": "2021-04-24T22:32:06.809498Z",
     "shell.execute_reply.started": "2021-04-24T22:32:06.784105Z"
    }
   },
   "outputs": [
    {
     "data": {
      "text/plain": [
       "'3.0.0'"
      ]
     },
     "execution_count": 6,
     "metadata": {},
     "output_type": "execute_result"
    }
   ],
   "source": [
    "spark._jvm.org.apache.hadoop.util.VersionInfo.getVersion()"
   ]
  },
  {
   "cell_type": "markdown",
   "metadata": {},
   "source": [
    "# Load data"
   ]
  },
  {
   "cell_type": "code",
   "execution_count": 21,
   "metadata": {},
   "outputs": [],
   "source": [
    "path = processed_data_dir.joinpath('df_cleaned').as_posix()\n",
    "df = spark.read.parquet(path)"
   ]
  },
  {
   "cell_type": "markdown",
   "metadata": {},
   "source": [
    "# Choose features\n",
    "\n",
    "**Drop  columns**\n",
    "* The `Fare_amount` column is **not** to be used.\n",
    "* The date columns are to be dropped because the features have already been extracted, e.g. `pickup_dayofyear`.\n",
    "\n",
    "The label column is `Total_amount`."
   ]
  },
  {
   "cell_type": "code",
   "execution_count": 8,
   "metadata": {
    "execution": {
     "iopub.execute_input": "2021-04-24T11:49:19.699280Z",
     "iopub.status.busy": "2021-04-24T11:49:19.698870Z",
     "iopub.status.idle": "2021-04-24T11:49:19.792902Z",
     "shell.execute_reply": "2021-04-24T11:49:19.789449Z",
     "shell.execute_reply.started": "2021-04-24T11:49:19.699229Z"
    }
   },
   "outputs": [
    {
     "name": "stdout",
     "output_type": "stream",
     "text": [
      "root\n",
      " |-- VendorID: string (nullable = true)\n",
      " |-- pickup_datetime: timestamp (nullable = true)\n",
      " |-- dropoff_datetime: timestamp (nullable = true)\n",
      " |-- Store_and_fwd_flag: string (nullable = true)\n",
      " |-- RatecodeID: string (nullable = true)\n",
      " |-- PULocationID: string (nullable = true)\n",
      " |-- DOLocationID: string (nullable = true)\n",
      " |-- Passenger_count: integer (nullable = true)\n",
      " |-- Fare_amount: float (nullable = true)\n",
      " |-- extra: float (nullable = true)\n",
      " |-- mta_tax: float (nullable = true)\n",
      " |-- tip_amount: float (nullable = true)\n",
      " |-- tolls_amount: float (nullable = true)\n",
      " |-- improvement_surcharge: float (nullable = true)\n",
      " |-- Total_amount: float (nullable = true)\n",
      " |-- Payment_type: string (nullable = true)\n",
      " |-- congestion_surcharge: float (nullable = true)\n",
      " |-- colour: string (nullable = true)\n",
      " |-- pickup_year: integer (nullable = true)\n",
      " |-- pickup_month: integer (nullable = true)\n",
      " |-- pickup_dayofyear: integer (nullable = true)\n",
      " |-- pickup_dayofmonth: integer (nullable = true)\n",
      " |-- pickup_dayofweek: integer (nullable = true)\n",
      " |-- pickup_weekofyear: integer (nullable = true)\n",
      " |-- pickup_hourofday: integer (nullable = true)\n",
      " |-- dropoff_year: integer (nullable = true)\n",
      " |-- trip_duration: long (nullable = true)\n",
      " |-- trip_distance_km: double (nullable = true)\n",
      " |-- speed: double (nullable = true)\n",
      "\n"
     ]
    }
   ],
   "source": [
    "df.printSchema()"
   ]
  },
  {
   "cell_type": "code",
   "execution_count": 22,
   "metadata": {},
   "outputs": [],
   "source": [
    "drop_cols = [\n",
    "    'pickup_datetime',\n",
    "    'dropoff_datetime',\n",
    "    'Fare_amount',\n",
    "]"
   ]
  },
  {
   "cell_type": "code",
   "execution_count": 23,
   "metadata": {},
   "outputs": [],
   "source": [
    "df_dropped = reduce(DataFrame.drop, drop_cols, df)"
   ]
  },
  {
   "cell_type": "code",
   "execution_count": 24,
   "metadata": {},
   "outputs": [
    {
     "name": "stdout",
     "output_type": "stream",
     "text": [
      "root\n",
      " |-- VendorID: string (nullable = true)\n",
      " |-- Store_and_fwd_flag: string (nullable = true)\n",
      " |-- RatecodeID: string (nullable = true)\n",
      " |-- PULocationID: string (nullable = true)\n",
      " |-- DOLocationID: string (nullable = true)\n",
      " |-- Passenger_count: integer (nullable = true)\n",
      " |-- extra: float (nullable = true)\n",
      " |-- mta_tax: float (nullable = true)\n",
      " |-- tip_amount: float (nullable = true)\n",
      " |-- tolls_amount: float (nullable = true)\n",
      " |-- improvement_surcharge: float (nullable = true)\n",
      " |-- Total_amount: float (nullable = true)\n",
      " |-- Payment_type: string (nullable = true)\n",
      " |-- congestion_surcharge: float (nullable = true)\n",
      " |-- colour: string (nullable = true)\n",
      " |-- pickup_year: integer (nullable = true)\n",
      " |-- pickup_month: integer (nullable = true)\n",
      " |-- pickup_dayofyear: integer (nullable = true)\n",
      " |-- pickup_dayofmonth: integer (nullable = true)\n",
      " |-- pickup_dayofweek: integer (nullable = true)\n",
      " |-- pickup_weekofyear: integer (nullable = true)\n",
      " |-- pickup_hourofday: integer (nullable = true)\n",
      " |-- dropoff_year: integer (nullable = true)\n",
      " |-- trip_duration: long (nullable = true)\n",
      " |-- trip_distance_km: double (nullable = true)\n",
      " |-- speed: double (nullable = true)\n",
      "\n"
     ]
    }
   ],
   "source": [
    "df_dropped.printSchema()"
   ]
  },
  {
   "cell_type": "markdown",
   "metadata": {},
   "source": [
    "# Formatting"
   ]
  },
  {
   "cell_type": "markdown",
   "metadata": {},
   "source": [
    "## Categorical columns\n",
    "\n",
    "PySpark algorithms requires the data to be in a certain format, e.g. categorical values are to be represented as indexes."
   ]
  },
  {
   "cell_type": "code",
   "execution_count": 25,
   "metadata": {},
   "outputs": [
    {
     "data": {
      "text/plain": [
       "['VendorID',\n",
       " 'Store_and_fwd_flag',\n",
       " 'RatecodeID',\n",
       " 'PULocationID',\n",
       " 'DOLocationID',\n",
       " 'Payment_type',\n",
       " 'colour']"
      ]
     },
     "execution_count": 25,
     "metadata": {},
     "output_type": "execute_result"
    }
   ],
   "source": [
    "string_cols = [item[0] for item in df_dropped.dtypes if item[1].startswith('string')]\n",
    "string_cols"
   ]
  },
  {
   "cell_type": "code",
   "execution_count": 26,
   "metadata": {},
   "outputs": [],
   "source": [
    "stages = []\n",
    "ohe_cols = []\n",
    "for col in string_cols:\n",
    "    index_col = f'{col}_index'\n",
    "    ohe_col = f'{col}_ohe'\n",
    "    col_indexer = StringIndexer(inputCol=col, outputCol=index_col).setHandleInvalid('keep')\n",
    "    col_encoder = OneHotEncoderEstimator(inputCols=[index_col], outputCols=[ohe_col])\n",
    "    stages += [col_indexer, col_encoder]\n",
    "    ohe_cols.append(ohe_col)"
   ]
  },
  {
   "cell_type": "code",
   "execution_count": 27,
   "metadata": {},
   "outputs": [
    {
     "data": {
      "text/plain": [
       "['VendorID_ohe',\n",
       " 'Store_and_fwd_flag_ohe',\n",
       " 'RatecodeID_ohe',\n",
       " 'PULocationID_ohe',\n",
       " 'DOLocationID_ohe',\n",
       " 'Payment_type_ohe',\n",
       " 'colour_ohe']"
      ]
     },
     "execution_count": 27,
     "metadata": {},
     "output_type": "execute_result"
    }
   ],
   "source": [
    "ohe_cols"
   ]
  },
  {
   "cell_type": "markdown",
   "metadata": {},
   "source": [
    "## Numerical columns"
   ]
  },
  {
   "cell_type": "code",
   "execution_count": 28,
   "metadata": {},
   "outputs": [
    {
     "data": {
      "text/plain": [
       "['pickup_month',\n",
       " 'trip_duration',\n",
       " 'dropoff_year',\n",
       " 'pickup_year',\n",
       " 'tip_amount',\n",
       " 'tolls_amount',\n",
       " 'mta_tax',\n",
       " 'trip_distance_km',\n",
       " 'extra',\n",
       " 'pickup_hourofday',\n",
       " 'speed',\n",
       " 'Passenger_count',\n",
       " 'pickup_dayofweek',\n",
       " 'pickup_weekofyear',\n",
       " 'pickup_dayofmonth',\n",
       " 'congestion_surcharge',\n",
       " 'pickup_dayofyear',\n",
       " 'improvement_surcharge']"
      ]
     },
     "execution_count": 28,
     "metadata": {},
     "output_type": "execute_result"
    }
   ],
   "source": [
    "num_cols = list(set(df_dropped.columns) - set(string_cols) - set(['Total_amount']))\n",
    "num_cols"
   ]
  },
  {
   "cell_type": "markdown",
   "metadata": {},
   "source": [
    "## Fillna\n",
    "\n",
    "The categorical columns will be filled with \"missing\". `VectorAssembler` doesn't handle null values."
   ]
  },
  {
   "cell_type": "code",
   "execution_count": 29,
   "metadata": {},
   "outputs": [],
   "source": [
    "df_filled = (\n",
    "    df_dropped\n",
    "    .fillna(value='missing', subset=string_cols)\n",
    "    .fillna(value=0, subset=num_cols)\n",
    ")"
   ]
  },
  {
   "cell_type": "markdown",
   "metadata": {},
   "source": [
    "## Assemble the columns"
   ]
  },
  {
   "cell_type": "code",
   "execution_count": 30,
   "metadata": {},
   "outputs": [],
   "source": [
    "assembler = VectorAssembler(inputCols=num_cols + ohe_cols, outputCol='features')\n",
    "stages += [assembler]"
   ]
  },
  {
   "cell_type": "markdown",
   "metadata": {},
   "source": [
    "## Pipeline"
   ]
  },
  {
   "cell_type": "code",
   "execution_count": 31,
   "metadata": {},
   "outputs": [
    {
     "data": {
      "text/plain": [
       "[StringIndexer_654ac2d1e024,\n",
       " OneHotEncoderEstimator_2d1977d41002,\n",
       " StringIndexer_e3afd387a4c6,\n",
       " OneHotEncoderEstimator_70023d4644a9,\n",
       " StringIndexer_218e20b1952a,\n",
       " OneHotEncoderEstimator_d1ee9e4f41bf,\n",
       " StringIndexer_1f3144c17704,\n",
       " OneHotEncoderEstimator_455e6e113c31,\n",
       " StringIndexer_82cc46283c24,\n",
       " OneHotEncoderEstimator_9edf116eb6d7,\n",
       " StringIndexer_bb19802f4547,\n",
       " OneHotEncoderEstimator_0f05de519926,\n",
       " StringIndexer_c370622cbd3d,\n",
       " OneHotEncoderEstimator_488afd6c47d8,\n",
       " VectorAssembler_7d6f018be5b8]"
      ]
     },
     "execution_count": 31,
     "metadata": {},
     "output_type": "execute_result"
    }
   ],
   "source": [
    "stages"
   ]
  },
  {
   "cell_type": "code",
   "execution_count": 32,
   "metadata": {},
   "outputs": [],
   "source": [
    "pipeline = Pipeline(stages=stages)"
   ]
  },
  {
   "cell_type": "code",
   "execution_count": 33,
   "metadata": {},
   "outputs": [],
   "source": [
    "pipeline_model = pipeline.fit(df_filled)"
   ]
  },
  {
   "cell_type": "code",
   "execution_count": 34,
   "metadata": {},
   "outputs": [],
   "source": [
    "df_transformed = pipeline_model.transform(df_filled)"
   ]
  },
  {
   "cell_type": "code",
   "execution_count": 22,
   "metadata": {
    "execution": {
     "iopub.execute_input": "2021-04-24T11:54:48.869158Z",
     "iopub.status.busy": "2021-04-24T11:54:48.868631Z",
     "iopub.status.idle": "2021-04-24T12:01:35.216469Z",
     "shell.execute_reply": "2021-04-24T12:01:35.214799Z",
     "shell.execute_reply.started": "2021-04-24T11:54:48.869099Z"
    }
   },
   "outputs": [
    {
     "name": "stdout",
     "output_type": "stream",
     "text": [
      "+--------+------------------+----------+------------+------------+---------------+-----+-------+----------+------------+---------------------+------------+------------+--------------------+------+-----------+------------+----------------+-----------------+----------------+-----------------+----------------+------------+-------------+------------------+------------------+--------------+-------------+------------------------+----------------------+----------------+-------------------+------------------+----------------+------------------+----------------+------------------+----------------+------------+-------------+--------------------+\n",
      "|VendorID|Store_and_fwd_flag|RatecodeID|PULocationID|DOLocationID|Passenger_count|extra|mta_tax|tip_amount|tolls_amount|improvement_surcharge|Total_amount|Payment_type|congestion_surcharge|colour|pickup_year|pickup_month|pickup_dayofyear|pickup_dayofmonth|pickup_dayofweek|pickup_weekofyear|pickup_hourofday|dropoff_year|trip_duration|  trip_distance_km|             speed|VendorID_index| VendorID_ohe|Store_and_fwd_flag_index|Store_and_fwd_flag_ohe|RatecodeID_index|     RatecodeID_ohe|PULocationID_index|PULocationID_ohe|DOLocationID_index|DOLocationID_ohe|Payment_type_index|Payment_type_ohe|colour_index|   colour_ohe|            features|\n",
      "+--------+------------------+----------+------------+------------+---------------+-----+-------+----------+------------+---------------------+------------+------------+--------------------+------+-----------+------------+----------------+-----------------+----------------+-----------------+----------------+------------+-------------+------------------+------------------+--------------+-------------+------------------------+----------------------+----------------+-------------------+------------------+----------------+------------------+----------------+------------------+----------------+------------+-------------+--------------------+\n",
      "|       2|                 N|         1|          40|          80|              1|  1.0|    0.5|       0.0|         0.0|                  0.3|        24.8|           2|                 0.0| green|       2019|           5|             140|               20|               2|               21|              17|        2019|         1995|  8.91574353860855|16.088559768917687|           0.0|(4,[0],[1.0])|                     1.0|         (3,[1],[1.0])|             0.0|  (10302,[0],[1.0])|              55.0|(263,[55],[1.0])|              78.0|(264,[78],[1.0])|               2.0|   (7,[2],[1.0])|         1.0|(2,[1],[1.0])|(10863,[0,2,4,6,7...|\n",
      "|       2|           missing|      1.40|           1|           N|              0|  6.0|    0.0|       0.5|         1.5|                  0.0|         0.3|     missing|                 2.5|yellow|       2019|           7|             193|               12|               6|               28|               7|        2019|          200|1.3530992435516838|24.355786383930308|           0.0|(4,[0],[1.0])|                     0.0|         (3,[0],[1.0])|             9.0|  (10302,[9],[1.0])|               0.0| (263,[0],[1.0])|               0.0| (264,[0],[1.0])|               0.0|   (7,[0],[1.0])|         0.0|(2,[0],[1.0])|(10863,[1,2,3,4,5...|\n",
      "|       2|           missing|      1.91|           1|           N|              0| 10.0|    0.0|       0.5|         1.0|                  0.0|         0.3|     missing|                 2.5|yellow|       2019|           5|             126|                6|               2|               19|               8|        2019|          755| 5.107949644407607|24.355786383930308|           0.0|(4,[0],[1.0])|                     0.0|         (3,[0],[1.0])|           176.0|(10302,[176],[1.0])|               0.0| (263,[0],[1.0])|               0.0| (264,[0],[1.0])|               0.0|   (7,[0],[1.0])|         0.0|(2,[0],[1.0])|(10863,[1,2,3,4,5...|\n",
      "|       2|           missing|      3.60|           1|           N|              0| 14.5|    0.5|       0.5|        3.66|                  0.0|         0.3|     missing|                 2.5|yellow|       2019|           6|             172|               21|               6|               25|               0|        2019|          929| 6.285145986297572|24.355786383930308|           0.0|(4,[0],[1.0])|                     0.0|         (3,[0],[1.0])|            65.0| (10302,[65],[1.0])|               0.0| (263,[0],[1.0])|               0.0| (264,[0],[1.0])|               0.0|   (7,[0],[1.0])|         0.0|(2,[0],[1.0])|(10863,[1,2,3,4,5...|\n",
      "|       1|           missing|       .80|           1|           N|              0|  6.0|    3.0|       0.5|        1.95|                  0.0|         0.3|     missing|                 2.5|yellow|       2019|           2|              46|               15|               6|                7|              23|        2019|          386|2.6114815400547498|24.355786383930308|           1.0|(4,[1],[1.0])|                     0.0|         (3,[0],[1.0])|             2.0|  (10302,[2],[1.0])|               0.0| (263,[0],[1.0])|               0.0| (264,[0],[1.0])|               0.0|   (7,[0],[1.0])|         0.0|(2,[0],[1.0])|(10863,[1,2,3,4,5...|\n",
      "|       2|           missing|      2.55|           1|           N|              0| 11.0|    0.5|       0.5|        2.96|                  0.0|         0.3|     missing|                 2.5|yellow|       2020|           1|              23|               23|               5|                4|              22|        2020|          762| 5.155308117931915|24.355786383930308|           0.0|(4,[0],[1.0])|                     0.0|         (3,[0],[1.0])|           257.0|(10302,[257],[1.0])|               0.0| (263,[0],[1.0])|               0.0| (264,[0],[1.0])|               0.0|   (7,[0],[1.0])|         0.0|(2,[0],[1.0])|(10863,[1,2,3,4,5...|\n",
      "|       2|           missing|      5.04|           1|           N|              0| 18.0|    0.5|       0.5|         0.0|                  0.0|         0.3|     missing|                 2.5|yellow|       2020|           2|              60|               29|               7|                9|               1|        2020|         1003| 6.785792706411694|24.355786383930308|           0.0|(4,[0],[1.0])|                     0.0|         (3,[0],[1.0])|           577.0|(10302,[577],[1.0])|               0.0| (263,[0],[1.0])|               0.0| (264,[0],[1.0])|               0.0|   (7,[0],[1.0])|         0.0|(2,[0],[1.0])|(10863,[1,2,3,4,6...|\n",
      "|       2|           missing|       .87|           1|           N|              0|  7.0|    0.0|       0.5|        2.06|                  0.0|         0.3|     missing|                 2.5|yellow|       2019|           7|             203|               22|               2|               30|               9|        2019|          489| 3.308327650483867|24.355786383930308|           0.0|(4,[0],[1.0])|                     0.0|         (3,[0],[1.0])|            44.0| (10302,[44],[1.0])|               0.0| (263,[0],[1.0])|               0.0| (264,[0],[1.0])|               0.0|   (7,[0],[1.0])|         0.0|(2,[0],[1.0])|(10863,[1,2,3,4,5...|\n",
      "|       1|           missing|      1.50|           1|           N|              0|  7.5|    2.5|       0.5|        1.62|                  0.0|         0.3|     missing|                 2.5|yellow|       2019|          10|             300|               27|               1|               43|              11|        2019|          497|3.3624516202259342|24.355786383930308|           1.0|(4,[1],[1.0])|                     0.0|         (3,[0],[1.0])|            10.0| (10302,[10],[1.0])|               0.0| (263,[0],[1.0])|               0.0| (264,[0],[1.0])|               0.0|   (7,[0],[1.0])|         0.0|(2,[0],[1.0])|(10863,[1,2,3,4,5...|\n",
      "|       1|           missing|      1.80|           1|           N|              0|  7.5|    3.0|       0.5|        1.13|                  0.0|         0.3|     missing|                 2.5|yellow|       2019|          12|             346|               12|               5|               50|              20|        2019|          402|2.7197294795388847|24.355786383930308|           1.0|(4,[1],[1.0])|                     0.0|         (3,[0],[1.0])|            14.0| (10302,[14],[1.0])|               0.0| (263,[0],[1.0])|               0.0| (264,[0],[1.0])|               0.0|   (7,[0],[1.0])|         0.0|(2,[0],[1.0])|(10863,[1,2,3,4,5...|\n",
      "+--------+------------------+----------+------------+------------+---------------+-----+-------+----------+------------+---------------------+------------+------------+--------------------+------+-----------+------------+----------------+-----------------+----------------+-----------------+----------------+------------+-------------+------------------+------------------+--------------+-------------+------------------------+----------------------+----------------+-------------------+------------------+----------------+------------------+----------------+------------------+----------------+------------+-------------+--------------------+\n",
      "\n"
     ]
    }
   ],
   "source": [
    "df_transformed.limit(10).show()"
   ]
  },
  {
   "cell_type": "markdown",
   "metadata": {},
   "source": [
    "# Split data\n",
    "\n",
    "The last three months of the data are to be used as the testing set."
   ]
  },
  {
   "cell_type": "code",
   "execution_count": 35,
   "metadata": {},
   "outputs": [],
   "source": [
    "test_set_mask = (F.col('pickup_year') == 2020) & (F.col('pickup_month') >= 10)\n",
    "df_test = df_transformed.filter(test_set_mask)"
   ]
  },
  {
   "cell_type": "code",
   "execution_count": 24,
   "metadata": {
    "execution": {
     "iopub.execute_input": "2021-04-24T12:01:35.380725Z",
     "iopub.status.busy": "2021-04-24T12:01:35.380225Z",
     "iopub.status.idle": "2021-04-24T12:01:40.271046Z",
     "shell.execute_reply": "2021-04-24T12:01:40.268781Z",
     "shell.execute_reply.started": "2021-04-24T12:01:35.380653Z"
    }
   },
   "outputs": [
    {
     "name": "stdout",
     "output_type": "stream",
     "text": [
      "+-----------+------------+-------+\n",
      "|pickup_year|pickup_month|  count|\n",
      "+-----------+------------+-------+\n",
      "|       2020|          11|1575114|\n",
      "|       2020|          12|1522612|\n",
      "|       2020|          10|1751017|\n",
      "+-----------+------------+-------+\n",
      "\n"
     ]
    }
   ],
   "source": [
    "df_test.groupby(['pickup_year', 'pickup_month']).count().show()"
   ]
  },
  {
   "cell_type": "code",
   "execution_count": 25,
   "metadata": {
    "execution": {
     "iopub.execute_input": "2021-04-24T12:01:40.274513Z",
     "iopub.status.busy": "2021-04-24T12:01:40.274101Z",
     "iopub.status.idle": "2021-04-24T12:01:40.319202Z",
     "shell.execute_reply": "2021-04-24T12:01:40.314576Z",
     "shell.execute_reply.started": "2021-04-24T12:01:40.274462Z"
    }
   },
   "outputs": [],
   "source": [
    "df_train = df_transformed.filter(~test_set_mask)"
   ]
  },
  {
   "cell_type": "code",
   "execution_count": 64,
   "metadata": {
    "execution": {
     "iopub.execute_input": "2021-04-24T06:54:43.062286Z",
     "iopub.status.busy": "2021-04-24T06:54:43.062032Z",
     "iopub.status.idle": "2021-04-24T06:55:01.469865Z",
     "shell.execute_reply": "2021-04-24T06:55:01.468841Z",
     "shell.execute_reply.started": "2021-04-24T06:54:43.062257Z"
    }
   },
   "outputs": [
    {
     "name": "stdout",
     "output_type": "stream",
     "text": [
      "+-----------+------------+-------+\n",
      "|pickup_year|pickup_month|  count|\n",
      "+-----------+------------+-------+\n",
      "|       2019|           1|8210354|\n",
      "|       2019|           2|7515946|\n",
      "|       2019|           3|8348950|\n",
      "|       2019|           4|7869061|\n",
      "|       2019|           5|7985822|\n",
      "|       2019|           6|7327653|\n",
      "|       2019|           7|6701176|\n",
      "|       2019|           8|6443544|\n",
      "|       2019|           9|6934948|\n",
      "|       2019|          10|7606108|\n",
      "|       2019|          11|7246815|\n",
      "|       2019|          12|7265200|\n",
      "|       2020|           1|6776129|\n",
      "|       2020|           2|6626305|\n",
      "|       2020|           3|3194072|\n",
      "|       2020|           4| 268174|\n",
      "|       2020|           5| 398037|\n",
      "|       2020|           6| 603136|\n",
      "|       2020|           7| 859777|\n",
      "|       2020|           8|1073624|\n",
      "|       2020|           9|1407156|\n",
      "+-----------+------------+-------+\n",
      "\n"
     ]
    }
   ],
   "source": [
    "df_train.groupby(['pickup_year', 'pickup_month']).count().sort(['pickup_year', 'pickup_month']).show(24)"
   ]
  },
  {
   "cell_type": "code",
   "execution_count": 47,
   "metadata": {},
   "outputs": [],
   "source": [
    "df_train_path = processed_data_dir.joinpath('df_train').as_posix()\n",
    "df_test_path = processed_data_dir.joinpath('df_test').as_posix()"
   ]
  },
  {
   "cell_type": "code",
   "execution_count": 28,
   "metadata": {
    "execution": {
     "iopub.execute_input": "2021-04-24T12:02:38.215464Z",
     "iopub.status.busy": "2021-04-24T12:02:38.215156Z",
     "iopub.status.idle": "2021-04-24T12:25:20.382081Z",
     "shell.execute_reply": "2021-04-24T12:25:20.381034Z",
     "shell.execute_reply.started": "2021-04-24T12:02:38.215432Z"
    }
   },
   "outputs": [],
   "source": [
    "df_train.write.parquet(df_train_path)\n",
    "df_test.write.parquet(df_test_path)"
   ]
  },
  {
   "cell_type": "code",
   "execution_count": 48,
   "metadata": {},
   "outputs": [],
   "source": [
    "df_train = spark.read.parquet(df_train_path)\n",
    "df_test = spark.read.parquet(df_test_path)"
   ]
  },
  {
   "cell_type": "markdown",
   "metadata": {},
   "source": [
    "# Save subsets"
   ]
  },
  {
   "cell_type": "markdown",
   "metadata": {},
   "source": [
    "## 1%"
   ]
  },
  {
   "cell_type": "code",
   "execution_count": 31,
   "metadata": {
    "execution": {
     "iopub.execute_input": "2021-04-24T12:25:22.454704Z",
     "iopub.status.busy": "2021-04-24T12:25:22.454210Z",
     "iopub.status.idle": "2021-04-24T12:25:22.500251Z",
     "shell.execute_reply": "2021-04-24T12:25:22.496409Z",
     "shell.execute_reply.started": "2021-04-24T12:25:22.454646Z"
    }
   },
   "outputs": [],
   "source": [
    "fraction = 0.01\n",
    "filename = f'df_train_{fraction}'.replace('.', '')\n",
    "df_train_001 = df_train.sample(fraction=fraction)\n",
    "df_train_001_path = processed_data_dir.joinpath(filename).as_posix()\n",
    "# df_train_1m.write.parquet(df_train_1m_path)"
   ]
  },
  {
   "cell_type": "markdown",
   "metadata": {},
   "source": [
    "## 5%"
   ]
  },
  {
   "cell_type": "code",
   "execution_count": 57,
   "metadata": {
    "execution": {
     "iopub.execute_input": "2021-04-24T22:07:58.849899Z",
     "iopub.status.busy": "2021-04-24T22:07:58.848795Z",
     "iopub.status.idle": "2021-04-24T22:08:00.414276Z",
     "shell.execute_reply": "2021-04-24T22:08:00.413321Z",
     "shell.execute_reply.started": "2021-04-24T22:07:58.849832Z"
    }
   },
   "outputs": [],
   "source": [
    "fraction = 0.05\n",
    "filename = f'df_train_{fraction}'.replace('.', '')\n",
    "\n",
    "df_train_005 = df_train.sample(fraction=fraction)\n",
    "df_train_005_path = processed_data_dir.joinpath(filename).as_posix()\n",
    "# df_train_005.write.parquet(df_train_005_path)"
   ]
  },
  {
   "cell_type": "markdown",
   "metadata": {},
   "source": [
    "# Modelling "
   ]
  },
  {
   "cell_type": "markdown",
   "metadata": {},
   "source": [
    "## Random Forest on 1%\n",
    "Training on 1% of the training data."
   ]
  },
  {
   "cell_type": "code",
   "execution_count": null,
   "metadata": {},
   "outputs": [],
   "source": [
    "df_train = spark.read.parquet(df_train_001_path)"
   ]
  },
  {
   "cell_type": "code",
   "execution_count": 8,
   "metadata": {},
   "outputs": [],
   "source": [
    "rf_001 = RandomForestRegressor(featuresCol='features', labelCol='Total_amount').fit(df_train_001)"
   ]
  },
  {
   "cell_type": "code",
   "execution_count": 10,
   "metadata": {},
   "outputs": [],
   "source": [
    "train_preds = rf_005.transform(df_train_001)"
   ]
  },
  {
   "cell_type": "code",
   "execution_count": 39,
   "metadata": {},
   "outputs": [],
   "source": [
    "test_preds = rf_1m.transform(df_test)"
   ]
  },
  {
   "cell_type": "code",
   "execution_count": 15,
   "metadata": {},
   "outputs": [],
   "source": [
    "model_name = 'rf_001'\n",
    "path = models_dir.joinpath(model_name).as_posix()\n",
    "rf_001.save(path)"
   ]
  },
  {
   "cell_type": "markdown",
   "metadata": {},
   "source": [
    "## Random Forest on 5%\n",
    "Training on 5% of the training data."
   ]
  },
  {
   "cell_type": "code",
   "execution_count": 8,
   "metadata": {
    "execution": {
     "iopub.execute_input": "2021-04-24T22:39:53.519028Z",
     "iopub.status.busy": "2021-04-24T22:39:53.518786Z",
     "iopub.status.idle": "2021-04-24T22:39:56.917063Z",
     "shell.execute_reply": "2021-04-24T22:39:56.916106Z",
     "shell.execute_reply.started": "2021-04-24T22:39:53.519003Z"
    }
   },
   "outputs": [],
   "source": [
    "fraction = 0.05\n",
    "filename = f'df_train_{fraction}'.replace('.', '')\n",
    "filepath = processed_data_dir.joinpath(filename).as_posix()\n",
    "df_train = spark.read.parquet(filepath)\n",
    "\n",
    "model_name = f'rf_{fraction}'.replace('.', '')"
   ]
  },
  {
   "cell_type": "code",
   "execution_count": 9,
   "metadata": {
    "execution": {
     "iopub.execute_input": "2021-04-24T22:40:10.317626Z",
     "iopub.status.busy": "2021-04-24T22:40:10.317389Z",
     "iopub.status.idle": "2021-04-25T01:27:01.399389Z",
     "shell.execute_reply": "2021-04-25T01:27:01.397974Z",
     "shell.execute_reply.started": "2021-04-24T22:40:10.317600Z"
    }
   },
   "outputs": [],
   "source": [
    "rf = RandomForestRegressor(featuresCol='features', labelCol='Total_amount').fit(df_train)"
   ]
  },
  {
   "cell_type": "code",
   "execution_count": 10,
   "metadata": {
    "execution": {
     "iopub.execute_input": "2021-04-25T01:27:01.402389Z",
     "iopub.status.busy": "2021-04-25T01:27:01.401761Z",
     "iopub.status.idle": "2021-04-25T01:27:03.855736Z",
     "shell.execute_reply": "2021-04-25T01:27:03.854371Z",
     "shell.execute_reply.started": "2021-04-25T01:27:01.402326Z"
    }
   },
   "outputs": [],
   "source": [
    "path = models_dir.joinpath(model_name).as_posix()\n",
    "rf.save(path)"
   ]
  },
  {
   "cell_type": "code",
   "execution_count": null,
   "metadata": {
    "execution": {
     "iopub.status.busy": "2021-04-25T01:27:04.011487Z",
     "iopub.status.idle": "2021-04-25T01:27:04.011776Z",
     "shell.execute_reply": "2021-04-25T01:27:04.011631Z"
    }
   },
   "outputs": [],
   "source": [
    "train_preds = rf.transform(df_train)\n",
    "path = results.joinpath(f'{model_name}_train').as_posix()\n",
    "train_preds.write.parquet(path)"
   ]
  },
  {
   "cell_type": "code",
   "execution_count": null,
   "metadata": {
    "execution": {
     "iopub.status.busy": "2021-04-25T01:27:04.014020Z",
     "iopub.status.idle": "2021-04-25T01:27:04.015289Z",
     "shell.execute_reply": "2021-04-25T01:27:04.014758Z"
    }
   },
   "outputs": [],
   "source": [
    "test_preds = rf.transform(df_test)\n",
    "path = results.joinpath(f'{model_name}_test').as_posix()\n",
    "train_preds.write.parquet(path)"
   ]
  },
  {
   "cell_type": "markdown",
   "metadata": {},
   "source": [
    "### Evaluation on 5%"
   ]
  },
  {
   "cell_type": "code",
   "execution_count": 19,
   "metadata": {},
   "outputs": [],
   "source": [
    "evaluator = RegressionEvaluator(metricName='rmse', labelCol='Total_amount')processed_data_dir"
   ]
  },
  {
   "cell_type": "code",
   "execution_count": 20,
   "metadata": {},
   "outputs": [
    {
     "data": {
      "text/plain": [
       "1.5544066754621952"
      ]
     },
     "execution_count": 20,
     "metadata": {},
     "output_type": "execute_result"
    }
   ],
   "source": [
    "evaluator.evaluate(train_preds)"
   ]
  },
  {
   "cell_type": "code",
   "execution_count": 40,
   "metadata": {},
   "outputs": [
    {
     "data": {
      "text/plain": [
       "2.5168938613512313"
      ]
     },
     "execution_count": 40,
     "metadata": {},
     "output_type": "execute_result"
    }
   ],
   "source": [
    "evaluator.evaluate(test_preds)"
   ]
  },
  {
   "cell_type": "markdown",
   "metadata": {},
   "source": [
    "## GBT on 5%\n",
    "Training on 5% of the training data."
   ]
  },
  {
   "cell_type": "code",
   "execution_count": 8,
   "metadata": {
    "execution": {
     "iopub.execute_input": "2021-04-24T22:39:53.519028Z",
     "iopub.status.busy": "2021-04-24T22:39:53.518786Z",
     "iopub.status.idle": "2021-04-24T22:39:56.917063Z",
     "shell.execute_reply": "2021-04-24T22:39:56.916106Z",
     "shell.execute_reply.started": "2021-04-24T22:39:53.519003Z"
    }
   },
   "outputs": [],
   "source": [
    "fraction = 0.05\n",
    "filename = f'df_train_{fraction}'.replace('.', '')\n",
    "filepath = processed_data_dir.joinpath(filename).as_posix()\n",
    "df_train = spark.read.parquet(filepath)"
   ]
  },
  {
   "cell_type": "code",
   "execution_count": null,
   "metadata": {
    "execution": {
     "iopub.execute_input": "2021-04-25T04:29:25.437701Z",
     "iopub.status.busy": "2021-04-25T04:29:25.437306Z"
    }
   },
   "outputs": [],
   "source": [
    "gbt = GBTRegressor(featuresCol='features', labelCol='Total_amount').fit(df_train)"
   ]
  },
  {
   "cell_type": "code",
   "execution_count": null,
   "metadata": {},
   "outputs": [],
   "source": [
    "model_name = f'gbt_{fraction}'.replace('.', '')\n",
    "path = models_dir.joinpath(model_name).as_posix()\n",
    "gbt.save(path)"
   ]
  },
  {
   "cell_type": "code",
   "execution_count": null,
   "metadata": {},
   "outputs": [],
   "source": [
    "train_preds = gbt.transform(df_train)\n",
    "path = results.joinpath(f'{model_name}_train').as_posix()\n",
    "train_preds.write.parquet(path)"
   ]
  },
  {
   "cell_type": "code",
   "execution_count": null,
   "metadata": {},
   "outputs": [],
   "source": [
    "test_preds = gbt.transform(df_test)\n",
    "path = results.joinpath(f'{model_name}_test').as_posix()\n",
    "train_preds.write.parquet(path)"
   ]
  },
  {
   "cell_type": "markdown",
   "metadata": {},
   "source": [
    "### GBT evaluation on 5%"
   ]
  },
  {
   "cell_type": "code",
   "execution_count": null,
   "metadata": {},
   "outputs": [],
   "source": [
    "evaluator = RegressionEvaluator(metricName='rmse', labelCol='Total_amount')processed_data_dir"
   ]
  },
  {
   "cell_type": "code",
   "execution_count": null,
   "metadata": {},
   "outputs": [],
   "source": [
    "evaluator.evaluate(train_preds)"
   ]
  },
  {
   "cell_type": "code",
   "execution_count": null,
   "metadata": {},
   "outputs": [],
   "source": [
    "evaluator.evaluate(test_preds)"
   ]
  },
  {
   "cell_type": "code",
   "execution_count": null,
   "metadata": {},
   "outputs": [],
   "source": []
  },
  {
   "cell_type": "markdown",
   "metadata": {},
   "source": [
    "## Evaluation"
   ]
  },
  {
   "cell_type": "code",
   "execution_count": 19,
   "metadata": {},
   "outputs": [],
   "source": [
    "evaluator = RegressionEvaluator(metricName='rmse', labelCol='Total_amount')"
   ]
  },
  {
   "cell_type": "code",
   "execution_count": 20,
   "metadata": {},
   "outputs": [
    {
     "data": {
      "text/plain": [
       "1.5544066754621952"
      ]
     },
     "execution_count": 20,
     "metadata": {},
     "output_type": "execute_result"
    }
   ],
   "source": [
    "evaluator.evaluate(train_preds)"
   ]
  },
  {
   "cell_type": "code",
   "execution_count": 40,
   "metadata": {},
   "outputs": [
    {
     "data": {
      "text/plain": [
       "2.5168938613512313"
      ]
     },
     "execution_count": 40,
     "metadata": {},
     "output_type": "execute_result"
    }
   ],
   "source": [
    "evaluator.evaluate(test_preds)"
   ]
  }
 ],
 "metadata": {
  "kernelspec": {
   "display_name": "Python 3",
   "language": "python",
   "name": "python3"
  },
  "language_info": {
   "codemirror_mode": {
    "name": "ipython",
    "version": 3
   },
   "file_extension": ".py",
   "mimetype": "text/x-python",
   "name": "python",
   "nbconvert_exporter": "python",
   "pygments_lexer": "ipython3",
   "version": "3.7.10"
  },
  "toc-autonumbering": true
 },
 "nbformat": 4,
 "nbformat_minor": 4
}
