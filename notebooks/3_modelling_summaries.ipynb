{
 "cells": [
  {
   "cell_type": "markdown",
   "metadata": {},
   "source": [
    "# Introduction\n",
    "\n",
    "This notebook is the ETL for the yellow and green NYC taxi data for the years 2019-2020.\n",
    "\n",
    "The data has been downloaded separately from https://www1.nyc.gov/site/tlc/about/tlc-trip-record-data.page and stored in `../data/raw/`. The file names are in the format `<colour>_tripdata_yyyy-mm.csv`."
   ]
  },
  {
   "cell_type": "raw",
   "metadata": {
    "jupyter": {
     "outputs_hidden": true
    }
   },
   "source": [
    "import sys\n",
    "!{sys.executable} -m pip install scipy==1.6.2 pandas-profiling python-dotenv"
   ]
  },
  {
   "cell_type": "code",
   "execution_count": 1,
   "metadata": {},
   "outputs": [],
   "source": [
    "%load_ext autoreload\n",
    "%autoreload 2"
   ]
  },
  {
   "cell_type": "code",
   "execution_count": 2,
   "metadata": {},
   "outputs": [],
   "source": [
    "import pandas as pd\n",
    "from pathlib import Path\n",
    "from dotenv import find_dotenv\n",
    "from functools import reduce\n",
    "from pyspark.sql import SparkSession\n",
    "import pyspark.sql.functions as F\n",
    "from pyspark.sql import DataFrame\n",
    "from pyspark.sql.types import (\n",
    "    IntegerType,\n",
    "    DateType,\n",
    "    FloatType,\n",
    "    StringType\n",
    ")\n",
    "from pyspark.ml.regression import (\n",
    "    RandomForestRegressor,\n",
    "    GBTRegressor,\n",
    "    GeneralizedLinearRegression    \n",
    ")\n",
    "from pyspark.ml.feature import (\n",
    "    StringIndexer,\n",
    "    VectorAssembler,\n",
    "    VectorIndexer,\n",
    "    OneHotEncoderEstimator\n",
    ")\n",
    "from pyspark.ml.evaluation import (\n",
    "    RegressionEvaluator\n",
    ")\n",
    "from pyspark.ml import Pipeline"
   ]
  },
  {
   "cell_type": "code",
   "execution_count": 3,
   "metadata": {},
   "outputs": [],
   "source": [
    "project_dir = Path(find_dotenv()).cwd().parent\n",
    "data_dir = project_dir / 'data'\n",
    "raw_data_dir = data_dir / 'raw'\n",
    "processed_data_dir = data_dir / 'processed'\n",
    "reports_dir = project_dir / 'reports'\n",
    "models_dir = project_dir / 'models'"
   ]
  },
  {
   "cell_type": "code",
   "execution_count": 4,
   "metadata": {},
   "outputs": [],
   "source": [
    "spark = (\n",
    "    SparkSession\n",
    "    .builder\n",
    "    .appName('new_york_taxis')\n",
    "    .getOrCreate()\n",
    ")"
   ]
  },
  {
   "cell_type": "code",
   "execution_count": 5,
   "metadata": {},
   "outputs": [
    {
     "data": {
      "text/plain": [
       "'2.4.5'"
      ]
     },
     "execution_count": 5,
     "metadata": {},
     "output_type": "execute_result"
    }
   ],
   "source": [
    "spark.version"
   ]
  },
  {
   "cell_type": "code",
   "execution_count": 6,
   "metadata": {},
   "outputs": [
    {
     "data": {
      "text/plain": [
       "'3.0.0'"
      ]
     },
     "execution_count": 6,
     "metadata": {},
     "output_type": "execute_result"
    }
   ],
   "source": [
    "spark._jvm.org.apache.hadoop.util.VersionInfo.getVersion()"
   ]
  },
  {
   "cell_type": "markdown",
   "metadata": {},
   "source": [
    "# Load data"
   ]
  },
  {
   "cell_type": "code",
   "execution_count": 21,
   "metadata": {},
   "outputs": [],
   "source": [
    "path = processed_data_dir.joinpath('df_cleaned').as_posix()\n",
    "df = spark.read.parquet(path)"
   ]
  },
  {
   "cell_type": "markdown",
   "metadata": {},
   "source": [
    "# Choose features\n",
    "\n",
    "**Drop  columns**\n",
    "* The `Fare_amount` column is **not** to be used.\n",
    "* The date columns are to be dropped because the features have already been extracted, e.g. `pickup_dayofyear`.\n",
    "\n",
    "The label column is `Total_amount`."
   ]
  },
  {
   "cell_type": "code",
   "execution_count": 8,
   "metadata": {
    "execution": {
     "iopub.execute_input": "2021-04-24T11:49:19.699280Z",
     "iopub.status.busy": "2021-04-24T11:49:19.698870Z",
     "iopub.status.idle": "2021-04-24T11:49:19.792902Z",
     "shell.execute_reply": "2021-04-24T11:49:19.789449Z",
     "shell.execute_reply.started": "2021-04-24T11:49:19.699229Z"
    }
   },
   "outputs": [
    {
     "name": "stdout",
     "output_type": "stream",
     "text": [
      "root\n",
      " |-- VendorID: string (nullable = true)\n",
      " |-- pickup_datetime: timestamp (nullable = true)\n",
      " |-- dropoff_datetime: timestamp (nullable = true)\n",
      " |-- Store_and_fwd_flag: string (nullable = true)\n",
      " |-- RatecodeID: string (nullable = true)\n",
      " |-- PULocationID: string (nullable = true)\n",
      " |-- DOLocationID: string (nullable = true)\n",
      " |-- Passenger_count: integer (nullable = true)\n",
      " |-- Fare_amount: float (nullable = true)\n",
      " |-- extra: float (nullable = true)\n",
      " |-- mta_tax: float (nullable = true)\n",
      " |-- tip_amount: float (nullable = true)\n",
      " |-- tolls_amount: float (nullable = true)\n",
      " |-- improvement_surcharge: float (nullable = true)\n",
      " |-- Total_amount: float (nullable = true)\n",
      " |-- Payment_type: string (nullable = true)\n",
      " |-- congestion_surcharge: float (nullable = true)\n",
      " |-- colour: string (nullable = true)\n",
      " |-- pickup_year: integer (nullable = true)\n",
      " |-- pickup_month: integer (nullable = true)\n",
      " |-- pickup_dayofyear: integer (nullable = true)\n",
      " |-- pickup_dayofmonth: integer (nullable = true)\n",
      " |-- pickup_dayofweek: integer (nullable = true)\n",
      " |-- pickup_weekofyear: integer (nullable = true)\n",
      " |-- pickup_hourofday: integer (nullable = true)\n",
      " |-- dropoff_year: integer (nullable = true)\n",
      " |-- trip_duration: long (nullable = true)\n",
      " |-- trip_distance_km: double (nullable = true)\n",
      " |-- speed: double (nullable = true)\n",
      "\n"
     ]
    }
   ],
   "source": [
    "df.printSchema()"
   ]
  },
  {
   "cell_type": "code",
   "execution_count": 61,
   "metadata": {
    "execution": {
     "iopub.execute_input": "2021-04-24T23:05:01.050127Z",
     "iopub.status.busy": "2021-04-24T23:05:01.049292Z",
     "iopub.status.idle": "2021-04-24T23:08:42.340869Z",
     "shell.execute_reply": "2021-04-24T23:08:42.326040Z",
     "shell.execute_reply.started": "2021-04-24T23:05:01.050046Z"
    }
   },
   "outputs": [
    {
     "name": "stdout",
     "output_type": "stream",
     "text": [
      "+-------+------------------+\n",
      "|summary|      Total_amount|\n",
      "+-------+------------------+\n",
      "|  count|         115510730|\n",
      "|   mean|1.4713562514553544|\n",
      "| stddev| 5.751008121661385|\n",
      "|    min|               0.0|\n",
      "|    max|            4012.3|\n",
      "+-------+------------------+\n",
      "\n"
     ]
    }
   ],
   "source": [
    "df.select('Total_amount').describe().show()"
   ]
  },
  {
   "cell_type": "code",
   "execution_count": 22,
   "metadata": {},
   "outputs": [],
   "source": [
    "drop_cols = [\n",
    "    'pickup_datetime',\n",
    "    'dropoff_datetime',\n",
    "    'Fare_amount',\n",
    "]"
   ]
  },
  {
   "cell_type": "code",
   "execution_count": 23,
   "metadata": {},
   "outputs": [],
   "source": [
    "df_dropped = reduce(DataFrame.drop, drop_cols, df)"
   ]
  },
  {
   "cell_type": "code",
   "execution_count": 24,
   "metadata": {},
   "outputs": [
    {
     "name": "stdout",
     "output_type": "stream",
     "text": [
      "root\n",
      " |-- VendorID: string (nullable = true)\n",
      " |-- Store_and_fwd_flag: string (nullable = true)\n",
      " |-- RatecodeID: string (nullable = true)\n",
      " |-- PULocationID: string (nullable = true)\n",
      " |-- DOLocationID: string (nullable = true)\n",
      " |-- Passenger_count: integer (nullable = true)\n",
      " |-- extra: float (nullable = true)\n",
      " |-- mta_tax: float (nullable = true)\n",
      " |-- tip_amount: float (nullable = true)\n",
      " |-- tolls_amount: float (nullable = true)\n",
      " |-- improvement_surcharge: float (nullable = true)\n",
      " |-- Total_amount: float (nullable = true)\n",
      " |-- Payment_type: string (nullable = true)\n",
      " |-- congestion_surcharge: float (nullable = true)\n",
      " |-- colour: string (nullable = true)\n",
      " |-- pickup_year: integer (nullable = true)\n",
      " |-- pickup_month: integer (nullable = true)\n",
      " |-- pickup_dayofyear: integer (nullable = true)\n",
      " |-- pickup_dayofmonth: integer (nullable = true)\n",
      " |-- pickup_dayofweek: integer (nullable = true)\n",
      " |-- pickup_weekofyear: integer (nullable = true)\n",
      " |-- pickup_hourofday: integer (nullable = true)\n",
      " |-- dropoff_year: integer (nullable = true)\n",
      " |-- trip_duration: long (nullable = true)\n",
      " |-- trip_distance_km: double (nullable = true)\n",
      " |-- speed: double (nullable = true)\n",
      "\n"
     ]
    }
   ],
   "source": [
    "df_dropped.printSchema()"
   ]
  },
  {
   "cell_type": "code",
   "execution_count": 62,
   "metadata": {
    "execution": {
     "iopub.execute_input": "2021-04-24T23:08:42.350249Z",
     "iopub.status.busy": "2021-04-24T23:08:42.349545Z",
     "iopub.status.idle": "2021-04-24T23:29:31.741026Z",
     "shell.execute_reply": "2021-04-24T23:29:31.738850Z",
     "shell.execute_reply.started": "2021-04-24T23:08:42.350182Z"
    }
   },
   "outputs": [
    {
     "name": "stdout",
     "output_type": "stream",
     "text": [
      "+-------+-------------------+\n",
      "|summary|           VendorID|\n",
      "+-------+-------------------+\n",
      "|  count|            5679245|\n",
      "|   mean| 1.6619224914579314|\n",
      "| stddev|0.48763179817301777|\n",
      "|    min|                  1|\n",
      "|    max|                  4|\n",
      "+-------+-------------------+\n",
      "\n",
      "+-------+------------------+\n",
      "|summary|Store_and_fwd_flag|\n",
      "+-------+------------------+\n",
      "|  count|            334910|\n",
      "|   mean|              null|\n",
      "| stddev|              null|\n",
      "|    min|                 N|\n",
      "|    max|                 Y|\n",
      "+-------+------------------+\n",
      "\n",
      "+-------+------------------+\n",
      "|summary|        RatecodeID|\n",
      "+-------+------------------+\n",
      "|  count|           5730608|\n",
      "|   mean|3.0218915619424704|\n",
      "| stddev|123.76770517109335|\n",
      "|    min|              -.06|\n",
      "|    max|          99521.33|\n",
      "+-------+------------------+\n",
      "\n",
      "+-------+------------------+\n",
      "|summary|      PULocationID|\n",
      "+-------+------------------+\n",
      "|  count|           5726160|\n",
      "|   mean| 8.162409712617182|\n",
      "| stddev|32.367606620129976|\n",
      "|    min|                 1|\n",
      "|    max|                99|\n",
      "+-------+------------------+\n",
      "\n",
      "+-------+-----------------+\n",
      "|summary|     DOLocationID|\n",
      "+-------+-----------------+\n",
      "|  count|          5726160|\n",
      "|   mean|128.7971688600799|\n",
      "| stddev|76.19693028549223|\n",
      "|    min|                1|\n",
      "|    max|                Y|\n",
      "+-------+-----------------+\n",
      "\n",
      "+-------+------------------+\n",
      "|summary|   Passenger_count|\n",
      "+-------+------------------+\n",
      "|  count|            338069|\n",
      "|   mean|1.3088186139515898|\n",
      "| stddev|0.8791270621380434|\n",
      "|    min|                 1|\n",
      "|    max|                 5|\n",
      "+-------+------------------+\n",
      "\n",
      "+-------+------------------+\n",
      "|summary|             extra|\n",
      "+-------+------------------+\n",
      "|  count|           5777523|\n",
      "|   mean|12.195065283222833|\n",
      "| stddev|11.662973183513797|\n",
      "|    min|            -300.0|\n",
      "|    max|           1196.35|\n",
      "+-------+------------------+\n",
      "\n",
      "+-------+------------------+\n",
      "|summary|           mta_tax|\n",
      "+-------+------------------+\n",
      "|  count|           5777523|\n",
      "|   mean|1.0416969175180915|\n",
      "| stddev|1.2144001444662809|\n",
      "|    min|            -53.52|\n",
      "|    max|             87.56|\n",
      "+-------+------------------+\n",
      "\n",
      "+-------+------------------+\n",
      "|summary|        tip_amount|\n",
      "+-------+------------------+\n",
      "|  count|           5777523|\n",
      "|   mean|0.5326385165645278|\n",
      "| stddev|0.5720307452101131|\n",
      "|    min|             -1.14|\n",
      "|    max|             399.0|\n",
      "+-------+------------------+\n",
      "\n",
      "+-------+------------------+\n",
      "|summary|      tolls_amount|\n",
      "+-------+------------------+\n",
      "|  count|           5777523|\n",
      "|   mean|2.0369732200825257|\n",
      "| stddev|2.6504989999804542|\n",
      "|    min|           -100.88|\n",
      "|    max|             450.0|\n",
      "+-------+------------------+\n",
      "\n",
      "+-------+---------------------+\n",
      "|summary|improvement_surcharge|\n",
      "+-------+---------------------+\n",
      "|  count|              5777523|\n",
      "|   mean|   0.3575675774952912|\n",
      "| stddev|    1.652386637105027|\n",
      "|    min|               -30.74|\n",
      "|    max|                612.0|\n",
      "+-------+---------------------+\n",
      "\n",
      "+-------+-----------------+\n",
      "|summary|     Total_amount|\n",
      "+-------+-----------------+\n",
      "|  count|          5777523|\n",
      "|   mean| 1.47227379281976|\n",
      "| stddev|5.769677370761516|\n",
      "|    min|              0.0|\n",
      "|    max|           2156.3|\n",
      "+-------+-----------------+\n",
      "\n",
      "+-------+------------------+\n",
      "|summary|      Payment_type|\n",
      "+-------+------------------+\n",
      "|  count|            336245|\n",
      "|   mean|1.4556915344466088|\n",
      "| stddev|0.5837480866690183|\n",
      "|    min|                 1|\n",
      "|    max|                 6|\n",
      "+-------+------------------+\n",
      "\n",
      "+-------+--------------------+\n",
      "|summary|congestion_surcharge|\n",
      "+-------+--------------------+\n",
      "|  count|             5463302|\n",
      "|   mean|  2.1075005097649737|\n",
      "| stddev|  0.9226555837031232|\n",
      "|    min|               -2.75|\n",
      "|    max|                2.75|\n",
      "+-------+--------------------+\n",
      "\n",
      "+-------+-------+\n",
      "|summary| colour|\n",
      "+-------+-------+\n",
      "|  count|5777523|\n",
      "|   mean|   null|\n",
      "| stddev|   null|\n",
      "|    min|  green|\n",
      "|    max| yellow|\n",
      "+-------+-------+\n",
      "\n",
      "+-------+------------------+\n",
      "|summary|       pickup_year|\n",
      "+-------+------------------+\n",
      "|  count|           5777523|\n",
      "|   mean|2019.2255203484262|\n",
      "| stddev|0.4179245758543015|\n",
      "|    min|              2019|\n",
      "|    max|              2020|\n",
      "+-------+------------------+\n",
      "\n",
      "+-------+------------------+\n",
      "|summary|      pickup_month|\n",
      "+-------+------------------+\n",
      "|  count|           5777523|\n",
      "|   mean| 5.924127692784607|\n",
      "| stddev|3.6564849637975074|\n",
      "|    min|                 1|\n",
      "|    max|                12|\n",
      "+-------+------------------+\n",
      "\n",
      "+-------+------------------+\n",
      "|summary|  pickup_dayofyear|\n",
      "+-------+------------------+\n",
      "|  count|           5777523|\n",
      "|   mean| 164.6058129063268|\n",
      "| stddev|111.56465640065068|\n",
      "|    min|                 1|\n",
      "|    max|               366|\n",
      "+-------+------------------+\n",
      "\n",
      "+-------+-----------------+\n",
      "|summary|pickup_dayofmonth|\n",
      "+-------+-----------------+\n",
      "|  count|          5777523|\n",
      "|   mean| 15.4156603097902|\n",
      "| stddev|8.710505640805273|\n",
      "|    min|                1|\n",
      "|    max|               31|\n",
      "+-------+-----------------+\n",
      "\n",
      "+-------+------------------+\n",
      "|summary|  pickup_dayofweek|\n",
      "+-------+------------------+\n",
      "|  count|           5777523|\n",
      "|   mean| 4.123695050629829|\n",
      "| stddev|1.9443047807065685|\n",
      "|    min|                 1|\n",
      "|    max|                 7|\n",
      "+-------+------------------+\n",
      "\n",
      "+-------+------------------+\n",
      "|summary| pickup_weekofyear|\n",
      "+-------+------------------+\n",
      "|  count|           5777523|\n",
      "|   mean| 23.96090539146274|\n",
      "| stddev|15.899917588014574|\n",
      "|    min|                 1|\n",
      "|    max|                53|\n",
      "+-------+------------------+\n",
      "\n",
      "+-------+------------------+\n",
      "|summary|  pickup_hourofday|\n",
      "+-------+------------------+\n",
      "|  count|           5777523|\n",
      "|   mean|13.878083220092764|\n",
      "| stddev|5.8945860529355825|\n",
      "|    min|                 0|\n",
      "|    max|                23|\n",
      "+-------+------------------+\n",
      "\n",
      "+-------+------------------+\n",
      "|summary|      dropoff_year|\n",
      "+-------+------------------+\n",
      "|  count|           5777523|\n",
      "|   mean|2019.2255203484262|\n",
      "| stddev|0.4179245758543015|\n",
      "|    min|              2019|\n",
      "|    max|              2020|\n",
      "+-------+------------------+\n",
      "\n",
      "+-------+------------------+\n",
      "|summary|     trip_duration|\n",
      "+-------+------------------+\n",
      "|  count|           5777523|\n",
      "|   mean|1076.8311603432821|\n",
      "| stddev| 4220.541630933917|\n",
      "|    min|                61|\n",
      "|    max|            254733|\n",
      "+-------+------------------+\n",
      "\n",
      "+-------+------------------+\n",
      "|summary|  trip_distance_km|\n",
      "+-------+------------------+\n",
      "|  count|           5777523|\n",
      "|   mean| 6.523633283008854|\n",
      "| stddev|14.297988275158477|\n",
      "|    min|               0.0|\n",
      "|    max| 426.4751000000001|\n",
      "+-------+------------------+\n",
      "\n",
      "+-------+------------------+\n",
      "|summary|             speed|\n",
      "+-------+------------------+\n",
      "|  count|           5777523|\n",
      "|   mean|24.352900935934134|\n",
      "| stddev|4.8046963871765085|\n",
      "|    min|               0.0|\n",
      "|    max| 79.99693255443441|\n",
      "+-------+------------------+\n",
      "\n"
     ]
    }
   ],
   "source": [
    "df_sampled = df_dropped.sample(fraction=0.05)\n",
    "for col in df_sampled.columns:\n",
    "    df_sampled.select(col).describe().show()"
   ]
  },
  {
   "cell_type": "code",
   "execution_count": 64,
   "metadata": {
    "execution": {
     "iopub.execute_input": "2021-04-25T05:28:12.745833Z",
     "iopub.status.busy": "2021-04-25T05:28:12.745473Z",
     "iopub.status.idle": "2021-04-25T05:37:58.658066Z",
     "shell.execute_reply": "2021-04-25T05:37:58.656225Z",
     "shell.execute_reply.started": "2021-04-25T05:28:12.745765Z"
    }
   },
   "outputs": [
    {
     "name": "stdout",
     "output_type": "stream",
     "text": [
      "+-------+------------------+------------------+------------------+-----------------+------------------+------------------+------------------+-----------------+------------------+-----------------+---------------------+------------------+------------------+--------------------+---------+------------------+------------------+------------------+------------------+------------------+------------------+------------------+------------------+------------------+-----------------+------------------+\n",
      "|summary|          VendorID|Store_and_fwd_flag|        RatecodeID|     PULocationID|      DOLocationID|   Passenger_count|             extra|          mta_tax|        tip_amount|     tolls_amount|improvement_surcharge|      Total_amount|      Payment_type|congestion_surcharge|   colour|       pickup_year|      pickup_month|  pickup_dayofyear| pickup_dayofmonth|  pickup_dayofweek| pickup_weekofyear|  pickup_hourofday|      dropoff_year|     trip_duration| trip_distance_km|             speed|\n",
      "+-------+------------------+------------------+------------------+-----------------+------------------+------------------+------------------+-----------------+------------------+-----------------+---------------------+------------------+------------------+--------------------+---------+------------------+------------------+------------------+------------------+------------------+------------------+------------------+------------------+------------------+-----------------+------------------+\n",
      "|  count|         113549717|           6691688|         114574698|        114485749|         114485749|           6752718|         115510730|        115510730|         115510730|        115510730|            115510729|         115510730|           6717624|           109232248|115510730|         115510730|         115510730|         115510730|         115510730|         115510730|         115510730|         115510730|         115510730|         115510730|        115510730|         115510730|\n",
      "|   mean|1.6616371399675087|              null|  3.02931692457957|8.168349590829859|128.83362590656185|1.3071554298580217| 12.24790405764748|1.046575665068718|0.5367961356773409|2.037486264205348|   0.3574276740412065|1.4713562514553544|1.4536663558424825|   2.107802062720526|     null|2019.2255647851935| 5.922931869619386| 164.5698655008067|15.416117645520897| 4.124401525295529|23.953674355620468|13.878189151778367|2019.2255647851935|1076.5550598026693|6.526585399906835|24.355786383315884|\n",
      "| stddev|0.4877269119831287|              null|149.36615994449906|32.40249733669136| 76.26580096227217|0.8770972573832002|183.95886055447247|46.53786213725291|46.525204705330026|13.43221382550096|   1.6884552160591746| 5.751008121661385|0.5822092426005455|  0.9224580848172247|     null|0.4179537227809128|3.6565313458310857|111.56714136107045| 8.710240267540064|1.9442406471140237|15.899914010025249| 5.897512161474143|0.4179537227809128| 4252.472795513704|14.31899095808009|4.8149381737619645|\n",
      "|    min|                 1|                 N|              -.01|                1|                 1|                 1|           -1856.0|            -60.0|             -90.5|          -493.22|                -70.0|               0.0|                 1|               -2.75|    green|              2019|                 1|                 1|                 1|                 1|                 1|                 0|              2019|                61|              0.0|               0.0|\n",
      "|    max|                 4|                 Y|          99603.11|               99|                 Y|                 5|          998310.0|         500000.8|          500000.5|        141492.02|               3288.0|            4012.3|                 6|                 3.0|   yellow|              2020|                12|               366|                31|                 7|                53|                23|              2020|           2618881|830.2424361743164| 79.99982927977405|\n",
      "+-------+------------------+------------------+------------------+-----------------+------------------+------------------+------------------+-----------------+------------------+-----------------+---------------------+------------------+------------------+--------------------+---------+------------------+------------------+------------------+------------------+------------------+------------------+------------------+------------------+------------------+-----------------+------------------+\n",
      "\n"
     ]
    }
   ],
   "source": [
    "df_dropped.describe().show()"
   ]
  },
  {
   "cell_type": "markdown",
   "metadata": {},
   "source": [
    "# Formatting"
   ]
  },
  {
   "cell_type": "markdown",
   "metadata": {},
   "source": [
    "## Categorical columns\n",
    "\n",
    "PySpark algorithms requires the data to be in a certain format, e.g. categorical values are to be represented as indexes."
   ]
  },
  {
   "cell_type": "code",
   "execution_count": 25,
   "metadata": {},
   "outputs": [
    {
     "data": {
      "text/plain": [
       "['VendorID',\n",
       " 'Store_and_fwd_flag',\n",
       " 'RatecodeID',\n",
       " 'PULocationID',\n",
       " 'DOLocationID',\n",
       " 'Payment_type',\n",
       " 'colour']"
      ]
     },
     "execution_count": 25,
     "metadata": {},
     "output_type": "execute_result"
    }
   ],
   "source": [
    "string_cols = [item[0] for item in df_dropped.dtypes if item[1].startswith('string')]\n",
    "string_cols"
   ]
  },
  {
   "cell_type": "code",
   "execution_count": 26,
   "metadata": {},
   "outputs": [],
   "source": [
    "stages = []\n",
    "ohe_cols = []\n",
    "for col in string_cols:\n",
    "    index_col = f'{col}_index'\n",
    "    ohe_col = f'{col}_ohe'\n",
    "    col_indexer = StringIndexer(inputCol=col, outputCol=index_col).setHandleInvalid('keep')\n",
    "    col_encoder = OneHotEncoderEstimator(inputCols=[index_col], outputCols=[ohe_col])\n",
    "    stages += [col_indexer, col_encoder]\n",
    "    ohe_cols.append(ohe_col)"
   ]
  },
  {
   "cell_type": "code",
   "execution_count": 27,
   "metadata": {},
   "outputs": [
    {
     "data": {
      "text/plain": [
       "['VendorID_ohe',\n",
       " 'Store_and_fwd_flag_ohe',\n",
       " 'RatecodeID_ohe',\n",
       " 'PULocationID_ohe',\n",
       " 'DOLocationID_ohe',\n",
       " 'Payment_type_ohe',\n",
       " 'colour_ohe']"
      ]
     },
     "execution_count": 27,
     "metadata": {},
     "output_type": "execute_result"
    }
   ],
   "source": [
    "ohe_cols"
   ]
  },
  {
   "cell_type": "markdown",
   "metadata": {},
   "source": [
    "## Numerical columns"
   ]
  },
  {
   "cell_type": "code",
   "execution_count": 28,
   "metadata": {},
   "outputs": [
    {
     "data": {
      "text/plain": [
       "['pickup_month',\n",
       " 'trip_duration',\n",
       " 'dropoff_year',\n",
       " 'pickup_year',\n",
       " 'tip_amount',\n",
       " 'tolls_amount',\n",
       " 'mta_tax',\n",
       " 'trip_distance_km',\n",
       " 'extra',\n",
       " 'pickup_hourofday',\n",
       " 'speed',\n",
       " 'Passenger_count',\n",
       " 'pickup_dayofweek',\n",
       " 'pickup_weekofyear',\n",
       " 'pickup_dayofmonth',\n",
       " 'congestion_surcharge',\n",
       " 'pickup_dayofyear',\n",
       " 'improvement_surcharge']"
      ]
     },
     "execution_count": 28,
     "metadata": {},
     "output_type": "execute_result"
    }
   ],
   "source": [
    "num_cols = list(set(df_dropped.columns) - set(string_cols) - set(['Total_amount']))\n",
    "num_cols"
   ]
  },
  {
   "cell_type": "markdown",
   "metadata": {},
   "source": [
    "## Fillna\n",
    "\n",
    "The categorical columns will be filled with \"missing\". `VectorAssembler` doesn't handle null values."
   ]
  },
  {
   "cell_type": "code",
   "execution_count": 29,
   "metadata": {},
   "outputs": [],
   "source": [
    "df_filled = (\n",
    "    df_dropped\n",
    "    .fillna(value='missing', subset=string_cols)\n",
    "    .fillna(value=0, subset=num_cols)\n",
    ")"
   ]
  },
  {
   "cell_type": "markdown",
   "metadata": {},
   "source": [
    "## Assemble the columns"
   ]
  },
  {
   "cell_type": "code",
   "execution_count": 30,
   "metadata": {},
   "outputs": [],
   "source": [
    "assembler = VectorAssembler(inputCols=num_cols + ohe_cols, outputCol='features')\n",
    "stages += [assembler]"
   ]
  },
  {
   "cell_type": "markdown",
   "metadata": {},
   "source": [
    "## Pipeline"
   ]
  },
  {
   "cell_type": "code",
   "execution_count": 31,
   "metadata": {},
   "outputs": [
    {
     "data": {
      "text/plain": [
       "[StringIndexer_654ac2d1e024,\n",
       " OneHotEncoderEstimator_2d1977d41002,\n",
       " StringIndexer_e3afd387a4c6,\n",
       " OneHotEncoderEstimator_70023d4644a9,\n",
       " StringIndexer_218e20b1952a,\n",
       " OneHotEncoderEstimator_d1ee9e4f41bf,\n",
       " StringIndexer_1f3144c17704,\n",
       " OneHotEncoderEstimator_455e6e113c31,\n",
       " StringIndexer_82cc46283c24,\n",
       " OneHotEncoderEstimator_9edf116eb6d7,\n",
       " StringIndexer_bb19802f4547,\n",
       " OneHotEncoderEstimator_0f05de519926,\n",
       " StringIndexer_c370622cbd3d,\n",
       " OneHotEncoderEstimator_488afd6c47d8,\n",
       " VectorAssembler_7d6f018be5b8]"
      ]
     },
     "execution_count": 31,
     "metadata": {},
     "output_type": "execute_result"
    }
   ],
   "source": [
    "stages"
   ]
  },
  {
   "cell_type": "code",
   "execution_count": 32,
   "metadata": {},
   "outputs": [],
   "source": [
    "pipeline = Pipeline(stages=stages)"
   ]
  },
  {
   "cell_type": "code",
   "execution_count": 33,
   "metadata": {},
   "outputs": [],
   "source": [
    "pipeline_model = pipeline.fit(df_filled)"
   ]
  },
  {
   "cell_type": "code",
   "execution_count": 34,
   "metadata": {},
   "outputs": [],
   "source": [
    "df_transformed = pipeline_model.transform(df_filled)"
   ]
  },
  {
   "cell_type": "code",
   "execution_count": 22,
   "metadata": {
    "execution": {
     "iopub.execute_input": "2021-04-24T11:54:48.869158Z",
     "iopub.status.busy": "2021-04-24T11:54:48.868631Z",
     "iopub.status.idle": "2021-04-24T12:01:35.216469Z",
     "shell.execute_reply": "2021-04-24T12:01:35.214799Z",
     "shell.execute_reply.started": "2021-04-24T11:54:48.869099Z"
    }
   },
   "outputs": [
    {
     "name": "stdout",
     "output_type": "stream",
     "text": [
      "+--------+------------------+----------+------------+------------+---------------+-----+-------+----------+------------+---------------------+------------+------------+--------------------+------+-----------+------------+----------------+-----------------+----------------+-----------------+----------------+------------+-------------+------------------+------------------+--------------+-------------+------------------------+----------------------+----------------+-------------------+------------------+----------------+------------------+----------------+------------------+----------------+------------+-------------+--------------------+\n",
      "|VendorID|Store_and_fwd_flag|RatecodeID|PULocationID|DOLocationID|Passenger_count|extra|mta_tax|tip_amount|tolls_amount|improvement_surcharge|Total_amount|Payment_type|congestion_surcharge|colour|pickup_year|pickup_month|pickup_dayofyear|pickup_dayofmonth|pickup_dayofweek|pickup_weekofyear|pickup_hourofday|dropoff_year|trip_duration|  trip_distance_km|             speed|VendorID_index| VendorID_ohe|Store_and_fwd_flag_index|Store_and_fwd_flag_ohe|RatecodeID_index|     RatecodeID_ohe|PULocationID_index|PULocationID_ohe|DOLocationID_index|DOLocationID_ohe|Payment_type_index|Payment_type_ohe|colour_index|   colour_ohe|            features|\n",
      "+--------+------------------+----------+------------+------------+---------------+-----+-------+----------+------------+---------------------+------------+------------+--------------------+------+-----------+------------+----------------+-----------------+----------------+-----------------+----------------+------------+-------------+------------------+------------------+--------------+-------------+------------------------+----------------------+----------------+-------------------+------------------+----------------+------------------+----------------+------------------+----------------+------------+-------------+--------------------+\n",
      "|       2|                 N|         1|          40|          80|              1|  1.0|    0.5|       0.0|         0.0|                  0.3|        24.8|           2|                 0.0| green|       2019|           5|             140|               20|               2|               21|              17|        2019|         1995|  8.91574353860855|16.088559768917687|           0.0|(4,[0],[1.0])|                     1.0|         (3,[1],[1.0])|             0.0|  (10302,[0],[1.0])|              55.0|(263,[55],[1.0])|              78.0|(264,[78],[1.0])|               2.0|   (7,[2],[1.0])|         1.0|(2,[1],[1.0])|(10863,[0,2,4,6,7...|\n",
      "|       2|           missing|      1.40|           1|           N|              0|  6.0|    0.0|       0.5|         1.5|                  0.0|         0.3|     missing|                 2.5|yellow|       2019|           7|             193|               12|               6|               28|               7|        2019|          200|1.3530992435516838|24.355786383930308|           0.0|(4,[0],[1.0])|                     0.0|         (3,[0],[1.0])|             9.0|  (10302,[9],[1.0])|               0.0| (263,[0],[1.0])|               0.0| (264,[0],[1.0])|               0.0|   (7,[0],[1.0])|         0.0|(2,[0],[1.0])|(10863,[1,2,3,4,5...|\n",
      "|       2|           missing|      1.91|           1|           N|              0| 10.0|    0.0|       0.5|         1.0|                  0.0|         0.3|     missing|                 2.5|yellow|       2019|           5|             126|                6|               2|               19|               8|        2019|          755| 5.107949644407607|24.355786383930308|           0.0|(4,[0],[1.0])|                     0.0|         (3,[0],[1.0])|           176.0|(10302,[176],[1.0])|               0.0| (263,[0],[1.0])|               0.0| (264,[0],[1.0])|               0.0|   (7,[0],[1.0])|         0.0|(2,[0],[1.0])|(10863,[1,2,3,4,5...|\n",
      "|       2|           missing|      3.60|           1|           N|              0| 14.5|    0.5|       0.5|        3.66|                  0.0|         0.3|     missing|                 2.5|yellow|       2019|           6|             172|               21|               6|               25|               0|        2019|          929| 6.285145986297572|24.355786383930308|           0.0|(4,[0],[1.0])|                     0.0|         (3,[0],[1.0])|            65.0| (10302,[65],[1.0])|               0.0| (263,[0],[1.0])|               0.0| (264,[0],[1.0])|               0.0|   (7,[0],[1.0])|         0.0|(2,[0],[1.0])|(10863,[1,2,3,4,5...|\n",
      "|       1|           missing|       .80|           1|           N|              0|  6.0|    3.0|       0.5|        1.95|                  0.0|         0.3|     missing|                 2.5|yellow|       2019|           2|              46|               15|               6|                7|              23|        2019|          386|2.6114815400547498|24.355786383930308|           1.0|(4,[1],[1.0])|                     0.0|         (3,[0],[1.0])|             2.0|  (10302,[2],[1.0])|               0.0| (263,[0],[1.0])|               0.0| (264,[0],[1.0])|               0.0|   (7,[0],[1.0])|         0.0|(2,[0],[1.0])|(10863,[1,2,3,4,5...|\n",
      "|       2|           missing|      2.55|           1|           N|              0| 11.0|    0.5|       0.5|        2.96|                  0.0|         0.3|     missing|                 2.5|yellow|       2020|           1|              23|               23|               5|                4|              22|        2020|          762| 5.155308117931915|24.355786383930308|           0.0|(4,[0],[1.0])|                     0.0|         (3,[0],[1.0])|           257.0|(10302,[257],[1.0])|               0.0| (263,[0],[1.0])|               0.0| (264,[0],[1.0])|               0.0|   (7,[0],[1.0])|         0.0|(2,[0],[1.0])|(10863,[1,2,3,4,5...|\n",
      "|       2|           missing|      5.04|           1|           N|              0| 18.0|    0.5|       0.5|         0.0|                  0.0|         0.3|     missing|                 2.5|yellow|       2020|           2|              60|               29|               7|                9|               1|        2020|         1003| 6.785792706411694|24.355786383930308|           0.0|(4,[0],[1.0])|                     0.0|         (3,[0],[1.0])|           577.0|(10302,[577],[1.0])|               0.0| (263,[0],[1.0])|               0.0| (264,[0],[1.0])|               0.0|   (7,[0],[1.0])|         0.0|(2,[0],[1.0])|(10863,[1,2,3,4,6...|\n",
      "|       2|           missing|       .87|           1|           N|              0|  7.0|    0.0|       0.5|        2.06|                  0.0|         0.3|     missing|                 2.5|yellow|       2019|           7|             203|               22|               2|               30|               9|        2019|          489| 3.308327650483867|24.355786383930308|           0.0|(4,[0],[1.0])|                     0.0|         (3,[0],[1.0])|            44.0| (10302,[44],[1.0])|               0.0| (263,[0],[1.0])|               0.0| (264,[0],[1.0])|               0.0|   (7,[0],[1.0])|         0.0|(2,[0],[1.0])|(10863,[1,2,3,4,5...|\n",
      "|       1|           missing|      1.50|           1|           N|              0|  7.5|    2.5|       0.5|        1.62|                  0.0|         0.3|     missing|                 2.5|yellow|       2019|          10|             300|               27|               1|               43|              11|        2019|          497|3.3624516202259342|24.355786383930308|           1.0|(4,[1],[1.0])|                     0.0|         (3,[0],[1.0])|            10.0| (10302,[10],[1.0])|               0.0| (263,[0],[1.0])|               0.0| (264,[0],[1.0])|               0.0|   (7,[0],[1.0])|         0.0|(2,[0],[1.0])|(10863,[1,2,3,4,5...|\n",
      "|       1|           missing|      1.80|           1|           N|              0|  7.5|    3.0|       0.5|        1.13|                  0.0|         0.3|     missing|                 2.5|yellow|       2019|          12|             346|               12|               5|               50|              20|        2019|          402|2.7197294795388847|24.355786383930308|           1.0|(4,[1],[1.0])|                     0.0|         (3,[0],[1.0])|            14.0| (10302,[14],[1.0])|               0.0| (263,[0],[1.0])|               0.0| (264,[0],[1.0])|               0.0|   (7,[0],[1.0])|         0.0|(2,[0],[1.0])|(10863,[1,2,3,4,5...|\n",
      "+--------+------------------+----------+------------+------------+---------------+-----+-------+----------+------------+---------------------+------------+------------+--------------------+------+-----------+------------+----------------+-----------------+----------------+-----------------+----------------+------------+-------------+------------------+------------------+--------------+-------------+------------------------+----------------------+----------------+-------------------+------------------+----------------+------------------+----------------+------------------+----------------+------------+-------------+--------------------+\n",
      "\n"
     ]
    }
   ],
   "source": [
    "df_transformed.limit(10).show()"
   ]
  },
  {
   "cell_type": "markdown",
   "metadata": {},
   "source": [
    "# Split data\n",
    "\n",
    "The last three months of the data are to be used as the testing set."
   ]
  },
  {
   "cell_type": "code",
   "execution_count": 35,
   "metadata": {},
   "outputs": [],
   "source": [
    "test_set_mask = (F.col('pickup_year') == 2020) & (F.col('pickup_month') >= 10)\n",
    "df_test = df_transformed.filter(test_set_mask)"
   ]
  },
  {
   "cell_type": "code",
   "execution_count": 24,
   "metadata": {
    "execution": {
     "iopub.execute_input": "2021-04-24T12:01:35.380725Z",
     "iopub.status.busy": "2021-04-24T12:01:35.380225Z",
     "iopub.status.idle": "2021-04-24T12:01:40.271046Z",
     "shell.execute_reply": "2021-04-24T12:01:40.268781Z",
     "shell.execute_reply.started": "2021-04-24T12:01:35.380653Z"
    }
   },
   "outputs": [
    {
     "name": "stdout",
     "output_type": "stream",
     "text": [
      "+-----------+------------+-------+\n",
      "|pickup_year|pickup_month|  count|\n",
      "+-----------+------------+-------+\n",
      "|       2020|          11|1575114|\n",
      "|       2020|          12|1522612|\n",
      "|       2020|          10|1751017|\n",
      "+-----------+------------+-------+\n",
      "\n"
     ]
    }
   ],
   "source": [
    "df_test.groupby(['pickup_year', 'pickup_month']).count().show()"
   ]
  },
  {
   "cell_type": "code",
   "execution_count": 25,
   "metadata": {
    "execution": {
     "iopub.execute_input": "2021-04-24T12:01:40.274513Z",
     "iopub.status.busy": "2021-04-24T12:01:40.274101Z",
     "iopub.status.idle": "2021-04-24T12:01:40.319202Z",
     "shell.execute_reply": "2021-04-24T12:01:40.314576Z",
     "shell.execute_reply.started": "2021-04-24T12:01:40.274462Z"
    }
   },
   "outputs": [],
   "source": [
    "df_train = df_transformed.filter(~test_set_mask)"
   ]
  },
  {
   "cell_type": "code",
   "execution_count": 64,
   "metadata": {
    "execution": {
     "iopub.execute_input": "2021-04-24T06:54:43.062286Z",
     "iopub.status.busy": "2021-04-24T06:54:43.062032Z",
     "iopub.status.idle": "2021-04-24T06:55:01.469865Z",
     "shell.execute_reply": "2021-04-24T06:55:01.468841Z",
     "shell.execute_reply.started": "2021-04-24T06:54:43.062257Z"
    }
   },
   "outputs": [
    {
     "name": "stdout",
     "output_type": "stream",
     "text": [
      "+-----------+------------+-------+\n",
      "|pickup_year|pickup_month|  count|\n",
      "+-----------+------------+-------+\n",
      "|       2019|           1|8210354|\n",
      "|       2019|           2|7515946|\n",
      "|       2019|           3|8348950|\n",
      "|       2019|           4|7869061|\n",
      "|       2019|           5|7985822|\n",
      "|       2019|           6|7327653|\n",
      "|       2019|           7|6701176|\n",
      "|       2019|           8|6443544|\n",
      "|       2019|           9|6934948|\n",
      "|       2019|          10|7606108|\n",
      "|       2019|          11|7246815|\n",
      "|       2019|          12|7265200|\n",
      "|       2020|           1|6776129|\n",
      "|       2020|           2|6626305|\n",
      "|       2020|           3|3194072|\n",
      "|       2020|           4| 268174|\n",
      "|       2020|           5| 398037|\n",
      "|       2020|           6| 603136|\n",
      "|       2020|           7| 859777|\n",
      "|       2020|           8|1073624|\n",
      "|       2020|           9|1407156|\n",
      "+-----------+------------+-------+\n",
      "\n"
     ]
    }
   ],
   "source": [
    "df_train.groupby(['pickup_year', 'pickup_month']).count().sort(['pickup_year', 'pickup_month']).show(24)"
   ]
  },
  {
   "cell_type": "code",
   "execution_count": 47,
   "metadata": {},
   "outputs": [],
   "source": [
    "df_train_path = processed_data_dir.joinpath('df_train').as_posix()\n",
    "df_test_path = processed_data_dir.joinpath('df_test').as_posix()"
   ]
  },
  {
   "cell_type": "code",
   "execution_count": 28,
   "metadata": {
    "execution": {
     "iopub.execute_input": "2021-04-24T12:02:38.215464Z",
     "iopub.status.busy": "2021-04-24T12:02:38.215156Z",
     "iopub.status.idle": "2021-04-24T12:25:20.382081Z",
     "shell.execute_reply": "2021-04-24T12:25:20.381034Z",
     "shell.execute_reply.started": "2021-04-24T12:02:38.215432Z"
    }
   },
   "outputs": [],
   "source": [
    "df_train.write.parquet(df_train_path)\n",
    "df_test.write.parquet(df_test_path)"
   ]
  },
  {
   "cell_type": "code",
   "execution_count": 48,
   "metadata": {},
   "outputs": [],
   "source": [
    "df_train = spark.read.parquet(df_train_path)\n",
    "df_test = spark.read.parquet(df_test_path)"
   ]
  },
  {
   "cell_type": "markdown",
   "metadata": {},
   "source": [
    "# Save subsets"
   ]
  },
  {
   "cell_type": "markdown",
   "metadata": {},
   "source": [
    "## 1%"
   ]
  },
  {
   "cell_type": "code",
   "execution_count": 31,
   "metadata": {
    "execution": {
     "iopub.execute_input": "2021-04-24T12:25:22.454704Z",
     "iopub.status.busy": "2021-04-24T12:25:22.454210Z",
     "iopub.status.idle": "2021-04-24T12:25:22.500251Z",
     "shell.execute_reply": "2021-04-24T12:25:22.496409Z",
     "shell.execute_reply.started": "2021-04-24T12:25:22.454646Z"
    }
   },
   "outputs": [],
   "source": [
    "fraction = 0.01\n",
    "filename = f'df_train_{fraction}'.replace('.', '')\n",
    "df_train_001 = df_train.sample(fraction=fraction)"
   ]
  },
  {
   "cell_type": "code",
   "execution_count": 7,
   "metadata": {},
   "outputs": [],
   "source": [
    "df_train_001_path = processed_data_dir.joinpath(filename).as_posix()\n",
    "# df_train_1m.write.parquet(df_train_1m_path)\n",
    "df_train_001 = spark.read.parquet(df_train_001_path)"
   ]
  },
  {
   "cell_type": "markdown",
   "metadata": {},
   "source": [
    "## 5%"
   ]
  },
  {
   "cell_type": "code",
   "execution_count": 49,
   "metadata": {},
   "outputs": [],
   "source": [
    "fraction = 0.05\n",
    "df_train_005 = df_train.sample(fraction=fraction)"
   ]
  },
  {
   "cell_type": "code",
   "execution_count": 57,
   "metadata": {
    "execution": {
     "iopub.execute_input": "2021-04-24T22:07:58.849899Z",
     "iopub.status.busy": "2021-04-24T22:07:58.848795Z",
     "iopub.status.idle": "2021-04-24T22:08:00.414276Z",
     "shell.execute_reply": "2021-04-24T22:08:00.413321Z",
     "shell.execute_reply.started": "2021-04-24T22:07:58.849832Z"
    }
   },
   "outputs": [],
   "source": [
    "filename = f'df_train_{fraction}'.replace('.', '')\n",
    "df_train_005_path = processed_data_dir.joinpath(filename).as_posix()\n",
    "# df_train_005.write.parquet(df_train_005_path)\n",
    "df_train_005 = spark.read.parquet(df_train_005_path)"
   ]
  },
  {
   "cell_type": "markdown",
   "metadata": {},
   "source": [
    "# Modelling "
   ]
  },
  {
   "cell_type": "markdown",
   "metadata": {},
   "source": [
    "## Random Forest on 1%\n",
    "Training on 1% of the training data."
   ]
  },
  {
   "cell_type": "code",
   "execution_count": 8,
   "metadata": {},
   "outputs": [],
   "source": [
    "rf_001 = RandomForestRegressor(featuresCol='features', labelCol='Total_amount').fit(df_train_001)"
   ]
  },
  {
   "cell_type": "code",
   "execution_count": 10,
   "metadata": {},
   "outputs": [],
   "source": [
    "train_preds = rf_005.transform(df_train_001)"
   ]
  },
  {
   "cell_type": "code",
   "execution_count": 39,
   "metadata": {},
   "outputs": [],
   "source": [
    "test_preds = rf_1m.transform(df_test)"
   ]
  },
  {
   "cell_type": "code",
   "execution_count": 15,
   "metadata": {},
   "outputs": [],
   "source": [
    "model_name = 'rf_001'\n",
    "path = models_dir.joinpath(model_name).as_posix()\n",
    "rf_001.save(path)"
   ]
  },
  {
   "cell_type": "markdown",
   "metadata": {},
   "source": [
    "## Random Forest on 5%\n",
    "Training on 5% of the training data."
   ]
  },
  {
   "cell_type": "code",
   "execution_count": 58,
   "metadata": {
    "collapsed": true,
    "execution": {
     "iopub.execute_input": "2021-04-24T22:08:08.118813Z",
     "iopub.status.busy": "2021-04-24T22:08:08.118362Z",
     "iopub.status.idle": "2021-04-24T22:53:40.785177Z",
     "shell.execute_reply": "2021-04-24T22:53:40.723643Z",
     "shell.execute_reply.started": "2021-04-24T22:08:08.118777Z"
    },
    "jupyter": {
     "outputs_hidden": true
    }
   },
   "outputs": [
    {
     "ename": "KeyboardInterrupt",
     "evalue": "",
     "output_type": "error",
     "traceback": [
      "\u001b[0;31m---------------------------------------------------------------------------\u001b[0m",
      "\u001b[0;31mKeyboardInterrupt\u001b[0m                         Traceback (most recent call last)",
      "\u001b[0;32m<ipython-input-58-a1d4e762c234>\u001b[0m in \u001b[0;36m<module>\u001b[0;34m\u001b[0m\n\u001b[0;32m----> 1\u001b[0;31m \u001b[0mrf_005\u001b[0m \u001b[0;34m=\u001b[0m \u001b[0mRandomForestRegressor\u001b[0m\u001b[0;34m(\u001b[0m\u001b[0mfeaturesCol\u001b[0m\u001b[0;34m=\u001b[0m\u001b[0;34m'features'\u001b[0m\u001b[0;34m,\u001b[0m \u001b[0mlabelCol\u001b[0m\u001b[0;34m=\u001b[0m\u001b[0;34m'Total_amount'\u001b[0m\u001b[0;34m)\u001b[0m\u001b[0;34m.\u001b[0m\u001b[0mfit\u001b[0m\u001b[0;34m(\u001b[0m\u001b[0mdf_train_005\u001b[0m\u001b[0;34m)\u001b[0m\u001b[0;34m\u001b[0m\u001b[0;34m\u001b[0m\u001b[0m\n\u001b[0m",
      "\u001b[0;32m/usr/local/spark/python/pyspark/ml/base.py\u001b[0m in \u001b[0;36mfit\u001b[0;34m(self, dataset, params)\u001b[0m\n\u001b[1;32m    130\u001b[0m                 \u001b[0;32mreturn\u001b[0m \u001b[0mself\u001b[0m\u001b[0;34m.\u001b[0m\u001b[0mcopy\u001b[0m\u001b[0;34m(\u001b[0m\u001b[0mparams\u001b[0m\u001b[0;34m)\u001b[0m\u001b[0;34m.\u001b[0m\u001b[0m_fit\u001b[0m\u001b[0;34m(\u001b[0m\u001b[0mdataset\u001b[0m\u001b[0;34m)\u001b[0m\u001b[0;34m\u001b[0m\u001b[0;34m\u001b[0m\u001b[0m\n\u001b[1;32m    131\u001b[0m             \u001b[0;32melse\u001b[0m\u001b[0;34m:\u001b[0m\u001b[0;34m\u001b[0m\u001b[0;34m\u001b[0m\u001b[0m\n\u001b[0;32m--> 132\u001b[0;31m                 \u001b[0;32mreturn\u001b[0m \u001b[0mself\u001b[0m\u001b[0;34m.\u001b[0m\u001b[0m_fit\u001b[0m\u001b[0;34m(\u001b[0m\u001b[0mdataset\u001b[0m\u001b[0;34m)\u001b[0m\u001b[0;34m\u001b[0m\u001b[0;34m\u001b[0m\u001b[0m\n\u001b[0m\u001b[1;32m    133\u001b[0m         \u001b[0;32melse\u001b[0m\u001b[0;34m:\u001b[0m\u001b[0;34m\u001b[0m\u001b[0;34m\u001b[0m\u001b[0m\n\u001b[1;32m    134\u001b[0m             raise ValueError(\"Params must be either a param map or a list/tuple of param maps, \"\n",
      "\u001b[0;32m/usr/local/spark/python/pyspark/ml/wrapper.py\u001b[0m in \u001b[0;36m_fit\u001b[0;34m(self, dataset)\u001b[0m\n\u001b[1;32m    293\u001b[0m \u001b[0;34m\u001b[0m\u001b[0m\n\u001b[1;32m    294\u001b[0m     \u001b[0;32mdef\u001b[0m \u001b[0m_fit\u001b[0m\u001b[0;34m(\u001b[0m\u001b[0mself\u001b[0m\u001b[0;34m,\u001b[0m \u001b[0mdataset\u001b[0m\u001b[0;34m)\u001b[0m\u001b[0;34m:\u001b[0m\u001b[0;34m\u001b[0m\u001b[0;34m\u001b[0m\u001b[0m\n\u001b[0;32m--> 295\u001b[0;31m         \u001b[0mjava_model\u001b[0m \u001b[0;34m=\u001b[0m \u001b[0mself\u001b[0m\u001b[0;34m.\u001b[0m\u001b[0m_fit_java\u001b[0m\u001b[0;34m(\u001b[0m\u001b[0mdataset\u001b[0m\u001b[0;34m)\u001b[0m\u001b[0;34m\u001b[0m\u001b[0;34m\u001b[0m\u001b[0m\n\u001b[0m\u001b[1;32m    296\u001b[0m         \u001b[0mmodel\u001b[0m \u001b[0;34m=\u001b[0m \u001b[0mself\u001b[0m\u001b[0;34m.\u001b[0m\u001b[0m_create_model\u001b[0m\u001b[0;34m(\u001b[0m\u001b[0mjava_model\u001b[0m\u001b[0;34m)\u001b[0m\u001b[0;34m\u001b[0m\u001b[0;34m\u001b[0m\u001b[0m\n\u001b[1;32m    297\u001b[0m         \u001b[0;32mreturn\u001b[0m \u001b[0mself\u001b[0m\u001b[0;34m.\u001b[0m\u001b[0m_copyValues\u001b[0m\u001b[0;34m(\u001b[0m\u001b[0mmodel\u001b[0m\u001b[0;34m)\u001b[0m\u001b[0;34m\u001b[0m\u001b[0;34m\u001b[0m\u001b[0m\n",
      "\u001b[0;32m/usr/local/spark/python/pyspark/ml/wrapper.py\u001b[0m in \u001b[0;36m_fit_java\u001b[0;34m(self, dataset)\u001b[0m\n\u001b[1;32m    290\u001b[0m         \"\"\"\n\u001b[1;32m    291\u001b[0m         \u001b[0mself\u001b[0m\u001b[0;34m.\u001b[0m\u001b[0m_transfer_params_to_java\u001b[0m\u001b[0;34m(\u001b[0m\u001b[0;34m)\u001b[0m\u001b[0;34m\u001b[0m\u001b[0;34m\u001b[0m\u001b[0m\n\u001b[0;32m--> 292\u001b[0;31m         \u001b[0;32mreturn\u001b[0m \u001b[0mself\u001b[0m\u001b[0;34m.\u001b[0m\u001b[0m_java_obj\u001b[0m\u001b[0;34m.\u001b[0m\u001b[0mfit\u001b[0m\u001b[0;34m(\u001b[0m\u001b[0mdataset\u001b[0m\u001b[0;34m.\u001b[0m\u001b[0m_jdf\u001b[0m\u001b[0;34m)\u001b[0m\u001b[0;34m\u001b[0m\u001b[0;34m\u001b[0m\u001b[0m\n\u001b[0m\u001b[1;32m    293\u001b[0m \u001b[0;34m\u001b[0m\u001b[0m\n\u001b[1;32m    294\u001b[0m     \u001b[0;32mdef\u001b[0m \u001b[0m_fit\u001b[0m\u001b[0;34m(\u001b[0m\u001b[0mself\u001b[0m\u001b[0;34m,\u001b[0m \u001b[0mdataset\u001b[0m\u001b[0;34m)\u001b[0m\u001b[0;34m:\u001b[0m\u001b[0;34m\u001b[0m\u001b[0;34m\u001b[0m\u001b[0m\n",
      "\u001b[0;32m/usr/local/spark/python/lib/py4j-0.10.7-src.zip/py4j/java_gateway.py\u001b[0m in \u001b[0;36m__call__\u001b[0;34m(self, *args)\u001b[0m\n\u001b[1;32m   1253\u001b[0m             \u001b[0mproto\u001b[0m\u001b[0;34m.\u001b[0m\u001b[0mEND_COMMAND_PART\u001b[0m\u001b[0;34m\u001b[0m\u001b[0;34m\u001b[0m\u001b[0m\n\u001b[1;32m   1254\u001b[0m \u001b[0;34m\u001b[0m\u001b[0m\n\u001b[0;32m-> 1255\u001b[0;31m         \u001b[0manswer\u001b[0m \u001b[0;34m=\u001b[0m \u001b[0mself\u001b[0m\u001b[0;34m.\u001b[0m\u001b[0mgateway_client\u001b[0m\u001b[0;34m.\u001b[0m\u001b[0msend_command\u001b[0m\u001b[0;34m(\u001b[0m\u001b[0mcommand\u001b[0m\u001b[0;34m)\u001b[0m\u001b[0;34m\u001b[0m\u001b[0;34m\u001b[0m\u001b[0m\n\u001b[0m\u001b[1;32m   1256\u001b[0m         return_value = get_return_value(\n\u001b[1;32m   1257\u001b[0m             answer, self.gateway_client, self.target_id, self.name)\n",
      "\u001b[0;32m/usr/local/spark/python/lib/py4j-0.10.7-src.zip/py4j/java_gateway.py\u001b[0m in \u001b[0;36msend_command\u001b[0;34m(self, command, retry, binary)\u001b[0m\n\u001b[1;32m    983\u001b[0m         \u001b[0mconnection\u001b[0m \u001b[0;34m=\u001b[0m \u001b[0mself\u001b[0m\u001b[0;34m.\u001b[0m\u001b[0m_get_connection\u001b[0m\u001b[0;34m(\u001b[0m\u001b[0;34m)\u001b[0m\u001b[0;34m\u001b[0m\u001b[0;34m\u001b[0m\u001b[0m\n\u001b[1;32m    984\u001b[0m         \u001b[0;32mtry\u001b[0m\u001b[0;34m:\u001b[0m\u001b[0;34m\u001b[0m\u001b[0;34m\u001b[0m\u001b[0m\n\u001b[0;32m--> 985\u001b[0;31m             \u001b[0mresponse\u001b[0m \u001b[0;34m=\u001b[0m \u001b[0mconnection\u001b[0m\u001b[0;34m.\u001b[0m\u001b[0msend_command\u001b[0m\u001b[0;34m(\u001b[0m\u001b[0mcommand\u001b[0m\u001b[0;34m)\u001b[0m\u001b[0;34m\u001b[0m\u001b[0;34m\u001b[0m\u001b[0m\n\u001b[0m\u001b[1;32m    986\u001b[0m             \u001b[0;32mif\u001b[0m \u001b[0mbinary\u001b[0m\u001b[0;34m:\u001b[0m\u001b[0;34m\u001b[0m\u001b[0;34m\u001b[0m\u001b[0m\n\u001b[1;32m    987\u001b[0m                 \u001b[0;32mreturn\u001b[0m \u001b[0mresponse\u001b[0m\u001b[0;34m,\u001b[0m \u001b[0mself\u001b[0m\u001b[0;34m.\u001b[0m\u001b[0m_create_connection_guard\u001b[0m\u001b[0;34m(\u001b[0m\u001b[0mconnection\u001b[0m\u001b[0;34m)\u001b[0m\u001b[0;34m\u001b[0m\u001b[0;34m\u001b[0m\u001b[0m\n",
      "\u001b[0;32m/usr/local/spark/python/lib/py4j-0.10.7-src.zip/py4j/java_gateway.py\u001b[0m in \u001b[0;36msend_command\u001b[0;34m(self, command)\u001b[0m\n\u001b[1;32m   1150\u001b[0m \u001b[0;34m\u001b[0m\u001b[0m\n\u001b[1;32m   1151\u001b[0m         \u001b[0;32mtry\u001b[0m\u001b[0;34m:\u001b[0m\u001b[0;34m\u001b[0m\u001b[0;34m\u001b[0m\u001b[0m\n\u001b[0;32m-> 1152\u001b[0;31m             \u001b[0manswer\u001b[0m \u001b[0;34m=\u001b[0m \u001b[0msmart_decode\u001b[0m\u001b[0;34m(\u001b[0m\u001b[0mself\u001b[0m\u001b[0;34m.\u001b[0m\u001b[0mstream\u001b[0m\u001b[0;34m.\u001b[0m\u001b[0mreadline\u001b[0m\u001b[0;34m(\u001b[0m\u001b[0;34m)\u001b[0m\u001b[0;34m[\u001b[0m\u001b[0;34m:\u001b[0m\u001b[0;34m-\u001b[0m\u001b[0;36m1\u001b[0m\u001b[0;34m]\u001b[0m\u001b[0;34m)\u001b[0m\u001b[0;34m\u001b[0m\u001b[0;34m\u001b[0m\u001b[0m\n\u001b[0m\u001b[1;32m   1153\u001b[0m             \u001b[0mlogger\u001b[0m\u001b[0;34m.\u001b[0m\u001b[0mdebug\u001b[0m\u001b[0;34m(\u001b[0m\u001b[0;34m\"Answer received: {0}\"\u001b[0m\u001b[0;34m.\u001b[0m\u001b[0mformat\u001b[0m\u001b[0;34m(\u001b[0m\u001b[0manswer\u001b[0m\u001b[0;34m)\u001b[0m\u001b[0;34m)\u001b[0m\u001b[0;34m\u001b[0m\u001b[0;34m\u001b[0m\u001b[0m\n\u001b[1;32m   1154\u001b[0m             \u001b[0;32mif\u001b[0m \u001b[0manswer\u001b[0m\u001b[0;34m.\u001b[0m\u001b[0mstartswith\u001b[0m\u001b[0;34m(\u001b[0m\u001b[0mproto\u001b[0m\u001b[0;34m.\u001b[0m\u001b[0mRETURN_MESSAGE\u001b[0m\u001b[0;34m)\u001b[0m\u001b[0;34m:\u001b[0m\u001b[0;34m\u001b[0m\u001b[0;34m\u001b[0m\u001b[0m\n",
      "\u001b[0;32m/opt/conda/lib/python3.7/socket.py\u001b[0m in \u001b[0;36mreadinto\u001b[0;34m(self, b)\u001b[0m\n\u001b[1;32m    587\u001b[0m         \u001b[0;32mwhile\u001b[0m \u001b[0;32mTrue\u001b[0m\u001b[0;34m:\u001b[0m\u001b[0;34m\u001b[0m\u001b[0;34m\u001b[0m\u001b[0m\n\u001b[1;32m    588\u001b[0m             \u001b[0;32mtry\u001b[0m\u001b[0;34m:\u001b[0m\u001b[0;34m\u001b[0m\u001b[0;34m\u001b[0m\u001b[0m\n\u001b[0;32m--> 589\u001b[0;31m                 \u001b[0;32mreturn\u001b[0m \u001b[0mself\u001b[0m\u001b[0;34m.\u001b[0m\u001b[0m_sock\u001b[0m\u001b[0;34m.\u001b[0m\u001b[0mrecv_into\u001b[0m\u001b[0;34m(\u001b[0m\u001b[0mb\u001b[0m\u001b[0;34m)\u001b[0m\u001b[0;34m\u001b[0m\u001b[0;34m\u001b[0m\u001b[0m\n\u001b[0m\u001b[1;32m    590\u001b[0m             \u001b[0;32mexcept\u001b[0m \u001b[0mtimeout\u001b[0m\u001b[0;34m:\u001b[0m\u001b[0;34m\u001b[0m\u001b[0;34m\u001b[0m\u001b[0m\n\u001b[1;32m    591\u001b[0m                 \u001b[0mself\u001b[0m\u001b[0;34m.\u001b[0m\u001b[0m_timeout_occurred\u001b[0m \u001b[0;34m=\u001b[0m \u001b[0;32mTrue\u001b[0m\u001b[0;34m\u001b[0m\u001b[0;34m\u001b[0m\u001b[0m\n",
      "\u001b[0;31mKeyboardInterrupt\u001b[0m: "
     ]
    }
   ],
   "source": [
    "rf_005 = RandomForestRegressor(featuresCol='features', labelCol='Total_amount').fit(df_train_005)"
   ]
  },
  {
   "cell_type": "code",
   "execution_count": 63,
   "metadata": {
    "execution": {
     "iopub.execute_input": "2021-04-25T04:27:49.375151Z",
     "iopub.status.busy": "2021-04-25T04:27:49.374667Z",
     "iopub.status.idle": "2021-04-25T04:27:49.618725Z",
     "shell.execute_reply": "2021-04-25T04:27:49.617166Z",
     "shell.execute_reply.started": "2021-04-25T04:27:49.375092Z"
    }
   },
   "outputs": [
    {
     "ename": "NameError",
     "evalue": "name 'rf_005' is not defined",
     "output_type": "error",
     "traceback": [
      "\u001b[0;31m---------------------------------------------------------------------------\u001b[0m",
      "\u001b[0;31mNameError\u001b[0m                                 Traceback (most recent call last)",
      "\u001b[0;32m<ipython-input-63-912dff6c57c8>\u001b[0m in \u001b[0;36m<module>\u001b[0;34m\u001b[0m\n\u001b[0;32m----> 1\u001b[0;31m \u001b[0mtrain_preds\u001b[0m \u001b[0;34m=\u001b[0m \u001b[0mrf_005\u001b[0m\u001b[0;34m.\u001b[0m\u001b[0mtransform\u001b[0m\u001b[0;34m(\u001b[0m\u001b[0mdf_train_005\u001b[0m\u001b[0;34m)\u001b[0m\u001b[0;34m\u001b[0m\u001b[0;34m\u001b[0m\u001b[0m\n\u001b[0m",
      "\u001b[0;31mNameError\u001b[0m: name 'rf_005' is not defined"
     ]
    }
   ],
   "source": [
    "train_preds = rf_005.transform(df_train_005)"
   ]
  },
  {
   "cell_type": "code",
   "execution_count": null,
   "metadata": {
    "execution": {
     "iopub.status.busy": "2021-04-24T22:53:40.895135Z",
     "iopub.status.idle": "2021-04-24T22:53:40.899664Z",
     "shell.execute_reply": "2021-04-24T22:53:40.896490Z"
    }
   },
   "outputs": [],
   "source": [
    "test_preds = rf_1m.transform(df_test)"
   ]
  },
  {
   "cell_type": "code",
   "execution_count": null,
   "metadata": {
    "execution": {
     "iopub.status.busy": "2021-04-24T22:53:40.925825Z",
     "iopub.status.idle": "2021-04-24T22:53:40.930302Z",
     "shell.execute_reply": "2021-04-24T22:53:40.926497Z"
    }
   },
   "outputs": [],
   "source": [
    "model_name = 'rf_005'\n",
    "path = models_dir.joinpath(model_name).as_posix()\n",
    "rf_005.save(path)"
   ]
  },
  {
   "cell_type": "markdown",
   "metadata": {},
   "source": [
    "## GBT on 5%\n",
    "Training on 5% of the training data."
   ]
  },
  {
   "cell_type": "code",
   "execution_count": 58,
   "metadata": {
    "collapsed": true,
    "execution": {
     "iopub.execute_input": "2021-04-24T22:08:08.118813Z",
     "iopub.status.busy": "2021-04-24T22:08:08.118362Z",
     "iopub.status.idle": "2021-04-24T22:53:40.785177Z",
     "shell.execute_reply": "2021-04-24T22:53:40.723643Z",
     "shell.execute_reply.started": "2021-04-24T22:08:08.118777Z"
    },
    "jupyter": {
     "outputs_hidden": true
    }
   },
   "outputs": [
    {
     "ename": "KeyboardInterrupt",
     "evalue": "",
     "output_type": "error",
     "traceback": [
      "\u001b[0;31m---------------------------------------------------------------------------\u001b[0m",
      "\u001b[0;31mKeyboardInterrupt\u001b[0m                         Traceback (most recent call last)",
      "\u001b[0;32m<ipython-input-58-a1d4e762c234>\u001b[0m in \u001b[0;36m<module>\u001b[0;34m\u001b[0m\n\u001b[0;32m----> 1\u001b[0;31m \u001b[0mrf_005\u001b[0m \u001b[0;34m=\u001b[0m \u001b[0mRandomForestRegressor\u001b[0m\u001b[0;34m(\u001b[0m\u001b[0mfeaturesCol\u001b[0m\u001b[0;34m=\u001b[0m\u001b[0;34m'features'\u001b[0m\u001b[0;34m,\u001b[0m \u001b[0mlabelCol\u001b[0m\u001b[0;34m=\u001b[0m\u001b[0;34m'Total_amount'\u001b[0m\u001b[0;34m)\u001b[0m\u001b[0;34m.\u001b[0m\u001b[0mfit\u001b[0m\u001b[0;34m(\u001b[0m\u001b[0mdf_train_005\u001b[0m\u001b[0;34m)\u001b[0m\u001b[0;34m\u001b[0m\u001b[0;34m\u001b[0m\u001b[0m\n\u001b[0m",
      "\u001b[0;32m/usr/local/spark/python/pyspark/ml/base.py\u001b[0m in \u001b[0;36mfit\u001b[0;34m(self, dataset, params)\u001b[0m\n\u001b[1;32m    130\u001b[0m                 \u001b[0;32mreturn\u001b[0m \u001b[0mself\u001b[0m\u001b[0;34m.\u001b[0m\u001b[0mcopy\u001b[0m\u001b[0;34m(\u001b[0m\u001b[0mparams\u001b[0m\u001b[0;34m)\u001b[0m\u001b[0;34m.\u001b[0m\u001b[0m_fit\u001b[0m\u001b[0;34m(\u001b[0m\u001b[0mdataset\u001b[0m\u001b[0;34m)\u001b[0m\u001b[0;34m\u001b[0m\u001b[0;34m\u001b[0m\u001b[0m\n\u001b[1;32m    131\u001b[0m             \u001b[0;32melse\u001b[0m\u001b[0;34m:\u001b[0m\u001b[0;34m\u001b[0m\u001b[0;34m\u001b[0m\u001b[0m\n\u001b[0;32m--> 132\u001b[0;31m                 \u001b[0;32mreturn\u001b[0m \u001b[0mself\u001b[0m\u001b[0;34m.\u001b[0m\u001b[0m_fit\u001b[0m\u001b[0;34m(\u001b[0m\u001b[0mdataset\u001b[0m\u001b[0;34m)\u001b[0m\u001b[0;34m\u001b[0m\u001b[0;34m\u001b[0m\u001b[0m\n\u001b[0m\u001b[1;32m    133\u001b[0m         \u001b[0;32melse\u001b[0m\u001b[0;34m:\u001b[0m\u001b[0;34m\u001b[0m\u001b[0;34m\u001b[0m\u001b[0m\n\u001b[1;32m    134\u001b[0m             raise ValueError(\"Params must be either a param map or a list/tuple of param maps, \"\n",
      "\u001b[0;32m/usr/local/spark/python/pyspark/ml/wrapper.py\u001b[0m in \u001b[0;36m_fit\u001b[0;34m(self, dataset)\u001b[0m\n\u001b[1;32m    293\u001b[0m \u001b[0;34m\u001b[0m\u001b[0m\n\u001b[1;32m    294\u001b[0m     \u001b[0;32mdef\u001b[0m \u001b[0m_fit\u001b[0m\u001b[0;34m(\u001b[0m\u001b[0mself\u001b[0m\u001b[0;34m,\u001b[0m \u001b[0mdataset\u001b[0m\u001b[0;34m)\u001b[0m\u001b[0;34m:\u001b[0m\u001b[0;34m\u001b[0m\u001b[0;34m\u001b[0m\u001b[0m\n\u001b[0;32m--> 295\u001b[0;31m         \u001b[0mjava_model\u001b[0m \u001b[0;34m=\u001b[0m \u001b[0mself\u001b[0m\u001b[0;34m.\u001b[0m\u001b[0m_fit_java\u001b[0m\u001b[0;34m(\u001b[0m\u001b[0mdataset\u001b[0m\u001b[0;34m)\u001b[0m\u001b[0;34m\u001b[0m\u001b[0;34m\u001b[0m\u001b[0m\n\u001b[0m\u001b[1;32m    296\u001b[0m         \u001b[0mmodel\u001b[0m \u001b[0;34m=\u001b[0m \u001b[0mself\u001b[0m\u001b[0;34m.\u001b[0m\u001b[0m_create_model\u001b[0m\u001b[0;34m(\u001b[0m\u001b[0mjava_model\u001b[0m\u001b[0;34m)\u001b[0m\u001b[0;34m\u001b[0m\u001b[0;34m\u001b[0m\u001b[0m\n\u001b[1;32m    297\u001b[0m         \u001b[0;32mreturn\u001b[0m \u001b[0mself\u001b[0m\u001b[0;34m.\u001b[0m\u001b[0m_copyValues\u001b[0m\u001b[0;34m(\u001b[0m\u001b[0mmodel\u001b[0m\u001b[0;34m)\u001b[0m\u001b[0;34m\u001b[0m\u001b[0;34m\u001b[0m\u001b[0m\n",
      "\u001b[0;32m/usr/local/spark/python/pyspark/ml/wrapper.py\u001b[0m in \u001b[0;36m_fit_java\u001b[0;34m(self, dataset)\u001b[0m\n\u001b[1;32m    290\u001b[0m         \"\"\"\n\u001b[1;32m    291\u001b[0m         \u001b[0mself\u001b[0m\u001b[0;34m.\u001b[0m\u001b[0m_transfer_params_to_java\u001b[0m\u001b[0;34m(\u001b[0m\u001b[0;34m)\u001b[0m\u001b[0;34m\u001b[0m\u001b[0;34m\u001b[0m\u001b[0m\n\u001b[0;32m--> 292\u001b[0;31m         \u001b[0;32mreturn\u001b[0m \u001b[0mself\u001b[0m\u001b[0;34m.\u001b[0m\u001b[0m_java_obj\u001b[0m\u001b[0;34m.\u001b[0m\u001b[0mfit\u001b[0m\u001b[0;34m(\u001b[0m\u001b[0mdataset\u001b[0m\u001b[0;34m.\u001b[0m\u001b[0m_jdf\u001b[0m\u001b[0;34m)\u001b[0m\u001b[0;34m\u001b[0m\u001b[0;34m\u001b[0m\u001b[0m\n\u001b[0m\u001b[1;32m    293\u001b[0m \u001b[0;34m\u001b[0m\u001b[0m\n\u001b[1;32m    294\u001b[0m     \u001b[0;32mdef\u001b[0m \u001b[0m_fit\u001b[0m\u001b[0;34m(\u001b[0m\u001b[0mself\u001b[0m\u001b[0;34m,\u001b[0m \u001b[0mdataset\u001b[0m\u001b[0;34m)\u001b[0m\u001b[0;34m:\u001b[0m\u001b[0;34m\u001b[0m\u001b[0;34m\u001b[0m\u001b[0m\n",
      "\u001b[0;32m/usr/local/spark/python/lib/py4j-0.10.7-src.zip/py4j/java_gateway.py\u001b[0m in \u001b[0;36m__call__\u001b[0;34m(self, *args)\u001b[0m\n\u001b[1;32m   1253\u001b[0m             \u001b[0mproto\u001b[0m\u001b[0;34m.\u001b[0m\u001b[0mEND_COMMAND_PART\u001b[0m\u001b[0;34m\u001b[0m\u001b[0;34m\u001b[0m\u001b[0m\n\u001b[1;32m   1254\u001b[0m \u001b[0;34m\u001b[0m\u001b[0m\n\u001b[0;32m-> 1255\u001b[0;31m         \u001b[0manswer\u001b[0m \u001b[0;34m=\u001b[0m \u001b[0mself\u001b[0m\u001b[0;34m.\u001b[0m\u001b[0mgateway_client\u001b[0m\u001b[0;34m.\u001b[0m\u001b[0msend_command\u001b[0m\u001b[0;34m(\u001b[0m\u001b[0mcommand\u001b[0m\u001b[0;34m)\u001b[0m\u001b[0;34m\u001b[0m\u001b[0;34m\u001b[0m\u001b[0m\n\u001b[0m\u001b[1;32m   1256\u001b[0m         return_value = get_return_value(\n\u001b[1;32m   1257\u001b[0m             answer, self.gateway_client, self.target_id, self.name)\n",
      "\u001b[0;32m/usr/local/spark/python/lib/py4j-0.10.7-src.zip/py4j/java_gateway.py\u001b[0m in \u001b[0;36msend_command\u001b[0;34m(self, command, retry, binary)\u001b[0m\n\u001b[1;32m    983\u001b[0m         \u001b[0mconnection\u001b[0m \u001b[0;34m=\u001b[0m \u001b[0mself\u001b[0m\u001b[0;34m.\u001b[0m\u001b[0m_get_connection\u001b[0m\u001b[0;34m(\u001b[0m\u001b[0;34m)\u001b[0m\u001b[0;34m\u001b[0m\u001b[0;34m\u001b[0m\u001b[0m\n\u001b[1;32m    984\u001b[0m         \u001b[0;32mtry\u001b[0m\u001b[0;34m:\u001b[0m\u001b[0;34m\u001b[0m\u001b[0;34m\u001b[0m\u001b[0m\n\u001b[0;32m--> 985\u001b[0;31m             \u001b[0mresponse\u001b[0m \u001b[0;34m=\u001b[0m \u001b[0mconnection\u001b[0m\u001b[0;34m.\u001b[0m\u001b[0msend_command\u001b[0m\u001b[0;34m(\u001b[0m\u001b[0mcommand\u001b[0m\u001b[0;34m)\u001b[0m\u001b[0;34m\u001b[0m\u001b[0;34m\u001b[0m\u001b[0m\n\u001b[0m\u001b[1;32m    986\u001b[0m             \u001b[0;32mif\u001b[0m \u001b[0mbinary\u001b[0m\u001b[0;34m:\u001b[0m\u001b[0;34m\u001b[0m\u001b[0;34m\u001b[0m\u001b[0m\n\u001b[1;32m    987\u001b[0m                 \u001b[0;32mreturn\u001b[0m \u001b[0mresponse\u001b[0m\u001b[0;34m,\u001b[0m \u001b[0mself\u001b[0m\u001b[0;34m.\u001b[0m\u001b[0m_create_connection_guard\u001b[0m\u001b[0;34m(\u001b[0m\u001b[0mconnection\u001b[0m\u001b[0;34m)\u001b[0m\u001b[0;34m\u001b[0m\u001b[0;34m\u001b[0m\u001b[0m\n",
      "\u001b[0;32m/usr/local/spark/python/lib/py4j-0.10.7-src.zip/py4j/java_gateway.py\u001b[0m in \u001b[0;36msend_command\u001b[0;34m(self, command)\u001b[0m\n\u001b[1;32m   1150\u001b[0m \u001b[0;34m\u001b[0m\u001b[0m\n\u001b[1;32m   1151\u001b[0m         \u001b[0;32mtry\u001b[0m\u001b[0;34m:\u001b[0m\u001b[0;34m\u001b[0m\u001b[0;34m\u001b[0m\u001b[0m\n\u001b[0;32m-> 1152\u001b[0;31m             \u001b[0manswer\u001b[0m \u001b[0;34m=\u001b[0m \u001b[0msmart_decode\u001b[0m\u001b[0;34m(\u001b[0m\u001b[0mself\u001b[0m\u001b[0;34m.\u001b[0m\u001b[0mstream\u001b[0m\u001b[0;34m.\u001b[0m\u001b[0mreadline\u001b[0m\u001b[0;34m(\u001b[0m\u001b[0;34m)\u001b[0m\u001b[0;34m[\u001b[0m\u001b[0;34m:\u001b[0m\u001b[0;34m-\u001b[0m\u001b[0;36m1\u001b[0m\u001b[0;34m]\u001b[0m\u001b[0;34m)\u001b[0m\u001b[0;34m\u001b[0m\u001b[0;34m\u001b[0m\u001b[0m\n\u001b[0m\u001b[1;32m   1153\u001b[0m             \u001b[0mlogger\u001b[0m\u001b[0;34m.\u001b[0m\u001b[0mdebug\u001b[0m\u001b[0;34m(\u001b[0m\u001b[0;34m\"Answer received: {0}\"\u001b[0m\u001b[0;34m.\u001b[0m\u001b[0mformat\u001b[0m\u001b[0;34m(\u001b[0m\u001b[0manswer\u001b[0m\u001b[0;34m)\u001b[0m\u001b[0;34m)\u001b[0m\u001b[0;34m\u001b[0m\u001b[0;34m\u001b[0m\u001b[0m\n\u001b[1;32m   1154\u001b[0m             \u001b[0;32mif\u001b[0m \u001b[0manswer\u001b[0m\u001b[0;34m.\u001b[0m\u001b[0mstartswith\u001b[0m\u001b[0;34m(\u001b[0m\u001b[0mproto\u001b[0m\u001b[0;34m.\u001b[0m\u001b[0mRETURN_MESSAGE\u001b[0m\u001b[0;34m)\u001b[0m\u001b[0;34m:\u001b[0m\u001b[0;34m\u001b[0m\u001b[0;34m\u001b[0m\u001b[0m\n",
      "\u001b[0;32m/opt/conda/lib/python3.7/socket.py\u001b[0m in \u001b[0;36mreadinto\u001b[0;34m(self, b)\u001b[0m\n\u001b[1;32m    587\u001b[0m         \u001b[0;32mwhile\u001b[0m \u001b[0;32mTrue\u001b[0m\u001b[0;34m:\u001b[0m\u001b[0;34m\u001b[0m\u001b[0;34m\u001b[0m\u001b[0m\n\u001b[1;32m    588\u001b[0m             \u001b[0;32mtry\u001b[0m\u001b[0;34m:\u001b[0m\u001b[0;34m\u001b[0m\u001b[0;34m\u001b[0m\u001b[0m\n\u001b[0;32m--> 589\u001b[0;31m                 \u001b[0;32mreturn\u001b[0m \u001b[0mself\u001b[0m\u001b[0;34m.\u001b[0m\u001b[0m_sock\u001b[0m\u001b[0;34m.\u001b[0m\u001b[0mrecv_into\u001b[0m\u001b[0;34m(\u001b[0m\u001b[0mb\u001b[0m\u001b[0;34m)\u001b[0m\u001b[0;34m\u001b[0m\u001b[0;34m\u001b[0m\u001b[0m\n\u001b[0m\u001b[1;32m    590\u001b[0m             \u001b[0;32mexcept\u001b[0m \u001b[0mtimeout\u001b[0m\u001b[0;34m:\u001b[0m\u001b[0;34m\u001b[0m\u001b[0;34m\u001b[0m\u001b[0m\n\u001b[1;32m    591\u001b[0m                 \u001b[0mself\u001b[0m\u001b[0;34m.\u001b[0m\u001b[0m_timeout_occurred\u001b[0m \u001b[0;34m=\u001b[0m \u001b[0;32mTrue\u001b[0m\u001b[0;34m\u001b[0m\u001b[0;34m\u001b[0m\u001b[0m\n",
      "\u001b[0;31mKeyboardInterrupt\u001b[0m: "
     ]
    }
   ],
   "source": [
    "gbt_005 = GBTRegressor(featuresCol='features', labelCol='Total_amount').fit(df_train_005)"
   ]
  },
  {
   "cell_type": "code",
   "execution_count": null,
   "metadata": {
    "execution": {
     "iopub.status.busy": "2021-04-24T22:53:40.836060Z",
     "iopub.status.idle": "2021-04-24T22:53:40.839872Z",
     "shell.execute_reply": "2021-04-24T22:53:40.838922Z"
    }
   },
   "outputs": [],
   "source": [
    "train_preds = rf_005.transform(df_train_005)"
   ]
  },
  {
   "cell_type": "code",
   "execution_count": null,
   "metadata": {
    "execution": {
     "iopub.status.busy": "2021-04-24T22:53:40.895135Z",
     "iopub.status.idle": "2021-04-24T22:53:40.899664Z",
     "shell.execute_reply": "2021-04-24T22:53:40.896490Z"
    }
   },
   "outputs": [],
   "source": [
    "test_preds = rf_1m.transform(df_test)"
   ]
  },
  {
   "cell_type": "code",
   "execution_count": null,
   "metadata": {
    "execution": {
     "iopub.status.busy": "2021-04-24T22:53:40.925825Z",
     "iopub.status.idle": "2021-04-24T22:53:40.930302Z",
     "shell.execute_reply": "2021-04-24T22:53:40.926497Z"
    }
   },
   "outputs": [],
   "source": [
    "model_name = 'rf_005'\n",
    "path = models_dir.joinpath(model_name).as_posix()\n",
    "rf_005.save(path)"
   ]
  },
  {
   "cell_type": "markdown",
   "metadata": {},
   "source": [
    "## Evaluation"
   ]
  },
  {
   "cell_type": "code",
   "execution_count": 19,
   "metadata": {},
   "outputs": [],
   "source": [
    "evaluator = RegressionEvaluator(metricName='rmse', labelCol='Total_amount')"
   ]
  },
  {
   "cell_type": "code",
   "execution_count": 20,
   "metadata": {},
   "outputs": [
    {
     "data": {
      "text/plain": [
       "1.5544066754621952"
      ]
     },
     "execution_count": 20,
     "metadata": {},
     "output_type": "execute_result"
    }
   ],
   "source": [
    "evaluator.evaluate(train_preds)"
   ]
  },
  {
   "cell_type": "code",
   "execution_count": 40,
   "metadata": {},
   "outputs": [
    {
     "data": {
      "text/plain": [
       "2.5168938613512313"
      ]
     },
     "execution_count": 40,
     "metadata": {},
     "output_type": "execute_result"
    }
   ],
   "source": [
    "evaluator.evaluate(test_preds)"
   ]
  }
 ],
 "metadata": {
  "kernelspec": {
   "display_name": "Python 3",
   "language": "python",
   "name": "python3"
  },
  "language_info": {
   "codemirror_mode": {
    "name": "ipython",
    "version": 3
   },
   "file_extension": ".py",
   "mimetype": "text/x-python",
   "name": "python",
   "nbconvert_exporter": "python",
   "pygments_lexer": "ipython3",
   "version": "3.7.10"
  },
  "toc-autonumbering": true
 },
 "nbformat": 4,
 "nbformat_minor": 4
}
