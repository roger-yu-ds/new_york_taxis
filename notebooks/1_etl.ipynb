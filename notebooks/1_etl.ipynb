{
 "cells": [
  {
   "cell_type": "markdown",
   "metadata": {},
   "source": [
    "# Introduction\n",
    "\n",
    "This notebook is the ETL for the yellow and green NYC taxi data for the years 2019-2020.\n",
    "\n",
    "The data has been downloaded separately from https://www1.nyc.gov/site/tlc/about/tlc-trip-record-data.page and stored in `../data/raw/`. The file names are in the format `<colour>_tripdata_yyyy-mm.csv`."
   ]
  },
  {
   "cell_type": "code",
   "execution_count": 1,
   "metadata": {
    "execution": {
     "iopub.execute_input": "2021-04-24T04:16:54.306636Z",
     "iopub.status.busy": "2021-04-24T04:16:54.306294Z",
     "iopub.status.idle": "2021-04-24T04:16:54.326153Z",
     "shell.execute_reply": "2021-04-24T04:16:54.325099Z",
     "shell.execute_reply.started": "2021-04-24T04:16:54.306563Z"
    },
    "tags": []
   },
   "outputs": [],
   "source": [
    "%load_ext autoreload\n",
    "%autoreload 2"
   ]
  },
  {
   "cell_type": "code",
   "execution_count": 2,
   "metadata": {
    "execution": {
     "iopub.execute_input": "2021-04-24T04:16:54.327958Z",
     "iopub.status.busy": "2021-04-24T04:16:54.327744Z",
     "iopub.status.idle": "2021-04-24T04:16:55.552255Z",
     "shell.execute_reply": "2021-04-24T04:16:55.550614Z",
     "shell.execute_reply.started": "2021-04-24T04:16:54.327932Z"
    },
    "tags": []
   },
   "outputs": [],
   "source": [
    "import pandas as pd\n",
    "import matplotlib.pyplot as plt\n",
    "import seaborn as sns\n",
    "from pathlib import Path\n",
    "from dotenv import find_dotenv\n",
    "from datetime import datetime\n",
    "\n",
    "from pyspark.sql import SparkSession\n",
    "from pyspark.conf import SparkConf\n",
    "from pyspark import SparkContext\n",
    "\n",
    "import pyspark.sql.functions as F\n",
    "from pyspark.sql.functions import when\n",
    "from pyspark.sql.types import (\n",
    "    IntegerType,\n",
    "    DateType,\n",
    "    FloatType,\n",
    "    StringType,\n",
    "    TimestampType \n",
    ")\n",
    "\n",
    "# from src.data.utils import count_missing"
   ]
  },
  {
   "cell_type": "code",
   "execution_count": 3,
   "metadata": {
    "execution": {
     "iopub.execute_input": "2021-04-24T04:16:55.555295Z",
     "iopub.status.busy": "2021-04-24T04:16:55.554896Z",
     "iopub.status.idle": "2021-04-24T04:16:55.599336Z",
     "shell.execute_reply": "2021-04-24T04:16:55.597732Z",
     "shell.execute_reply.started": "2021-04-24T04:16:55.555247Z"
    },
    "tags": []
   },
   "outputs": [],
   "source": [
    "project_dir = Path().cwd().parent\n",
    "data_dir = project_dir / 'data'\n",
    "raw_data_dir = data_dir / 'raw'\n",
    "interim_data_dir = data_dir / 'interim'\n",
    "processed_data_dir = data_dir / 'processed'\n",
    "reports_dir = project_dir / 'reports'"
   ]
  },
  {
   "cell_type": "code",
   "execution_count": 4,
   "metadata": {
    "execution": {
     "iopub.execute_input": "2021-04-24T04:16:55.601966Z",
     "iopub.status.busy": "2021-04-24T04:16:55.601752Z",
     "iopub.status.idle": "2021-04-24T04:16:58.362607Z",
     "shell.execute_reply": "2021-04-24T04:16:58.360504Z",
     "shell.execute_reply.started": "2021-04-24T04:16:55.601940Z"
    },
    "tags": []
   },
   "outputs": [],
   "source": [
    "spark = (\n",
    "    SparkSession\n",
    "    .builder\n",
    "    .master('local[12]')\n",
    "    .appName('new_york_taxis')\n",
    "    .getOrCreate()\n",
    ")"
   ]
  },
  {
   "cell_type": "code",
   "execution_count": 5,
   "metadata": {
    "execution": {
     "iopub.execute_input": "2021-04-24T04:16:58.365606Z",
     "iopub.status.busy": "2021-04-24T04:16:58.365195Z",
     "iopub.status.idle": "2021-04-24T04:16:58.415788Z",
     "shell.execute_reply": "2021-04-24T04:16:58.414343Z",
     "shell.execute_reply.started": "2021-04-24T04:16:58.365554Z"
    },
    "tags": []
   },
   "outputs": [
    {
     "data": {
      "text/html": [
       "\n",
       "            <div>\n",
       "                <p><b>SparkSession - in-memory</b></p>\n",
       "                \n",
       "        <div>\n",
       "            <p><b>SparkContext</b></p>\n",
       "\n",
       "            <p><a href=\"http://7501c46205ca:4041\">Spark UI</a></p>\n",
       "\n",
       "            <dl>\n",
       "              <dt>Version</dt>\n",
       "                <dd><code>v2.4.5</code></dd>\n",
       "              <dt>Master</dt>\n",
       "                <dd><code>local[12]</code></dd>\n",
       "              <dt>AppName</dt>\n",
       "                <dd><code>new_york_taxis</code></dd>\n",
       "            </dl>\n",
       "        </div>\n",
       "        \n",
       "            </div>\n",
       "        "
      ],
      "text/plain": [
       "<pyspark.sql.session.SparkSession at 0x7f2d86038350>"
      ]
     },
     "execution_count": 5,
     "metadata": {},
     "output_type": "execute_result"
    }
   ],
   "source": [
    "spark"
   ]
  },
  {
   "cell_type": "code",
   "execution_count": 6,
   "metadata": {
    "execution": {
     "iopub.execute_input": "2021-04-24T04:16:58.418421Z",
     "iopub.status.busy": "2021-04-24T04:16:58.417799Z",
     "iopub.status.idle": "2021-04-24T04:16:58.451472Z",
     "shell.execute_reply": "2021-04-24T04:16:58.450340Z",
     "shell.execute_reply.started": "2021-04-24T04:16:58.418359Z"
    },
    "tags": []
   },
   "outputs": [
    {
     "data": {
      "text/plain": [
       "'3.0.0'"
      ]
     },
     "execution_count": 6,
     "metadata": {},
     "output_type": "execute_result"
    }
   ],
   "source": [
    "spark._jvm.org.apache.hadoop.util.VersionInfo.getVersion()"
   ]
  },
  {
   "cell_type": "code",
   "execution_count": 7,
   "metadata": {
    "execution": {
     "iopub.execute_input": "2021-04-24T04:16:58.452952Z",
     "iopub.status.busy": "2021-04-24T04:16:58.452710Z",
     "iopub.status.idle": "2021-04-24T04:16:58.489127Z",
     "shell.execute_reply": "2021-04-24T04:16:58.488145Z",
     "shell.execute_reply.started": "2021-04-24T04:16:58.452923Z"
    },
    "tags": []
   },
   "outputs": [
    {
     "data": {
      "text/plain": [
       "[('spark.driver.memory', '12g'),\n",
       " ('spark.driver.extraJavaOptions',\n",
       "  '\"-Dio.netty.tryReflectionSetAccessible=true\"'),\n",
       " ('spark.executor.id', 'driver'),\n",
       " ('spark.driver.port', '36607'),\n",
       " ('spark.app.id', 'local-1619237817701'),\n",
       " ('spark.app.name', 'new_york_taxis'),\n",
       " ('spark.executor.extraJavaOptions',\n",
       "  '\"-Dio.netty.tryReflectionSetAccessible=true\"'),\n",
       " ('spark.master', 'local[12]'),\n",
       " ('spark.rdd.compress', 'True'),\n",
       " ('spark.driver.host', '7501c46205ca'),\n",
       " ('spark.serializer.objectStreamReset', '100'),\n",
       " ('spark.submit.deployMode', 'client'),\n",
       " ('spark.ui.showConsoleProgress', 'true'),\n",
       " ('spark.debug.maxToStringFields', '1000')]"
      ]
     },
     "execution_count": 7,
     "metadata": {},
     "output_type": "execute_result"
    }
   ],
   "source": [
    "spark.sparkContext._conf.getAll()"
   ]
  },
  {
   "cell_type": "code",
   "execution_count": 8,
   "metadata": {
    "execution": {
     "iopub.execute_input": "2021-04-24T04:16:58.492299Z",
     "iopub.status.busy": "2021-04-24T04:16:58.491958Z",
     "iopub.status.idle": "2021-04-24T04:16:59.224629Z",
     "shell.execute_reply": "2021-04-24T04:16:59.221900Z",
     "shell.execute_reply.started": "2021-04-24T04:16:58.492271Z"
    },
    "tags": []
   },
   "outputs": [],
   "source": [
    "conf = spark.sparkContext._conf.setAll([\n",
    "    ('spark.driver.memory', '16g'),\n",
    "    ('spark.executor.memory', '16g'),\n",
    "    ('spark.app.name', 'new_york_taxis'),\n",
    "])\n",
    "spark.sparkContext.stop()\n",
    "spark = SparkSession.builder.config(conf=conf).getOrCreate()"
   ]
  },
  {
   "cell_type": "code",
   "execution_count": 9,
   "metadata": {
    "execution": {
     "iopub.execute_input": "2021-04-24T04:16:59.227629Z",
     "iopub.status.busy": "2021-04-24T04:16:59.227397Z",
     "iopub.status.idle": "2021-04-24T04:16:59.266501Z",
     "shell.execute_reply": "2021-04-24T04:16:59.265154Z",
     "shell.execute_reply.started": "2021-04-24T04:16:59.227602Z"
    },
    "tags": []
   },
   "outputs": [
    {
     "data": {
      "text/plain": [
       "[('spark.driver.extraJavaOptions',\n",
       "  '\"-Dio.netty.tryReflectionSetAccessible=true\"'),\n",
       " ('spark.executor.id', 'driver'),\n",
       " ('spark.driver.memory', '16g'),\n",
       " ('spark.executor.memory', '16g'),\n",
       " ('spark.driver.port', '36607'),\n",
       " ('spark.app.id', 'local-1619237817701'),\n",
       " ('spark.app.name', 'new_york_taxis'),\n",
       " ('spark.executor.extraJavaOptions',\n",
       "  '\"-Dio.netty.tryReflectionSetAccessible=true\"'),\n",
       " ('spark.master', 'local[12]'),\n",
       " ('spark.rdd.compress', 'True'),\n",
       " ('spark.driver.host', '7501c46205ca'),\n",
       " ('spark.serializer.objectStreamReset', '100'),\n",
       " ('spark.submit.deployMode', 'client'),\n",
       " ('spark.ui.showConsoleProgress', 'true'),\n",
       " ('spark.debug.maxToStringFields', '1000')]"
      ]
     },
     "execution_count": 9,
     "metadata": {},
     "output_type": "execute_result"
    }
   ],
   "source": [
    "spark.sparkContext._conf.getAll()"
   ]
  },
  {
   "cell_type": "markdown",
   "metadata": {},
   "source": [
    "# Load data\n",
    "\n",
    "The green and yellow taxi data are loaded together, which means that the extra feature, `Trip_type` in the green data set is omitted."
   ]
  },
  {
   "cell_type": "code",
   "execution_count": 10,
   "metadata": {
    "execution": {
     "iopub.execute_input": "2021-04-24T04:16:59.268777Z",
     "iopub.status.busy": "2021-04-24T04:16:59.268334Z",
     "iopub.status.idle": "2021-04-24T04:18:15.148557Z",
     "shell.execute_reply": "2021-04-24T04:18:15.147569Z",
     "shell.execute_reply.started": "2021-04-24T04:16:59.268734Z"
    }
   },
   "outputs": [],
   "source": [
    "df_dict = {}\n",
    "\n",
    "for colour in ['green', 'yellow']:\n",
    "    path = raw_data_dir.joinpath(f'{colour}_tripdata_20*.csv').as_posix()\n",
    "    df = spark.read.csv(path, header=True)\n",
    "    \n",
    "    # Add the taxi colour\n",
    "    df = df.withColumn('colour', F.lit(colour))\n",
    "    df_dict[colour] = df"
   ]
  },
  {
   "cell_type": "markdown",
   "metadata": {},
   "source": [
    "# Check column differences\n",
    "\n",
    "The green taxi data has more columns than does the yellow taxi data. See the table below:\n",
    "\n",
    "|green columns|yellow columns|comment|\n",
    "|-------------|--------------|-------|\n",
    "|`lpep_pickup_datetime`|`pickup_datetime`|Rename to `pickup_datetime`|\n",
    "|`lpep_dropoff_datetime`|`dropoff_datetime`|Rename to `dropoff_datetime`|\n",
    "|`trip_type`||The green taxis have two types, \"Street-hail\" and \"Dispatch\". Drop this column.|\n",
    "|`ehail_fee`||Drop this column.|"
   ]
  },
  {
   "cell_type": "code",
   "execution_count": 11,
   "metadata": {
    "execution": {
     "iopub.execute_input": "2021-04-24T04:18:15.149886Z",
     "iopub.status.busy": "2021-04-24T04:18:15.149683Z",
     "iopub.status.idle": "2021-04-24T04:18:15.201262Z",
     "shell.execute_reply": "2021-04-24T04:18:15.200254Z",
     "shell.execute_reply.started": "2021-04-24T04:18:15.149862Z"
    }
   },
   "outputs": [
    {
     "data": {
      "text/plain": [
       "{'ehail_fee', 'lpep_dropoff_datetime', 'lpep_pickup_datetime', 'trip_type'}"
      ]
     },
     "execution_count": 11,
     "metadata": {},
     "output_type": "execute_result"
    }
   ],
   "source": [
    "set(df_dict['green'].columns) - set(df_dict['yellow'].columns)"
   ]
  },
  {
   "cell_type": "code",
   "execution_count": 12,
   "metadata": {
    "execution": {
     "iopub.execute_input": "2021-04-24T04:18:15.202712Z",
     "iopub.status.busy": "2021-04-24T04:18:15.202458Z",
     "iopub.status.idle": "2021-04-24T04:18:15.229149Z",
     "shell.execute_reply": "2021-04-24T04:18:15.227700Z",
     "shell.execute_reply.started": "2021-04-24T04:18:15.202686Z"
    }
   },
   "outputs": [
    {
     "data": {
      "text/plain": [
       "{'tpep_dropoff_datetime', 'tpep_pickup_datetime'}"
      ]
     },
     "execution_count": 12,
     "metadata": {},
     "output_type": "execute_result"
    }
   ],
   "source": [
    "set(df_dict['yellow'].columns) - set(df_dict['green'].columns)"
   ]
  },
  {
   "cell_type": "markdown",
   "metadata": {},
   "source": [
    "# Combine the green and the yellow\n",
    "\n",
    "This requires the columns to be the same; renaming and dropping of columns is required, see [table](#Check-column-differences)."
   ]
  },
  {
   "cell_type": "code",
   "execution_count": 13,
   "metadata": {
    "execution": {
     "iopub.execute_input": "2021-04-24T04:18:15.231459Z",
     "iopub.status.busy": "2021-04-24T04:18:15.231048Z",
     "iopub.status.idle": "2021-04-24T04:18:15.300783Z",
     "shell.execute_reply": "2021-04-24T04:18:15.299797Z",
     "shell.execute_reply.started": "2021-04-24T04:18:15.231418Z"
    }
   },
   "outputs": [],
   "source": [
    "df_green = (\n",
    "    df_dict['green']\n",
    "    .withColumnRenamed('lpep_pickup_datetime', 'pickup_datetime')\n",
    "    .withColumnRenamed('lpep_dropoff_datetime', 'dropoff_datetime')\n",
    "    .drop('trip_type')\n",
    "    .drop('ehail_fee')\n",
    ")\n",
    "\n",
    "df_yellow = (\n",
    "    df_dict['yellow']\n",
    "    .withColumnRenamed('pickup_datetime', 'pickup_datetime')\n",
    "    .withColumnRenamed('dropoff_datetime', 'dropoff_datetime')\n",
    ")\n",
    "\n",
    "df = df_green.union(df_yellow)"
   ]
  },
  {
   "cell_type": "markdown",
   "metadata": {},
   "source": [
    "## Load/save parquet"
   ]
  },
  {
   "cell_type": "code",
   "execution_count": 14,
   "metadata": {
    "execution": {
     "iopub.execute_input": "2021-04-24T04:18:15.302053Z",
     "iopub.status.busy": "2021-04-24T04:18:15.301826Z",
     "iopub.status.idle": "2021-04-24T04:18:15.321842Z",
     "shell.execute_reply": "2021-04-24T04:18:15.320913Z",
     "shell.execute_reply.started": "2021-04-24T04:18:15.302028Z"
    },
    "tags": []
   },
   "outputs": [],
   "source": [
    "path = interim_data_dir.joinpath('df_combined').as_posix()"
   ]
  },
  {
   "cell_type": "code",
   "execution_count": 15,
   "metadata": {
    "execution": {
     "iopub.execute_input": "2021-04-24T04:18:15.323318Z",
     "iopub.status.busy": "2021-04-24T04:18:15.323100Z",
     "iopub.status.idle": "2021-04-24T04:18:18.024658Z",
     "shell.execute_reply": "2021-04-24T04:18:18.022865Z",
     "shell.execute_reply.started": "2021-04-24T04:18:15.323292Z"
    },
    "tags": []
   },
   "outputs": [],
   "source": [
    "# df.write.parquet(path, mode='overwrite')\n",
    "df = spark.read.parquet(path)"
   ]
  },
  {
   "cell_type": "code",
   "execution_count": 16,
   "metadata": {
    "execution": {
     "iopub.execute_input": "2021-04-24T04:18:18.026056Z",
     "iopub.status.busy": "2021-04-24T04:18:18.025843Z",
     "iopub.status.idle": "2021-04-24T04:18:20.195181Z",
     "shell.execute_reply": "2021-04-24T04:18:20.192092Z",
     "shell.execute_reply.started": "2021-04-24T04:18:18.026030Z"
    },
    "tags": []
   },
   "outputs": [
    {
     "data": {
      "text/plain": [
       "116825619"
      ]
     },
     "execution_count": 16,
     "metadata": {},
     "output_type": "execute_result"
    }
   ],
   "source": [
    "df.count()"
   ]
  },
  {
   "cell_type": "code",
   "execution_count": 17,
   "metadata": {
    "execution": {
     "iopub.execute_input": "2021-04-24T04:18:20.199715Z",
     "iopub.status.busy": "2021-04-24T04:18:20.198967Z",
     "iopub.status.idle": "2021-04-24T04:18:20.235722Z",
     "shell.execute_reply": "2021-04-24T04:18:20.234172Z",
     "shell.execute_reply.started": "2021-04-24T04:18:20.199647Z"
    },
    "tags": []
   },
   "outputs": [
    {
     "name": "stdout",
     "output_type": "stream",
     "text": [
      "root\n",
      " |-- VendorID: string (nullable = true)\n",
      " |-- pickup_datetime: string (nullable = true)\n",
      " |-- dropoff_datetime: string (nullable = true)\n",
      " |-- store_and_fwd_flag: string (nullable = true)\n",
      " |-- RatecodeID: string (nullable = true)\n",
      " |-- PULocationID: string (nullable = true)\n",
      " |-- DOLocationID: string (nullable = true)\n",
      " |-- passenger_count: string (nullable = true)\n",
      " |-- trip_distance: string (nullable = true)\n",
      " |-- fare_amount: string (nullable = true)\n",
      " |-- extra: string (nullable = true)\n",
      " |-- mta_tax: string (nullable = true)\n",
      " |-- tip_amount: string (nullable = true)\n",
      " |-- tolls_amount: string (nullable = true)\n",
      " |-- improvement_surcharge: string (nullable = true)\n",
      " |-- total_amount: string (nullable = true)\n",
      " |-- payment_type: string (nullable = true)\n",
      " |-- congestion_surcharge: string (nullable = true)\n",
      " |-- colour: string (nullable = true)\n",
      "\n"
     ]
    }
   ],
   "source": [
    "df.printSchema()"
   ]
  },
  {
   "cell_type": "markdown",
   "metadata": {},
   "source": [
    "# Change datatype\n",
    "\n",
    "The columns are all of type string. This section changes some of them into more appropriate types."
   ]
  },
  {
   "cell_type": "code",
   "execution_count": 18,
   "metadata": {
    "execution": {
     "iopub.execute_input": "2021-04-24T04:18:20.237549Z",
     "iopub.status.busy": "2021-04-24T04:18:20.237234Z",
     "iopub.status.idle": "2021-04-24T04:18:20.292726Z",
     "shell.execute_reply": "2021-04-24T04:18:20.291107Z",
     "shell.execute_reply.started": "2021-04-24T04:18:20.237520Z"
    },
    "tags": []
   },
   "outputs": [],
   "source": [
    "datatype_dict = {\n",
    "    'VendorID': StringType(),\n",
    "    'pickup_datetime': TimestampType(),\n",
    "    'dropoff_datetime': TimestampType(),\n",
    "    'passenger_count': IntegerType(),\n",
    "    'trip_distance': FloatType(),\n",
    "    'RatecodeID': StringType(),\n",
    "    'store_and_fwd_flag': StringType(),\n",
    "    'PULocationID': StringType(),\n",
    "    'DOLocationID': StringType(),\n",
    "    'payment_type': StringType(),\n",
    "    'fare_amount': FloatType(),\n",
    "    'extra': FloatType(),\n",
    "    'mta_tax': FloatType(),\n",
    "    'tip_amount': FloatType(),\n",
    "    'tolls_amount': FloatType(),\n",
    "    'improvement_surcharge': FloatType(),\n",
    "    'total_amount': FloatType(),\n",
    "    'congestion_surcharge': FloatType()\n",
    "}"
   ]
  },
  {
   "cell_type": "code",
   "execution_count": 19,
   "metadata": {
    "execution": {
     "iopub.execute_input": "2021-04-24T04:18:20.294831Z",
     "iopub.status.busy": "2021-04-24T04:18:20.294573Z",
     "iopub.status.idle": "2021-04-24T04:18:20.341748Z",
     "shell.execute_reply": "2021-04-24T04:18:20.340468Z",
     "shell.execute_reply.started": "2021-04-24T04:18:20.294802Z"
    },
    "tags": []
   },
   "outputs": [
    {
     "name": "stdout",
     "output_type": "stream",
     "text": [
      ".withColumn('VendorID', F.col('VendorID').astype(StringType()))\n",
      ".withColumn('pickup_datetime', F.col('pickup_datetime').astype(TimestampType()))\n",
      ".withColumn('dropoff_datetime', F.col('dropoff_datetime').astype(TimestampType()))\n",
      ".withColumn('passenger_count', F.col('passenger_count').astype(IntegerType()))\n",
      ".withColumn('trip_distance', F.col('trip_distance').astype(FloatType()))\n",
      ".withColumn('RatecodeID', F.col('RatecodeID').astype(StringType()))\n",
      ".withColumn('store_and_fwd_flag', F.col('store_and_fwd_flag').astype(StringType()))\n",
      ".withColumn('PULocationID', F.col('PULocationID').astype(StringType()))\n",
      ".withColumn('DOLocationID', F.col('DOLocationID').astype(StringType()))\n",
      ".withColumn('payment_type', F.col('payment_type').astype(StringType()))\n",
      ".withColumn('fare_amount', F.col('fare_amount').astype(FloatType()))\n",
      ".withColumn('extra', F.col('extra').astype(FloatType()))\n",
      ".withColumn('mta_tax', F.col('mta_tax').astype(FloatType()))\n",
      ".withColumn('tip_amount', F.col('tip_amount').astype(FloatType()))\n",
      ".withColumn('tolls_amount', F.col('tolls_amount').astype(FloatType()))\n",
      ".withColumn('improvement_surcharge', F.col('improvement_surcharge').astype(FloatType()))\n",
      ".withColumn('total_amount', F.col('total_amount').astype(FloatType()))\n",
      ".withColumn('congestion_surcharge', F.col('congestion_surcharge').astype(FloatType()))\n"
     ]
    }
   ],
   "source": [
    "# For convenience so all the code doesn't have to be manually typed\n",
    "for key, value in datatype_dict.items():\n",
    "    print(f\".withColumn('{key}', F.col('{key}').astype({value}()))\")"
   ]
  },
  {
   "cell_type": "code",
   "execution_count": 20,
   "metadata": {
    "execution": {
     "iopub.execute_input": "2021-04-24T04:18:20.343635Z",
     "iopub.status.busy": "2021-04-24T04:18:20.343352Z",
     "iopub.status.idle": "2021-04-24T04:18:20.768520Z",
     "shell.execute_reply": "2021-04-24T04:18:20.767048Z",
     "shell.execute_reply.started": "2021-04-24T04:18:20.343601Z"
    },
    "tags": []
   },
   "outputs": [],
   "source": [
    "df_typed = (\n",
    "    df\n",
    "    .withColumn('VendorID', F.col('VendorID').astype(StringType()))\n",
    "    .withColumn('pickup_datetime', F.col('pickup_datetime').astype(TimestampType()))\n",
    "    .withColumn('dropoff_datetime', F.col('dropoff_datetime').astype(TimestampType()))\n",
    "    .withColumn('passenger_count', F.col('passenger_count').astype(IntegerType()))\n",
    "    .withColumn('trip_distance', F.col('trip_distance').astype(FloatType()))\n",
    "    .withColumn('RatecodeID', F.col('RatecodeID').astype(StringType()))\n",
    "    .withColumn('store_and_fwd_flag', F.col('store_and_fwd_flag').astype(StringType()))\n",
    "    .withColumn('PULocationID', F.col('PULocationID').astype(StringType()))\n",
    "    .withColumn('DOLocationID', F.col('DOLocationID').astype(StringType()))\n",
    "    .withColumn('payment_type', F.col('payment_type').astype(StringType()))\n",
    "    .withColumn('fare_amount', F.col('fare_amount').astype(FloatType()))\n",
    "    .withColumn('extra', F.col('extra').astype(FloatType()))\n",
    "    .withColumn('mta_tax', F.col('mta_tax').astype(FloatType()))\n",
    "    .withColumn('tip_amount', F.col('tip_amount').astype(FloatType()))\n",
    "    .withColumn('tolls_amount', F.col('tolls_amount').astype(FloatType()))\n",
    "    .withColumn('improvement_surcharge', F.col('improvement_surcharge').astype(FloatType()))\n",
    "    .withColumn('total_amount', F.col('total_amount').astype(FloatType()))\n",
    "    .withColumn('congestion_surcharge', F.col('congestion_surcharge').astype(FloatType()))\n",
    ")"
   ]
  },
  {
   "cell_type": "code",
   "execution_count": 21,
   "metadata": {
    "execution": {
     "iopub.execute_input": "2021-04-24T04:18:20.769825Z",
     "iopub.status.busy": "2021-04-24T04:18:20.769628Z",
     "iopub.status.idle": "2021-04-24T04:18:20.808006Z",
     "shell.execute_reply": "2021-04-24T04:18:20.806422Z",
     "shell.execute_reply.started": "2021-04-24T04:18:20.769801Z"
    },
    "tags": []
   },
   "outputs": [
    {
     "name": "stdout",
     "output_type": "stream",
     "text": [
      "root\n",
      " |-- VendorID: string (nullable = true)\n",
      " |-- pickup_datetime: timestamp (nullable = true)\n",
      " |-- dropoff_datetime: timestamp (nullable = true)\n",
      " |-- store_and_fwd_flag: string (nullable = true)\n",
      " |-- RatecodeID: string (nullable = true)\n",
      " |-- PULocationID: string (nullable = true)\n",
      " |-- DOLocationID: string (nullable = true)\n",
      " |-- passenger_count: integer (nullable = true)\n",
      " |-- trip_distance: float (nullable = true)\n",
      " |-- fare_amount: float (nullable = true)\n",
      " |-- extra: float (nullable = true)\n",
      " |-- mta_tax: float (nullable = true)\n",
      " |-- tip_amount: float (nullable = true)\n",
      " |-- tolls_amount: float (nullable = true)\n",
      " |-- improvement_surcharge: float (nullable = true)\n",
      " |-- total_amount: float (nullable = true)\n",
      " |-- payment_type: string (nullable = true)\n",
      " |-- congestion_surcharge: float (nullable = true)\n",
      " |-- colour: string (nullable = true)\n",
      "\n"
     ]
    }
   ],
   "source": [
    "df_typed.printSchema()"
   ]
  },
  {
   "cell_type": "markdown",
   "metadata": {},
   "source": [
    "# Extract dateparts\n",
    "\n",
    "1. `pickup_year`\n",
    "1. `pickup_month`\n",
    "1. `pickup_dayofyear`\n",
    "1. `pickup_dayofmonth`\n",
    "1. `pickup_dayofweek`\n",
    "1. `pickup_weekofyear`\n",
    "1. `pickup_hour`"
   ]
  },
  {
   "cell_type": "code",
   "execution_count": 22,
   "metadata": {
    "execution": {
     "iopub.execute_input": "2021-04-24T04:18:20.809658Z",
     "iopub.status.busy": "2021-04-24T04:18:20.809354Z",
     "iopub.status.idle": "2021-04-24T04:18:20.833978Z",
     "shell.execute_reply": "2021-04-24T04:18:20.833003Z",
     "shell.execute_reply.started": "2021-04-24T04:18:20.809630Z"
    },
    "tags": []
   },
   "outputs": [],
   "source": [
    "hour = F.udf(lambda x: x.hour, IntegerType())"
   ]
  },
  {
   "cell_type": "code",
   "execution_count": 23,
   "metadata": {
    "execution": {
     "iopub.execute_input": "2021-04-24T04:18:20.842497Z",
     "iopub.status.busy": "2021-04-24T04:18:20.842220Z",
     "iopub.status.idle": "2021-04-24T04:18:20.979524Z",
     "shell.execute_reply": "2021-04-24T04:18:20.978266Z",
     "shell.execute_reply.started": "2021-04-24T04:18:20.842471Z"
    },
    "tags": []
   },
   "outputs": [],
   "source": [
    "df_dateparts = (\n",
    "    df_typed\n",
    "    .withColumn('pickup_year', F.year('pickup_datetime'))\n",
    "    .withColumn('pickup_month', F.month('pickup_datetime'))\n",
    "    .withColumn('pickup_dayofyear', F.dayofyear('pickup_datetime'))\n",
    "    .withColumn('pickup_dayofmonth', F.dayofmonth('pickup_datetime'))\n",
    "    .withColumn('pickup_dayofweek', F.dayofweek('pickup_datetime'))\n",
    "    .withColumn('pickup_weekofyear', F.weekofyear('pickup_datetime'))\n",
    "    .withColumn('pickup_hourofday', hour('pickup_datetime'))\n",
    ")"
   ]
  },
  {
   "cell_type": "code",
   "execution_count": 24,
   "metadata": {
    "execution": {
     "iopub.execute_input": "2021-04-24T04:18:20.983974Z",
     "iopub.status.busy": "2021-04-24T04:18:20.983580Z",
     "iopub.status.idle": "2021-04-24T04:18:21.271225Z",
     "shell.execute_reply": "2021-04-24T04:18:21.270241Z",
     "shell.execute_reply.started": "2021-04-24T04:18:20.983936Z"
    },
    "tags": []
   },
   "outputs": [
    {
     "data": {
      "text/plain": [
       "21"
      ]
     },
     "execution_count": 24,
     "metadata": {},
     "output_type": "execute_result"
    }
   ],
   "source": [
    "#\n",
    "df_dateparts.rdd.getNumPartitions()"
   ]
  },
  {
   "cell_type": "code",
   "execution_count": 25,
   "metadata": {
    "execution": {
     "iopub.execute_input": "2021-04-24T04:18:21.272704Z",
     "iopub.status.busy": "2021-04-24T04:18:21.272445Z",
     "iopub.status.idle": "2021-04-24T04:18:27.248300Z",
     "shell.execute_reply": "2021-04-24T04:18:27.247239Z",
     "shell.execute_reply.started": "2021-04-24T04:18:21.272678Z"
    },
    "tags": []
   },
   "outputs": [
    {
     "name": "stdout",
     "output_type": "stream",
     "text": [
      "+--------+-------------------+-------------------+------------------+----------+------------+------------+---------------+-------------+-----------+-----+-------+----------+------------+---------------------+------------+------------+--------------------+------+-----------+------------+----------------+-----------------+----------------+-----------------+----------------+\n",
      "|VendorID|    pickup_datetime|   dropoff_datetime|store_and_fwd_flag|RatecodeID|PULocationID|DOLocationID|passenger_count|trip_distance|fare_amount|extra|mta_tax|tip_amount|tolls_amount|improvement_surcharge|total_amount|payment_type|congestion_surcharge|colour|pickup_year|pickup_month|pickup_dayofyear|pickup_dayofmonth|pickup_dayofweek|pickup_weekofyear|pickup_hourofday|\n",
      "+--------+-------------------+-------------------+------------------+----------+------------+------------+---------------+-------------+-----------+-----+-------+----------+------------+---------------------+------------+------------+--------------------+------+-----------+------------+----------------+-----------------+----------------+-----------------+----------------+\n",
      "|       1|2019-01-01 00:46:40|2019-01-01 00:53:20|                 1|      1.50|           1|           N|            151|        239.0|        1.0|  7.0|    0.5|       0.5|        1.65|                  0.0|         0.3|        9.95|                null|yellow|       2019|           1|               1|                1|               3|                1|               0|\n",
      "|       1|2019-01-01 00:59:47|2019-01-01 01:18:59|                 1|      2.60|           1|           N|            239|        246.0|        1.0| 14.0|    0.5|       0.5|         1.0|                  0.0|         0.3|        16.3|                null|yellow|       2019|           1|               1|                1|               3|                1|               0|\n",
      "|       2|2018-12-21 13:48:30|2018-12-21 13:52:40|                 3|       .00|           1|           N|            236|        236.0|        1.0|  4.5|    0.5|       0.5|         0.0|                  0.0|         0.3|         5.8|                null|yellow|       2018|          12|             355|               21|               6|               51|              13|\n",
      "|       2|2018-11-28 15:52:25|2018-11-28 15:55:45|                 5|       .00|           1|           N|            193|        193.0|        2.0|  3.5|    0.5|       0.5|         0.0|                  0.0|         0.3|        7.55|                null|yellow|       2018|          11|             332|               28|               4|               48|              15|\n",
      "|       2|2018-11-28 15:56:57|2018-11-28 15:58:33|                 5|       .00|           2|           N|            193|        193.0|        2.0| 52.0|    0.0|       0.5|         0.0|                  0.0|         0.3|       55.55|                null|yellow|       2018|          11|             332|               28|               4|               48|              15|\n",
      "|       2|2018-11-28 16:25:49|2018-11-28 16:28:26|                 5|       .00|           1|           N|            193|        193.0|        2.0|  3.5|    0.5|       0.5|         0.0|                 5.76|         0.3|       13.31|                null|yellow|       2018|          11|             332|               28|               4|               48|              16|\n",
      "|       2|2018-11-28 16:29:37|2018-11-28 16:33:43|                 5|       .00|           2|           N|            193|        193.0|        2.0| 52.0|    0.0|       0.5|         0.0|                  0.0|         0.3|       55.55|                null|yellow|       2018|          11|             332|               28|               4|               48|              16|\n",
      "|       1|2019-01-01 00:21:28|2019-01-01 00:28:37|                 1|      1.30|           1|           N|            163|        229.0|        1.0|  6.5|    0.5|       0.5|        1.25|                  0.0|         0.3|        9.05|                null|yellow|       2019|           1|               1|                1|               3|                1|               0|\n",
      "|       1|2019-01-01 00:32:01|2019-01-01 00:45:39|                 1|      3.70|           1|           N|            229|          7.0|        1.0| 13.5|    0.5|       0.5|         3.7|                  0.0|         0.3|        18.5|                null|yellow|       2019|           1|               1|                1|               3|                1|               0|\n",
      "|       1|2019-01-01 00:57:32|2019-01-01 01:09:32|                 2|      2.10|           1|           N|            141|        234.0|        1.0| 10.0|    0.5|       0.5|         1.7|                  0.0|         0.3|          13|                null|yellow|       2019|           1|               1|                1|               3|                1|               0|\n",
      "+--------+-------------------+-------------------+------------------+----------+------------+------------+---------------+-------------+-----------+-----+-------+----------+------------+---------------------+------------+------------+--------------------+------+-----------+------------+----------------+-----------------+----------------+-----------------+----------------+\n",
      "\n"
     ]
    }
   ],
   "source": [
    "#\n",
    "df_dateparts.limit(10).show()"
   ]
  },
  {
   "cell_type": "code",
   "execution_count": 26,
   "metadata": {
    "execution": {
     "iopub.execute_input": "2021-04-24T04:18:27.250062Z",
     "iopub.status.busy": "2021-04-24T04:18:27.249736Z",
     "iopub.status.idle": "2021-04-24T04:18:27.271064Z",
     "shell.execute_reply": "2021-04-24T04:18:27.270023Z",
     "shell.execute_reply.started": "2021-04-24T04:18:27.250036Z"
    },
    "tags": []
   },
   "outputs": [],
   "source": [
    "path = interim_data_dir.joinpath('df_dateparts').as_posix()\n",
    "n_partitions = 12 * 10"
   ]
  },
  {
   "cell_type": "raw",
   "metadata": {},
   "source": [
    "(\n",
    "    df_dateparts\n",
    "    .repartition(numPartitions=n_partitions)\n",
    "    .write\n",
    "    .parquet(path, mode='overwrite')\n",
    ")"
   ]
  },
  {
   "cell_type": "code",
   "execution_count": 27,
   "metadata": {
    "execution": {
     "iopub.execute_input": "2021-04-24T04:18:27.272385Z",
     "iopub.status.busy": "2021-04-24T04:18:27.272180Z",
     "iopub.status.idle": "2021-04-24T04:18:31.752559Z",
     "shell.execute_reply": "2021-04-24T04:18:31.751207Z",
     "shell.execute_reply.started": "2021-04-24T04:18:27.272361Z"
    }
   },
   "outputs": [],
   "source": [
    "df_dateparts = spark.read.parquet(path)"
   ]
  },
  {
   "cell_type": "markdown",
   "metadata": {},
   "source": [
    "# Count distinct\n",
    "\n",
    "There are categorical columns with defined levels, these are:\n",
    "* `VendorID`\n",
    "* `RatecodeID`\n",
    "* `store_and_fwd_flag`\n",
    "* `PULocationID`\n",
    "* `DOLocationID`\n",
    "* `payment_type`\n",
    "\n",
    "There are numerical columns with limited distinct values, these are:\n",
    "* `Extra`: \\\\$0.50 or \\\\$1\n",
    "* `MTA_tax`: \\\\$0.50\n",
    "* `Improvement_surcharge`: \\\\$0.30\n"
   ]
  },
  {
   "cell_type": "code",
   "execution_count": 28,
   "metadata": {
    "execution": {
     "iopub.execute_input": "2021-04-24T04:18:31.754332Z",
     "iopub.status.busy": "2021-04-24T04:18:31.754042Z",
     "iopub.status.idle": "2021-04-24T04:18:31.788028Z",
     "shell.execute_reply": "2021-04-24T04:18:31.786583Z",
     "shell.execute_reply.started": "2021-04-24T04:18:31.754295Z"
    }
   },
   "outputs": [
    {
     "data": {
      "text/plain": [
       "['VendorID',\n",
       " 'store_and_fwd_flag',\n",
       " 'RatecodeID',\n",
       " 'PULocationID',\n",
       " 'DOLocationID',\n",
       " 'payment_type',\n",
       " 'colour']"
      ]
     },
     "execution_count": 28,
     "metadata": {},
     "output_type": "execute_result"
    }
   ],
   "source": [
    "string_cols = [col for (col, col_type) in df_dateparts.dtypes if col_type == 'string']\n",
    "string_cols"
   ]
  },
  {
   "cell_type": "code",
   "execution_count": 29,
   "metadata": {
    "execution": {
     "iopub.execute_input": "2021-04-24T04:18:31.790536Z",
     "iopub.status.busy": "2021-04-24T04:18:31.790192Z",
     "iopub.status.idle": "2021-04-24T04:18:31.813485Z",
     "shell.execute_reply": "2021-04-24T04:18:31.812195Z",
     "shell.execute_reply.started": "2021-04-24T04:18:31.790497Z"
    }
   },
   "outputs": [],
   "source": [
    "lim_num_cols = ['Extra', 'MTA_tax', 'Improvement_surcharge']"
   ]
  },
  {
   "cell_type": "code",
   "execution_count": 30,
   "metadata": {
    "execution": {
     "iopub.execute_input": "2021-04-24T04:18:31.815061Z",
     "iopub.status.busy": "2021-04-24T04:18:31.814780Z",
     "iopub.status.idle": "2021-04-24T04:19:08.567286Z",
     "shell.execute_reply": "2021-04-24T04:19:08.566224Z",
     "shell.execute_reply.started": "2021-04-24T04:18:31.814992Z"
    }
   },
   "outputs": [
    {
     "name": "stdout",
     "output_type": "stream",
     "text": [
      "+--------+------------------+----------+------------+------------+------------+------+-----+-------+---------------------+\n",
      "|VendorID|store_and_fwd_flag|RatecodeID|PULocationID|DOLocationID|payment_type|colour|Extra|MTA_tax|Improvement_surcharge|\n",
      "+--------+------------------+----------+------------+------------+------------+------+-----+-------+---------------------+\n",
      "|       3|                12|     10307|         262|         263|       26639|     2|13215|    455|                 3767|\n",
      "+--------+------------------+----------+------------+------------+------------+------+-----+-------+---------------------+\n",
      "\n"
     ]
    }
   ],
   "source": [
    "expression = [F.countDistinct(F.col(col)).alias(col) for col in string_cols + lim_num_cols]\n",
    "df_dateparts.select(*expression).show()"
   ]
  },
  {
   "cell_type": "markdown",
   "metadata": {},
   "source": [
    "# Data validation"
   ]
  },
  {
   "cell_type": "markdown",
   "metadata": {},
   "source": [
    "## String type columns\n",
    "\n",
    "* [VendorID](#Validation:-VendorID)\n",
    "* [PULocationID](#Validation:-PULocationID)\n",
    "* [DOLocationID](#Validation:-DOLocationID)\n",
    "* [RatecodeID](#Validation:-RatecodeID)\n",
    "* [Store_and_fwd_flag](#Validation:-Store_and_fwd_flag)\n",
    "* [Payment_type](#Validation:-Payment_type)"
   ]
  },
  {
   "cell_type": "markdown",
   "metadata": {},
   "source": [
    "### Validation: `VendorID`"
   ]
  },
  {
   "cell_type": "code",
   "execution_count": 31,
   "metadata": {
    "execution": {
     "iopub.execute_input": "2021-04-24T04:19:08.569284Z",
     "iopub.status.busy": "2021-04-24T04:19:08.568984Z",
     "iopub.status.idle": "2021-04-24T04:19:11.924175Z",
     "shell.execute_reply": "2021-04-24T04:19:11.923101Z",
     "shell.execute_reply.started": "2021-04-24T04:19:08.569248Z"
    }
   },
   "outputs": [
    {
     "name": "stdout",
     "output_type": "stream",
     "text": [
      "+--------+--------+\n",
      "|VendorID|   count|\n",
      "+--------+--------+\n",
      "|    null| 1998368|\n",
      "|       1|39397979|\n",
      "|       4|  267080|\n",
      "|       2|75162192|\n",
      "+--------+--------+\n",
      "\n"
     ]
    }
   ],
   "source": [
    "(\n",
    "    df_dateparts\n",
    "    .groupBy('VendorID')\n",
    "    .count()\n",
    "    .show()\n",
    ")"
   ]
  },
  {
   "cell_type": "markdown",
   "metadata": {},
   "source": [
    "### Validation: `PULocationID`"
   ]
  },
  {
   "cell_type": "code",
   "execution_count": 32,
   "metadata": {
    "execution": {
     "iopub.execute_input": "2021-04-24T04:19:11.925648Z",
     "iopub.status.busy": "2021-04-24T04:19:11.925439Z",
     "iopub.status.idle": "2021-04-24T04:19:14.862015Z",
     "shell.execute_reply": "2021-04-24T04:19:14.860589Z",
     "shell.execute_reply.started": "2021-04-24T04:19:11.925623Z"
    }
   },
   "outputs": [
    {
     "name": "stdout",
     "output_type": "stream",
     "text": [
      "+------------+------+\n",
      "|PULocationID| count|\n",
      "+------------+------+\n",
      "|         125|   174|\n",
      "|           7|295919|\n",
      "|          51| 25600|\n",
      "|         124|  3860|\n",
      "|         205| 18742|\n",
      "|         169| 16771|\n",
      "|          15|  2535|\n",
      "|          54|  2504|\n",
      "|         232|  1740|\n",
      "|         234|   621|\n",
      "|         155| 14752|\n",
      "|         132|  1263|\n",
      "|         154|   517|\n",
      "|         200|  6699|\n",
      "|         101|  3004|\n",
      "|          11|  5005|\n",
      "|         138|  1201|\n",
      "|          69| 33691|\n",
      "|          29| 12508|\n",
      "|          42|276845|\n",
      "+------------+------+\n",
      "only showing top 20 rows\n",
      "\n"
     ]
    }
   ],
   "source": [
    "(\n",
    "    df_dateparts\n",
    "    .groupBy('PULocationID')\n",
    "    .count()\n",
    "    .show()\n",
    ")"
   ]
  },
  {
   "cell_type": "markdown",
   "metadata": {},
   "source": [
    "### Validation: `DOLocationID`"
   ]
  },
  {
   "cell_type": "code",
   "execution_count": 33,
   "metadata": {
    "execution": {
     "iopub.execute_input": "2021-04-24T04:19:14.863887Z",
     "iopub.status.busy": "2021-04-24T04:19:14.863663Z",
     "iopub.status.idle": "2021-04-24T04:19:17.903252Z",
     "shell.execute_reply": "2021-04-24T04:19:17.902254Z",
     "shell.execute_reply.started": "2021-04-24T04:19:14.863861Z"
    }
   },
   "outputs": [
    {
     "name": "stdout",
     "output_type": "stream",
     "text": [
      "+------------+---------+\n",
      "|DOLocationID|    count|\n",
      "+------------+---------+\n",
      "|           N|107054891|\n",
      "|        null|  1056169|\n",
      "|           Y|   936458|\n",
      "|          74|   297891|\n",
      "|          42|   278393|\n",
      "|          41|   243808|\n",
      "|          75|   220532|\n",
      "|         129|   185505|\n",
      "|           7|   182808|\n",
      "|         166|   160030|\n",
      "|         181|   125980|\n",
      "|          82|   124583|\n",
      "|         236|   122205|\n",
      "|          95|   118059|\n",
      "|         238|   116732|\n",
      "|         244|   115191|\n",
      "|         223|   114151|\n",
      "|          61|   112787|\n",
      "|         116|   108780|\n",
      "|          97|   102322|\n",
      "+------------+---------+\n",
      "only showing top 20 rows\n",
      "\n"
     ]
    }
   ],
   "source": [
    "(\n",
    "    df_dateparts\n",
    "    .groupBy('DOLocationID')\n",
    "    .count()\n",
    "    .sort(F.col('count').desc())\n",
    "    .show()\n",
    ")"
   ]
  },
  {
   "cell_type": "markdown",
   "metadata": {},
   "source": [
    "### Validation: `Store_and_fwd_flag`\n",
    "\n",
    "There are values that are neither `Y` nor `N`. These will be converted to nulls."
   ]
  },
  {
   "cell_type": "code",
   "execution_count": 34,
   "metadata": {
    "execution": {
     "iopub.execute_input": "2021-04-24T04:19:17.904974Z",
     "iopub.status.busy": "2021-04-24T04:19:17.904716Z",
     "iopub.status.idle": "2021-04-24T04:19:20.843383Z",
     "shell.execute_reply": "2021-04-24T04:19:20.842366Z",
     "shell.execute_reply.started": "2021-04-24T04:19:17.904947Z"
    }
   },
   "outputs": [
    {
     "name": "stdout",
     "output_type": "stream",
     "text": [
      "+------------------+--------+\n",
      "|Store_and_fwd_flag|   count|\n",
      "+------------------+--------+\n",
      "|                 1|76620041|\n",
      "|                 2|16134920|\n",
      "|                 N| 6816744|\n",
      "|                 3| 4456577|\n",
      "|                 5| 4149931|\n",
      "|                 6| 2513689|\n",
      "|                 4| 2099896|\n",
      "|                 0| 2015177|\n",
      "|              null| 1998368|\n",
      "|                 Y|   19158|\n",
      "|                 7|     507|\n",
      "|                 8|     335|\n",
      "|                 9|     276|\n",
      "+------------------+--------+\n",
      "\n"
     ]
    }
   ],
   "source": [
    "(\n",
    "    df_dateparts\n",
    "    .groupBy('Store_and_fwd_flag')\n",
    "    .count()\n",
    "    .sort(F.col('count').desc())\n",
    "    .show()\n",
    ")"
   ]
  },
  {
   "cell_type": "code",
   "execution_count": 35,
   "metadata": {
    "execution": {
     "iopub.execute_input": "2021-04-24T04:19:20.845279Z",
     "iopub.status.busy": "2021-04-24T04:19:20.844959Z",
     "iopub.status.idle": "2021-04-24T04:19:23.963873Z",
     "shell.execute_reply": "2021-04-24T04:19:23.962752Z",
     "shell.execute_reply.started": "2021-04-24T04:19:20.845222Z"
    }
   },
   "outputs": [
    {
     "data": {
      "text/html": [
       "<div>\n",
       "<style scoped>\n",
       "    .dataframe tbody tr th:only-of-type {\n",
       "        vertical-align: middle;\n",
       "    }\n",
       "\n",
       "    .dataframe tbody tr th {\n",
       "        vertical-align: top;\n",
       "    }\n",
       "\n",
       "    .dataframe thead th {\n",
       "        text-align: right;\n",
       "    }\n",
       "</style>\n",
       "<table border=\"1\" class=\"dataframe\">\n",
       "  <thead>\n",
       "    <tr style=\"text-align: right;\">\n",
       "      <th></th>\n",
       "      <th>Store_and_fwd_flag</th>\n",
       "      <th>count</th>\n",
       "    </tr>\n",
       "  </thead>\n",
       "  <tbody>\n",
       "    <tr>\n",
       "      <th>0</th>\n",
       "      <td>1</td>\n",
       "      <td>76620041</td>\n",
       "    </tr>\n",
       "    <tr>\n",
       "      <th>1</th>\n",
       "      <td>2</td>\n",
       "      <td>16134920</td>\n",
       "    </tr>\n",
       "    <tr>\n",
       "      <th>2</th>\n",
       "      <td>N</td>\n",
       "      <td>6816744</td>\n",
       "    </tr>\n",
       "    <tr>\n",
       "      <th>3</th>\n",
       "      <td>3</td>\n",
       "      <td>4456577</td>\n",
       "    </tr>\n",
       "    <tr>\n",
       "      <th>4</th>\n",
       "      <td>5</td>\n",
       "      <td>4149931</td>\n",
       "    </tr>\n",
       "    <tr>\n",
       "      <th>5</th>\n",
       "      <td>6</td>\n",
       "      <td>2513689</td>\n",
       "    </tr>\n",
       "    <tr>\n",
       "      <th>6</th>\n",
       "      <td>4</td>\n",
       "      <td>2099896</td>\n",
       "    </tr>\n",
       "    <tr>\n",
       "      <th>7</th>\n",
       "      <td>0</td>\n",
       "      <td>2015177</td>\n",
       "    </tr>\n",
       "    <tr>\n",
       "      <th>8</th>\n",
       "      <td>None</td>\n",
       "      <td>1998368</td>\n",
       "    </tr>\n",
       "    <tr>\n",
       "      <th>9</th>\n",
       "      <td>Y</td>\n",
       "      <td>19158</td>\n",
       "    </tr>\n",
       "    <tr>\n",
       "      <th>10</th>\n",
       "      <td>7</td>\n",
       "      <td>507</td>\n",
       "    </tr>\n",
       "    <tr>\n",
       "      <th>11</th>\n",
       "      <td>8</td>\n",
       "      <td>335</td>\n",
       "    </tr>\n",
       "    <tr>\n",
       "      <th>12</th>\n",
       "      <td>9</td>\n",
       "      <td>276</td>\n",
       "    </tr>\n",
       "  </tbody>\n",
       "</table>\n",
       "</div>"
      ],
      "text/plain": [
       "   Store_and_fwd_flag     count\n",
       "0                   1  76620041\n",
       "1                   2  16134920\n",
       "2                   N   6816744\n",
       "3                   3   4456577\n",
       "4                   5   4149931\n",
       "5                   6   2513689\n",
       "6                   4   2099896\n",
       "7                   0   2015177\n",
       "8                None   1998368\n",
       "9                   Y     19158\n",
       "10                  7       507\n",
       "11                  8       335\n",
       "12                  9       276"
      ]
     },
     "execution_count": 35,
     "metadata": {},
     "output_type": "execute_result"
    }
   ],
   "source": [
    "(\n",
    "    df_dateparts\n",
    "    .groupBy('Store_and_fwd_flag')\n",
    "    .count()\n",
    "    .sort(F.col('count').desc())\n",
    "    .toPandas()\n",
    "#     .show()\n",
    ")"
   ]
  },
  {
   "cell_type": "code",
   "execution_count": 36,
   "metadata": {
    "execution": {
     "iopub.execute_input": "2021-04-24T04:19:23.965249Z",
     "iopub.status.busy": "2021-04-24T04:19:23.965018Z",
     "iopub.status.idle": "2021-04-24T04:19:27.429869Z",
     "shell.execute_reply": "2021-04-24T04:19:27.428776Z",
     "shell.execute_reply.started": "2021-04-24T04:19:23.965224Z"
    }
   },
   "outputs": [
    {
     "name": "stdout",
     "output_type": "stream",
     "text": [
      "+------------------+--------+\n",
      "|Store_and_fwd_flag|   count|\n",
      "+------------------+--------+\n",
      "|                 1|76620041|\n",
      "|                 2|16134920|\n",
      "|                 N| 6816744|\n",
      "|                 3| 4456577|\n",
      "|                 5| 4149931|\n",
      "|                 6| 2513689|\n",
      "|                 4| 2099896|\n",
      "|                 0| 2015177|\n",
      "|              null| 1998368|\n",
      "|                 Y|   19158|\n",
      "|                 7|     507|\n",
      "|                 8|     335|\n",
      "|                 9|     276|\n",
      "+------------------+--------+\n",
      "\n"
     ]
    }
   ],
   "source": [
    "valid_values = ['N', 'Y', None]\n",
    "col = 'Store_and_fwd_flag'\n",
    "(\n",
    "    df_dateparts\n",
    "    .withColumn(col, \n",
    "                F.when(~F.col('Store_and_fwd_flag').isin(valid_values), 'null')\n",
    "                .otherwise(F.col('Store_and_fwd_flag')))\n",
    "    .groupBy(col)\n",
    "    .count()\n",
    "    .sort(F.col('count').desc())\n",
    "    .show()\n",
    ")"
   ]
  },
  {
   "cell_type": "code",
   "execution_count": 37,
   "metadata": {
    "execution": {
     "iopub.execute_input": "2021-04-24T04:19:27.431422Z",
     "iopub.status.busy": "2021-04-24T04:19:27.431159Z",
     "iopub.status.idle": "2021-04-24T04:19:30.897167Z",
     "shell.execute_reply": "2021-04-24T04:19:30.895895Z",
     "shell.execute_reply.started": "2021-04-24T04:19:27.431396Z"
    },
    "tags": []
   },
   "outputs": [
    {
     "name": "stdout",
     "output_type": "stream",
     "text": [
      "+------------------+---------+\n",
      "|Store_and_fwd_flag|    count|\n",
      "+------------------+---------+\n",
      "|              null|107991349|\n",
      "|                 N|  6816744|\n",
      "|              null|  1998368|\n",
      "|                 Y|    19158|\n",
      "+------------------+---------+\n",
      "\n"
     ]
    }
   ],
   "source": [
    "valid_values = ['N', 'Y', 'null']\n",
    "col = 'Store_and_fwd_flag'\n",
    "(\n",
    "    df_dateparts\n",
    "    .withColumn(col, \n",
    "                F.when(~F.col('Store_and_fwd_flag').isin(valid_values), 'null')\n",
    "                .otherwise(F.col('Store_and_fwd_flag')))\n",
    "    .groupBy(col)\n",
    "    .count()\n",
    "    .sort(F.col('count').desc())\n",
    "    .show()\n",
    ")"
   ]
  },
  {
   "cell_type": "code",
   "execution_count": 38,
   "metadata": {
    "execution": {
     "iopub.execute_input": "2021-04-24T04:19:30.898811Z",
     "iopub.status.busy": "2021-04-24T04:19:30.898575Z",
     "iopub.status.idle": "2021-04-24T04:19:30.990734Z",
     "shell.execute_reply": "2021-04-24T04:19:30.989798Z",
     "shell.execute_reply.started": "2021-04-24T04:19:30.898784Z"
    },
    "tags": []
   },
   "outputs": [],
   "source": [
    "valid_values = ['N', 'Y', 'null']\n",
    "col = 'Store_and_fwd_flag'\n",
    "df_validated_store = (\n",
    "    df_dateparts\n",
    "    .withColumn(col, \n",
    "                F.when(~F.col(col).isin(valid_values), None)\n",
    "                .otherwise(F.col(col)))\n",
    ")"
   ]
  },
  {
   "cell_type": "code",
   "execution_count": 39,
   "metadata": {
    "execution": {
     "iopub.execute_input": "2021-04-24T04:19:30.992036Z",
     "iopub.status.busy": "2021-04-24T04:19:30.991834Z",
     "iopub.status.idle": "2021-04-24T04:19:34.341565Z",
     "shell.execute_reply": "2021-04-24T04:19:34.340473Z",
     "shell.execute_reply.started": "2021-04-24T04:19:30.992012Z"
    }
   },
   "outputs": [
    {
     "name": "stdout",
     "output_type": "stream",
     "text": [
      "+------------------+---------+\n",
      "|Store_and_fwd_flag|    count|\n",
      "+------------------+---------+\n",
      "|              null|109989717|\n",
      "|                 N|  6816744|\n",
      "|                 Y|    19158|\n",
      "+------------------+---------+\n",
      "\n"
     ]
    }
   ],
   "source": [
    "(\n",
    "    df_validated_store\n",
    "    .groupBy(col)\n",
    "    .count()\n",
    "    .sort(F.col('count').desc())\n",
    "    .limit(5)\n",
    "    .show()\n",
    ")"
   ]
  },
  {
   "cell_type": "markdown",
   "metadata": {},
   "source": [
    "### Validation: `Payment_type`"
   ]
  },
  {
   "cell_type": "code",
   "execution_count": 40,
   "metadata": {
    "execution": {
     "iopub.execute_input": "2021-04-24T04:19:34.343023Z",
     "iopub.status.busy": "2021-04-24T04:19:34.342813Z",
     "iopub.status.idle": "2021-04-24T04:19:34.362587Z",
     "shell.execute_reply": "2021-04-24T04:19:34.361654Z",
     "shell.execute_reply.started": "2021-04-24T04:19:34.342998Z"
    },
    "tags": []
   },
   "outputs": [],
   "source": [
    "col = 'Payment_type'\n",
    "valid_values = [1, 2, 3, 4, 5, 6]"
   ]
  },
  {
   "cell_type": "code",
   "execution_count": 41,
   "metadata": {
    "execution": {
     "iopub.execute_input": "2021-04-24T04:19:34.364165Z",
     "iopub.status.busy": "2021-04-24T04:19:34.363871Z",
     "iopub.status.idle": "2021-04-24T04:19:38.231166Z",
     "shell.execute_reply": "2021-04-24T04:19:38.230030Z",
     "shell.execute_reply.started": "2021-04-24T04:19:34.364129Z"
    }
   },
   "outputs": [
    {
     "name": "stdout",
     "output_type": "stream",
     "text": [
      "+------------+-------+\n",
      "|Payment_type|  count|\n",
      "+------------+-------+\n",
      "|           1|3872073|\n",
      "|           2|2911981|\n",
      "|         9.8|2041935|\n",
      "|        10.3|2030392|\n",
      "|         9.3|2007399|\n",
      "|        10.8|1987726|\n",
      "|        11.3|1914398|\n",
      "|         8.8|1909840|\n",
      "|        11.8|1833901|\n",
      "|        12.3|1732740|\n",
      "|         8.3|1655049|\n",
      "|        12.8|1647574|\n",
      "|        13.3|1554777|\n",
      "|        13.8|1443679|\n",
      "|       12.36|1374202|\n",
      "|       11.76|1355676|\n",
      "|        14.3|1345537|\n",
      "|         7.8|1329927|\n",
      "|       12.96|1329377|\n",
      "|        15.3|1316039|\n",
      "+------------+-------+\n",
      "only showing top 20 rows\n",
      "\n"
     ]
    }
   ],
   "source": [
    "(\n",
    "    df_validated_store\n",
    "    .groupBy(col)\n",
    "    .count()\n",
    "    .sort(F.col('count').desc())\n",
    "    .show()\n",
    ")"
   ]
  },
  {
   "cell_type": "code",
   "execution_count": 42,
   "metadata": {
    "execution": {
     "iopub.execute_input": "2021-04-24T04:19:38.232724Z",
     "iopub.status.busy": "2021-04-24T04:19:38.232437Z",
     "iopub.status.idle": "2021-04-24T04:19:38.321272Z",
     "shell.execute_reply": "2021-04-24T04:19:38.320197Z",
     "shell.execute_reply.started": "2021-04-24T04:19:38.232643Z"
    },
    "tags": []
   },
   "outputs": [],
   "source": [
    "df_validated_payment = (\n",
    "    df_validated_store\n",
    "    .withColumn(col, \n",
    "                F.when(~F.col(col).isin(valid_values), None)\n",
    "                .otherwise(F.col(col)))\n",
    ")"
   ]
  },
  {
   "cell_type": "code",
   "execution_count": 43,
   "metadata": {
    "execution": {
     "iopub.execute_input": "2021-04-24T04:19:38.322600Z",
     "iopub.status.busy": "2021-04-24T04:19:38.322399Z",
     "iopub.status.idle": "2021-04-24T04:19:42.400504Z",
     "shell.execute_reply": "2021-04-24T04:19:42.399434Z",
     "shell.execute_reply.started": "2021-04-24T04:19:38.322575Z"
    }
   },
   "outputs": [
    {
     "name": "stdout",
     "output_type": "stream",
     "text": [
      "+------------+---------+\n",
      "|Payment_type|    count|\n",
      "+------------+---------+\n",
      "|        null|109962876|\n",
      "|           1|  3872073|\n",
      "|           2|  2911981|\n",
      "|           3|    37207|\n",
      "|           6|    23614|\n",
      "|           4|    14899|\n",
      "|           5|     2969|\n",
      "+------------+---------+\n",
      "\n"
     ]
    }
   ],
   "source": [
    "(\n",
    "    df_validated_payment\n",
    "    .groupBy(col)\n",
    "    .count()\n",
    "    .sort(F.col('count').desc())\n",
    "    .show()\n",
    ")"
   ]
  },
  {
   "cell_type": "markdown",
   "metadata": {},
   "source": [
    "### Validation: `RatecodeID`\n",
    "\n",
    "There are codes other than the defined 1, 2, 3, 4, 5, 6 in the data dictionary. Assume that values between 1 - 1.9999 are considered to be 1, similarly for the other integers."
   ]
  },
  {
   "cell_type": "code",
   "execution_count": 44,
   "metadata": {
    "execution": {
     "iopub.execute_input": "2021-04-24T04:19:42.401977Z",
     "iopub.status.busy": "2021-04-24T04:19:42.401765Z",
     "iopub.status.idle": "2021-04-24T04:19:42.427991Z",
     "shell.execute_reply": "2021-04-24T04:19:42.427263Z",
     "shell.execute_reply.started": "2021-04-24T04:19:42.401951Z"
    }
   },
   "outputs": [],
   "source": [
    "col = 'RatecodeID'\n",
    "valid_values = [1, 2, '2.00', 3, 4, 5, 6]"
   ]
  },
  {
   "cell_type": "code",
   "execution_count": 45,
   "metadata": {
    "execution": {
     "iopub.execute_input": "2021-04-24T04:19:42.429542Z",
     "iopub.status.busy": "2021-04-24T04:19:42.429337Z",
     "iopub.status.idle": "2021-04-24T04:19:46.147245Z",
     "shell.execute_reply": "2021-04-24T04:19:46.146218Z",
     "shell.execute_reply.started": "2021-04-24T04:19:42.429518Z"
    }
   },
   "outputs": [
    {
     "name": "stdout",
     "output_type": "stream",
     "text": [
      "+----------+------+\n",
      "|RatecodeID| count|\n",
      "+----------+------+\n",
      "|      null|942199|\n",
      "|      -.01|    14|\n",
      "|      -.02|     4|\n",
      "|      -.03|     6|\n",
      "|      -.04|     2|\n",
      "|      -.05|     8|\n",
      "|      -.06|     4|\n",
      "|      -.07|     6|\n",
      "|      -.08|     6|\n",
      "|      -.09|     4|\n",
      "|      -.10|     4|\n",
      "|      -.11|     6|\n",
      "|      -.12|     1|\n",
      "|      -.13|     4|\n",
      "|      -.14|     4|\n",
      "|      -.15|     7|\n",
      "|      -.16|     5|\n",
      "|      -.17|     3|\n",
      "|      -.18|     2|\n",
      "|      -.19|     7|\n",
      "|      -.20|     8|\n",
      "|      -.21|     2|\n",
      "|      -.22|     9|\n",
      "|      -.23|     4|\n",
      "|      -.24|     6|\n",
      "|      -.25|     5|\n",
      "|      -.26|     3|\n",
      "|      -.27|     6|\n",
      "|      -.28|     3|\n",
      "|      -.29|     3|\n",
      "|      -.30|     6|\n",
      "|      -.32|     5|\n",
      "|      -.33|     3|\n",
      "|      -.34|     5|\n",
      "|      -.35|     8|\n",
      "|      -.36|     9|\n",
      "|      -.37|     6|\n",
      "|      -.38|     3|\n",
      "|      -.39|     5|\n",
      "|      -.40|     4|\n",
      "|      -.41|     7|\n",
      "|      -.42|     5|\n",
      "|      -.43|     5|\n",
      "|      -.44|     8|\n",
      "|      -.45|     5|\n",
      "|      -.46|     6|\n",
      "|      -.47|     5|\n",
      "|      -.48|     3|\n",
      "|      -.49|    12|\n",
      "|      -.50|     2|\n",
      "|      -.51|    10|\n",
      "|      -.52|    10|\n",
      "|      -.53|    12|\n",
      "|      -.54|    12|\n",
      "|      -.55|    11|\n",
      "|      -.56|     5|\n",
      "|      -.57|     4|\n",
      "|      -.58|     3|\n",
      "|      -.59|     4|\n",
      "|      -.60|     3|\n",
      "|      -.61|    11|\n",
      "|      -.62|     8|\n",
      "|      -.63|     9|\n",
      "|      -.64|     6|\n",
      "|      -.65|     2|\n",
      "|      -.66|    10|\n",
      "|      -.67|     8|\n",
      "|      -.68|     4|\n",
      "|      -.69|     5|\n",
      "|      -.70|     5|\n",
      "|      -.71|     9|\n",
      "|      -.72|     2|\n",
      "|      -.73|    12|\n",
      "|      -.74|    10|\n",
      "|      -.75|     7|\n",
      "|      -.76|     7|\n",
      "|      -.77|     4|\n",
      "|      -.78|     7|\n",
      "|      -.79|     8|\n",
      "|      -.80|     7|\n",
      "|      -.81|     8|\n",
      "|      -.82|     5|\n",
      "|      -.83|     4|\n",
      "|      -.84|     5|\n",
      "|      -.85|     8|\n",
      "|      -.86|     8|\n",
      "|      -.87|    10|\n",
      "|      -.88|     8|\n",
      "|      -.89|     3|\n",
      "|      -.90|     5|\n",
      "|      -.91|    11|\n",
      "|      -.92|     9|\n",
      "|      -.93|     9|\n",
      "|      -.94|    11|\n",
      "|      -.95|     7|\n",
      "|      -.96|    11|\n",
      "|      -.97|     9|\n",
      "|      -.98|     4|\n",
      "|      -.99|     6|\n",
      "|     -1.00|     7|\n",
      "+----------+------+\n",
      "only showing top 100 rows\n",
      "\n"
     ]
    }
   ],
   "source": [
    "(\n",
    "    df_validated_payment\n",
    "    .groupBy(col)\n",
    "    .count()\n",
    "    .sort(F.col(col))\n",
    "    .show(100)\n",
    ")"
   ]
  },
  {
   "cell_type": "code",
   "execution_count": 46,
   "metadata": {
    "execution": {
     "iopub.execute_input": "2021-04-24T04:19:46.149266Z",
     "iopub.status.busy": "2021-04-24T04:19:46.148916Z",
     "iopub.status.idle": "2021-04-24T04:19:46.273110Z",
     "shell.execute_reply": "2021-04-24T04:19:46.272209Z",
     "shell.execute_reply.started": "2021-04-24T04:19:46.149229Z"
    },
    "tags": []
   },
   "outputs": [],
   "source": [
    "df_validated_ratecode = (\n",
    "    df_validated_payment\n",
    "    .withColumn(col, when(F.col(col).between(1, 1.9999), 1)\n",
    "                     .when(F.col(col).between(2, 2.9999), 2)\n",
    "                     .when(F.col(col).between(3, 3.9999), 3)\n",
    "                     .when(F.col(col).between(4, 4.9999), 4)\n",
    "                     .when(F.col(col).between(5, 5.9999), 5)\n",
    "                     .when(F.col(col).between(6, 6.9999), 6)\n",
    "                     .otherwise(None))\n",
    ")"
   ]
  },
  {
   "cell_type": "code",
   "execution_count": 47,
   "metadata": {
    "execution": {
     "iopub.execute_input": "2021-04-24T04:19:46.274405Z",
     "iopub.status.busy": "2021-04-24T04:19:46.274207Z",
     "iopub.status.idle": "2021-04-24T04:19:53.234343Z",
     "shell.execute_reply": "2021-04-24T04:19:53.233215Z",
     "shell.execute_reply.started": "2021-04-24T04:19:46.274380Z"
    }
   },
   "outputs": [
    {
     "name": "stdout",
     "output_type": "stream",
     "text": [
      "+----------+--------+\n",
      "|RatecodeID|   count|\n",
      "+----------+--------+\n",
      "|      null|39452839|\n",
      "|         1|43148918|\n",
      "|         2|16840024|\n",
      "|         3| 7959398|\n",
      "|         4| 4309732|\n",
      "|         5| 3115976|\n",
      "|         6| 1998732|\n",
      "+----------+--------+\n",
      "\n"
     ]
    }
   ],
   "source": [
    "(\n",
    "    df_validated_ratecode\n",
    "    .groupBy(col)\n",
    "    .count()\n",
    "    .sort(F.col(col))\n",
    "    .show()\n",
    ")"
   ]
  },
  {
   "cell_type": "markdown",
   "metadata": {},
   "source": [
    "## Validate: `Total_amount`\n",
    "\n",
    "`Total_amount` should be >= 0."
   ]
  },
  {
   "cell_type": "code",
   "execution_count": 48,
   "metadata": {
    "execution": {
     "iopub.execute_input": "2021-04-24T04:19:53.236007Z",
     "iopub.status.busy": "2021-04-24T04:19:53.235787Z",
     "iopub.status.idle": "2021-04-24T04:19:53.255456Z",
     "shell.execute_reply": "2021-04-24T04:19:53.254486Z",
     "shell.execute_reply.started": "2021-04-24T04:19:53.235981Z"
    },
    "tags": []
   },
   "outputs": [],
   "source": [
    "col = 'Total_amount'"
   ]
  },
  {
   "cell_type": "code",
   "execution_count": 49,
   "metadata": {
    "execution": {
     "iopub.execute_input": "2021-04-24T04:19:53.256876Z",
     "iopub.status.busy": "2021-04-24T04:19:53.256656Z",
     "iopub.status.idle": "2021-04-24T04:19:55.438171Z",
     "shell.execute_reply": "2021-04-24T04:19:55.436401Z",
     "shell.execute_reply.started": "2021-04-24T04:19:53.256835Z"
    }
   },
   "outputs": [
    {
     "name": "stdout",
     "output_type": "stream",
     "text": [
      "+-------+------------------+\n",
      "|summary|      Total_amount|\n",
      "+-------+------------------+\n",
      "|  count|         116825619|\n",
      "|   mean|1.4708037196553179|\n",
      "| stddev| 5.802119768237885|\n",
      "|    min|            -890.3|\n",
      "|    max|            4012.3|\n",
      "+-------+------------------+\n",
      "\n"
     ]
    }
   ],
   "source": [
    "(\n",
    "    df_validated_ratecode\n",
    "    .select(col)\n",
    "    .describe()\n",
    "    .show()\n",
    ")"
   ]
  },
  {
   "cell_type": "code",
   "execution_count": 50,
   "metadata": {
    "execution": {
     "iopub.execute_input": "2021-04-24T04:19:55.443869Z",
     "iopub.status.busy": "2021-04-24T04:19:55.442790Z",
     "iopub.status.idle": "2021-04-24T04:19:55.500097Z",
     "shell.execute_reply": "2021-04-24T04:19:55.498336Z",
     "shell.execute_reply.started": "2021-04-24T04:19:55.443815Z"
    },
    "tags": []
   },
   "outputs": [],
   "source": [
    "df_validated_amount = (\n",
    "    df_validated_payment\n",
    "    .withColumn(col, F.abs(F.col(col)))\n",
    ")"
   ]
  },
  {
   "cell_type": "markdown",
   "metadata": {},
   "source": [
    "## Validate: `Fare_amount`\n",
    "\n",
    "`Fare_amount` should be >= 0."
   ]
  },
  {
   "cell_type": "code",
   "execution_count": 51,
   "metadata": {
    "execution": {
     "iopub.execute_input": "2021-04-24T04:19:55.501408Z",
     "iopub.status.busy": "2021-04-24T04:19:55.501204Z",
     "iopub.status.idle": "2021-04-24T04:19:55.523773Z",
     "shell.execute_reply": "2021-04-24T04:19:55.522640Z",
     "shell.execute_reply.started": "2021-04-24T04:19:55.501385Z"
    },
    "tags": []
   },
   "outputs": [],
   "source": [
    "col = 'Fare_amount'"
   ]
  },
  {
   "cell_type": "code",
   "execution_count": 52,
   "metadata": {
    "execution": {
     "iopub.execute_input": "2021-04-24T04:19:55.526414Z",
     "iopub.status.busy": "2021-04-24T04:19:55.525808Z",
     "iopub.status.idle": "2021-04-24T04:19:57.842510Z",
     "shell.execute_reply": "2021-04-24T04:19:57.841499Z",
     "shell.execute_reply.started": "2021-04-24T04:19:55.526383Z"
    }
   },
   "outputs": [
    {
     "name": "stdout",
     "output_type": "stream",
     "text": [
      "+-------+-----------------+\n",
      "|summary|      Fare_amount|\n",
      "+-------+-----------------+\n",
      "|  count|        115769450|\n",
      "|   mean|2.208597679170043|\n",
      "| stddev|4.896087930682976|\n",
      "|    min|           -890.0|\n",
      "|    max|           4011.5|\n",
      "+-------+-----------------+\n",
      "\n"
     ]
    }
   ],
   "source": [
    "(\n",
    "    df_validated_amount\n",
    "    .select(col)\n",
    "    .describe()\n",
    "    .show()\n",
    ")"
   ]
  },
  {
   "cell_type": "code",
   "execution_count": 53,
   "metadata": {
    "execution": {
     "iopub.execute_input": "2021-04-24T04:19:57.843927Z",
     "iopub.status.busy": "2021-04-24T04:19:57.843690Z",
     "iopub.status.idle": "2021-04-24T04:19:57.871587Z",
     "shell.execute_reply": "2021-04-24T04:19:57.870596Z",
     "shell.execute_reply.started": "2021-04-24T04:19:57.843902Z"
    },
    "tags": []
   },
   "outputs": [],
   "source": [
    "df_validated_fare = (\n",
    "    df_validated_amount\n",
    "    .withColumn(col, F.abs(F.col(col)))\n",
    ")"
   ]
  },
  {
   "cell_type": "markdown",
   "metadata": {},
   "source": [
    "## Validate: `pickup_datetime`\n",
    "\n",
    "The data should only contain pickups that occur in years 2019 and 2020. Any rows where the year is not 2019 or 2020 will be dropped."
   ]
  },
  {
   "cell_type": "code",
   "execution_count": 54,
   "metadata": {
    "execution": {
     "iopub.execute_input": "2021-04-24T04:19:57.872929Z",
     "iopub.status.busy": "2021-04-24T04:19:57.872727Z",
     "iopub.status.idle": "2021-04-24T04:20:03.988036Z",
     "shell.execute_reply": "2021-04-24T04:20:03.986505Z",
     "shell.execute_reply.started": "2021-04-24T04:19:57.872905Z"
    }
   },
   "outputs": [
    {
     "data": {
      "text/plain": [
       "1430"
      ]
     },
     "execution_count": 54,
     "metadata": {},
     "output_type": "execute_result"
    }
   ],
   "source": [
    "(\n",
    "    df_validated_fare\n",
    "    .withColumn('pickup_year', F.year('pickup_datetime'))\n",
    "    .filter(~F.col('pickup_year').isin([2019, 2020]))\n",
    "    .count()\n",
    ")"
   ]
  },
  {
   "cell_type": "markdown",
   "metadata": {},
   "source": [
    "There are 1430 rows that are not in 2019 or 2020."
   ]
  },
  {
   "cell_type": "code",
   "execution_count": 55,
   "metadata": {
    "execution": {
     "iopub.execute_input": "2021-04-24T04:20:03.991353Z",
     "iopub.status.busy": "2021-04-24T04:20:03.990666Z",
     "iopub.status.idle": "2021-04-24T04:20:04.062730Z",
     "shell.execute_reply": "2021-04-24T04:20:04.061631Z",
     "shell.execute_reply.started": "2021-04-24T04:20:03.991285Z"
    },
    "tags": []
   },
   "outputs": [],
   "source": [
    "df_validated_pickup_year = (\n",
    "    df_validated_fare\n",
    "    .withColumn('pickup_year', F.year('pickup_datetime'))\n",
    "    .filter(F.col('pickup_year').isin([2019, 2020]))\n",
    ")"
   ]
  },
  {
   "cell_type": "markdown",
   "metadata": {},
   "source": [
    "## Validate: `dropoff_datetime`\n",
    "\n",
    "The data should only contain pickups that occur in years 2019 and 2020. Any rows where the year is not 2019 or 2020 will be dropped."
   ]
  },
  {
   "cell_type": "markdown",
   "metadata": {},
   "source": [
    "There are 197 rows that are not in 2019 or 2020."
   ]
  },
  {
   "cell_type": "code",
   "execution_count": 56,
   "metadata": {
    "execution": {
     "iopub.execute_input": "2021-04-24T04:20:04.064440Z",
     "iopub.status.busy": "2021-04-24T04:20:04.064144Z",
     "iopub.status.idle": "2021-04-24T04:20:04.113113Z",
     "shell.execute_reply": "2021-04-24T04:20:04.111675Z",
     "shell.execute_reply.started": "2021-04-24T04:20:04.064404Z"
    },
    "tags": []
   },
   "outputs": [],
   "source": [
    "df_validated_dropoff_year = (\n",
    "    df_validated_pickup_year\n",
    "    .withColumn('dropoff_year', F.year('pickup_datetime'))\n",
    "    .filter(F.col('dropoff_year').isin([2019, 2020]))\n",
    ")"
   ]
  },
  {
   "cell_type": "markdown",
   "metadata": {},
   "source": [
    "## Validate: trip duration\n",
    "\n",
    "The the trip duration is the difference between the `dropoff_datetime` and `pickup_datetime`. The `trip_duration` is in seconds and should be positive."
   ]
  },
  {
   "cell_type": "code",
   "execution_count": 57,
   "metadata": {
    "execution": {
     "iopub.execute_input": "2021-04-24T04:20:04.115582Z",
     "iopub.status.busy": "2021-04-24T04:20:04.115080Z",
     "iopub.status.idle": "2021-04-24T04:20:04.283803Z",
     "shell.execute_reply": "2021-04-24T04:20:04.282563Z",
     "shell.execute_reply.started": "2021-04-24T04:20:04.115507Z"
    }
   },
   "outputs": [],
   "source": [
    "df_add_trip_duration = (\n",
    "    df_validated_dropoff_year\n",
    "    .withColumn('trip_duration', \n",
    "                F.col('dropoff_datetime').cast('long') - \n",
    "                F.col('pickup_datetime').cast('long'))\n",
    ")"
   ]
  },
  {
   "cell_type": "markdown",
   "metadata": {},
   "source": [
    "Assume that trips last at least for one minute, hence drop rows with `trip_duration` < 60."
   ]
  },
  {
   "cell_type": "code",
   "execution_count": 58,
   "metadata": {
    "execution": {
     "iopub.execute_input": "2021-04-24T04:20:04.285953Z",
     "iopub.status.busy": "2021-04-24T04:20:04.285503Z",
     "iopub.status.idle": "2021-04-24T04:20:04.318633Z",
     "shell.execute_reply": "2021-04-24T04:20:04.317573Z",
     "shell.execute_reply.started": "2021-04-24T04:20:04.285899Z"
    }
   },
   "outputs": [],
   "source": [
    "df_validated_trip_duration = df_add_trip_duration.filter(F.col('trip_duration') > 60)"
   ]
  },
  {
   "cell_type": "code",
   "execution_count": 59,
   "metadata": {
    "execution": {
     "iopub.execute_input": "2021-04-24T04:20:04.320263Z",
     "iopub.status.busy": "2021-04-24T04:20:04.319971Z",
     "iopub.status.idle": "2021-04-24T04:20:13.791177Z",
     "shell.execute_reply": "2021-04-24T04:20:13.789001Z",
     "shell.execute_reply.started": "2021-04-24T04:20:04.320228Z"
    }
   },
   "outputs": [
    {
     "data": {
      "text/plain": [
       "115511074"
      ]
     },
     "execution_count": 59,
     "metadata": {},
     "output_type": "execute_result"
    }
   ],
   "source": [
    "df_validated_trip_duration.count()"
   ]
  },
  {
   "cell_type": "markdown",
   "metadata": {},
   "source": [
    "## Validate `trip_distance`"
   ]
  },
  {
   "cell_type": "markdown",
   "metadata": {},
   "source": [
    "### Negative `trip_distance`\n",
    "\n",
    "The `trip_distance` should be > 0. However, there are trips with distance < 0.\n",
    "\n",
    "These values will be replaced by it's positive distances."
   ]
  },
  {
   "cell_type": "code",
   "execution_count": 60,
   "metadata": {
    "execution": {
     "iopub.execute_input": "2021-04-24T04:20:13.792533Z",
     "iopub.status.busy": "2021-04-24T04:20:13.792329Z",
     "iopub.status.idle": "2021-04-24T04:20:24.430496Z",
     "shell.execute_reply": "2021-04-24T04:20:24.429542Z",
     "shell.execute_reply.started": "2021-04-24T04:20:13.792509Z"
    }
   },
   "outputs": [
    {
     "data": {
      "text/plain": [
       "133427"
      ]
     },
     "execution_count": 60,
     "metadata": {},
     "output_type": "execute_result"
    }
   ],
   "source": [
    "df_validated_trip_duration.filter(F.col('trip_distance') <= 0).count()"
   ]
  },
  {
   "cell_type": "code",
   "execution_count": 61,
   "metadata": {
    "execution": {
     "iopub.execute_input": "2021-04-24T04:20:24.431939Z",
     "iopub.status.busy": "2021-04-24T04:20:24.431728Z",
     "iopub.status.idle": "2021-04-24T04:20:34.651513Z",
     "shell.execute_reply": "2021-04-24T04:20:34.650544Z",
     "shell.execute_reply.started": "2021-04-24T04:20:24.431914Z"
    }
   },
   "outputs": [
    {
     "data": {
      "text/plain": [
       "113963"
      ]
     },
     "execution_count": 61,
     "metadata": {},
     "output_type": "execute_result"
    }
   ],
   "source": [
    "df_validated_trip_duration.filter(F.col('trip_distance') == 0).count()"
   ]
  },
  {
   "cell_type": "code",
   "execution_count": 62,
   "metadata": {
    "execution": {
     "iopub.execute_input": "2021-04-24T04:20:34.652908Z",
     "iopub.status.busy": "2021-04-24T04:20:34.652683Z",
     "iopub.status.idle": "2021-04-24T04:20:34.679879Z",
     "shell.execute_reply": "2021-04-24T04:20:34.678835Z",
     "shell.execute_reply.started": "2021-04-24T04:20:34.652884Z"
    }
   },
   "outputs": [],
   "source": [
    "col = 'trip_distance'\n",
    "df_validated_trip_distance = (\n",
    "    df_validated_trip_duration\n",
    "    .withColumn(col, F.abs(F.col(col)))\n",
    " )"
   ]
  },
  {
   "cell_type": "markdown",
   "metadata": {},
   "source": [
    "### Large `trip_distance`s\n",
    "\n",
    "There are extremely large distances. Only distances up to three standard deviations larger than the mean will be included, any values higher will be regarded as outliers and will be dropped.\n",
    "\n",
    "There are only 202 trips that are greater than three standard deviations larger than the mean."
   ]
  },
  {
   "cell_type": "code",
   "execution_count": 63,
   "metadata": {
    "execution": {
     "iopub.execute_input": "2021-04-24T04:20:34.681139Z",
     "iopub.status.busy": "2021-04-24T04:20:34.680934Z",
     "iopub.status.idle": "2021-04-24T04:20:55.875563Z",
     "shell.execute_reply": "2021-04-24T04:20:55.874455Z",
     "shell.execute_reply.started": "2021-04-24T04:20:34.681114Z"
    }
   },
   "outputs": [
    {
     "name": "stdout",
     "output_type": "stream",
     "text": [
      "+-------+------------------+\n",
      "|summary|     trip_distance|\n",
      "+-------+------------------+\n",
      "|  count|         115511074|\n",
      "|   mean|150.91895070136545|\n",
      "| stddev| 166.4577703229031|\n",
      "|    min|               0.0|\n",
      "|    25%|              90.0|\n",
      "|    50%|             161.0|\n",
      "|    75%|             232.0|\n",
      "|    max|         205654.12|\n",
      "+-------+------------------+\n",
      "\n"
     ]
    }
   ],
   "source": [
    "df_validated_trip_distance.select('trip_distance').summary().show()"
   ]
  },
  {
   "cell_type": "code",
   "execution_count": 64,
   "metadata": {
    "execution": {
     "iopub.execute_input": "2021-04-24T04:20:55.877028Z",
     "iopub.status.busy": "2021-04-24T04:20:55.876771Z",
     "iopub.status.idle": "2021-04-24T04:21:05.353413Z",
     "shell.execute_reply": "2021-04-24T04:21:05.351316Z",
     "shell.execute_reply.started": "2021-04-24T04:20:55.877003Z"
    }
   },
   "outputs": [
    {
     "data": {
      "text/plain": [
       "150.91895070136545"
      ]
     },
     "execution_count": 64,
     "metadata": {},
     "output_type": "execute_result"
    }
   ],
   "source": [
    "mean = df_validated_trip_distance.select(F.mean(F.col('trip_distance'))).collect()[0][0]\n",
    "mean"
   ]
  },
  {
   "cell_type": "code",
   "execution_count": 65,
   "metadata": {
    "execution": {
     "iopub.execute_input": "2021-04-24T04:21:05.356797Z",
     "iopub.status.busy": "2021-04-24T04:21:05.356218Z",
     "iopub.status.idle": "2021-04-24T04:21:14.903468Z",
     "shell.execute_reply": "2021-04-24T04:21:14.900372Z",
     "shell.execute_reply.started": "2021-04-24T04:21:05.356741Z"
    }
   },
   "outputs": [
    {
     "data": {
      "text/plain": [
       "166.4577703229031"
      ]
     },
     "execution_count": 65,
     "metadata": {},
     "output_type": "execute_result"
    }
   ],
   "source": [
    "stddev = df_validated_trip_distance.select(F.stddev(F.col('trip_distance'))).collect()[0][0]\n",
    "stddev"
   ]
  },
  {
   "cell_type": "code",
   "execution_count": 66,
   "metadata": {
    "execution": {
     "iopub.execute_input": "2021-04-24T04:21:14.909706Z",
     "iopub.status.busy": "2021-04-24T04:21:14.909035Z",
     "iopub.status.idle": "2021-04-24T04:21:14.960335Z",
     "shell.execute_reply": "2021-04-24T04:21:14.958226Z",
     "shell.execute_reply.started": "2021-04-24T04:21:14.909639Z"
    }
   },
   "outputs": [
    {
     "data": {
      "text/plain": [
       "650.2922616700747"
      ]
     },
     "execution_count": 66,
     "metadata": {},
     "output_type": "execute_result"
    }
   ],
   "source": [
    "threshold = mean + 3 * stddev\n",
    "threshold"
   ]
  },
  {
   "cell_type": "code",
   "execution_count": 67,
   "metadata": {
    "execution": {
     "iopub.execute_input": "2021-04-24T04:21:14.963143Z",
     "iopub.status.busy": "2021-04-24T04:21:14.962607Z",
     "iopub.status.idle": "2021-04-24T04:21:24.374110Z",
     "shell.execute_reply": "2021-04-24T04:21:24.373009Z",
     "shell.execute_reply.started": "2021-04-24T04:21:14.963096Z"
    }
   },
   "outputs": [
    {
     "data": {
      "text/plain": [
       "344"
      ]
     },
     "execution_count": 67,
     "metadata": {},
     "output_type": "execute_result"
    }
   ],
   "source": [
    "(\n",
    "    df_validated_trip_distance\n",
    "    .filter(F.col('trip_distance') > threshold)\n",
    "    .count() \n",
    ")"
   ]
  },
  {
   "cell_type": "code",
   "execution_count": 68,
   "metadata": {
    "execution": {
     "iopub.execute_input": "2021-04-24T04:21:24.379507Z",
     "iopub.status.busy": "2021-04-24T04:21:24.379306Z",
     "iopub.status.idle": "2021-04-24T04:21:24.469777Z",
     "shell.execute_reply": "2021-04-24T04:21:24.468875Z",
     "shell.execute_reply.started": "2021-04-24T04:21:24.379483Z"
    }
   },
   "outputs": [],
   "source": [
    "df_validated_exclude_large_trip = (\n",
    "    df_validated_trip_distance\n",
    "    .filter(F.col('trip_distance') <= threshold)\n",
    ")"
   ]
  },
  {
   "cell_type": "markdown",
   "metadata": {},
   "source": [
    "## Validate: `Passenger_count`\n",
    "\n",
    "The domain for this column is [1, 4]. However, there may have been larger taxis that can take up to 9 passengers. Having 0 passengers is beyong my understanding at the moment.  This, along with the nulls could be subject to an imputation strategy in the modelling stage."
   ]
  },
  {
   "cell_type": "code",
   "execution_count": 69,
   "metadata": {
    "execution": {
     "iopub.execute_input": "2021-04-24T04:21:24.471302Z",
     "iopub.status.busy": "2021-04-24T04:21:24.471060Z",
     "iopub.status.idle": "2021-04-24T04:21:24.496605Z",
     "shell.execute_reply": "2021-04-24T04:21:24.495771Z",
     "shell.execute_reply.started": "2021-04-24T04:21:24.471276Z"
    }
   },
   "outputs": [],
   "source": [
    "col = 'Passenger_count'\n",
    "valid_values = [1, 2, 3, 4, 5]"
   ]
  },
  {
   "cell_type": "code",
   "execution_count": 70,
   "metadata": {
    "execution": {
     "iopub.execute_input": "2021-04-24T04:21:24.498287Z",
     "iopub.status.busy": "2021-04-24T04:21:24.498009Z",
     "iopub.status.idle": "2021-04-24T04:21:35.719852Z",
     "shell.execute_reply": "2021-04-24T04:21:35.718938Z",
     "shell.execute_reply.started": "2021-04-24T04:21:24.498251Z"
    }
   },
   "outputs": [
    {
     "name": "stdout",
     "output_type": "stream",
     "text": [
      "+---------------+-------+\n",
      "|Passenger_count|  count|\n",
      "+---------------+-------+\n",
      "|           null| 936032|\n",
      "|              0|  13368|\n",
      "|              1|5770149|\n",
      "|              2| 485748|\n",
      "|              3|  94673|\n",
      "|              4| 209552|\n",
      "|              5| 192596|\n",
      "|              6| 107799|\n",
      "|              7| 147881|\n",
      "|              8|   1452|\n",
      "|              9|   2613|\n",
      "|             10|  38210|\n",
      "|             11|   2336|\n",
      "|             12|  42494|\n",
      "|             13| 886922|\n",
      "|             14|  12133|\n",
      "|             15|   2299|\n",
      "|             16|   3740|\n",
      "|             17|  23843|\n",
      "|             18|   5980|\n",
      "+---------------+-------+\n",
      "only showing top 20 rows\n",
      "\n"
     ]
    }
   ],
   "source": [
    "(\n",
    "    df_validated_exclude_large_trip\n",
    "    .groupBy(col)\n",
    "    .count()\n",
    "    .sort(F.col(col))\n",
    "    .show()\n",
    ")"
   ]
  },
  {
   "cell_type": "code",
   "execution_count": 73,
   "metadata": {
    "execution": {
     "iopub.execute_input": "2021-04-24T04:22:05.315047Z",
     "iopub.status.busy": "2021-04-24T04:22:05.314787Z",
     "iopub.status.idle": "2021-04-24T04:22:05.409575Z",
     "shell.execute_reply": "2021-04-24T04:22:05.408499Z",
     "shell.execute_reply.started": "2021-04-24T04:22:05.315019Z"
    }
   },
   "outputs": [],
   "source": [
    "df_passenger = (\n",
    "    df_validated_exclude_large_trip\n",
    "    .withColumn(col, when(~F.col(col).isin(valid_values), None)\n",
    "                     .otherwise(F.col(col)))\n",
    ")"
   ]
  },
  {
   "cell_type": "code",
   "execution_count": 74,
   "metadata": {
    "execution": {
     "iopub.execute_input": "2021-04-24T04:22:05.549299Z",
     "iopub.status.busy": "2021-04-24T04:22:05.549044Z",
     "iopub.status.idle": "2021-04-24T04:22:16.269736Z",
     "shell.execute_reply": "2021-04-24T04:22:16.268661Z",
     "shell.execute_reply.started": "2021-04-24T04:22:05.549272Z"
    }
   },
   "outputs": [
    {
     "name": "stdout",
     "output_type": "stream",
     "text": [
      "+---------------+---------+\n",
      "|Passenger_count|    count|\n",
      "+---------------+---------+\n",
      "|           null|108758012|\n",
      "|              1|  5770149|\n",
      "|              2|   485748|\n",
      "|              3|    94673|\n",
      "|              4|   209552|\n",
      "|              5|   192596|\n",
      "+---------------+---------+\n",
      "\n"
     ]
    }
   ],
   "source": [
    "(\n",
    "    df_passenger\n",
    "    .groupBy(col)\n",
    "    .count()\n",
    "    .sort(F.col(col))\n",
    "    .show()\n",
    ")"
   ]
  },
  {
   "cell_type": "markdown",
   "metadata": {},
   "source": [
    "# Feature engineering"
   ]
  },
  {
   "cell_type": "markdown",
   "metadata": {},
   "source": [
    "## Convert `trip_distance` to km"
   ]
  },
  {
   "cell_type": "code",
   "execution_count": 75,
   "metadata": {
    "execution": {
     "iopub.execute_input": "2021-04-24T04:22:48.399417Z",
     "iopub.status.busy": "2021-04-24T04:22:48.399158Z",
     "iopub.status.idle": "2021-04-24T04:22:48.419624Z",
     "shell.execute_reply": "2021-04-24T04:22:48.418573Z",
     "shell.execute_reply.started": "2021-04-24T04:22:48.399390Z"
    }
   },
   "outputs": [],
   "source": [
    "conversion_factor = 1.60934"
   ]
  },
  {
   "cell_type": "code",
   "execution_count": 76,
   "metadata": {
    "execution": {
     "iopub.execute_input": "2021-04-24T04:22:48.421282Z",
     "iopub.status.busy": "2021-04-24T04:22:48.421048Z",
     "iopub.status.idle": "2021-04-24T04:22:48.484836Z",
     "shell.execute_reply": "2021-04-24T04:22:48.483427Z",
     "shell.execute_reply.started": "2021-04-24T04:22:48.421255Z"
    }
   },
   "outputs": [],
   "source": [
    "df_fe_km = df_passenger.withColumn('trip_distance_km', F.col('trip_distance') * conversion_factor)"
   ]
  },
  {
   "cell_type": "markdown",
   "metadata": {},
   "source": [
    "## Calculate speed\n",
    "\n",
    "The average speed (km/h) is calculated by dividing the `trip_distance_km` by the `trip_duration` (seconds) multiplied by 3,600.\n",
    "\n",
    "There is an inconsistency:\n",
    "1. either the given unit for `trip_distance` in the data dictionary is incorrect, or\n",
    "1. the `trip_distance` values are all incorrect, or\n",
    "1. the `pickup_datetime` and `dropoff_datetime` are incorrect\n",
    "\n",
    "The `trip_distance`s are reported to be in the unit of miles, however, even with very short `trip_duration`s (less than one hour) the `trip_distance` is often in the hundreds; it's unlikely that a NYC taxi would be able to travel 170 miles in 30 minutes.There is an inconsistency:\n",
    "1. either the given unit for `trip_distance` in the data dictionary is incorrect, or\n",
    "1. the `trip_distance` values are all incorrect, or\n",
    "1. the `pickup_datetime` and `dropoff_datetime` are incorrect\n",
    "\n",
    "The `trip_distance`s are reported to be in the unit of miles, however, even with very short `trip_duration`s (less than one hour) the `trip_distance` is often in the hundreds; it's unlikely that a NYC taxi would be able to travel 170 miles in 30 minutes."
   ]
  },
  {
   "cell_type": "code",
   "execution_count": 77,
   "metadata": {
    "execution": {
     "iopub.execute_input": "2021-04-24T04:22:48.487389Z",
     "iopub.status.busy": "2021-04-24T04:22:48.487084Z",
     "iopub.status.idle": "2021-04-24T04:22:58.041061Z",
     "shell.execute_reply": "2021-04-24T04:22:58.039627Z",
     "shell.execute_reply.started": "2021-04-24T04:22:48.487361Z"
    }
   },
   "outputs": [
    {
     "name": "stdout",
     "output_type": "stream",
     "text": [
      "+-------------------+-------------------+-------------------+-------------+------------------+\n",
      "|   dropoff_datetime|    pickup_datetime|trip_duration_hours|trip_distance|  trip_distance_km|\n",
      "+-------------------+-------------------+-------------------+-------------+------------------+\n",
      "|2019-03-20 14:20:56|2019-03-20 14:14:12|0.11222222222222222|         90.0|          144.8406|\n",
      "|2019-01-01 22:14:49|2019-01-01 22:04:41| 0.1688888888888889|        107.0|         172.19938|\n",
      "|2019-03-19 16:44:31|2019-03-19 16:04:58| 0.6591666666666667|         88.0|         141.62192|\n",
      "|2019-01-16 18:24:51|2019-01-16 18:17:27|0.12333333333333334|        142.0|228.52627999999999|\n",
      "|2019-01-12 12:06:42|2019-01-12 11:50:23|0.27194444444444443|         68.0|         109.43512|\n",
      "|2019-03-22 19:37:41|2019-03-22 19:32:01|0.09444444444444444|        237.0|         381.41358|\n",
      "|2019-01-07 08:04:19|2019-01-07 07:48:28|0.26416666666666666|        209.0|         336.35206|\n",
      "|2019-01-02 10:03:43|2019-01-02 09:43:54| 0.3302777777777778|        137.0|         220.47958|\n",
      "|2020-11-11 09:50:12|2020-11-11 09:41:47|0.14027777777777778|        237.0|         381.41358|\n",
      "|2019-01-22 17:37:04|2019-01-22 17:28:32|0.14222222222222222|        186.0|         299.33724|\n",
      "+-------------------+-------------------+-------------------+-------------+------------------+\n",
      "\n"
     ]
    }
   ],
   "source": [
    "(\n",
    "    df_fe_km\n",
    "    .withColumn('trip_duration_hours', F.col('trip_duration') / 3600)\n",
    "    .select('dropoff_datetime', 'pickup_datetime', 'trip_duration_hours', 'trip_distance', 'trip_distance_km')\n",
    "    .sample(fraction=0.0001)\n",
    "    .limit(10)\n",
    "    .show()\n",
    ")"
   ]
  },
  {
   "cell_type": "code",
   "execution_count": 78,
   "metadata": {
    "execution": {
     "iopub.execute_input": "2021-04-24T04:22:58.046382Z",
     "iopub.status.busy": "2021-04-24T04:22:58.045665Z",
     "iopub.status.idle": "2021-04-24T04:22:58.154895Z",
     "shell.execute_reply": "2021-04-24T04:22:58.152020Z",
     "shell.execute_reply.started": "2021-04-24T04:22:58.046315Z"
    }
   },
   "outputs": [],
   "source": [
    "df_speed = (\n",
    "    df_fe_km\n",
    "    .withColumn('speed', F.col('trip_distance_km') / F.col('trip_duration') * 3600)\n",
    ")"
   ]
  },
  {
   "cell_type": "code",
   "execution_count": 79,
   "metadata": {
    "execution": {
     "iopub.execute_input": "2021-04-24T04:22:58.159192Z",
     "iopub.status.busy": "2021-04-24T04:22:58.157923Z",
     "iopub.status.idle": "2021-04-24T04:23:08.197313Z",
     "shell.execute_reply": "2021-04-24T04:23:08.196030Z",
     "shell.execute_reply.started": "2021-04-24T04:22:58.159118Z"
    }
   },
   "outputs": [
    {
     "name": "stdout",
     "output_type": "stream",
     "text": [
      "+-------+------------------+------------------+------------------+\n",
      "|summary|             speed|     trip_duration|     trip_distance|\n",
      "+-------+------------------+------------------+------------------+\n",
      "|  count|         115510730|         115510730|         115510730|\n",
      "|   mean| 1787.342224620523|1076.5550598026693|150.71781846500346|\n",
      "| stddev|2002.6832573743222|4252.4727955137105| 78.44062456735868|\n",
      "|    min|               0.0|                61|               0.0|\n",
      "|    max|25169.022295081966|           2618881|             603.8|\n",
      "+-------+------------------+------------------+------------------+\n",
      "\n"
     ]
    }
   ],
   "source": [
    "df_speed.select('speed', 'trip_duration', 'trip_distance').describe().show()"
   ]
  },
  {
   "cell_type": "code",
   "execution_count": 80,
   "metadata": {
    "execution": {
     "iopub.execute_input": "2021-04-24T04:23:08.198935Z",
     "iopub.status.busy": "2021-04-24T04:23:08.198728Z",
     "iopub.status.idle": "2021-04-24T04:23:17.755279Z",
     "shell.execute_reply": "2021-04-24T04:23:17.754284Z",
     "shell.execute_reply.started": "2021-04-24T04:23:08.198911Z"
    }
   },
   "outputs": [
    {
     "data": {
      "text/plain": [
       "9989223"
      ]
     },
     "execution_count": 80,
     "metadata": {},
     "output_type": "execute_result"
    }
   ],
   "source": [
    "speed_limit = 80\n",
    "\n",
    "df_speed.filter(F.col('speed') <= speed_limit).count()"
   ]
  },
  {
   "cell_type": "code",
   "execution_count": 81,
   "metadata": {
    "execution": {
     "iopub.execute_input": "2021-04-24T04:23:17.756650Z",
     "iopub.status.busy": "2021-04-24T04:23:17.756412Z",
     "iopub.status.idle": "2021-04-24T04:23:36.520091Z",
     "shell.execute_reply": "2021-04-24T04:23:36.518128Z",
     "shell.execute_reply.started": "2021-04-24T04:23:17.756625Z"
    }
   },
   "outputs": [
    {
     "data": {
      "text/plain": [
       "0.08647874530790343"
      ]
     },
     "execution_count": 81,
     "metadata": {},
     "output_type": "execute_result"
    }
   ],
   "source": [
    "df_speed.filter(F.col('speed') <= speed_limit).count() / df_speed.count()"
   ]
  },
  {
   "cell_type": "markdown",
   "metadata": {},
   "source": [
    "Only about 10 million rows (~9%) of the data have speeds under 80kph."
   ]
  },
  {
   "cell_type": "markdown",
   "metadata": {},
   "source": [
    "### Fixing `trip_distance_km`\n",
    "\n",
    "According to [careertrend.com](https://careertrend.com/how-many-miles-does-an-average-taxi-cab-driver-drive-yearly-13658842.html), the average taxi trip in the US is 5 miles, which is consistent with the average `trip_duration` of 15 minutes and the speed limit of 25mph in NYC. The `trip_distance` in the data is likely to be incorrect.\n",
    "\n",
    "1. The average speed for those in with `speed` <= 80kph (50mph) will be calculated\n",
    "2. This average speed will be used to recalculate the distances based on the `trip_duration`"
   ]
  },
  {
   "cell_type": "code",
   "execution_count": 82,
   "metadata": {
    "execution": {
     "iopub.execute_input": "2021-04-24T04:23:36.524347Z",
     "iopub.status.busy": "2021-04-24T04:23:36.523461Z",
     "iopub.status.idle": "2021-04-24T04:23:46.142005Z",
     "shell.execute_reply": "2021-04-24T04:23:46.140919Z",
     "shell.execute_reply.started": "2021-04-24T04:23:36.524281Z"
    }
   },
   "outputs": [
    {
     "data": {
      "text/plain": [
       "24.355786383930308"
      ]
     },
     "execution_count": 82,
     "metadata": {},
     "output_type": "execute_result"
    }
   ],
   "source": [
    "average_speed = (\n",
    "    df_speed\n",
    "    .filter(F.col('speed') <= speed_limit)\n",
    "    .select(F.mean(F.col('speed')))\n",
    "    .collect()[0][0]\n",
    ")\n",
    "\n",
    "average_speed"
   ]
  },
  {
   "cell_type": "markdown",
   "metadata": {},
   "source": [
    "For rows with speeds less than 80kph, the average speed is 25kph. This is a more reasonable value considering the dense traffic in NYC."
   ]
  },
  {
   "cell_type": "code",
   "execution_count": 83,
   "metadata": {
    "execution": {
     "iopub.execute_input": "2021-04-24T04:23:46.144342Z",
     "iopub.status.busy": "2021-04-24T04:23:46.144076Z",
     "iopub.status.idle": "2021-04-24T04:23:46.220807Z",
     "shell.execute_reply": "2021-04-24T04:23:46.219431Z",
     "shell.execute_reply.started": "2021-04-24T04:23:46.144317Z"
    }
   },
   "outputs": [],
   "source": [
    "df_fixed_distance = (\n",
    "    df_speed\n",
    "    .withColumn('speed', when(F.col('speed') > speed_limit, average_speed)\n",
    "                                    .otherwise(F.col('speed')))\n",
    "    .withColumn('trip_distance_km', F.col('speed') * F.col('trip_duration') / 3600)\n",
    ")"
   ]
  },
  {
   "cell_type": "code",
   "execution_count": 84,
   "metadata": {
    "execution": {
     "iopub.execute_input": "2021-04-24T04:23:46.223229Z",
     "iopub.status.busy": "2021-04-24T04:23:46.222862Z",
     "iopub.status.idle": "2021-04-24T04:23:56.396671Z",
     "shell.execute_reply": "2021-04-24T04:23:56.395691Z",
     "shell.execute_reply.started": "2021-04-24T04:23:46.223184Z"
    }
   },
   "outputs": [
    {
     "name": "stdout",
     "output_type": "stream",
     "text": [
      "+-------+------------------+------------------+------------------+\n",
      "|summary|             speed|     trip_duration|  trip_distance_km|\n",
      "+-------+------------------+------------------+------------------+\n",
      "|  count|         115510730|         115510730|         115510730|\n",
      "|   mean|24.355786383296174|1076.5550598026693| 6.526585399908055|\n",
      "| stddev|4.8149381737625605|4252.4727955137105|14.318990958080045|\n",
      "|    min|               0.0|                61|               0.0|\n",
      "|    max| 79.99982927977405|           2618881| 830.2424361743164|\n",
      "+-------+------------------+------------------+------------------+\n",
      "\n"
     ]
    }
   ],
   "source": [
    "df_fixed_distance.select('speed', 'trip_duration', 'trip_distance_km').describe().show()"
   ]
  },
  {
   "cell_type": "markdown",
   "metadata": {},
   "source": [
    "# Cleanup\n",
    "\n",
    "Drop unused columns."
   ]
  },
  {
   "cell_type": "code",
   "execution_count": 85,
   "metadata": {
    "execution": {
     "iopub.execute_input": "2021-04-24T04:23:56.398284Z",
     "iopub.status.busy": "2021-04-24T04:23:56.398079Z",
     "iopub.status.idle": "2021-04-24T04:23:56.427670Z",
     "shell.execute_reply": "2021-04-24T04:23:56.425974Z",
     "shell.execute_reply.started": "2021-04-24T04:23:56.398260Z"
    }
   },
   "outputs": [],
   "source": [
    "df_cleaned = df_fixed_distance.drop('trip_distance')"
   ]
  },
  {
   "cell_type": "code",
   "execution_count": 86,
   "metadata": {
    "execution": {
     "iopub.execute_input": "2021-04-24T04:23:56.429413Z",
     "iopub.status.busy": "2021-04-24T04:23:56.429185Z",
     "iopub.status.idle": "2021-04-24T04:23:56.464956Z",
     "shell.execute_reply": "2021-04-24T04:23:56.462754Z",
     "shell.execute_reply.started": "2021-04-24T04:23:56.429389Z"
    }
   },
   "outputs": [
    {
     "name": "stdout",
     "output_type": "stream",
     "text": [
      "root\n",
      " |-- VendorID: string (nullable = true)\n",
      " |-- pickup_datetime: timestamp (nullable = true)\n",
      " |-- dropoff_datetime: timestamp (nullable = true)\n",
      " |-- Store_and_fwd_flag: string (nullable = true)\n",
      " |-- RatecodeID: string (nullable = true)\n",
      " |-- PULocationID: string (nullable = true)\n",
      " |-- DOLocationID: string (nullable = true)\n",
      " |-- Passenger_count: integer (nullable = true)\n",
      " |-- Fare_amount: float (nullable = true)\n",
      " |-- extra: float (nullable = true)\n",
      " |-- mta_tax: float (nullable = true)\n",
      " |-- tip_amount: float (nullable = true)\n",
      " |-- tolls_amount: float (nullable = true)\n",
      " |-- improvement_surcharge: float (nullable = true)\n",
      " |-- Total_amount: float (nullable = true)\n",
      " |-- Payment_type: string (nullable = true)\n",
      " |-- congestion_surcharge: float (nullable = true)\n",
      " |-- colour: string (nullable = true)\n",
      " |-- pickup_year: integer (nullable = true)\n",
      " |-- pickup_month: integer (nullable = true)\n",
      " |-- pickup_dayofyear: integer (nullable = true)\n",
      " |-- pickup_dayofmonth: integer (nullable = true)\n",
      " |-- pickup_dayofweek: integer (nullable = true)\n",
      " |-- pickup_weekofyear: integer (nullable = true)\n",
      " |-- pickup_hourofday: integer (nullable = true)\n",
      " |-- dropoff_year: integer (nullable = true)\n",
      " |-- trip_duration: long (nullable = true)\n",
      " |-- trip_distance_km: double (nullable = true)\n",
      " |-- speed: double (nullable = true)\n",
      "\n"
     ]
    }
   ],
   "source": [
    "df_cleaned.printSchema()"
   ]
  },
  {
   "cell_type": "markdown",
   "metadata": {},
   "source": [
    "# Save data\n",
    "\n",
    "The data is saved in the parquet format because it is columnar. Columnar storage is preferred because the types of queries that are used are aggregations per column, such as average total amount per group etc."
   ]
  },
  {
   "cell_type": "code",
   "execution_count": 87,
   "metadata": {
    "execution": {
     "iopub.execute_input": "2021-04-24T04:23:56.467449Z",
     "iopub.status.busy": "2021-04-24T04:23:56.467078Z",
     "iopub.status.idle": "2021-04-24T04:28:59.039316Z",
     "shell.execute_reply": "2021-04-24T04:28:59.036837Z",
     "shell.execute_reply.started": "2021-04-24T04:23:56.467404Z"
    },
    "tags": []
   },
   "outputs": [],
   "source": [
    "path = processed_data_dir.joinpath('df_cleaned').as_posix()\n",
    "df_cleaned.repartition(numPartitions=n_partitions).write.parquet(path, mode='overwrite')"
   ]
  },
  {
   "cell_type": "code",
   "execution_count": 88,
   "metadata": {
    "execution": {
     "iopub.execute_input": "2021-04-24T04:28:59.042757Z",
     "iopub.status.busy": "2021-04-24T04:28:59.042207Z",
     "iopub.status.idle": "2021-04-24T04:29:00.991462Z",
     "shell.execute_reply": "2021-04-24T04:29:00.989869Z",
     "shell.execute_reply.started": "2021-04-24T04:28:59.042692Z"
    }
   },
   "outputs": [],
   "source": [
    "spark.sparkContext.stop()"
   ]
  }
 ],
 "metadata": {
  "kernelspec": {
   "display_name": "Python 3",
   "language": "python",
   "name": "python3"
  },
  "language_info": {
   "codemirror_mode": {
    "name": "ipython",
    "version": 3
   },
   "file_extension": ".py",
   "mimetype": "text/x-python",
   "name": "python",
   "nbconvert_exporter": "python",
   "pygments_lexer": "ipython3",
   "version": "3.7.10"
  },
  "toc-autonumbering": true
 },
 "nbformat": 4,
 "nbformat_minor": 4
}
