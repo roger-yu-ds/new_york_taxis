{
 "cells": [
  {
   "cell_type": "markdown",
   "metadata": {},
   "source": [
    "# Introduction\n",
    "\n",
    "This notebook calculates various values such as the total number of trips for each year-month.\n",
    "\n",
    "The data has been prepared by `/notebooks/1_etl.ipynb` and is saved in parquet format in `/data/processed/cleaned`."
   ]
  },
  {
   "cell_type": "code",
   "execution_count": 89,
   "metadata": {
    "execution": {
     "iopub.execute_input": "2021-04-24T04:30:48.817198Z",
     "iopub.status.busy": "2021-04-24T04:30:48.816873Z",
     "iopub.status.idle": "2021-04-24T04:30:48.840474Z",
     "shell.execute_reply": "2021-04-24T04:30:48.839394Z",
     "shell.execute_reply.started": "2021-04-24T04:30:48.817170Z"
    }
   },
   "outputs": [
    {
     "name": "stdout",
     "output_type": "stream",
     "text": [
      "The autoreload extension is already loaded. To reload it, use:\n",
      "  %reload_ext autoreload\n"
     ]
    }
   ],
   "source": [
    "%load_ext autoreload\n",
    "%autoreload 2"
   ]
  },
  {
   "cell_type": "code",
   "execution_count": 90,
   "metadata": {
    "execution": {
     "iopub.execute_input": "2021-04-24T04:30:48.842139Z",
     "iopub.status.busy": "2021-04-24T04:30:48.841864Z",
     "iopub.status.idle": "2021-04-24T04:30:48.863020Z",
     "shell.execute_reply": "2021-04-24T04:30:48.861994Z",
     "shell.execute_reply.started": "2021-04-24T04:30:48.842113Z"
    }
   },
   "outputs": [],
   "source": [
    "import pandas as pd\n",
    "from pathlib import Path\n",
    "from dotenv import find_dotenv\n",
    "from pyspark.sql import SparkSession\n",
    "from datetime import datetime\n",
    "import pyspark.sql.functions as F\n",
    "from pyspark.sql.types import (\n",
    "    IntegerType,\n",
    "    DateType,\n",
    "    FloatType,\n",
    "    StringType\n",
    ")\n",
    "\n",
    "from src.utils.utils import write_sql_to_file"
   ]
  },
  {
   "cell_type": "code",
   "execution_count": 91,
   "metadata": {
    "execution": {
     "iopub.execute_input": "2021-04-24T04:30:48.864962Z",
     "iopub.status.busy": "2021-04-24T04:30:48.864670Z",
     "iopub.status.idle": "2021-04-24T04:30:48.884831Z",
     "shell.execute_reply": "2021-04-24T04:30:48.883722Z",
     "shell.execute_reply.started": "2021-04-24T04:30:48.864883Z"
    }
   },
   "outputs": [],
   "source": [
    "pd.set_option('display.max_columns', 100)"
   ]
  },
  {
   "cell_type": "code",
   "execution_count": 92,
   "metadata": {
    "execution": {
     "iopub.execute_input": "2021-04-24T04:30:48.886659Z",
     "iopub.status.busy": "2021-04-24T04:30:48.886405Z",
     "iopub.status.idle": "2021-04-24T04:30:48.908865Z",
     "shell.execute_reply": "2021-04-24T04:30:48.907515Z",
     "shell.execute_reply.started": "2021-04-24T04:30:48.886634Z"
    }
   },
   "outputs": [],
   "source": [
    "project_dir = Path(find_dotenv()).cwd().parent\n",
    "data_dir = project_dir / 'data'\n",
    "raw_data_dir = data_dir / 'raw'\n",
    "processed_data_dir = data_dir / 'processed'\n",
    "reports_dir = project_dir / 'reports'"
   ]
  },
  {
   "cell_type": "code",
   "execution_count": 93,
   "metadata": {
    "execution": {
     "iopub.execute_input": "2021-04-24T04:30:48.911362Z",
     "iopub.status.busy": "2021-04-24T04:30:48.910494Z",
     "iopub.status.idle": "2021-04-24T04:30:48.948164Z",
     "shell.execute_reply": "2021-04-24T04:30:48.947162Z",
     "shell.execute_reply.started": "2021-04-24T04:30:48.911294Z"
    },
    "tags": []
   },
   "outputs": [],
   "source": [
    "spark = (\n",
    "    SparkSession\n",
    "    .builder\n",
    "    .master('local[12]')\n",
    "    .appName('new_york_taxis')\n",
    "    .getOrCreate()\n",
    ")"
   ]
  },
  {
   "cell_type": "code",
   "execution_count": 94,
   "metadata": {
    "execution": {
     "iopub.execute_input": "2021-04-24T04:30:48.949646Z",
     "iopub.status.busy": "2021-04-24T04:30:48.949429Z",
     "iopub.status.idle": "2021-04-24T04:30:48.971254Z",
     "shell.execute_reply": "2021-04-24T04:30:48.970246Z",
     "shell.execute_reply.started": "2021-04-24T04:30:48.949620Z"
    },
    "tags": []
   },
   "outputs": [
    {
     "data": {
      "text/html": [
       "\n",
       "            <div>\n",
       "                <p><b>SparkSession - in-memory</b></p>\n",
       "                \n",
       "        <div>\n",
       "            <p><b>SparkContext</b></p>\n",
       "\n",
       "            <p><a href=\"http://7501c46205ca:4040\">Spark UI</a></p>\n",
       "\n",
       "            <dl>\n",
       "              <dt>Version</dt>\n",
       "                <dd><code>v2.4.5</code></dd>\n",
       "              <dt>Master</dt>\n",
       "                <dd><code>local[12]</code></dd>\n",
       "              <dt>AppName</dt>\n",
       "                <dd><code>new_york_taxis</code></dd>\n",
       "            </dl>\n",
       "        </div>\n",
       "        \n",
       "            </div>\n",
       "        "
      ],
      "text/plain": [
       "<pyspark.sql.session.SparkSession at 0x7fed8fbd36d0>"
      ]
     },
     "execution_count": 94,
     "metadata": {},
     "output_type": "execute_result"
    }
   ],
   "source": [
    "spark"
   ]
  },
  {
   "cell_type": "code",
   "execution_count": 95,
   "metadata": {
    "execution": {
     "iopub.execute_input": "2021-04-24T04:30:48.972589Z",
     "iopub.status.busy": "2021-04-24T04:30:48.972338Z",
     "iopub.status.idle": "2021-04-24T04:30:48.999938Z",
     "shell.execute_reply": "2021-04-24T04:30:48.998848Z",
     "shell.execute_reply.started": "2021-04-24T04:30:48.972564Z"
    },
    "tags": []
   },
   "outputs": [
    {
     "data": {
      "text/plain": [
       "'3.0.0'"
      ]
     },
     "execution_count": 95,
     "metadata": {},
     "output_type": "execute_result"
    }
   ],
   "source": [
    "spark._jvm.org.apache.hadoop.util.VersionInfo.getVersion()"
   ]
  },
  {
   "cell_type": "code",
   "execution_count": 96,
   "metadata": {
    "execution": {
     "iopub.execute_input": "2021-04-24T04:30:49.001424Z",
     "iopub.status.busy": "2021-04-24T04:30:49.001201Z",
     "iopub.status.idle": "2021-04-24T04:30:49.042390Z",
     "shell.execute_reply": "2021-04-24T04:30:49.041449Z",
     "shell.execute_reply.started": "2021-04-24T04:30:49.001397Z"
    },
    "tags": []
   },
   "outputs": [
    {
     "data": {
      "text/plain": [
       "[('spark.driver.extraJavaOptions',\n",
       "  '\"-Dio.netty.tryReflectionSetAccessible=true\"'),\n",
       " ('spark.executor.id', 'driver'),\n",
       " ('spark.driver.memory', '16g'),\n",
       " ('spark.executor.memory', '16g'),\n",
       " ('spark.app.name', 'new_york_taxis'),\n",
       " ('spark.executor.extraJavaOptions',\n",
       "  '\"-Dio.netty.tryReflectionSetAccessible=true\"'),\n",
       " ('spark.master', 'local[12]'),\n",
       " ('spark.rdd.compress', 'True'),\n",
       " ('spark.driver.host', '7501c46205ca'),\n",
       " ('spark.driver.port', '36583'),\n",
       " ('spark.serializer.objectStreamReset', '100'),\n",
       " ('spark.submit.deployMode', 'client'),\n",
       " ('spark.app.id', 'local-1619227295815'),\n",
       " ('spark.ui.showConsoleProgress', 'true'),\n",
       " ('spark.debug.maxToStringFields', '1000')]"
      ]
     },
     "execution_count": 96,
     "metadata": {},
     "output_type": "execute_result"
    }
   ],
   "source": [
    "spark.sparkContext._conf.getAll()"
   ]
  },
  {
   "cell_type": "code",
   "execution_count": 97,
   "metadata": {
    "execution": {
     "iopub.execute_input": "2021-04-24T04:30:49.044991Z",
     "iopub.status.busy": "2021-04-24T04:30:49.044771Z",
     "iopub.status.idle": "2021-04-24T04:30:49.541418Z",
     "shell.execute_reply": "2021-04-24T04:30:49.538845Z",
     "shell.execute_reply.started": "2021-04-24T04:30:49.044955Z"
    },
    "tags": []
   },
   "outputs": [],
   "source": [
    "conf = spark.sparkContext._conf.setAll([\n",
    "    ('spark.driver.memory', '16g'),\n",
    "    ('spark.executor.memory', '16g'),\n",
    "    ('spark.app.name', 'new_york_taxis'),\n",
    "])\n",
    "spark.sparkContext.stop()\n",
    "spark = SparkSession.builder.config(conf=conf).getOrCreate()"
   ]
  },
  {
   "cell_type": "code",
   "execution_count": 98,
   "metadata": {
    "execution": {
     "iopub.execute_input": "2021-04-24T04:30:49.546368Z",
     "iopub.status.busy": "2021-04-24T04:30:49.545765Z",
     "iopub.status.idle": "2021-04-24T04:30:49.621912Z",
     "shell.execute_reply": "2021-04-24T04:30:49.619821Z",
     "shell.execute_reply.started": "2021-04-24T04:30:49.546304Z"
    },
    "tags": []
   },
   "outputs": [
    {
     "data": {
      "text/plain": [
       "[('spark.driver.extraJavaOptions',\n",
       "  '\"-Dio.netty.tryReflectionSetAccessible=true\"'),\n",
       " ('spark.executor.id', 'driver'),\n",
       " ('spark.driver.memory', '16g'),\n",
       " ('spark.executor.memory', '16g'),\n",
       " ('spark.app.name', 'new_york_taxis'),\n",
       " ('spark.executor.extraJavaOptions',\n",
       "  '\"-Dio.netty.tryReflectionSetAccessible=true\"'),\n",
       " ('spark.master', 'local[12]'),\n",
       " ('spark.rdd.compress', 'True'),\n",
       " ('spark.driver.host', '7501c46205ca'),\n",
       " ('spark.driver.port', '36583'),\n",
       " ('spark.serializer.objectStreamReset', '100'),\n",
       " ('spark.submit.deployMode', 'client'),\n",
       " ('spark.app.id', 'local-1619227295815'),\n",
       " ('spark.ui.showConsoleProgress', 'true'),\n",
       " ('spark.debug.maxToStringFields', '1000')]"
      ]
     },
     "execution_count": 98,
     "metadata": {},
     "output_type": "execute_result"
    }
   ],
   "source": [
    "spark.sparkContext._conf.getAll()"
   ]
  },
  {
   "cell_type": "markdown",
   "metadata": {},
   "source": [
    "# Load data"
   ]
  },
  {
   "cell_type": "code",
   "execution_count": 99,
   "metadata": {
    "execution": {
     "iopub.execute_input": "2021-04-24T04:30:49.624391Z",
     "iopub.status.busy": "2021-04-24T04:30:49.624004Z",
     "iopub.status.idle": "2021-04-24T04:30:54.256111Z",
     "shell.execute_reply": "2021-04-24T04:30:54.253838Z",
     "shell.execute_reply.started": "2021-04-24T04:30:49.624353Z"
    }
   },
   "outputs": [],
   "source": [
    "path = processed_data_dir.joinpath('df_cleaned').as_posix()\n",
    "df = spark.read.parquet(path)"
   ]
  },
  {
   "cell_type": "code",
   "execution_count": 100,
   "metadata": {
    "execution": {
     "iopub.execute_input": "2021-04-24T04:30:54.259413Z",
     "iopub.status.busy": "2021-04-24T04:30:54.258860Z",
     "iopub.status.idle": "2021-04-24T04:30:56.187922Z",
     "shell.execute_reply": "2021-04-24T04:30:56.186950Z",
     "shell.execute_reply.started": "2021-04-24T04:30:54.259350Z"
    }
   },
   "outputs": [
    {
     "data": {
      "text/plain": [
       "115510730"
      ]
     },
     "execution_count": 100,
     "metadata": {},
     "output_type": "execute_result"
    }
   ],
   "source": [
    "df.count()"
   ]
  },
  {
   "cell_type": "code",
   "execution_count": 101,
   "metadata": {
    "execution": {
     "iopub.execute_input": "2021-04-24T04:30:56.189346Z",
     "iopub.status.busy": "2021-04-24T04:30:56.189114Z",
     "iopub.status.idle": "2021-04-24T04:30:56.208063Z",
     "shell.execute_reply": "2021-04-24T04:30:56.207094Z",
     "shell.execute_reply.started": "2021-04-24T04:30:56.189323Z"
    }
   },
   "outputs": [
    {
     "name": "stdout",
     "output_type": "stream",
     "text": [
      "root\n",
      " |-- VendorID: string (nullable = true)\n",
      " |-- pickup_datetime: timestamp (nullable = true)\n",
      " |-- dropoff_datetime: timestamp (nullable = true)\n",
      " |-- Store_and_fwd_flag: string (nullable = true)\n",
      " |-- RatecodeID: string (nullable = true)\n",
      " |-- PULocationID: string (nullable = true)\n",
      " |-- DOLocationID: string (nullable = true)\n",
      " |-- Passenger_count: integer (nullable = true)\n",
      " |-- Fare_amount: float (nullable = true)\n",
      " |-- extra: float (nullable = true)\n",
      " |-- mta_tax: float (nullable = true)\n",
      " |-- tip_amount: float (nullable = true)\n",
      " |-- tolls_amount: float (nullable = true)\n",
      " |-- improvement_surcharge: float (nullable = true)\n",
      " |-- Total_amount: float (nullable = true)\n",
      " |-- Payment_type: string (nullable = true)\n",
      " |-- congestion_surcharge: float (nullable = true)\n",
      " |-- colour: string (nullable = true)\n",
      " |-- pickup_year: integer (nullable = true)\n",
      " |-- pickup_month: integer (nullable = true)\n",
      " |-- pickup_dayofyear: integer (nullable = true)\n",
      " |-- pickup_dayofmonth: integer (nullable = true)\n",
      " |-- pickup_dayofweek: integer (nullable = true)\n",
      " |-- pickup_weekofyear: integer (nullable = true)\n",
      " |-- pickup_hourofday: integer (nullable = true)\n",
      " |-- dropoff_year: integer (nullable = true)\n",
      " |-- trip_duration: long (nullable = true)\n",
      " |-- trip_distance_km: double (nullable = true)\n",
      " |-- speed: double (nullable = true)\n",
      "\n"
     ]
    }
   ],
   "source": [
    "df.printSchema()"
   ]
  },
  {
   "cell_type": "code",
   "execution_count": 102,
   "metadata": {
    "execution": {
     "iopub.execute_input": "2021-04-24T04:30:56.209465Z",
     "iopub.status.busy": "2021-04-24T04:30:56.209232Z",
     "iopub.status.idle": "2021-04-24T04:30:57.082241Z",
     "shell.execute_reply": "2021-04-24T04:30:57.080133Z",
     "shell.execute_reply.started": "2021-04-24T04:30:56.209441Z"
    }
   },
   "outputs": [
    {
     "data": {
      "text/html": [
       "<div>\n",
       "<style scoped>\n",
       "    .dataframe tbody tr th:only-of-type {\n",
       "        vertical-align: middle;\n",
       "    }\n",
       "\n",
       "    .dataframe tbody tr th {\n",
       "        vertical-align: top;\n",
       "    }\n",
       "\n",
       "    .dataframe thead th {\n",
       "        text-align: right;\n",
       "    }\n",
       "</style>\n",
       "<table border=\"1\" class=\"dataframe\">\n",
       "  <thead>\n",
       "    <tr style=\"text-align: right;\">\n",
       "      <th></th>\n",
       "      <th>VendorID</th>\n",
       "      <th>pickup_datetime</th>\n",
       "      <th>dropoff_datetime</th>\n",
       "      <th>Store_and_fwd_flag</th>\n",
       "      <th>RatecodeID</th>\n",
       "      <th>PULocationID</th>\n",
       "      <th>DOLocationID</th>\n",
       "      <th>Passenger_count</th>\n",
       "      <th>Fare_amount</th>\n",
       "      <th>extra</th>\n",
       "      <th>mta_tax</th>\n",
       "      <th>tip_amount</th>\n",
       "      <th>tolls_amount</th>\n",
       "      <th>improvement_surcharge</th>\n",
       "      <th>Total_amount</th>\n",
       "      <th>Payment_type</th>\n",
       "      <th>congestion_surcharge</th>\n",
       "      <th>colour</th>\n",
       "      <th>pickup_year</th>\n",
       "      <th>pickup_month</th>\n",
       "      <th>pickup_dayofyear</th>\n",
       "      <th>pickup_dayofmonth</th>\n",
       "      <th>pickup_dayofweek</th>\n",
       "      <th>pickup_weekofyear</th>\n",
       "      <th>pickup_hourofday</th>\n",
       "      <th>dropoff_year</th>\n",
       "      <th>trip_duration</th>\n",
       "      <th>trip_distance_km</th>\n",
       "      <th>speed</th>\n",
       "    </tr>\n",
       "  </thead>\n",
       "  <tbody>\n",
       "    <tr>\n",
       "      <th>0</th>\n",
       "      <td>2</td>\n",
       "      <td>2019-05-20 17:58:02</td>\n",
       "      <td>2019-05-20 18:31:17</td>\n",
       "      <td>N</td>\n",
       "      <td>1</td>\n",
       "      <td>40</td>\n",
       "      <td>80</td>\n",
       "      <td>1.0</td>\n",
       "      <td>23.0</td>\n",
       "      <td>1.0</td>\n",
       "      <td>0.5</td>\n",
       "      <td>0.0</td>\n",
       "      <td>0.00</td>\n",
       "      <td>0.3</td>\n",
       "      <td>24.799999</td>\n",
       "      <td>2</td>\n",
       "      <td>0.0</td>\n",
       "      <td>green</td>\n",
       "      <td>2019</td>\n",
       "      <td>5</td>\n",
       "      <td>140</td>\n",
       "      <td>20</td>\n",
       "      <td>2</td>\n",
       "      <td>21</td>\n",
       "      <td>17</td>\n",
       "      <td>2019</td>\n",
       "      <td>1995</td>\n",
       "      <td>8.915744</td>\n",
       "      <td>16.088560</td>\n",
       "    </tr>\n",
       "    <tr>\n",
       "      <th>1</th>\n",
       "      <td>2</td>\n",
       "      <td>2019-07-12 07:06:55</td>\n",
       "      <td>2019-07-12 07:10:15</td>\n",
       "      <td>None</td>\n",
       "      <td>1.40</td>\n",
       "      <td>1</td>\n",
       "      <td>N</td>\n",
       "      <td>NaN</td>\n",
       "      <td>1.0</td>\n",
       "      <td>6.0</td>\n",
       "      <td>0.0</td>\n",
       "      <td>0.5</td>\n",
       "      <td>1.50</td>\n",
       "      <td>0.0</td>\n",
       "      <td>0.300000</td>\n",
       "      <td>None</td>\n",
       "      <td>2.5</td>\n",
       "      <td>yellow</td>\n",
       "      <td>2019</td>\n",
       "      <td>7</td>\n",
       "      <td>193</td>\n",
       "      <td>12</td>\n",
       "      <td>6</td>\n",
       "      <td>28</td>\n",
       "      <td>7</td>\n",
       "      <td>2019</td>\n",
       "      <td>200</td>\n",
       "      <td>1.353099</td>\n",
       "      <td>24.355786</td>\n",
       "    </tr>\n",
       "    <tr>\n",
       "      <th>2</th>\n",
       "      <td>2</td>\n",
       "      <td>2019-05-06 08:16:49</td>\n",
       "      <td>2019-05-06 08:29:24</td>\n",
       "      <td>None</td>\n",
       "      <td>1.91</td>\n",
       "      <td>1</td>\n",
       "      <td>N</td>\n",
       "      <td>NaN</td>\n",
       "      <td>1.0</td>\n",
       "      <td>10.0</td>\n",
       "      <td>0.0</td>\n",
       "      <td>0.5</td>\n",
       "      <td>1.00</td>\n",
       "      <td>0.0</td>\n",
       "      <td>0.300000</td>\n",
       "      <td>None</td>\n",
       "      <td>2.5</td>\n",
       "      <td>yellow</td>\n",
       "      <td>2019</td>\n",
       "      <td>5</td>\n",
       "      <td>126</td>\n",
       "      <td>6</td>\n",
       "      <td>2</td>\n",
       "      <td>19</td>\n",
       "      <td>8</td>\n",
       "      <td>2019</td>\n",
       "      <td>755</td>\n",
       "      <td>5.107950</td>\n",
       "      <td>24.355786</td>\n",
       "    </tr>\n",
       "    <tr>\n",
       "      <th>3</th>\n",
       "      <td>2</td>\n",
       "      <td>2019-06-21 00:48:59</td>\n",
       "      <td>2019-06-21 01:04:28</td>\n",
       "      <td>None</td>\n",
       "      <td>3.60</td>\n",
       "      <td>1</td>\n",
       "      <td>N</td>\n",
       "      <td>NaN</td>\n",
       "      <td>1.0</td>\n",
       "      <td>14.5</td>\n",
       "      <td>0.5</td>\n",
       "      <td>0.5</td>\n",
       "      <td>3.66</td>\n",
       "      <td>0.0</td>\n",
       "      <td>0.300000</td>\n",
       "      <td>None</td>\n",
       "      <td>2.5</td>\n",
       "      <td>yellow</td>\n",
       "      <td>2019</td>\n",
       "      <td>6</td>\n",
       "      <td>172</td>\n",
       "      <td>21</td>\n",
       "      <td>6</td>\n",
       "      <td>25</td>\n",
       "      <td>0</td>\n",
       "      <td>2019</td>\n",
       "      <td>929</td>\n",
       "      <td>6.285146</td>\n",
       "      <td>24.355786</td>\n",
       "    </tr>\n",
       "    <tr>\n",
       "      <th>4</th>\n",
       "      <td>1</td>\n",
       "      <td>2019-02-15 23:26:23</td>\n",
       "      <td>2019-02-15 23:32:49</td>\n",
       "      <td>None</td>\n",
       "      <td>.80</td>\n",
       "      <td>1</td>\n",
       "      <td>N</td>\n",
       "      <td>NaN</td>\n",
       "      <td>1.0</td>\n",
       "      <td>6.0</td>\n",
       "      <td>3.0</td>\n",
       "      <td>0.5</td>\n",
       "      <td>1.95</td>\n",
       "      <td>0.0</td>\n",
       "      <td>0.300000</td>\n",
       "      <td>None</td>\n",
       "      <td>2.5</td>\n",
       "      <td>yellow</td>\n",
       "      <td>2019</td>\n",
       "      <td>2</td>\n",
       "      <td>46</td>\n",
       "      <td>15</td>\n",
       "      <td>6</td>\n",
       "      <td>7</td>\n",
       "      <td>23</td>\n",
       "      <td>2019</td>\n",
       "      <td>386</td>\n",
       "      <td>2.611482</td>\n",
       "      <td>24.355786</td>\n",
       "    </tr>\n",
       "    <tr>\n",
       "      <th>5</th>\n",
       "      <td>2</td>\n",
       "      <td>2020-01-23 22:05:30</td>\n",
       "      <td>2020-01-23 22:18:12</td>\n",
       "      <td>None</td>\n",
       "      <td>2.55</td>\n",
       "      <td>1</td>\n",
       "      <td>N</td>\n",
       "      <td>NaN</td>\n",
       "      <td>1.0</td>\n",
       "      <td>11.0</td>\n",
       "      <td>0.5</td>\n",
       "      <td>0.5</td>\n",
       "      <td>2.96</td>\n",
       "      <td>0.0</td>\n",
       "      <td>0.300000</td>\n",
       "      <td>None</td>\n",
       "      <td>2.5</td>\n",
       "      <td>yellow</td>\n",
       "      <td>2020</td>\n",
       "      <td>1</td>\n",
       "      <td>23</td>\n",
       "      <td>23</td>\n",
       "      <td>5</td>\n",
       "      <td>4</td>\n",
       "      <td>22</td>\n",
       "      <td>2020</td>\n",
       "      <td>762</td>\n",
       "      <td>5.155308</td>\n",
       "      <td>24.355786</td>\n",
       "    </tr>\n",
       "    <tr>\n",
       "      <th>6</th>\n",
       "      <td>2</td>\n",
       "      <td>2020-02-29 01:46:32</td>\n",
       "      <td>2020-02-29 02:03:15</td>\n",
       "      <td>None</td>\n",
       "      <td>5.04</td>\n",
       "      <td>1</td>\n",
       "      <td>N</td>\n",
       "      <td>NaN</td>\n",
       "      <td>2.0</td>\n",
       "      <td>18.0</td>\n",
       "      <td>0.5</td>\n",
       "      <td>0.5</td>\n",
       "      <td>0.00</td>\n",
       "      <td>0.0</td>\n",
       "      <td>0.300000</td>\n",
       "      <td>None</td>\n",
       "      <td>2.5</td>\n",
       "      <td>yellow</td>\n",
       "      <td>2020</td>\n",
       "      <td>2</td>\n",
       "      <td>60</td>\n",
       "      <td>29</td>\n",
       "      <td>7</td>\n",
       "      <td>9</td>\n",
       "      <td>1</td>\n",
       "      <td>2020</td>\n",
       "      <td>1003</td>\n",
       "      <td>6.785793</td>\n",
       "      <td>24.355786</td>\n",
       "    </tr>\n",
       "    <tr>\n",
       "      <th>7</th>\n",
       "      <td>2</td>\n",
       "      <td>2019-07-22 09:01:21</td>\n",
       "      <td>2019-07-22 09:09:30</td>\n",
       "      <td>None</td>\n",
       "      <td>.87</td>\n",
       "      <td>1</td>\n",
       "      <td>N</td>\n",
       "      <td>NaN</td>\n",
       "      <td>1.0</td>\n",
       "      <td>7.0</td>\n",
       "      <td>0.0</td>\n",
       "      <td>0.5</td>\n",
       "      <td>2.06</td>\n",
       "      <td>0.0</td>\n",
       "      <td>0.300000</td>\n",
       "      <td>None</td>\n",
       "      <td>2.5</td>\n",
       "      <td>yellow</td>\n",
       "      <td>2019</td>\n",
       "      <td>7</td>\n",
       "      <td>203</td>\n",
       "      <td>22</td>\n",
       "      <td>2</td>\n",
       "      <td>30</td>\n",
       "      <td>9</td>\n",
       "      <td>2019</td>\n",
       "      <td>489</td>\n",
       "      <td>3.308328</td>\n",
       "      <td>24.355786</td>\n",
       "    </tr>\n",
       "    <tr>\n",
       "      <th>8</th>\n",
       "      <td>1</td>\n",
       "      <td>2019-10-27 11:36:14</td>\n",
       "      <td>2019-10-27 11:44:31</td>\n",
       "      <td>None</td>\n",
       "      <td>1.50</td>\n",
       "      <td>1</td>\n",
       "      <td>N</td>\n",
       "      <td>NaN</td>\n",
       "      <td>1.0</td>\n",
       "      <td>7.5</td>\n",
       "      <td>2.5</td>\n",
       "      <td>0.5</td>\n",
       "      <td>1.62</td>\n",
       "      <td>0.0</td>\n",
       "      <td>0.300000</td>\n",
       "      <td>None</td>\n",
       "      <td>2.5</td>\n",
       "      <td>yellow</td>\n",
       "      <td>2019</td>\n",
       "      <td>10</td>\n",
       "      <td>300</td>\n",
       "      <td>27</td>\n",
       "      <td>1</td>\n",
       "      <td>43</td>\n",
       "      <td>11</td>\n",
       "      <td>2019</td>\n",
       "      <td>497</td>\n",
       "      <td>3.362452</td>\n",
       "      <td>24.355786</td>\n",
       "    </tr>\n",
       "    <tr>\n",
       "      <th>9</th>\n",
       "      <td>1</td>\n",
       "      <td>2019-12-12 20:22:45</td>\n",
       "      <td>2019-12-12 20:29:27</td>\n",
       "      <td>None</td>\n",
       "      <td>1.80</td>\n",
       "      <td>1</td>\n",
       "      <td>N</td>\n",
       "      <td>NaN</td>\n",
       "      <td>1.0</td>\n",
       "      <td>7.5</td>\n",
       "      <td>3.0</td>\n",
       "      <td>0.5</td>\n",
       "      <td>1.13</td>\n",
       "      <td>0.0</td>\n",
       "      <td>0.300000</td>\n",
       "      <td>None</td>\n",
       "      <td>2.5</td>\n",
       "      <td>yellow</td>\n",
       "      <td>2019</td>\n",
       "      <td>12</td>\n",
       "      <td>346</td>\n",
       "      <td>12</td>\n",
       "      <td>5</td>\n",
       "      <td>50</td>\n",
       "      <td>20</td>\n",
       "      <td>2019</td>\n",
       "      <td>402</td>\n",
       "      <td>2.719729</td>\n",
       "      <td>24.355786</td>\n",
       "    </tr>\n",
       "  </tbody>\n",
       "</table>\n",
       "</div>"
      ],
      "text/plain": [
       "  VendorID     pickup_datetime    dropoff_datetime Store_and_fwd_flag  \\\n",
       "0        2 2019-05-20 17:58:02 2019-05-20 18:31:17                  N   \n",
       "1        2 2019-07-12 07:06:55 2019-07-12 07:10:15               None   \n",
       "2        2 2019-05-06 08:16:49 2019-05-06 08:29:24               None   \n",
       "3        2 2019-06-21 00:48:59 2019-06-21 01:04:28               None   \n",
       "4        1 2019-02-15 23:26:23 2019-02-15 23:32:49               None   \n",
       "5        2 2020-01-23 22:05:30 2020-01-23 22:18:12               None   \n",
       "6        2 2020-02-29 01:46:32 2020-02-29 02:03:15               None   \n",
       "7        2 2019-07-22 09:01:21 2019-07-22 09:09:30               None   \n",
       "8        1 2019-10-27 11:36:14 2019-10-27 11:44:31               None   \n",
       "9        1 2019-12-12 20:22:45 2019-12-12 20:29:27               None   \n",
       "\n",
       "  RatecodeID PULocationID DOLocationID  Passenger_count  Fare_amount  extra  \\\n",
       "0          1           40           80              1.0         23.0    1.0   \n",
       "1       1.40            1            N              NaN          1.0    6.0   \n",
       "2       1.91            1            N              NaN          1.0   10.0   \n",
       "3       3.60            1            N              NaN          1.0   14.5   \n",
       "4        .80            1            N              NaN          1.0    6.0   \n",
       "5       2.55            1            N              NaN          1.0   11.0   \n",
       "6       5.04            1            N              NaN          2.0   18.0   \n",
       "7        .87            1            N              NaN          1.0    7.0   \n",
       "8       1.50            1            N              NaN          1.0    7.5   \n",
       "9       1.80            1            N              NaN          1.0    7.5   \n",
       "\n",
       "   mta_tax  tip_amount  tolls_amount  improvement_surcharge  Total_amount  \\\n",
       "0      0.5         0.0          0.00                    0.3     24.799999   \n",
       "1      0.0         0.5          1.50                    0.0      0.300000   \n",
       "2      0.0         0.5          1.00                    0.0      0.300000   \n",
       "3      0.5         0.5          3.66                    0.0      0.300000   \n",
       "4      3.0         0.5          1.95                    0.0      0.300000   \n",
       "5      0.5         0.5          2.96                    0.0      0.300000   \n",
       "6      0.5         0.5          0.00                    0.0      0.300000   \n",
       "7      0.0         0.5          2.06                    0.0      0.300000   \n",
       "8      2.5         0.5          1.62                    0.0      0.300000   \n",
       "9      3.0         0.5          1.13                    0.0      0.300000   \n",
       "\n",
       "  Payment_type  congestion_surcharge  colour  pickup_year  pickup_month  \\\n",
       "0            2                   0.0   green         2019             5   \n",
       "1         None                   2.5  yellow         2019             7   \n",
       "2         None                   2.5  yellow         2019             5   \n",
       "3         None                   2.5  yellow         2019             6   \n",
       "4         None                   2.5  yellow         2019             2   \n",
       "5         None                   2.5  yellow         2020             1   \n",
       "6         None                   2.5  yellow         2020             2   \n",
       "7         None                   2.5  yellow         2019             7   \n",
       "8         None                   2.5  yellow         2019            10   \n",
       "9         None                   2.5  yellow         2019            12   \n",
       "\n",
       "   pickup_dayofyear  pickup_dayofmonth  pickup_dayofweek  pickup_weekofyear  \\\n",
       "0               140                 20                 2                 21   \n",
       "1               193                 12                 6                 28   \n",
       "2               126                  6                 2                 19   \n",
       "3               172                 21                 6                 25   \n",
       "4                46                 15                 6                  7   \n",
       "5                23                 23                 5                  4   \n",
       "6                60                 29                 7                  9   \n",
       "7               203                 22                 2                 30   \n",
       "8               300                 27                 1                 43   \n",
       "9               346                 12                 5                 50   \n",
       "\n",
       "   pickup_hourofday  dropoff_year  trip_duration  trip_distance_km      speed  \n",
       "0                17          2019           1995          8.915744  16.088560  \n",
       "1                 7          2019            200          1.353099  24.355786  \n",
       "2                 8          2019            755          5.107950  24.355786  \n",
       "3                 0          2019            929          6.285146  24.355786  \n",
       "4                23          2019            386          2.611482  24.355786  \n",
       "5                22          2020            762          5.155308  24.355786  \n",
       "6                 1          2020           1003          6.785793  24.355786  \n",
       "7                 9          2019            489          3.308328  24.355786  \n",
       "8                11          2019            497          3.362452  24.355786  \n",
       "9                20          2019            402          2.719729  24.355786  "
      ]
     },
     "execution_count": 102,
     "metadata": {},
     "output_type": "execute_result"
    }
   ],
   "source": [
    "df.limit(10).toPandas()"
   ]
  },
  {
   "cell_type": "markdown",
   "metadata": {},
   "source": [
    "# SQL file\n",
    "\n",
    "Create a file in the `reports_dir` to store all the sql queries used in the investigations."
   ]
  },
  {
   "cell_type": "code",
   "execution_count": 103,
   "metadata": {
    "execution": {
     "iopub.execute_input": "2021-04-24T04:30:57.086339Z",
     "iopub.status.busy": "2021-04-24T04:30:57.085313Z",
     "iopub.status.idle": "2021-04-24T04:30:57.134452Z",
     "shell.execute_reply": "2021-04-24T04:30:57.131965Z",
     "shell.execute_reply.started": "2021-04-24T04:30:57.086269Z"
    }
   },
   "outputs": [],
   "source": [
    "sql_path = reports_dir / 'task_4.sql'\n",
    "with open(sql_path, 'w+') as f:\n",
    "    f.write('-- MDSI BDE AT1 Task 4 SQL Queries\\n')"
   ]
  },
  {
   "cell_type": "markdown",
   "metadata": {},
   "source": [
    "# Tasks\n",
    "\n",
    "The following tasks require using SQL queries."
   ]
  },
  {
   "cell_type": "code",
   "execution_count": 104,
   "metadata": {
    "execution": {
     "iopub.execute_input": "2021-04-24T04:30:57.138134Z",
     "iopub.status.busy": "2021-04-24T04:30:57.137362Z",
     "iopub.status.idle": "2021-04-24T04:30:57.175734Z",
     "shell.execute_reply": "2021-04-24T04:30:57.174808Z",
     "shell.execute_reply.started": "2021-04-24T04:30:57.138055Z"
    }
   },
   "outputs": [],
   "source": [
    "# This registers the table \"df\" so that it can be referenced in SQL queries.\n",
    "df.createOrReplaceTempView('df')"
   ]
  },
  {
   "cell_type": "markdown",
   "metadata": {},
   "source": [
    "## a. For each month year and month"
   ]
  },
  {
   "cell_type": "markdown",
   "metadata": {},
   "source": [
    "### i. What was the total number of trips?"
   ]
  },
  {
   "cell_type": "code",
   "execution_count": 105,
   "metadata": {
    "execution": {
     "iopub.execute_input": "2021-04-24T04:30:57.178723Z",
     "iopub.status.busy": "2021-04-24T04:30:57.177927Z",
     "iopub.status.idle": "2021-04-24T04:30:57.221531Z",
     "shell.execute_reply": "2021-04-24T04:30:57.220248Z",
     "shell.execute_reply.started": "2021-04-24T04:30:57.178689Z"
    }
   },
   "outputs": [],
   "source": [
    "comment = 'a.i. What was the total number of trips?'"
   ]
  },
  {
   "cell_type": "code",
   "execution_count": 106,
   "metadata": {
    "execution": {
     "iopub.execute_input": "2021-04-24T04:30:57.223200Z",
     "iopub.status.busy": "2021-04-24T04:30:57.222916Z",
     "iopub.status.idle": "2021-04-24T04:30:59.752309Z",
     "shell.execute_reply": "2021-04-24T04:30:59.751250Z",
     "shell.execute_reply.started": "2021-04-24T04:30:57.223169Z"
    }
   },
   "outputs": [
    {
     "name": "stdout",
     "output_type": "stream",
     "text": [
      "+-----------+------------+-------+\n",
      "|pickup_year|pickup_month|n_trips|\n",
      "+-----------+------------+-------+\n",
      "|       2019|           1|8210354|\n",
      "|       2019|           2|7515946|\n",
      "|       2019|           3|8348950|\n",
      "|       2019|           4|7869061|\n",
      "|       2019|           5|7985822|\n",
      "|       2019|           6|7327653|\n",
      "|       2019|           7|6701176|\n",
      "|       2019|           8|6443544|\n",
      "|       2019|           9|6934948|\n",
      "|       2019|          10|7606108|\n",
      "|       2019|          11|7246815|\n",
      "|       2019|          12|7265200|\n",
      "|       2020|           1|6776129|\n",
      "|       2020|           2|6626305|\n",
      "|       2020|           3|3194072|\n",
      "|       2020|           4| 268174|\n",
      "|       2020|           5| 398037|\n",
      "|       2020|           6| 603136|\n",
      "|       2020|           7| 859777|\n",
      "|       2020|           8|1073624|\n",
      "|       2020|           9|1407156|\n",
      "|       2020|          10|1751017|\n",
      "|       2020|          11|1575114|\n",
      "|       2020|          12|1522612|\n",
      "+-----------+------------+-------+\n",
      "\n"
     ]
    }
   ],
   "source": [
    "query = \"\"\"\n",
    "SELECT \n",
    "  pickup_year\n",
    ", pickup_month\n",
    ", COUNT(*) AS n_trips\n",
    "FROM df\n",
    "GROUP BY 1, 2\n",
    "ORDER BY 1, 2\n",
    "\"\"\"\n",
    "\n",
    "spark.sql(query).show(50)"
   ]
  },
  {
   "cell_type": "code",
   "execution_count": 107,
   "metadata": {
    "execution": {
     "iopub.execute_input": "2021-04-24T04:30:59.753616Z",
     "iopub.status.busy": "2021-04-24T04:30:59.753394Z",
     "iopub.status.idle": "2021-04-24T04:30:59.773373Z",
     "shell.execute_reply": "2021-04-24T04:30:59.772402Z",
     "shell.execute_reply.started": "2021-04-24T04:30:59.753590Z"
    }
   },
   "outputs": [],
   "source": [
    "write_sql_to_file(comment, query, sql_path)"
   ]
  },
  {
   "cell_type": "markdown",
   "metadata": {},
   "source": [
    "### ii. Which weekday had the most trips?"
   ]
  },
  {
   "cell_type": "code",
   "execution_count": 108,
   "metadata": {
    "execution": {
     "iopub.execute_input": "2021-04-24T04:30:59.775016Z",
     "iopub.status.busy": "2021-04-24T04:30:59.774733Z",
     "iopub.status.idle": "2021-04-24T04:30:59.794441Z",
     "shell.execute_reply": "2021-04-24T04:30:59.793392Z",
     "shell.execute_reply.started": "2021-04-24T04:30:59.774982Z"
    }
   },
   "outputs": [],
   "source": [
    "comment = 'a.ii. Which weekday had the most trips?'"
   ]
  },
  {
   "cell_type": "code",
   "execution_count": 109,
   "metadata": {
    "execution": {
     "iopub.execute_input": "2021-04-24T04:30:59.796090Z",
     "iopub.status.busy": "2021-04-24T04:30:59.795843Z",
     "iopub.status.idle": "2021-04-24T04:31:03.097115Z",
     "shell.execute_reply": "2021-04-24T04:31:03.096114Z",
     "shell.execute_reply.started": "2021-04-24T04:30:59.796065Z"
    }
   },
   "outputs": [
    {
     "name": "stdout",
     "output_type": "stream",
     "text": [
      "+-----------+------------+----------------+------------+\n",
      "|pickup_year|pickup_month|pickup_dayofweek|max(n_trips)|\n",
      "+-----------+------------+----------------+------------+\n",
      "|       2019|           1|               5|     1446731|\n",
      "|       2019|           2|               6|     1187928|\n",
      "|       2019|           3|               6|     1471918|\n",
      "|       2019|           4|               3|     1331567|\n",
      "|       2019|           5|               5|     1398005|\n",
      "|       2019|           6|               7|     1202971|\n",
      "|       2019|           7|               4|     1186217|\n",
      "|       2019|           8|               5|     1162471|\n",
      "|       2019|           9|               5|     1044398|\n",
      "|       2019|          10|               5|     1326859|\n",
      "|       2019|          11|               6|     1283342|\n",
      "|       2019|          12|               3|     1148349|\n",
      "|       2020|           1|               6|     1193138|\n",
      "|       2020|           2|               7|     1127510|\n",
      "|       2020|           3|               3|      503679|\n",
      "|       2020|           4|               5|       49936|\n",
      "|       2020|           5|               6|       78139|\n",
      "|       2020|           6|               3|      111627|\n",
      "|       2020|           7|               5|      160483|\n",
      "|       2020|           8|               2|      179933|\n",
      "|       2020|           9|               4|      264368|\n",
      "|       2020|          10|               5|      323689|\n",
      "|       2020|          11|               2|      271112|\n",
      "|       2020|          12|               3|      286966|\n",
      "+-----------+------------+----------------+------------+\n",
      "\n"
     ]
    }
   ],
   "source": [
    "var = 'pickup_dayofweek'\n",
    "\n",
    "query = f\"\"\"\n",
    "SELECT \n",
    "  pickup_year\n",
    ", pickup_month\n",
    ", FIRST({var}) AS {var}\n",
    ", MAX(n_trips)\n",
    "\n",
    "FROM (\n",
    "    SELECT \n",
    "      pickup_year\n",
    "    , pickup_month\n",
    "    , {var}\n",
    "    , COUNT(*) AS n_trips\n",
    "    FROM df\n",
    "    GROUP BY 1, 2, 3\n",
    "    ORDER BY 1, 2, 4 DESC\n",
    "    ) temp\n",
    "\n",
    "GROUP BY 1, 2\n",
    "ORDER BY 1, 2\n",
    "\"\"\"\n",
    "\n",
    "spark.sql(query).show(2 * 12)"
   ]
  },
  {
   "cell_type": "code",
   "execution_count": 110,
   "metadata": {
    "execution": {
     "iopub.execute_input": "2021-04-24T04:31:03.098661Z",
     "iopub.status.busy": "2021-04-24T04:31:03.098433Z",
     "iopub.status.idle": "2021-04-24T04:31:03.120395Z",
     "shell.execute_reply": "2021-04-24T04:31:03.119389Z",
     "shell.execute_reply.started": "2021-04-24T04:31:03.098635Z"
    }
   },
   "outputs": [],
   "source": [
    "write_sql_to_file(comment, query, sql_path)"
   ]
  },
  {
   "cell_type": "markdown",
   "metadata": {},
   "source": [
    "### iii. Which hour of the day had the most trips?"
   ]
  },
  {
   "cell_type": "code",
   "execution_count": 111,
   "metadata": {
    "execution": {
     "iopub.execute_input": "2021-04-24T04:31:03.121768Z",
     "iopub.status.busy": "2021-04-24T04:31:03.121560Z",
     "iopub.status.idle": "2021-04-24T04:31:03.141997Z",
     "shell.execute_reply": "2021-04-24T04:31:03.141001Z",
     "shell.execute_reply.started": "2021-04-24T04:31:03.121744Z"
    }
   },
   "outputs": [],
   "source": [
    "comment = 'a.iii. Which hour of the day had the most trips?'"
   ]
  },
  {
   "cell_type": "code",
   "execution_count": 112,
   "metadata": {
    "execution": {
     "iopub.execute_input": "2021-04-24T04:31:03.143405Z",
     "iopub.status.busy": "2021-04-24T04:31:03.143172Z",
     "iopub.status.idle": "2021-04-24T04:31:06.716374Z",
     "shell.execute_reply": "2021-04-24T04:31:06.715384Z",
     "shell.execute_reply.started": "2021-04-24T04:31:03.143381Z"
    }
   },
   "outputs": [
    {
     "name": "stdout",
     "output_type": "stream",
     "text": [
      "+-----------+------------+----------------+------------+\n",
      "|pickup_year|pickup_month|pickup_hourofday|max(n_trips)|\n",
      "+-----------+------------+----------------+------------+\n",
      "|       2019|           1|              18|      553055|\n",
      "|       2019|           2|              18|      508192|\n",
      "|       2019|           3|              18|      554505|\n",
      "|       2019|           4|              18|      531193|\n",
      "|       2019|           5|              18|      528350|\n",
      "|       2019|           6|              18|      462616|\n",
      "|       2019|           7|              18|      439385|\n",
      "|       2019|           8|              18|      421839|\n",
      "|       2019|           9|              18|      458833|\n",
      "|       2019|          10|              18|      508398|\n",
      "|       2019|          11|              18|      476668|\n",
      "|       2019|          12|              18|      461589|\n",
      "|       2020|           1|              18|      462257|\n",
      "|       2020|           2|              18|      462052|\n",
      "|       2020|           3|              18|      220811|\n",
      "|       2020|           4|              15|       19179|\n",
      "|       2020|           5|              15|       28817|\n",
      "|       2020|           6|              15|       44372|\n",
      "|       2020|           7|              15|       63097|\n",
      "|       2020|           8|              15|       78813|\n",
      "|       2020|           9|              15|      105338|\n",
      "|       2020|          10|              15|      130600|\n",
      "|       2020|          11|              14|      124721|\n",
      "|       2020|          12|              15|      128316|\n",
      "+-----------+------------+----------------+------------+\n",
      "\n"
     ]
    }
   ],
   "source": [
    "var = 'pickup_hourofday'\n",
    "\n",
    "query = f\"\"\"\n",
    "SELECT \n",
    "  pickup_year\n",
    ", pickup_month\n",
    ", FIRST({var}) AS {var}\n",
    ", MAX(n_trips)\n",
    "\n",
    "FROM (\n",
    "    SELECT \n",
    "      pickup_year\n",
    "    , pickup_month\n",
    "    , {var}\n",
    "    , COUNT(*) AS n_trips\n",
    "    FROM df\n",
    "    GROUP BY 1, 2, 3\n",
    "    ORDER BY 1, 2, 4 DESC\n",
    "    ) temp\n",
    "\n",
    "GROUP BY 1, 2\n",
    "ORDER BY 1, 2\n",
    "\"\"\"\n",
    "\n",
    "spark.sql(query).show(2 * 12)"
   ]
  },
  {
   "cell_type": "code",
   "execution_count": 113,
   "metadata": {
    "execution": {
     "iopub.execute_input": "2021-04-24T04:31:06.718127Z",
     "iopub.status.busy": "2021-04-24T04:31:06.717821Z",
     "iopub.status.idle": "2021-04-24T04:31:06.737820Z",
     "shell.execute_reply": "2021-04-24T04:31:06.736807Z",
     "shell.execute_reply.started": "2021-04-24T04:31:06.718093Z"
    }
   },
   "outputs": [],
   "source": [
    "write_sql_to_file(comment, query, sql_path)"
   ]
  },
  {
   "cell_type": "markdown",
   "metadata": {},
   "source": [
    "### iv. What was the average number of passengers?"
   ]
  },
  {
   "cell_type": "code",
   "execution_count": 114,
   "metadata": {
    "execution": {
     "iopub.execute_input": "2021-04-24T04:31:06.739334Z",
     "iopub.status.busy": "2021-04-24T04:31:06.739123Z",
     "iopub.status.idle": "2021-04-24T04:31:06.760299Z",
     "shell.execute_reply": "2021-04-24T04:31:06.759256Z",
     "shell.execute_reply.started": "2021-04-24T04:31:06.739310Z"
    }
   },
   "outputs": [],
   "source": [
    "comment = 'a.iv. What was the average number of passengers?'"
   ]
  },
  {
   "cell_type": "code",
   "execution_count": 115,
   "metadata": {
    "execution": {
     "iopub.execute_input": "2021-04-24T04:31:06.764647Z",
     "iopub.status.busy": "2021-04-24T04:31:06.764404Z",
     "iopub.status.idle": "2021-04-24T04:31:09.450858Z",
     "shell.execute_reply": "2021-04-24T04:31:09.449783Z",
     "shell.execute_reply.started": "2021-04-24T04:31:06.764622Z"
    }
   },
   "outputs": [
    {
     "name": "stdout",
     "output_type": "stream",
     "text": [
      "+-----------+------------+--------------------+\n",
      "|pickup_year|pickup_month|mean_Passenger_count|\n",
      "+-----------+------------+--------------------+\n",
      "|       2019|           1|  1.3079210440688014|\n",
      "|       2019|           2|  1.3040477003863506|\n",
      "|       2019|           3|  1.3050554377379924|\n",
      "|       2019|           4|   1.306148339449957|\n",
      "|       2019|           5|  1.3034665193936192|\n",
      "|       2019|           6|  1.3100697606488083|\n",
      "|       2019|           7|   1.295917817273279|\n",
      "|       2019|           8|  1.2942384681445314|\n",
      "|       2019|           9|  1.3195596002781036|\n",
      "|       2019|          10|   1.315669542410045|\n",
      "|       2019|          11|  1.3260138702112763|\n",
      "|       2019|          12|  1.3321549347648969|\n",
      "|       2020|           1|   1.322345475683007|\n",
      "|       2020|           2|  1.3345820089803744|\n",
      "|       2020|           3|   1.309581027214591|\n",
      "|       2020|           4|  1.1434426229508197|\n",
      "|       2020|           5|  1.1617226471566344|\n",
      "|       2020|           6|  1.1887505437146586|\n",
      "|       2020|           7|  1.2056874322207496|\n",
      "|       2020|           8|  1.2416548295454546|\n",
      "|       2020|           9|  1.2772493273732601|\n",
      "|       2020|          10|   1.299371633752244|\n",
      "|       2020|          11|  1.2755920550038198|\n",
      "|       2020|          12|  1.2746162195689255|\n",
      "+-----------+------------+--------------------+\n",
      "\n"
     ]
    }
   ],
   "source": [
    "var = 'Passenger_count'\n",
    "\n",
    "query = f\"\"\"\n",
    "SELECT \n",
    "  pickup_year\n",
    ", pickup_month\n",
    ", AVG({var}) AS mean_{var}\n",
    "FROM df\n",
    "GROUP BY 1, 2\n",
    "ORDER BY 1, 2\n",
    "\"\"\"\n",
    "\n",
    "spark.sql(query).show(2 * 12)"
   ]
  },
  {
   "cell_type": "code",
   "execution_count": 116,
   "metadata": {
    "execution": {
     "iopub.execute_input": "2021-04-24T04:31:09.452977Z",
     "iopub.status.busy": "2021-04-24T04:31:09.452749Z",
     "iopub.status.idle": "2021-04-24T04:31:09.472565Z",
     "shell.execute_reply": "2021-04-24T04:31:09.471607Z",
     "shell.execute_reply.started": "2021-04-24T04:31:09.452952Z"
    }
   },
   "outputs": [],
   "source": [
    "write_sql_to_file(comment, query, sql_path)"
   ]
  },
  {
   "cell_type": "code",
   "execution_count": 117,
   "metadata": {
    "execution": {
     "iopub.execute_input": "2021-04-24T04:31:09.473831Z",
     "iopub.status.busy": "2021-04-24T04:31:09.473611Z",
     "iopub.status.idle": "2021-04-24T04:31:11.522120Z",
     "shell.execute_reply": "2021-04-24T04:31:11.520991Z",
     "shell.execute_reply.started": "2021-04-24T04:31:09.473807Z"
    }
   },
   "outputs": [
    {
     "name": "stdout",
     "output_type": "stream",
     "text": [
      "+-------+------------------+\n",
      "|summary|   Passenger_count|\n",
      "+-------+------------------+\n",
      "|  count|           6752718|\n",
      "|   mean|1.3071554298580217|\n",
      "| stddev|0.8770972573832002|\n",
      "|    min|                 1|\n",
      "|    max|                 5|\n",
      "+-------+------------------+\n",
      "\n"
     ]
    }
   ],
   "source": [
    "df.select('Passenger_count').describe().show()"
   ]
  },
  {
   "cell_type": "code",
   "execution_count": 118,
   "metadata": {
    "execution": {
     "iopub.execute_input": "2021-04-24T04:31:11.523795Z",
     "iopub.status.busy": "2021-04-24T04:31:11.523515Z",
     "iopub.status.idle": "2021-04-24T04:31:13.910609Z",
     "shell.execute_reply": "2021-04-24T04:31:13.909626Z",
     "shell.execute_reply.started": "2021-04-24T04:31:11.523771Z"
    }
   },
   "outputs": [
    {
     "name": "stdout",
     "output_type": "stream",
     "text": [
      "+---------------+---------+\n",
      "|Passenger_count|    count|\n",
      "+---------------+---------+\n",
      "|           null|108758012|\n",
      "|              1|  5770149|\n",
      "|              2|   485748|\n",
      "|              3|    94673|\n",
      "|              4|   209552|\n",
      "|              5|   192596|\n",
      "+---------------+---------+\n",
      "\n"
     ]
    }
   ],
   "source": [
    "#\n",
    "df.groupby('Passenger_count').count().sort(F.col('Passenger_count')).show()"
   ]
  },
  {
   "cell_type": "markdown",
   "metadata": {},
   "source": [
    "### v. What was the average amount paid per trip (total_amount)?"
   ]
  },
  {
   "cell_type": "code",
   "execution_count": 119,
   "metadata": {
    "execution": {
     "iopub.execute_input": "2021-04-24T04:31:13.912005Z",
     "iopub.status.busy": "2021-04-24T04:31:13.911801Z",
     "iopub.status.idle": "2021-04-24T04:31:13.929795Z",
     "shell.execute_reply": "2021-04-24T04:31:13.928805Z",
     "shell.execute_reply.started": "2021-04-24T04:31:13.911981Z"
    }
   },
   "outputs": [],
   "source": [
    "commend = 'a.v. What was the average amount paid per trip (total_amount)?'"
   ]
  },
  {
   "cell_type": "code",
   "execution_count": 120,
   "metadata": {
    "execution": {
     "iopub.execute_input": "2021-04-24T04:31:13.931184Z",
     "iopub.status.busy": "2021-04-24T04:31:13.930950Z",
     "iopub.status.idle": "2021-04-24T04:31:16.029886Z",
     "shell.execute_reply": "2021-04-24T04:31:16.028936Z",
     "shell.execute_reply.started": "2021-04-24T04:31:13.931154Z"
    }
   },
   "outputs": [
    {
     "name": "stdout",
     "output_type": "stream",
     "text": [
      "+-------+------------------+\n",
      "|summary|      Total_amount|\n",
      "+-------+------------------+\n",
      "|  count|         115510730|\n",
      "|   mean|1.4713562514553544|\n",
      "| stddev| 5.751008121661385|\n",
      "|    min|               0.0|\n",
      "|    max|            4012.3|\n",
      "+-------+------------------+\n",
      "\n"
     ]
    }
   ],
   "source": [
    "df.select('Total_amount').describe().show()"
   ]
  },
  {
   "cell_type": "code",
   "execution_count": 121,
   "metadata": {
    "execution": {
     "iopub.execute_input": "2021-04-24T04:31:16.031269Z",
     "iopub.status.busy": "2021-04-24T04:31:16.031067Z",
     "iopub.status.idle": "2021-04-24T04:31:18.722331Z",
     "shell.execute_reply": "2021-04-24T04:31:18.721343Z",
     "shell.execute_reply.started": "2021-04-24T04:31:16.031244Z"
    }
   },
   "outputs": [
    {
     "name": "stdout",
     "output_type": "stream",
     "text": [
      "+-----------+------------+------------------+\n",
      "|pickup_year|pickup_month| mean_Total_amount|\n",
      "+-----------+------------+------------------+\n",
      "|       2019|           1|1.5017026748905267|\n",
      "|       2019|           2|1.5506898292641265|\n",
      "|       2019|           3|1.4699229495408608|\n",
      "|       2019|           4|1.2943942740185483|\n",
      "|       2019|           5|1.2854630235164666|\n",
      "|       2019|           6|1.3041023026697547|\n",
      "|       2019|           7|1.4835741251733086|\n",
      "|       2019|           8|1.5280360287694674|\n",
      "|       2019|           9|1.4679342299132532|\n",
      "|       2019|          10|1.4565563429228852|\n",
      "|       2019|          11|1.4320420873808115|\n",
      "|       2019|          12|1.4290651260134435|\n",
      "|       2020|           1|1.5168927096041134|\n",
      "|       2020|           2|1.3844046444225515|\n",
      "|       2020|           3|1.4343413394770392|\n",
      "|       2020|           4| 2.837826455427217|\n",
      "|       2020|           5| 3.294334151852783|\n",
      "|       2020|           6|2.6476867651919274|\n",
      "|       2020|           7| 2.287279757259728|\n",
      "|       2020|           8|2.1228402588275057|\n",
      "|       2020|           9|1.7372266356220396|\n",
      "|       2020|          10|1.5246451502056295|\n",
      "|       2020|          11|1.5755957252509452|\n",
      "|       2020|          12| 1.538494458200756|\n",
      "+-----------+------------+------------------+\n",
      "\n"
     ]
    }
   ],
   "source": [
    "var = 'Total_amount'\n",
    "\n",
    "query = f\"\"\"\n",
    "SELECT \n",
    "  pickup_year\n",
    ", pickup_month\n",
    ", AVG({var}) AS mean_{var}\n",
    "FROM df\n",
    "GROUP BY 1, 2\n",
    "ORDER BY 1, 2\n",
    "\"\"\"\n",
    "\n",
    "spark.sql(query).show(2 * 12)"
   ]
  },
  {
   "cell_type": "code",
   "execution_count": 122,
   "metadata": {
    "execution": {
     "iopub.execute_input": "2021-04-24T04:31:18.723809Z",
     "iopub.status.busy": "2021-04-24T04:31:18.723582Z",
     "iopub.status.idle": "2021-04-24T04:31:18.743228Z",
     "shell.execute_reply": "2021-04-24T04:31:18.742172Z",
     "shell.execute_reply.started": "2021-04-24T04:31:18.723783Z"
    }
   },
   "outputs": [],
   "source": [
    "write_sql_to_file(comment, query, sql_path)"
   ]
  },
  {
   "cell_type": "markdown",
   "metadata": {},
   "source": [
    "### vi. What was the average amount paid per passenger (total_amount)?"
   ]
  },
  {
   "cell_type": "code",
   "execution_count": 123,
   "metadata": {
    "execution": {
     "iopub.execute_input": "2021-04-24T04:31:18.744656Z",
     "iopub.status.busy": "2021-04-24T04:31:18.744439Z",
     "iopub.status.idle": "2021-04-24T04:31:18.763542Z",
     "shell.execute_reply": "2021-04-24T04:31:18.762596Z",
     "shell.execute_reply.started": "2021-04-24T04:31:18.744630Z"
    }
   },
   "outputs": [],
   "source": [
    "comment = 'a.vi. What was the average amount paid per passenger (total_amount)?'"
   ]
  },
  {
   "cell_type": "code",
   "execution_count": 124,
   "metadata": {
    "execution": {
     "iopub.execute_input": "2021-04-24T04:31:18.765093Z",
     "iopub.status.busy": "2021-04-24T04:31:18.764884Z",
     "iopub.status.idle": "2021-04-24T04:31:21.705315Z",
     "shell.execute_reply": "2021-04-24T04:31:21.704381Z",
     "shell.execute_reply.started": "2021-04-24T04:31:18.765069Z"
    }
   },
   "outputs": [
    {
     "name": "stdout",
     "output_type": "stream",
     "text": [
      "+-----------+------------+----------------------------+\n",
      "|pickup_year|pickup_month|average_amount_per_passenger|\n",
      "+-----------+------------+----------------------------+\n",
      "|       2019|           1|         0.06585500663726629|\n",
      "|       2019|           2|         0.06353893514505982|\n",
      "|       2019|           3|          0.0632818757750124|\n",
      "|       2019|           4|         0.06509578287140212|\n",
      "|       2019|           5|         0.06345636738095163|\n",
      "|       2019|           6|         0.06382978400249055|\n",
      "|       2019|           7|         0.05561578831016162|\n",
      "|       2019|           8|        0.051582133084832955|\n",
      "|       2019|           9|        0.049965189004116416|\n",
      "|       2019|          10|         0.04554937564792602|\n",
      "|       2019|          11|         0.04598716217568497|\n",
      "|       2019|          12|        0.045985222953065875|\n",
      "|       2020|           1|        0.042493473967264314|\n",
      "|       2020|           2|          0.0461377424684784|\n",
      "|       2020|           3|        0.049839027975779805|\n",
      "|       2020|           4|         0.03556095656087435|\n",
      "|       2020|           5|        0.026640648412761595|\n",
      "|       2020|           6|         0.02738216773706576|\n",
      "|       2020|           7|         0.02544048540390483|\n",
      "|       2020|           8|        0.024546184188712242|\n",
      "|       2020|           9|        0.024663037177376588|\n",
      "|       2020|          10|         0.02494119540569809|\n",
      "|       2020|          11|         0.02422128430744731|\n",
      "|       2020|          12|        0.024563184656935657|\n",
      "+-----------+------------+----------------------------+\n",
      "\n"
     ]
    }
   ],
   "source": [
    "var1 = 'Passenger_count'\n",
    "var2 = 'Total_amount'\n",
    "\n",
    "query = f\"\"\"\n",
    "SELECT \n",
    "  pickup_year\n",
    ", pickup_month\n",
    ", SUM({var1}) / SUM({var2}) AS average_amount_per_passenger\n",
    "FROM df\n",
    "GROUP BY 1, 2\n",
    "ORDER BY 1, 2\n",
    "\"\"\"\n",
    "\n",
    "spark.sql(query).show(2 * 12)"
   ]
  },
  {
   "cell_type": "code",
   "execution_count": 125,
   "metadata": {
    "execution": {
     "iopub.execute_input": "2021-04-24T04:31:21.706844Z",
     "iopub.status.busy": "2021-04-24T04:31:21.706631Z",
     "iopub.status.idle": "2021-04-24T04:31:21.726267Z",
     "shell.execute_reply": "2021-04-24T04:31:21.725258Z",
     "shell.execute_reply.started": "2021-04-24T04:31:21.706819Z"
    }
   },
   "outputs": [],
   "source": [
    "write_sql_to_file(comment, query, sql_path)"
   ]
  },
  {
   "cell_type": "markdown",
   "metadata": {},
   "source": [
    "## b. For each taxi colour (yellow or green)"
   ]
  },
  {
   "cell_type": "markdown",
   "metadata": {},
   "source": [
    "### i. What was the average, median, minimum and maximum trip duration in seconds?\n"
   ]
  },
  {
   "cell_type": "code",
   "execution_count": 126,
   "metadata": {
    "execution": {
     "iopub.execute_input": "2021-04-24T04:31:21.728034Z",
     "iopub.status.busy": "2021-04-24T04:31:21.727717Z",
     "iopub.status.idle": "2021-04-24T04:31:21.747660Z",
     "shell.execute_reply": "2021-04-24T04:31:21.746652Z",
     "shell.execute_reply.started": "2021-04-24T04:31:21.727994Z"
    }
   },
   "outputs": [],
   "source": [
    "comment = 'b.i. What was the average, median, minimum and maximum trip duration in seconds?'"
   ]
  },
  {
   "cell_type": "code",
   "execution_count": 127,
   "metadata": {
    "execution": {
     "iopub.execute_input": "2021-04-24T04:31:21.749143Z",
     "iopub.status.busy": "2021-04-24T04:31:21.748844Z",
     "iopub.status.idle": "2021-04-24T04:31:28.736590Z",
     "shell.execute_reply": "2021-04-24T04:31:28.735329Z",
     "shell.execute_reply.started": "2021-04-24T04:31:21.749118Z"
    }
   },
   "outputs": [
    {
     "name": "stdout",
     "output_type": "stream",
     "text": [
      "+------+---------------------+--------------------+---------------------+---------------------+\n",
      "|colour|average_trip_duration|median_trip_duration|mininum_trip_duration|maximum_trip_duration|\n",
      "+------+---------------------+--------------------+---------------------+---------------------+\n",
      "| green|    1312.577714441537|               727.0|                   61|               589227|\n",
      "|yellow|   1059.8674022814157|               669.0|                   61|              2618881|\n",
      "+------+---------------------+--------------------+---------------------+---------------------+\n",
      "\n"
     ]
    }
   ],
   "source": [
    "var1 = 'colour'\n",
    "var2 = 'trip_duration'\n",
    "\n",
    "query = f\"\"\"\n",
    "SELECT \n",
    "  {var1}\n",
    ", AVG({var2}) AS average_trip_duration\n",
    ", PERCENTILE({var2}, 0.5) AS median_trip_duration\n",
    ", MIN({var2}) AS mininum_trip_duration\n",
    ", MAX({var2}) AS maximum_trip_duration\n",
    "FROM df\n",
    "GROUP BY 1\n",
    "\"\"\"\n",
    "\n",
    "spark.sql(query).show(2 * 12)"
   ]
  },
  {
   "cell_type": "code",
   "execution_count": 128,
   "metadata": {
    "execution": {
     "iopub.execute_input": "2021-04-24T04:31:28.738032Z",
     "iopub.status.busy": "2021-04-24T04:31:28.737730Z",
     "iopub.status.idle": "2021-04-24T04:31:28.761681Z",
     "shell.execute_reply": "2021-04-24T04:31:28.760511Z",
     "shell.execute_reply.started": "2021-04-24T04:31:28.738007Z"
    }
   },
   "outputs": [],
   "source": [
    "write_sql_to_file(comment, query, sql_path)"
   ]
  },
  {
   "cell_type": "markdown",
   "metadata": {},
   "source": [
    "### ii. What was the average, median, minimum and maximum trip distance in km?"
   ]
  },
  {
   "cell_type": "code",
   "execution_count": 129,
   "metadata": {
    "execution": {
     "iopub.execute_input": "2021-04-24T04:31:28.763331Z",
     "iopub.status.busy": "2021-04-24T04:31:28.763075Z",
     "iopub.status.idle": "2021-04-24T04:31:28.782900Z",
     "shell.execute_reply": "2021-04-24T04:31:28.781620Z",
     "shell.execute_reply.started": "2021-04-24T04:31:28.763302Z"
    }
   },
   "outputs": [],
   "source": [
    "comment = 'b.ii. What was the average, median, minimum and maximum trip distance in km?'"
   ]
  },
  {
   "cell_type": "code",
   "execution_count": 130,
   "metadata": {
    "execution": {
     "iopub.execute_input": "2021-04-24T04:31:28.784668Z",
     "iopub.status.busy": "2021-04-24T04:31:28.784397Z",
     "iopub.status.idle": "2021-04-24T04:31:35.956858Z",
     "shell.execute_reply": "2021-04-24T04:31:35.955604Z",
     "shell.execute_reply.started": "2021-04-24T04:31:28.784642Z"
    }
   },
   "outputs": [
    {
     "name": "stdout",
     "output_type": "stream",
     "text": [
      "+------+------------------------+-----------------------+------------------------+------------------------+\n",
      "|colour|average_trip_distance_km|median_trip_distance_km|mininum_trip_distance_km|maximum_trip_distance_km|\n",
      "+------+------------------------+-----------------------+------------------------+------------------------+\n",
      "| green|       5.696300922784143|     3.3152403079128265|                     0.0|       830.2424361743164|\n",
      "|yellow|       6.585289523121792|       4.53288246589814|     0.41269526928326355|       426.4751000000001|\n",
      "+------+------------------------+-----------------------+------------------------+------------------------+\n",
      "\n"
     ]
    }
   ],
   "source": [
    "var1 = 'colour'\n",
    "var2 = 'trip_distance_km'\n",
    "\n",
    "query = f\"\"\"\n",
    "SELECT \n",
    "  {var1}\n",
    ", AVG({var2}) AS average_trip_distance_km\n",
    ", PERCENTILE({var2}, 0.5) AS median_trip_distance_km\n",
    ", MIN({var2}) AS mininum_trip_distance_km\n",
    ", MAX({var2}) AS maximum_trip_distance_km\n",
    "FROM df\n",
    "GROUP BY 1\n",
    "\"\"\"\n",
    "\n",
    "spark.sql(query).show(2 * 12)"
   ]
  },
  {
   "cell_type": "code",
   "execution_count": 131,
   "metadata": {
    "execution": {
     "iopub.execute_input": "2021-04-24T04:31:35.958662Z",
     "iopub.status.busy": "2021-04-24T04:31:35.958298Z",
     "iopub.status.idle": "2021-04-24T04:31:35.984714Z",
     "shell.execute_reply": "2021-04-24T04:31:35.983658Z",
     "shell.execute_reply.started": "2021-04-24T04:31:35.958626Z"
    }
   },
   "outputs": [],
   "source": [
    "write_sql_to_file(comment, query, sql_path)"
   ]
  },
  {
   "cell_type": "markdown",
   "metadata": {},
   "source": [
    "### iii. What was the average, median, minimum and maximum speed in km per hour?"
   ]
  },
  {
   "cell_type": "code",
   "execution_count": 132,
   "metadata": {
    "execution": {
     "iopub.execute_input": "2021-04-24T04:31:35.986385Z",
     "iopub.status.busy": "2021-04-24T04:31:35.986096Z",
     "iopub.status.idle": "2021-04-24T04:31:36.006453Z",
     "shell.execute_reply": "2021-04-24T04:31:36.005477Z",
     "shell.execute_reply.started": "2021-04-24T04:31:35.986359Z"
    }
   },
   "outputs": [],
   "source": [
    "comment = 'b.iii. What was the average, median, minimum and maximum speed in km per hour?'"
   ]
  },
  {
   "cell_type": "code",
   "execution_count": 133,
   "metadata": {
    "execution": {
     "iopub.execute_input": "2021-04-24T04:31:36.008090Z",
     "iopub.status.busy": "2021-04-24T04:31:36.007841Z",
     "iopub.status.idle": "2021-04-24T04:31:47.372793Z",
     "shell.execute_reply": "2021-04-24T04:31:47.371663Z",
     "shell.execute_reply.started": "2021-04-24T04:31:36.008065Z"
    }
   },
   "outputs": [
    {
     "name": "stdout",
     "output_type": "stream",
     "text": [
      "+------+-----------------+------------------+-------------------+-----------------+\n",
      "|colour|    average_speed|      median_speed|      mininum_speed|    maximum_speed|\n",
      "+------+-----------------+------------------+-------------------+-----------------+\n",
      "| green|19.65947684205493| 17.54407296788189|                0.0|79.99402750674095|\n",
      "|yellow|24.68783249710792|24.355786383930308|0.06706126653779819|79.99982927977405|\n",
      "+------+-----------------+------------------+-------------------+-----------------+\n",
      "\n"
     ]
    }
   ],
   "source": [
    "var1 = 'colour'\n",
    "var2 = 'speed'\n",
    "\n",
    "query = f\"\"\"\n",
    "SELECT \n",
    "  {var1}\n",
    ", AVG({var2}) AS average_speed\n",
    ", PERCENTILE({var2}, 0.5) AS median_speed\n",
    ", MIN({var2}) AS mininum_speed\n",
    ", MAX({var2}) AS maximum_speed\n",
    "FROM df\n",
    "GROUP BY 1\n",
    "\"\"\"\n",
    "\n",
    "spark.sql(query).show(2 * 12)"
   ]
  },
  {
   "cell_type": "code",
   "execution_count": 134,
   "metadata": {
    "execution": {
     "iopub.execute_input": "2021-04-24T04:31:47.374263Z",
     "iopub.status.busy": "2021-04-24T04:31:47.374013Z",
     "iopub.status.idle": "2021-04-24T04:31:47.396944Z",
     "shell.execute_reply": "2021-04-24T04:31:47.395838Z",
     "shell.execute_reply.started": "2021-04-24T04:31:47.374236Z"
    }
   },
   "outputs": [],
   "source": [
    "write_sql_to_file(comment, query, sql_path)"
   ]
  },
  {
   "cell_type": "markdown",
   "metadata": {},
   "source": [
    "## c. What was the percentage of trips where the driver received tips?"
   ]
  },
  {
   "cell_type": "code",
   "execution_count": 135,
   "metadata": {
    "execution": {
     "iopub.execute_input": "2021-04-24T04:31:47.398542Z",
     "iopub.status.busy": "2021-04-24T04:31:47.398231Z",
     "iopub.status.idle": "2021-04-24T04:31:47.419528Z",
     "shell.execute_reply": "2021-04-24T04:31:47.418479Z",
     "shell.execute_reply.started": "2021-04-24T04:31:47.398513Z"
    }
   },
   "outputs": [],
   "source": [
    "comment = 'c. What was the percentage of trips where the driver received tips?'"
   ]
  },
  {
   "cell_type": "code",
   "execution_count": 136,
   "metadata": {
    "execution": {
     "iopub.execute_input": "2021-04-24T04:31:47.421052Z",
     "iopub.status.busy": "2021-04-24T04:31:47.420798Z",
     "iopub.status.idle": "2021-04-24T04:31:50.590408Z",
     "shell.execute_reply": "2021-04-24T04:31:50.589418Z",
     "shell.execute_reply.started": "2021-04-24T04:31:47.421025Z"
    }
   },
   "outputs": [
    {
     "name": "stdout",
     "output_type": "stream",
     "text": [
      "+------+-------------------+\n",
      "|colour| perc_received_tips|\n",
      "+------+-------------------+\n",
      "| green|0.38053061727488685|\n",
      "|yellow|  0.993257029072511|\n",
      "+------+-------------------+\n",
      "\n"
     ]
    }
   ],
   "source": [
    "var1 = 'colour'\n",
    "var2 = 'tip_amount'\n",
    "\n",
    "query = f\"\"\"\n",
    "SELECT \n",
    "  {var1}\n",
    ", AVG(tip_ind) AS perc_received_tips\n",
    "FROM (\n",
    "    SELECT \n",
    "      {var1}\n",
    "    , CASE WHEN {var2} > 0 THEN 1 ELSE 0 END AS tip_ind\n",
    "    FROM df\n",
    "    ) temp\n",
    "GROUP BY 1\n",
    "\"\"\"\n",
    "\n",
    "spark.sql(query).show(2 * 12)"
   ]
  },
  {
   "cell_type": "code",
   "execution_count": 137,
   "metadata": {
    "execution": {
     "iopub.execute_input": "2021-04-24T04:31:50.591716Z",
     "iopub.status.busy": "2021-04-24T04:31:50.591508Z",
     "iopub.status.idle": "2021-04-24T04:31:50.611549Z",
     "shell.execute_reply": "2021-04-24T04:31:50.610498Z",
     "shell.execute_reply.started": "2021-04-24T04:31:50.591692Z"
    }
   },
   "outputs": [],
   "source": [
    "write_sql_to_file(comment, query, sql_path)"
   ]
  },
  {
   "cell_type": "markdown",
   "metadata": {},
   "source": [
    "## d. For trips where the driver received tips, what was the percentage where the driver received tips of at least $10.\n",
    "\n",
    "0.0313252%"
   ]
  },
  {
   "cell_type": "code",
   "execution_count": 138,
   "metadata": {
    "execution": {
     "iopub.execute_input": "2021-04-24T04:31:50.613184Z",
     "iopub.status.busy": "2021-04-24T04:31:50.612964Z",
     "iopub.status.idle": "2021-04-24T04:31:50.632953Z",
     "shell.execute_reply": "2021-04-24T04:31:50.631957Z",
     "shell.execute_reply.started": "2021-04-24T04:31:50.613158Z"
    }
   },
   "outputs": [],
   "source": [
    "comment = 'd. For trips where the driver received tips, what was the percentage where the driver received tips of at least $10.'"
   ]
  },
  {
   "cell_type": "code",
   "execution_count": 139,
   "metadata": {
    "execution": {
     "iopub.execute_input": "2021-04-24T04:31:50.634425Z",
     "iopub.status.busy": "2021-04-24T04:31:50.634216Z",
     "iopub.status.idle": "2021-04-24T04:31:52.846430Z",
     "shell.execute_reply": "2021-04-24T04:31:52.845444Z",
     "shell.execute_reply.started": "2021-04-24T04:31:50.634401Z"
    }
   },
   "outputs": [
    {
     "name": "stdout",
     "output_type": "stream",
     "text": [
      "+---------+---------+------------+\n",
      "|gt_10_ind|  n_trips|  perc_trips|\n",
      "+---------+---------+------------+\n",
      "|        1|    36184|3.132523e-04|\n",
      "|        0|115474546|9.996867e-01|\n",
      "+---------+---------+------------+\n",
      "\n"
     ]
    }
   ],
   "source": [
    "var = 'tip_amount'\n",
    "\n",
    "query = f\"\"\"\n",
    "\n",
    "SELECT \n",
    "  CASE WHEN {var} >= 10 THEN 1 ELSE 0 END AS gt_10_ind\n",
    ", COUNT(*) AS n_trips\n",
    ", FORMAT_STRING('%.6e', COUNT(*) / SUM(COUNT(*)) OVER ()) AS perc_trips\n",
    "\n",
    "FROM df\n",
    "GROUP BY 1\n",
    "\"\"\"\n",
    "\n",
    "spark.sql(query).show(2 * 12)"
   ]
  },
  {
   "cell_type": "code",
   "execution_count": 140,
   "metadata": {
    "execution": {
     "iopub.execute_input": "2021-04-24T04:31:52.847778Z",
     "iopub.status.busy": "2021-04-24T04:31:52.847541Z",
     "iopub.status.idle": "2021-04-24T04:31:52.872607Z",
     "shell.execute_reply": "2021-04-24T04:31:52.871518Z",
     "shell.execute_reply.started": "2021-04-24T04:31:52.847739Z"
    }
   },
   "outputs": [],
   "source": [
    "write_sql_to_file(comment, query, sql_path)"
   ]
  },
  {
   "cell_type": "markdown",
   "metadata": {},
   "source": [
    "## e. Classify each trip into bins of durations:\n",
    "\n",
    "1. Under 5 Mins\n",
    "1. From 5 mins to 10 mins\n",
    "1. From 10 mins to 20 mins\n",
    "1. From 20 mins to 30 mins\n",
    "1. At least 30 mins\n",
    "\n",
    "Then for each bins, calculate:\n",
    "* Average speed (km per hour)\n",
    "* Average distance per dollar (km per $)"
   ]
  },
  {
   "cell_type": "code",
   "execution_count": 141,
   "metadata": {
    "execution": {
     "iopub.execute_input": "2021-04-24T04:31:52.874062Z",
     "iopub.status.busy": "2021-04-24T04:31:52.873850Z",
     "iopub.status.idle": "2021-04-24T04:31:52.892316Z",
     "shell.execute_reply": "2021-04-24T04:31:52.891365Z",
     "shell.execute_reply.started": "2021-04-24T04:31:52.874037Z"
    }
   },
   "outputs": [],
   "source": [
    "comment = 'e. Classify each trip into bins of durations'"
   ]
  },
  {
   "cell_type": "code",
   "execution_count": 142,
   "metadata": {
    "execution": {
     "iopub.execute_input": "2021-04-24T04:31:52.893625Z",
     "iopub.status.busy": "2021-04-24T04:31:52.893422Z",
     "iopub.status.idle": "2021-04-24T04:31:57.647862Z",
     "shell.execute_reply": "2021-04-24T04:31:57.646890Z",
     "shell.execute_reply.started": "2021-04-24T04:31:52.893601Z"
    }
   },
   "outputs": [
    {
     "name": "stdout",
     "output_type": "stream",
     "text": [
      "+--------------+------------------+------------------+\n",
      "|duration_group|         avg_speed|         km_dollar|\n",
      "+--------------+------------------+------------------+\n",
      "|          lt_5| 24.03169394044406| 2.071765560065408|\n",
      "|       bt_5_10|24.085732398608357|3.3834257482780172|\n",
      "|      bt_10_20|24.389322722193143| 4.384531926774909|\n",
      "|      bt_20_30|24.893936704035198| 4.634846452236881|\n",
      "|         gt_30| 24.87902416809538| 5.670214286383524|\n",
      "+--------------+------------------+------------------+\n",
      "\n"
     ]
    }
   ],
   "source": [
    "var1 = 'trip_duration'\n",
    "var2 = 'speed'\n",
    "var3 = 'trip_distance_km'\n",
    "var4 = 'Total_amount'\n",
    "\n",
    "query = f\"\"\"\n",
    "SELECT \n",
    "  CASE\n",
    "    WHEN {var1} < 5 * 60 THEN 'lt_5'\n",
    "    WHEN {var1} >= 5 * 60 AND {var1} < 10 * 60 THEN 'bt_5_10'\n",
    "    WHEN {var1} >= 10 * 60 AND {var1} < 20 * 60 THEN 'bt_10_20'\n",
    "    WHEN {var1} >= 20 * 60 AND {var1} < 30 * 60 THEN 'bt_20_30'\n",
    "    WHEN {var1} >= 30 * 60 THEN 'gt_30'\n",
    "  END as duration_group\n",
    ", AVG({var2}) AS avg_speed\n",
    ", SUM({var3}) / SUM({var4}) AS km_dollar\n",
    "FROM df\n",
    "GROUP BY 1\n",
    "ORDER BY 3\n",
    "\"\"\"\n",
    "\n",
    "spark.sql(query).show(2 * 12)"
   ]
  },
  {
   "cell_type": "code",
   "execution_count": 143,
   "metadata": {
    "execution": {
     "iopub.execute_input": "2021-04-24T04:31:57.649179Z",
     "iopub.status.busy": "2021-04-24T04:31:57.648946Z",
     "iopub.status.idle": "2021-04-24T04:31:57.669127Z",
     "shell.execute_reply": "2021-04-24T04:31:57.668045Z",
     "shell.execute_reply.started": "2021-04-24T04:31:57.649154Z"
    }
   },
   "outputs": [],
   "source": [
    "write_sql_to_file(comment, query, sql_path)"
   ]
  },
  {
   "cell_type": "markdown",
   "metadata": {},
   "source": [
    "## f. Which duration bin will you advise a taxi driver to target to maximise his income?"
   ]
  },
  {
   "cell_type": "markdown",
   "metadata": {},
   "source": [
    "The duration of less than 5 minutes is advised to maximise his/her income on a km per dollar basis."
   ]
  },
  {
   "cell_type": "code",
   "execution_count": 144,
   "metadata": {
    "execution": {
     "iopub.execute_input": "2021-04-24T04:31:57.670464Z",
     "iopub.status.busy": "2021-04-24T04:31:57.670248Z",
     "iopub.status.idle": "2021-04-24T04:31:58.050523Z",
     "shell.execute_reply": "2021-04-24T04:31:58.049365Z",
     "shell.execute_reply.started": "2021-04-24T04:31:57.670439Z"
    }
   },
   "outputs": [],
   "source": [
    "spark.sparkContext.stop()"
   ]
  }
 ],
 "metadata": {
  "kernelspec": {
   "display_name": "Python 3",
   "language": "python",
   "name": "python3"
  },
  "language_info": {
   "codemirror_mode": {
    "name": "ipython",
    "version": 3
   },
   "file_extension": ".py",
   "mimetype": "text/x-python",
   "name": "python",
   "nbconvert_exporter": "python",
   "pygments_lexer": "ipython3",
   "version": "3.7.10"
  }
 },
 "nbformat": 4,
 "nbformat_minor": 4
}
