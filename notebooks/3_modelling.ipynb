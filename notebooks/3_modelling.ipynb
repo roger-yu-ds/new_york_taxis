{
 "cells": [
  {
   "cell_type": "markdown",
   "metadata": {},
   "source": [
    "# Introduction\n",
    "\n",
    "This notebook is the ETL for the yellow and green NYC taxi data for the years 2019-2020.\n",
    "\n",
    "The data has been downloaded separately from https://www1.nyc.gov/site/tlc/about/tlc-trip-record-data.page and stored in `../data/raw/`. The file names are in the format `<colour>_tripdata_yyyy-mm.csv`."
   ]
  },
  {
   "cell_type": "raw",
   "metadata": {
    "jupyter": {
     "outputs_hidden": true
    }
   },
   "source": [
    "import sys\n",
    "!{sys.executable} -m pip install scipy==1.6.2 pandas-profiling python-dotenv"
   ]
  },
  {
   "cell_type": "code",
   "execution_count": 1,
   "metadata": {
    "execution": {
     "iopub.execute_input": "2021-04-24T06:12:58.623817Z",
     "iopub.status.busy": "2021-04-24T06:12:58.623525Z",
     "iopub.status.idle": "2021-04-24T06:12:58.665353Z",
     "shell.execute_reply": "2021-04-24T06:12:58.663545Z",
     "shell.execute_reply.started": "2021-04-24T06:12:58.623740Z"
    }
   },
   "outputs": [],
   "source": [
    "%load_ext autoreload\n",
    "%autoreload 2"
   ]
  },
  {
   "cell_type": "code",
   "execution_count": 32,
   "metadata": {
    "execution": {
     "iopub.execute_input": "2021-04-24T06:28:22.827206Z",
     "iopub.status.busy": "2021-04-24T06:28:22.826925Z",
     "iopub.status.idle": "2021-04-24T06:28:22.859483Z",
     "shell.execute_reply": "2021-04-24T06:28:22.857433Z",
     "shell.execute_reply.started": "2021-04-24T06:28:22.827178Z"
    }
   },
   "outputs": [
    {
     "ename": "ModuleNotFoundError",
     "evalue": "No module named 'pyspark.sql.DataFrame'",
     "output_type": "error",
     "traceback": [
      "\u001b[0;31m---------------------------------------------------------------------------\u001b[0m",
      "\u001b[0;31mModuleNotFoundError\u001b[0m                       Traceback (most recent call last)",
      "\u001b[0;32m<ipython-input-32-69b5077cacea>\u001b[0m in \u001b[0;36m<module>\u001b[0;34m\u001b[0m\n\u001b[1;32m      6\u001b[0m \u001b[0;32mimport\u001b[0m \u001b[0mpyspark\u001b[0m\u001b[0;34m.\u001b[0m\u001b[0msql\u001b[0m\u001b[0;34m.\u001b[0m\u001b[0mfunctions\u001b[0m \u001b[0;32mas\u001b[0m \u001b[0mF\u001b[0m\u001b[0;34m\u001b[0m\u001b[0;34m\u001b[0m\u001b[0m\n\u001b[1;32m      7\u001b[0m \u001b[0;32mfrom\u001b[0m \u001b[0mpyspark\u001b[0m\u001b[0;34m.\u001b[0m\u001b[0msql\u001b[0m \u001b[0;32mimport\u001b[0m \u001b[0mDataFrame\u001b[0m\u001b[0;34m\u001b[0m\u001b[0;34m\u001b[0m\u001b[0m\n\u001b[0;32m----> 8\u001b[0;31m from pyspark.sql.DataFrame import (\n\u001b[0m\u001b[1;32m      9\u001b[0m     \u001b[0mfillna\u001b[0m\u001b[0;34m,\u001b[0m\u001b[0;34m\u001b[0m\u001b[0;34m\u001b[0m\u001b[0m\n\u001b[1;32m     10\u001b[0m     \u001b[0mdrop\u001b[0m\u001b[0;34m\u001b[0m\u001b[0;34m\u001b[0m\u001b[0m\n",
      "\u001b[0;31mModuleNotFoundError\u001b[0m: No module named 'pyspark.sql.DataFrame'"
     ]
    }
   ],
   "source": [
    "import pandas as pd\n",
    "from pathlib import Path\n",
    "from dotenv import find_dotenv\n",
    "from functools import reduce\n",
    "from pyspark.sql import SparkSession\n",
    "import pyspark.sql.functions as F\n",
    "from pyspark.sql import DataFrame\n",
    "from pyspark.sql.types import (\n",
    "    IntegerType,\n",
    "    DateType,\n",
    "    FloatType,\n",
    "    StringType\n",
    ")\n",
    "from pyspark.ml.regression import (\n",
    "    RandomForestRegressor,\n",
    "    GBTRegressor\n",
    ")\n",
    "from pyspark.ml.feature import (\n",
    "    StringIndexer,\n",
    "    VectorAssembler,\n",
    "    VectorIndexer,\n",
    "    OneHotEncoderEstimator\n",
    ")\n",
    "from pyspark.ml.evaluation import (\n",
    "    RegressionEvaluator\n",
    ")\n",
    "from pyspark.ml import Pipeline"
   ]
  },
  {
   "cell_type": "code",
   "execution_count": null,
   "metadata": {},
   "outputs": [],
   "source": [
    "project_dir = Path(find_dotenv()).cwd().parent\n",
    "data_dir = project_dir / 'data'\n",
    "raw_data_dir = data_dir / 'raw'\n",
    "processed_data_dir = data_dir / 'processed'\n",
    "reports_dir = project_dir / 'reports'\n",
    "models_dir = project_dir / 'models'"
   ]
  },
  {
   "cell_type": "code",
   "execution_count": 4,
   "metadata": {
    "execution": {
     "iopub.execute_input": "2021-04-24T06:12:59.485484Z",
     "iopub.status.busy": "2021-04-24T06:12:59.485213Z",
     "iopub.status.idle": "2021-04-24T06:13:02.116979Z",
     "shell.execute_reply": "2021-04-24T06:13:02.115853Z",
     "shell.execute_reply.started": "2021-04-24T06:12:59.485457Z"
    }
   },
   "outputs": [],
   "source": [
    "spark = (\n",
    "    SparkSession\n",
    "    .builder\n",
    "    .appName('new_york_taxis')\n",
    "    .getOrCreate()\n",
    ")"
   ]
  },
  {
   "cell_type": "code",
   "execution_count": 5,
   "metadata": {
    "execution": {
     "iopub.execute_input": "2021-04-24T06:13:02.118648Z",
     "iopub.status.busy": "2021-04-24T06:13:02.118394Z",
     "iopub.status.idle": "2021-04-24T06:13:02.147347Z",
     "shell.execute_reply": "2021-04-24T06:13:02.146278Z",
     "shell.execute_reply.started": "2021-04-24T06:13:02.118606Z"
    }
   },
   "outputs": [
    {
     "data": {
      "text/plain": [
       "'2.4.5'"
      ]
     },
     "execution_count": 5,
     "metadata": {},
     "output_type": "execute_result"
    }
   ],
   "source": [
    "spark.version"
   ]
  },
  {
   "cell_type": "code",
   "execution_count": 6,
   "metadata": {
    "execution": {
     "iopub.execute_input": "2021-04-24T06:13:02.154249Z",
     "iopub.status.busy": "2021-04-24T06:13:02.153974Z",
     "iopub.status.idle": "2021-04-24T06:13:02.182965Z",
     "shell.execute_reply": "2021-04-24T06:13:02.181589Z",
     "shell.execute_reply.started": "2021-04-24T06:13:02.154194Z"
    }
   },
   "outputs": [
    {
     "data": {
      "text/plain": [
       "'3.0.0'"
      ]
     },
     "execution_count": 6,
     "metadata": {},
     "output_type": "execute_result"
    }
   ],
   "source": [
    "spark._jvm.org.apache.hadoop.util.VersionInfo.getVersion()"
   ]
  },
  {
   "cell_type": "markdown",
   "metadata": {},
   "source": [
    "# Load data"
   ]
  },
  {
   "cell_type": "code",
   "execution_count": 7,
   "metadata": {
    "execution": {
     "iopub.execute_input": "2021-04-24T06:13:02.185651Z",
     "iopub.status.busy": "2021-04-24T06:13:02.185176Z",
     "iopub.status.idle": "2021-04-24T06:13:07.353862Z",
     "shell.execute_reply": "2021-04-24T06:13:07.352873Z",
     "shell.execute_reply.started": "2021-04-24T06:13:02.185589Z"
    }
   },
   "outputs": [],
   "source": [
    "path = processed_data_dir.joinpath('df_cleaned').as_posix()\n",
    "df = spark.read.parquet(path)"
   ]
  },
  {
   "cell_type": "markdown",
   "metadata": {},
   "source": [
    "# Choose features\n",
    "\n",
    "**Drop  columns**\n",
    "* The `Fare_amount` column is **not** to be used.\n",
    "* The date columns are to be dropped because the features have already been extracted, e.g. `pickup_dayofyear`.\n",
    "\n",
    "The label column is `Total_amount`."
   ]
  },
  {
   "cell_type": "code",
   "execution_count": 8,
   "metadata": {
    "execution": {
     "iopub.execute_input": "2021-04-24T06:13:07.355323Z",
     "iopub.status.busy": "2021-04-24T06:13:07.355097Z",
     "iopub.status.idle": "2021-04-24T06:13:07.392277Z",
     "shell.execute_reply": "2021-04-24T06:13:07.391265Z",
     "shell.execute_reply.started": "2021-04-24T06:13:07.355296Z"
    }
   },
   "outputs": [
    {
     "name": "stdout",
     "output_type": "stream",
     "text": [
      "root\n",
      " |-- VendorID: string (nullable = true)\n",
      " |-- pickup_datetime: timestamp (nullable = true)\n",
      " |-- dropoff_datetime: timestamp (nullable = true)\n",
      " |-- Store_and_fwd_flag: string (nullable = true)\n",
      " |-- RatecodeID: string (nullable = true)\n",
      " |-- PULocationID: string (nullable = true)\n",
      " |-- DOLocationID: string (nullable = true)\n",
      " |-- Passenger_count: integer (nullable = true)\n",
      " |-- Fare_amount: float (nullable = true)\n",
      " |-- extra: float (nullable = true)\n",
      " |-- mta_tax: float (nullable = true)\n",
      " |-- tip_amount: float (nullable = true)\n",
      " |-- tolls_amount: float (nullable = true)\n",
      " |-- improvement_surcharge: float (nullable = true)\n",
      " |-- Total_amount: float (nullable = true)\n",
      " |-- Payment_type: string (nullable = true)\n",
      " |-- congestion_surcharge: float (nullable = true)\n",
      " |-- colour: string (nullable = true)\n",
      " |-- pickup_year: integer (nullable = true)\n",
      " |-- pickup_month: integer (nullable = true)\n",
      " |-- pickup_dayofyear: integer (nullable = true)\n",
      " |-- pickup_dayofmonth: integer (nullable = true)\n",
      " |-- pickup_dayofweek: integer (nullable = true)\n",
      " |-- pickup_weekofyear: integer (nullable = true)\n",
      " |-- pickup_hourofday: integer (nullable = true)\n",
      " |-- dropoff_year: integer (nullable = true)\n",
      " |-- trip_duration: long (nullable = true)\n",
      " |-- trip_distance_km: double (nullable = true)\n",
      " |-- speed: double (nullable = true)\n",
      "\n"
     ]
    }
   ],
   "source": [
    "df.printSchema()"
   ]
  },
  {
   "cell_type": "code",
   "execution_count": 9,
   "metadata": {
    "execution": {
     "iopub.execute_input": "2021-04-24T06:13:07.393846Z",
     "iopub.status.busy": "2021-04-24T06:13:07.393610Z",
     "iopub.status.idle": "2021-04-24T06:13:07.411791Z",
     "shell.execute_reply": "2021-04-24T06:13:07.410747Z",
     "shell.execute_reply.started": "2021-04-24T06:13:07.393818Z"
    }
   },
   "outputs": [],
   "source": [
    "drop_cols = [\n",
    "    'pickup_datetime',\n",
    "    'dropoff_datetime',\n",
    "    'Fare_amount',\n",
    "]"
   ]
  },
  {
   "cell_type": "code",
   "execution_count": 10,
   "metadata": {
    "execution": {
     "iopub.execute_input": "2021-04-24T06:13:07.413869Z",
     "iopub.status.busy": "2021-04-24T06:13:07.413531Z",
     "iopub.status.idle": "2021-04-24T06:13:07.493707Z",
     "shell.execute_reply": "2021-04-24T06:13:07.492650Z",
     "shell.execute_reply.started": "2021-04-24T06:13:07.413832Z"
    }
   },
   "outputs": [],
   "source": [
    "df_dropped = reduce(DataFrame.drop, drop_cols, df)"
   ]
  },
  {
   "cell_type": "code",
   "execution_count": 11,
   "metadata": {
    "execution": {
     "iopub.execute_input": "2021-04-24T06:13:07.495174Z",
     "iopub.status.busy": "2021-04-24T06:13:07.494957Z",
     "iopub.status.idle": "2021-04-24T06:13:07.516966Z",
     "shell.execute_reply": "2021-04-24T06:13:07.515822Z",
     "shell.execute_reply.started": "2021-04-24T06:13:07.495147Z"
    }
   },
   "outputs": [
    {
     "name": "stdout",
     "output_type": "stream",
     "text": [
      "root\n",
      " |-- VendorID: string (nullable = true)\n",
      " |-- Store_and_fwd_flag: string (nullable = true)\n",
      " |-- RatecodeID: string (nullable = true)\n",
      " |-- PULocationID: string (nullable = true)\n",
      " |-- DOLocationID: string (nullable = true)\n",
      " |-- Passenger_count: integer (nullable = true)\n",
      " |-- extra: float (nullable = true)\n",
      " |-- mta_tax: float (nullable = true)\n",
      " |-- tip_amount: float (nullable = true)\n",
      " |-- tolls_amount: float (nullable = true)\n",
      " |-- improvement_surcharge: float (nullable = true)\n",
      " |-- Total_amount: float (nullable = true)\n",
      " |-- Payment_type: string (nullable = true)\n",
      " |-- congestion_surcharge: float (nullable = true)\n",
      " |-- colour: string (nullable = true)\n",
      " |-- pickup_year: integer (nullable = true)\n",
      " |-- pickup_month: integer (nullable = true)\n",
      " |-- pickup_dayofyear: integer (nullable = true)\n",
      " |-- pickup_dayofmonth: integer (nullable = true)\n",
      " |-- pickup_dayofweek: integer (nullable = true)\n",
      " |-- pickup_weekofyear: integer (nullable = true)\n",
      " |-- pickup_hourofday: integer (nullable = true)\n",
      " |-- dropoff_year: integer (nullable = true)\n",
      " |-- trip_duration: long (nullable = true)\n",
      " |-- trip_distance_km: double (nullable = true)\n",
      " |-- speed: double (nullable = true)\n",
      "\n"
     ]
    }
   ],
   "source": [
    "df_dropped.printSchema()"
   ]
  },
  {
   "cell_type": "markdown",
   "metadata": {},
   "source": [
    "# Formatting"
   ]
  },
  {
   "cell_type": "markdown",
   "metadata": {},
   "source": [
    "## Categorical columns\n",
    "\n",
    "PySpark algorithms requires the data to be in a certain format, e.g. categorical values are to be represented as indexes."
   ]
  },
  {
   "cell_type": "code",
   "execution_count": 12,
   "metadata": {
    "execution": {
     "iopub.execute_input": "2021-04-24T06:13:07.518494Z",
     "iopub.status.busy": "2021-04-24T06:13:07.518224Z",
     "iopub.status.idle": "2021-04-24T06:13:07.548243Z",
     "shell.execute_reply": "2021-04-24T06:13:07.547207Z",
     "shell.execute_reply.started": "2021-04-24T06:13:07.518444Z"
    }
   },
   "outputs": [
    {
     "data": {
      "text/plain": [
       "['VendorID',\n",
       " 'Store_and_fwd_flag',\n",
       " 'RatecodeID',\n",
       " 'PULocationID',\n",
       " 'DOLocationID',\n",
       " 'Payment_type',\n",
       " 'colour']"
      ]
     },
     "execution_count": 12,
     "metadata": {},
     "output_type": "execute_result"
    }
   ],
   "source": [
    "string_cols = [item[0] for item in df_dropped.dtypes if item[1].startswith('string')]\n",
    "string_cols"
   ]
  },
  {
   "cell_type": "code",
   "execution_count": 35,
   "metadata": {
    "execution": {
     "iopub.execute_input": "2021-04-24T06:29:51.343989Z",
     "iopub.status.busy": "2021-04-24T06:29:51.343729Z",
     "iopub.status.idle": "2021-04-24T06:29:51.460824Z",
     "shell.execute_reply": "2021-04-24T06:29:51.460068Z",
     "shell.execute_reply.started": "2021-04-24T06:29:51.343961Z"
    }
   },
   "outputs": [],
   "source": [
    "stages = []\n",
    "ohe_cols = []\n",
    "for col in string_cols:\n",
    "    index_col = f'{col}_index'\n",
    "    ohe_col = f'{col}_ohe'\n",
    "    col_indexer = StringIndexer(inputCol=col, outputCol=index_col).setHandleInvalid('keep')\n",
    "    col_encoder = OneHotEncoderEstimator(inputCols=[index_col], outputCols=[ohe_col])\n",
    "    stages += [col_indexer, col_encoder]\n",
    "    ohe_cols.append(ohe_col)"
   ]
  },
  {
   "cell_type": "code",
   "execution_count": 36,
   "metadata": {
    "execution": {
     "iopub.execute_input": "2021-04-24T06:29:52.954429Z",
     "iopub.status.busy": "2021-04-24T06:29:52.954167Z",
     "iopub.status.idle": "2021-04-24T06:29:52.974038Z",
     "shell.execute_reply": "2021-04-24T06:29:52.972982Z",
     "shell.execute_reply.started": "2021-04-24T06:29:52.954401Z"
    }
   },
   "outputs": [
    {
     "data": {
      "text/plain": [
       "['VendorID_ohe',\n",
       " 'Store_and_fwd_flag_ohe',\n",
       " 'RatecodeID_ohe',\n",
       " 'PULocationID_ohe',\n",
       " 'DOLocationID_ohe',\n",
       " 'Payment_type_ohe',\n",
       " 'colour_ohe']"
      ]
     },
     "execution_count": 36,
     "metadata": {},
     "output_type": "execute_result"
    }
   ],
   "source": [
    "ohe_cols"
   ]
  },
  {
   "cell_type": "markdown",
   "metadata": {},
   "source": [
    "## Numerical columns"
   ]
  },
  {
   "cell_type": "code",
   "execution_count": 25,
   "metadata": {
    "execution": {
     "iopub.execute_input": "2021-04-24T06:18:45.558655Z",
     "iopub.status.busy": "2021-04-24T06:18:45.558360Z",
     "iopub.status.idle": "2021-04-24T06:18:45.578255Z",
     "shell.execute_reply": "2021-04-24T06:18:45.577151Z",
     "shell.execute_reply.started": "2021-04-24T06:18:45.558626Z"
    }
   },
   "outputs": [
    {
     "data": {
      "text/plain": [
       "['pickup_weekofyear',\n",
       " 'pickup_dayofyear',\n",
       " 'pickup_dayofweek',\n",
       " 'improvement_surcharge',\n",
       " 'pickup_year',\n",
       " 'tip_amount',\n",
       " 'mta_tax',\n",
       " 'trip_duration',\n",
       " 'extra',\n",
       " 'Passenger_count',\n",
       " 'pickup_dayofmonth',\n",
       " 'trip_distance_km',\n",
       " 'pickup_month',\n",
       " 'congestion_surcharge',\n",
       " 'dropoff_year',\n",
       " 'tolls_amount',\n",
       " 'pickup_hourofday',\n",
       " 'speed']"
      ]
     },
     "execution_count": 25,
     "metadata": {},
     "output_type": "execute_result"
    }
   ],
   "source": [
    "num_cols = list(set(df_dropped.columns) - set(string_cols) - set(['Total_amount']))\n",
    "num_cols"
   ]
  },
  {
   "cell_type": "markdown",
   "metadata": {},
   "source": [
    "## Fillna\n",
    "\n",
    "The categorical columns will be filled with \"missing\". `VectorAssembler` doesn't handle null values."
   ]
  },
  {
   "cell_type": "code",
   "execution_count": 41,
   "metadata": {
    "execution": {
     "iopub.execute_input": "2021-04-24T06:31:18.561689Z",
     "iopub.status.busy": "2021-04-24T06:31:18.561405Z",
     "iopub.status.idle": "2021-04-24T06:31:18.672134Z",
     "shell.execute_reply": "2021-04-24T06:31:18.670901Z",
     "shell.execute_reply.started": "2021-04-24T06:31:18.561662Z"
    }
   },
   "outputs": [],
   "source": [
    "df_filled = (\n",
    "    df_dropped\n",
    "    .fillna(value='missing', subset=string_cols)\n",
    "    .fillna(value=0, subset=num_cols)\n",
    ")"
   ]
  },
  {
   "cell_type": "markdown",
   "metadata": {},
   "source": [
    "## Assemble the columns"
   ]
  },
  {
   "cell_type": "code",
   "execution_count": 37,
   "metadata": {
    "execution": {
     "iopub.execute_input": "2021-04-24T06:29:55.597378Z",
     "iopub.status.busy": "2021-04-24T06:29:55.597116Z",
     "iopub.status.idle": "2021-04-24T06:29:55.620101Z",
     "shell.execute_reply": "2021-04-24T06:29:55.619072Z",
     "shell.execute_reply.started": "2021-04-24T06:29:55.597350Z"
    }
   },
   "outputs": [],
   "source": [
    "assembler = VectorAssembler(inputCols=num_cols + ohe_cols, outputCol='features')\n",
    "stages += [assembler]"
   ]
  },
  {
   "cell_type": "markdown",
   "metadata": {},
   "source": [
    "## Pipeline"
   ]
  },
  {
   "cell_type": "code",
   "execution_count": 56,
   "metadata": {
    "execution": {
     "iopub.execute_input": "2021-04-24T06:40:10.154247Z",
     "iopub.status.busy": "2021-04-24T06:40:10.153974Z",
     "iopub.status.idle": "2021-04-24T06:40:10.173806Z",
     "shell.execute_reply": "2021-04-24T06:40:10.172718Z",
     "shell.execute_reply.started": "2021-04-24T06:40:10.154219Z"
    }
   },
   "outputs": [
    {
     "data": {
      "text/plain": [
       "[StringIndexer_74d9d696ff31,\n",
       " OneHotEncoderEstimator_3f78119b65eb,\n",
       " StringIndexer_581dc28a7afc,\n",
       " OneHotEncoderEstimator_831f8fe1d5ae,\n",
       " StringIndexer_0f99705d934e,\n",
       " OneHotEncoderEstimator_2cdfccea4eb3,\n",
       " StringIndexer_bc570d18dfbd,\n",
       " OneHotEncoderEstimator_438a104ef2db,\n",
       " StringIndexer_14edce1b3154,\n",
       " OneHotEncoderEstimator_62269237b186,\n",
       " StringIndexer_770840f22e9c,\n",
       " OneHotEncoderEstimator_d0d1193ab3f9,\n",
       " StringIndexer_2ae6c3a1de0a,\n",
       " OneHotEncoderEstimator_f688e56e8016,\n",
       " VectorAssembler_577b694d400d]"
      ]
     },
     "execution_count": 56,
     "metadata": {},
     "output_type": "execute_result"
    }
   ],
   "source": [
    "stages"
   ]
  },
  {
   "cell_type": "code",
   "execution_count": 39,
   "metadata": {
    "execution": {
     "iopub.execute_input": "2021-04-24T06:29:56.166846Z",
     "iopub.status.busy": "2021-04-24T06:29:56.166573Z",
     "iopub.status.idle": "2021-04-24T06:29:56.184904Z",
     "shell.execute_reply": "2021-04-24T06:29:56.183756Z",
     "shell.execute_reply.started": "2021-04-24T06:29:56.166819Z"
    }
   },
   "outputs": [],
   "source": [
    "pipeline = Pipeline(stages=stages)"
   ]
  },
  {
   "cell_type": "code",
   "execution_count": 57,
   "metadata": {
    "execution": {
     "iopub.execute_input": "2021-04-24T06:40:30.069635Z",
     "iopub.status.busy": "2021-04-24T06:40:30.069351Z",
     "iopub.status.idle": "2021-04-24T06:42:18.421310Z",
     "shell.execute_reply": "2021-04-24T06:42:18.420325Z",
     "shell.execute_reply.started": "2021-04-24T06:40:30.069607Z"
    }
   },
   "outputs": [],
   "source": [
    "pipeline_model = pipeline.fit(df_filled)"
   ]
  },
  {
   "cell_type": "code",
   "execution_count": 58,
   "metadata": {
    "execution": {
     "iopub.execute_input": "2021-04-24T06:42:18.422658Z",
     "iopub.status.busy": "2021-04-24T06:42:18.422453Z",
     "iopub.status.idle": "2021-04-24T06:42:18.771088Z",
     "shell.execute_reply": "2021-04-24T06:42:18.770135Z",
     "shell.execute_reply.started": "2021-04-24T06:42:18.422632Z"
    }
   },
   "outputs": [],
   "source": [
    "df_transformed = pipeline_model.transform(df_filled)"
   ]
  },
  {
   "cell_type": "code",
   "execution_count": 59,
   "metadata": {
    "execution": {
     "iopub.execute_input": "2021-04-24T06:42:18.772782Z",
     "iopub.status.busy": "2021-04-24T06:42:18.772568Z",
     "iopub.status.idle": "2021-04-24T06:48:53.347374Z",
     "shell.execute_reply": "2021-04-24T06:48:53.344460Z",
     "shell.execute_reply.started": "2021-04-24T06:42:18.772757Z"
    }
   },
   "outputs": [
    {
     "name": "stdout",
     "output_type": "stream",
     "text": [
      "+--------+------------------+----------+------------+------------+---------------+-----+-------+----------+------------+---------------------+------------+------------+--------------------+------+-----------+------------+----------------+-----------------+----------------+-----------------+----------------+------------+-------------+------------------+------------------+--------------+-------------+------------------------+----------------------+----------------+-------------------+------------------+----------------+------------------+----------------+------------------+----------------+------------+-------------+--------------------+\n",
      "|VendorID|Store_and_fwd_flag|RatecodeID|PULocationID|DOLocationID|Passenger_count|extra|mta_tax|tip_amount|tolls_amount|improvement_surcharge|Total_amount|Payment_type|congestion_surcharge|colour|pickup_year|pickup_month|pickup_dayofyear|pickup_dayofmonth|pickup_dayofweek|pickup_weekofyear|pickup_hourofday|dropoff_year|trip_duration|  trip_distance_km|             speed|VendorID_index| VendorID_ohe|Store_and_fwd_flag_index|Store_and_fwd_flag_ohe|RatecodeID_index|     RatecodeID_ohe|PULocationID_index|PULocationID_ohe|DOLocationID_index|DOLocationID_ohe|Payment_type_index|Payment_type_ohe|colour_index|   colour_ohe|            features|\n",
      "+--------+------------------+----------+------------+------------+---------------+-----+-------+----------+------------+---------------------+------------+------------+--------------------+------+-----------+------------+----------------+-----------------+----------------+-----------------+----------------+------------+-------------+------------------+------------------+--------------+-------------+------------------------+----------------------+----------------+-------------------+------------------+----------------+------------------+----------------+------------------+----------------+------------+-------------+--------------------+\n",
      "|       2|                 N|         1|          40|          80|              1|  1.0|    0.5|       0.0|         0.0|                  0.3|        24.8|           2|                 0.0| green|       2019|           5|             140|               20|               2|               21|              17|        2019|         1995|  8.91574353860855|16.088559768917687|           0.0|(3,[0],[1.0])|                     1.0|         (2,[1],[1.0])|             0.0|  (10301,[0],[1.0])|              55.0|(262,[55],[1.0])|              78.0|(263,[78],[1.0])|               2.0|   (6,[2],[1.0])|         1.0|    (1,[],[])|(10856,[0,1,2,3,4...|\n",
      "|       2|           missing|      1.40|           1|           N|              0|  6.0|    0.0|       0.5|         1.5|                  0.0|         0.3|     missing|                 2.5|yellow|       2019|           7|             193|               12|               6|               28|               7|        2019|          200|1.3530992435516838|24.355786383930308|           0.0|(3,[0],[1.0])|                     0.0|         (2,[0],[1.0])|             9.0|  (10301,[9],[1.0])|               0.0| (262,[0],[1.0])|               0.0| (263,[0],[1.0])|               0.0|   (6,[0],[1.0])|         0.0|(1,[0],[1.0])|(10856,[0,1,2,4,5...|\n",
      "|       2|           missing|      1.91|           1|           N|              0| 10.0|    0.0|       0.5|         1.0|                  0.0|         0.3|     missing|                 2.5|yellow|       2019|           5|             126|                6|               2|               19|               8|        2019|          755| 5.107949644407607|24.355786383930308|           0.0|(3,[0],[1.0])|                     0.0|         (2,[0],[1.0])|           176.0|(10301,[176],[1.0])|               0.0| (262,[0],[1.0])|               0.0| (263,[0],[1.0])|               0.0|   (6,[0],[1.0])|         0.0|(1,[0],[1.0])|(10856,[0,1,2,4,5...|\n",
      "|       2|           missing|      3.60|           1|           N|              0| 14.5|    0.5|       0.5|        3.66|                  0.0|         0.3|     missing|                 2.5|yellow|       2019|           6|             172|               21|               6|               25|               0|        2019|          929| 6.285145986297572|24.355786383930308|           0.0|(3,[0],[1.0])|                     0.0|         (2,[0],[1.0])|            65.0| (10301,[65],[1.0])|               0.0| (262,[0],[1.0])|               0.0| (263,[0],[1.0])|               0.0|   (6,[0],[1.0])|         0.0|(1,[0],[1.0])|(10856,[0,1,2,4,5...|\n",
      "|       1|           missing|       .80|           1|           N|              0|  6.0|    3.0|       0.5|        1.95|                  0.0|         0.3|     missing|                 2.5|yellow|       2019|           2|              46|               15|               6|                7|              23|        2019|          386|2.6114815400547498|24.355786383930308|           1.0|(3,[1],[1.0])|                     0.0|         (2,[0],[1.0])|             2.0|  (10301,[2],[1.0])|               0.0| (262,[0],[1.0])|               0.0| (263,[0],[1.0])|               0.0|   (6,[0],[1.0])|         0.0|(1,[0],[1.0])|(10856,[0,1,2,4,5...|\n",
      "|       2|           missing|      2.55|           1|           N|              0| 11.0|    0.5|       0.5|        2.96|                  0.0|         0.3|     missing|                 2.5|yellow|       2020|           1|              23|               23|               5|                4|              22|        2020|          762| 5.155308117931915|24.355786383930308|           0.0|(3,[0],[1.0])|                     0.0|         (2,[0],[1.0])|           257.0|(10301,[257],[1.0])|               0.0| (262,[0],[1.0])|               0.0| (263,[0],[1.0])|               0.0|   (6,[0],[1.0])|         0.0|(1,[0],[1.0])|(10856,[0,1,2,4,5...|\n",
      "|       2|           missing|      5.04|           1|           N|              0| 18.0|    0.5|       0.5|         0.0|                  0.0|         0.3|     missing|                 2.5|yellow|       2020|           2|              60|               29|               7|                9|               1|        2020|         1003| 6.785792706411694|24.355786383930308|           0.0|(3,[0],[1.0])|                     0.0|         (2,[0],[1.0])|           577.0|(10301,[577],[1.0])|               0.0| (262,[0],[1.0])|               0.0| (263,[0],[1.0])|               0.0|   (6,[0],[1.0])|         0.0|(1,[0],[1.0])|(10856,[0,1,2,4,5...|\n",
      "|       2|           missing|       .87|           1|           N|              0|  7.0|    0.0|       0.5|        2.06|                  0.0|         0.3|     missing|                 2.5|yellow|       2019|           7|             203|               22|               2|               30|               9|        2019|          489| 3.308327650483867|24.355786383930308|           0.0|(3,[0],[1.0])|                     0.0|         (2,[0],[1.0])|            44.0| (10301,[44],[1.0])|               0.0| (262,[0],[1.0])|               0.0| (263,[0],[1.0])|               0.0|   (6,[0],[1.0])|         0.0|(1,[0],[1.0])|(10856,[0,1,2,4,5...|\n",
      "|       1|           missing|      1.50|           1|           N|              0|  7.5|    2.5|       0.5|        1.62|                  0.0|         0.3|     missing|                 2.5|yellow|       2019|          10|             300|               27|               1|               43|              11|        2019|          497|3.3624516202259342|24.355786383930308|           1.0|(3,[1],[1.0])|                     0.0|         (2,[0],[1.0])|            10.0| (10301,[10],[1.0])|               0.0| (262,[0],[1.0])|               0.0| (263,[0],[1.0])|               0.0|   (6,[0],[1.0])|         0.0|(1,[0],[1.0])|(10856,[0,1,2,4,5...|\n",
      "|       1|           missing|      1.80|           1|           N|              0|  7.5|    3.0|       0.5|        1.13|                  0.0|         0.3|     missing|                 2.5|yellow|       2019|          12|             346|               12|               5|               50|              20|        2019|          402|2.7197294795388847|24.355786383930308|           1.0|(3,[1],[1.0])|                     0.0|         (2,[0],[1.0])|            14.0| (10301,[14],[1.0])|               0.0| (262,[0],[1.0])|               0.0| (263,[0],[1.0])|               0.0|   (6,[0],[1.0])|         0.0|(1,[0],[1.0])|(10856,[0,1,2,4,5...|\n",
      "+--------+------------------+----------+------------+------------+---------------+-----+-------+----------+------------+---------------------+------------+------------+--------------------+------+-----------+------------+----------------+-----------------+----------------+-----------------+----------------+------------+-------------+------------------+------------------+--------------+-------------+------------------------+----------------------+----------------+-------------------+------------------+----------------+------------------+----------------+------------------+----------------+------------+-------------+--------------------+\n",
      "\n"
     ]
    }
   ],
   "source": [
    "df_transformed.limit(10).show()"
   ]
  },
  {
   "cell_type": "markdown",
   "metadata": {},
   "source": [
    "# Split data\n",
    "\n",
    "The last three months of the data are to be used as the testing set."
   ]
  },
  {
   "cell_type": "code",
   "execution_count": 61,
   "metadata": {
    "execution": {
     "iopub.execute_input": "2021-04-24T06:54:25.410658Z",
     "iopub.status.busy": "2021-04-24T06:54:25.410376Z",
     "iopub.status.idle": "2021-04-24T06:54:25.480989Z",
     "shell.execute_reply": "2021-04-24T06:54:25.479967Z",
     "shell.execute_reply.started": "2021-04-24T06:54:25.410630Z"
    }
   },
   "outputs": [],
   "source": [
    "test_set_mask = (F.col('pickup_year') == 2020) & (F.col('pickup_month') >= 10)\n",
    "df_test = df_transformed.filter(test_set_mask)"
   ]
  },
  {
   "cell_type": "code",
   "execution_count": 62,
   "metadata": {
    "execution": {
     "iopub.execute_input": "2021-04-24T06:54:25.482896Z",
     "iopub.status.busy": "2021-04-24T06:54:25.482602Z",
     "iopub.status.idle": "2021-04-24T06:54:43.034295Z",
     "shell.execute_reply": "2021-04-24T06:54:43.032985Z",
     "shell.execute_reply.started": "2021-04-24T06:54:25.482868Z"
    }
   },
   "outputs": [
    {
     "name": "stdout",
     "output_type": "stream",
     "text": [
      "+-----------+------------+-------+\n",
      "|pickup_year|pickup_month|  count|\n",
      "+-----------+------------+-------+\n",
      "|       2020|          11|1575114|\n",
      "|       2020|          12|1522612|\n",
      "|       2020|          10|1751017|\n",
      "+-----------+------------+-------+\n",
      "\n"
     ]
    }
   ],
   "source": [
    "df_test.groupby(['pickup_year', 'pickup_month']).count().show()"
   ]
  },
  {
   "cell_type": "code",
   "execution_count": 63,
   "metadata": {
    "execution": {
     "iopub.execute_input": "2021-04-24T06:54:43.036047Z",
     "iopub.status.busy": "2021-04-24T06:54:43.035831Z",
     "iopub.status.idle": "2021-04-24T06:54:43.060116Z",
     "shell.execute_reply": "2021-04-24T06:54:43.058813Z",
     "shell.execute_reply.started": "2021-04-24T06:54:43.036020Z"
    }
   },
   "outputs": [],
   "source": [
    "df_train = df_transformed.filter(~test_set_mask)"
   ]
  },
  {
   "cell_type": "code",
   "execution_count": 64,
   "metadata": {
    "execution": {
     "iopub.execute_input": "2021-04-24T06:54:43.062286Z",
     "iopub.status.busy": "2021-04-24T06:54:43.062032Z",
     "iopub.status.idle": "2021-04-24T06:55:01.469865Z",
     "shell.execute_reply": "2021-04-24T06:55:01.468841Z",
     "shell.execute_reply.started": "2021-04-24T06:54:43.062257Z"
    }
   },
   "outputs": [
    {
     "name": "stdout",
     "output_type": "stream",
     "text": [
      "+-----------+------------+-------+\n",
      "|pickup_year|pickup_month|  count|\n",
      "+-----------+------------+-------+\n",
      "|       2019|           1|8210354|\n",
      "|       2019|           2|7515946|\n",
      "|       2019|           3|8348950|\n",
      "|       2019|           4|7869061|\n",
      "|       2019|           5|7985822|\n",
      "|       2019|           6|7327653|\n",
      "|       2019|           7|6701176|\n",
      "|       2019|           8|6443544|\n",
      "|       2019|           9|6934948|\n",
      "|       2019|          10|7606108|\n",
      "|       2019|          11|7246815|\n",
      "|       2019|          12|7265200|\n",
      "|       2020|           1|6776129|\n",
      "|       2020|           2|6626305|\n",
      "|       2020|           3|3194072|\n",
      "|       2020|           4| 268174|\n",
      "|       2020|           5| 398037|\n",
      "|       2020|           6| 603136|\n",
      "|       2020|           7| 859777|\n",
      "|       2020|           8|1073624|\n",
      "|       2020|           9|1407156|\n",
      "+-----------+------------+-------+\n",
      "\n"
     ]
    }
   ],
   "source": [
    "df_train.groupby(['pickup_year', 'pickup_month']).count().sort(['pickup_year', 'pickup_month']).show(24)"
   ]
  },
  {
   "cell_type": "markdown",
   "metadata": {},
   "source": [
    "# Modelling"
   ]
  },
  {
   "cell_type": "code",
   "execution_count": null,
   "metadata": {
    "execution": {
     "iopub.execute_input": "2021-04-24T06:55:08.791480Z",
     "iopub.status.busy": "2021-04-24T06:55:08.791219Z"
    }
   },
   "outputs": [],
   "source": [
    "rf = RandomForestRegressor(featuresCol='features', labelCol='Total_amount').fit(df_train)"
   ]
  },
  {
   "cell_type": "code",
   "execution_count": null,
   "metadata": {},
   "outputs": [],
   "source": [
    "train_preds = rf.transform(df_test)"
   ]
  },
  {
   "cell_type": "code",
   "execution_count": null,
   "metadata": {},
   "outputs": [],
   "source": [
    "test_preds = rf.transform()"
   ]
  },
  {
   "cell_type": "code",
   "execution_count": null,
   "metadata": {},
   "outputs": [],
   "source": [
    "model_name = 'rf'\n",
    "path = models_dir / model_name\n",
    "rf.save(path, rf)"
   ]
  },
  {
   "cell_type": "markdown",
   "metadata": {},
   "source": [
    "## Evaluation"
   ]
  },
  {
   "cell_type": "code",
   "execution_count": null,
   "metadata": {},
   "outputs": [],
   "source": [
    "evaluator = RegressionEvaluator(metricName='rmse')"
   ]
  }
 ],
 "metadata": {
  "kernelspec": {
   "display_name": "Python 3",
   "language": "python",
   "name": "python3"
  },
  "language_info": {
   "codemirror_mode": {
    "name": "ipython",
    "version": 3
   },
   "file_extension": ".py",
   "mimetype": "text/x-python",
   "name": "python",
   "nbconvert_exporter": "python",
   "pygments_lexer": "ipython3",
   "version": "3.7.10"
  }
 },
 "nbformat": 4,
 "nbformat_minor": 4
}
