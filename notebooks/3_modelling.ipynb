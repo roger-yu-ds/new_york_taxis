{
 "cells": [
  {
   "cell_type": "markdown",
   "metadata": {},
   "source": [
    "# Introduction\n",
    "\n",
    "This notebook is the ETL for the yellow and green NYC taxi data for the years 2019-2020.\n",
    "\n",
    "The data has been downloaded separately from https://www1.nyc.gov/site/tlc/about/tlc-trip-record-data.page and stored in `../data/raw/`. The file names are in the format `<colour>_tripdata_yyyy-mm.csv`."
   ]
  },
  {
   "cell_type": "raw",
   "metadata": {
    "jupyter": {
     "outputs_hidden": true
    }
   },
   "source": [
    "import sys\n",
    "!{sys.executable} -m pip install scipy==1.6.2 pandas-profiling python-dotenv"
   ]
  },
  {
   "cell_type": "code",
   "execution_count": 1,
   "metadata": {
    "execution": {
     "iopub.execute_input": "2021-04-25T10:25:01.398688Z",
     "iopub.status.busy": "2021-04-25T10:25:01.398393Z",
     "iopub.status.idle": "2021-04-25T10:25:01.420581Z",
     "shell.execute_reply": "2021-04-25T10:25:01.419645Z",
     "shell.execute_reply.started": "2021-04-25T10:25:01.398603Z"
    }
   },
   "outputs": [],
   "source": [
    "%load_ext autoreload\n",
    "%autoreload 2"
   ]
  },
  {
   "cell_type": "code",
   "execution_count": 2,
   "metadata": {
    "execution": {
     "iopub.execute_input": "2021-04-25T10:25:01.422027Z",
     "iopub.status.busy": "2021-04-25T10:25:01.421830Z",
     "iopub.status.idle": "2021-04-25T10:25:02.365972Z",
     "shell.execute_reply": "2021-04-25T10:25:02.364920Z",
     "shell.execute_reply.started": "2021-04-25T10:25:01.422002Z"
    }
   },
   "outputs": [],
   "source": [
    "import pandas as pd\n",
    "from pathlib import Path\n",
    "from dotenv import find_dotenv\n",
    "from functools import reduce\n",
    "from pyspark.sql import SparkSession\n",
    "import pyspark.sql.functions as F\n",
    "from pyspark.sql import DataFrame\n",
    "from pyspark.sql.types import (\n",
    "    IntegerType,\n",
    "    DateType,\n",
    "    FloatType,\n",
    "    StringType\n",
    ")\n",
    "from pyspark.ml.regression import (\n",
    "    RandomForestRegressor,\n",
    "    GBTRegressor,\n",
    "    GeneralizedLinearRegression\n",
    ")\n",
    "from pyspark.ml.feature import (\n",
    "    StringIndexer,\n",
    "    VectorAssembler,\n",
    "    VectorIndexer,\n",
    "    OneHotEncoderEstimator\n",
    ")\n",
    "from pyspark.ml.evaluation import (\n",
    "    RegressionEvaluator\n",
    ")\n",
    "from pyspark.ml import Pipeline"
   ]
  },
  {
   "cell_type": "code",
   "execution_count": 3,
   "metadata": {
    "execution": {
     "iopub.execute_input": "2021-04-25T10:25:02.367913Z",
     "iopub.status.busy": "2021-04-25T10:25:02.367722Z",
     "iopub.status.idle": "2021-04-25T10:25:02.392558Z",
     "shell.execute_reply": "2021-04-25T10:25:02.391302Z",
     "shell.execute_reply.started": "2021-04-25T10:25:02.367890Z"
    }
   },
   "outputs": [],
   "source": [
    "project_dir = Path(find_dotenv()).cwd().parent\n",
    "data_dir = project_dir / 'data'\n",
    "raw_data_dir = data_dir / 'raw'\n",
    "processed_data_dir = data_dir / 'processed'\n",
    "reports_dir = project_dir / 'reports'\n",
    "models_dir = project_dir / 'models'\n",
    "results_dir = processed_data_dir / 'results'"
   ]
  },
  {
   "cell_type": "code",
   "execution_count": 4,
   "metadata": {
    "execution": {
     "iopub.execute_input": "2021-04-25T10:25:02.394563Z",
     "iopub.status.busy": "2021-04-25T10:25:02.394366Z",
     "iopub.status.idle": "2021-04-25T10:25:06.298624Z",
     "shell.execute_reply": "2021-04-25T10:25:06.297039Z",
     "shell.execute_reply.started": "2021-04-25T10:25:02.394538Z"
    }
   },
   "outputs": [],
   "source": [
    "spark = (\n",
    "    SparkSession\n",
    "    .builder\n",
    "    .appName('new_york_taxis')\n",
    "    .getOrCreate()\n",
    ")"
   ]
  },
  {
   "cell_type": "code",
   "execution_count": 5,
   "metadata": {
    "execution": {
     "iopub.execute_input": "2021-04-25T10:25:06.301943Z",
     "iopub.status.busy": "2021-04-25T10:25:06.301150Z",
     "iopub.status.idle": "2021-04-25T10:25:06.344991Z",
     "shell.execute_reply": "2021-04-25T10:25:06.342837Z",
     "shell.execute_reply.started": "2021-04-25T10:25:06.301824Z"
    }
   },
   "outputs": [
    {
     "data": {
      "text/plain": [
       "'2.4.5'"
      ]
     },
     "execution_count": 5,
     "metadata": {},
     "output_type": "execute_result"
    }
   ],
   "source": [
    "spark.version"
   ]
  },
  {
   "cell_type": "code",
   "execution_count": 6,
   "metadata": {
    "execution": {
     "iopub.execute_input": "2021-04-25T10:25:06.347498Z",
     "iopub.status.busy": "2021-04-25T10:25:06.347040Z",
     "iopub.status.idle": "2021-04-25T10:25:06.381487Z",
     "shell.execute_reply": "2021-04-25T10:25:06.380082Z",
     "shell.execute_reply.started": "2021-04-25T10:25:06.347454Z"
    }
   },
   "outputs": [
    {
     "data": {
      "text/plain": [
       "'3.0.0'"
      ]
     },
     "execution_count": 6,
     "metadata": {},
     "output_type": "execute_result"
    }
   ],
   "source": [
    "spark._jvm.org.apache.hadoop.util.VersionInfo.getVersion()"
   ]
  },
  {
   "cell_type": "code",
   "execution_count": 11,
   "metadata": {
    "execution": {
     "iopub.execute_input": "2021-04-25T10:25:45.948846Z",
     "iopub.status.busy": "2021-04-25T10:25:45.948608Z",
     "iopub.status.idle": "2021-04-25T10:25:45.965833Z",
     "shell.execute_reply": "2021-04-25T10:25:45.964920Z",
     "shell.execute_reply.started": "2021-04-25T10:25:45.948821Z"
    }
   },
   "outputs": [],
   "source": [
    "labelCol = 'Total_amount'"
   ]
  },
  {
   "cell_type": "markdown",
   "metadata": {},
   "source": [
    "# Load data"
   ]
  },
  {
   "cell_type": "code",
   "execution_count": 8,
   "metadata": {
    "execution": {
     "iopub.execute_input": "2021-04-25T09:35:31.433178Z",
     "iopub.status.busy": "2021-04-25T09:35:31.432946Z",
     "iopub.status.idle": "2021-04-25T09:35:35.911790Z",
     "shell.execute_reply": "2021-04-25T09:35:35.910793Z",
     "shell.execute_reply.started": "2021-04-25T09:35:31.433154Z"
    }
   },
   "outputs": [],
   "source": [
    "path = processed_data_dir.joinpath('df_cleaned').as_posix()\n",
    "df = spark.read.parquet(path)"
   ]
  },
  {
   "cell_type": "markdown",
   "metadata": {},
   "source": [
    "# Choose features\n",
    "\n",
    "**Drop  columns**\n",
    "* The `Fare_amount` column is **not** to be used.\n",
    "* The date columns are to be dropped because the features have already been extracted, e.g. `pickup_dayofyear`.\n",
    "\n",
    "The label column is `Total_amount`."
   ]
  },
  {
   "cell_type": "code",
   "execution_count": 10,
   "metadata": {
    "execution": {
     "iopub.execute_input": "2021-04-25T09:35:35.931235Z",
     "iopub.status.busy": "2021-04-25T09:35:35.930952Z",
     "iopub.status.idle": "2021-04-25T09:35:35.968167Z",
     "shell.execute_reply": "2021-04-25T09:35:35.967148Z",
     "shell.execute_reply.started": "2021-04-25T09:35:35.931191Z"
    }
   },
   "outputs": [
    {
     "name": "stdout",
     "output_type": "stream",
     "text": [
      "root\n",
      " |-- VendorID: string (nullable = true)\n",
      " |-- pickup_datetime: timestamp (nullable = true)\n",
      " |-- dropoff_datetime: timestamp (nullable = true)\n",
      " |-- Store_and_fwd_flag: string (nullable = true)\n",
      " |-- RatecodeID: string (nullable = true)\n",
      " |-- PULocationID: string (nullable = true)\n",
      " |-- DOLocationID: string (nullable = true)\n",
      " |-- Passenger_count: integer (nullable = true)\n",
      " |-- Fare_amount: float (nullable = true)\n",
      " |-- extra: float (nullable = true)\n",
      " |-- mta_tax: float (nullable = true)\n",
      " |-- tip_amount: float (nullable = true)\n",
      " |-- tolls_amount: float (nullable = true)\n",
      " |-- improvement_surcharge: float (nullable = true)\n",
      " |-- Total_amount: float (nullable = true)\n",
      " |-- Payment_type: string (nullable = true)\n",
      " |-- congestion_surcharge: float (nullable = true)\n",
      " |-- colour: string (nullable = true)\n",
      " |-- pickup_year: integer (nullable = true)\n",
      " |-- pickup_month: integer (nullable = true)\n",
      " |-- pickup_dayofyear: integer (nullable = true)\n",
      " |-- pickup_dayofmonth: integer (nullable = true)\n",
      " |-- pickup_dayofweek: integer (nullable = true)\n",
      " |-- pickup_weekofyear: integer (nullable = true)\n",
      " |-- pickup_hourofday: integer (nullable = true)\n",
      " |-- dropoff_year: integer (nullable = true)\n",
      " |-- trip_duration: long (nullable = true)\n",
      " |-- trip_distance_km: double (nullable = true)\n",
      " |-- speed: double (nullable = true)\n",
      "\n"
     ]
    }
   ],
   "source": [
    "df.printSchema()"
   ]
  },
  {
   "cell_type": "code",
   "execution_count": 11,
   "metadata": {
    "execution": {
     "iopub.execute_input": "2021-04-25T09:35:35.970972Z",
     "iopub.status.busy": "2021-04-25T09:35:35.970511Z",
     "iopub.status.idle": "2021-04-25T09:35:35.990445Z",
     "shell.execute_reply": "2021-04-25T09:35:35.989425Z",
     "shell.execute_reply.started": "2021-04-25T09:35:35.970925Z"
    }
   },
   "outputs": [],
   "source": [
    "drop_cols = [\n",
    "    'pickup_datetime',\n",
    "    'dropoff_datetime',\n",
    "    'Fare_amount',\n",
    "]"
   ]
  },
  {
   "cell_type": "code",
   "execution_count": 12,
   "metadata": {
    "execution": {
     "iopub.execute_input": "2021-04-25T09:35:35.992563Z",
     "iopub.status.busy": "2021-04-25T09:35:35.992308Z",
     "iopub.status.idle": "2021-04-25T09:35:36.072900Z",
     "shell.execute_reply": "2021-04-25T09:35:36.071528Z",
     "shell.execute_reply.started": "2021-04-25T09:35:35.992538Z"
    }
   },
   "outputs": [],
   "source": [
    "df_dropped = reduce(DataFrame.drop, drop_cols, df)"
   ]
  },
  {
   "cell_type": "code",
   "execution_count": 13,
   "metadata": {
    "execution": {
     "iopub.execute_input": "2021-04-25T09:35:36.074769Z",
     "iopub.status.busy": "2021-04-25T09:35:36.074416Z",
     "iopub.status.idle": "2021-04-25T09:35:36.095178Z",
     "shell.execute_reply": "2021-04-25T09:35:36.094044Z",
     "shell.execute_reply.started": "2021-04-25T09:35:36.074732Z"
    }
   },
   "outputs": [
    {
     "name": "stdout",
     "output_type": "stream",
     "text": [
      "root\n",
      " |-- VendorID: string (nullable = true)\n",
      " |-- Store_and_fwd_flag: string (nullable = true)\n",
      " |-- RatecodeID: string (nullable = true)\n",
      " |-- PULocationID: string (nullable = true)\n",
      " |-- DOLocationID: string (nullable = true)\n",
      " |-- Passenger_count: integer (nullable = true)\n",
      " |-- extra: float (nullable = true)\n",
      " |-- mta_tax: float (nullable = true)\n",
      " |-- tip_amount: float (nullable = true)\n",
      " |-- tolls_amount: float (nullable = true)\n",
      " |-- improvement_surcharge: float (nullable = true)\n",
      " |-- Total_amount: float (nullable = true)\n",
      " |-- Payment_type: string (nullable = true)\n",
      " |-- congestion_surcharge: float (nullable = true)\n",
      " |-- colour: string (nullable = true)\n",
      " |-- pickup_year: integer (nullable = true)\n",
      " |-- pickup_month: integer (nullable = true)\n",
      " |-- pickup_dayofyear: integer (nullable = true)\n",
      " |-- pickup_dayofmonth: integer (nullable = true)\n",
      " |-- pickup_dayofweek: integer (nullable = true)\n",
      " |-- pickup_weekofyear: integer (nullable = true)\n",
      " |-- pickup_hourofday: integer (nullable = true)\n",
      " |-- dropoff_year: integer (nullable = true)\n",
      " |-- trip_duration: long (nullable = true)\n",
      " |-- trip_distance_km: double (nullable = true)\n",
      " |-- speed: double (nullable = true)\n",
      "\n"
     ]
    }
   ],
   "source": [
    "df_dropped.printSchema()"
   ]
  },
  {
   "cell_type": "markdown",
   "metadata": {},
   "source": [
    "# Formatting"
   ]
  },
  {
   "cell_type": "markdown",
   "metadata": {},
   "source": [
    "## Categorical columns\n",
    "\n",
    "PySpark algorithms requires the data to be in a certain format, e.g. categorical values are to be represented as indexes."
   ]
  },
  {
   "cell_type": "code",
   "execution_count": 14,
   "metadata": {
    "execution": {
     "iopub.execute_input": "2021-04-25T09:35:36.096608Z",
     "iopub.status.busy": "2021-04-25T09:35:36.096383Z",
     "iopub.status.idle": "2021-04-25T09:35:36.124127Z",
     "shell.execute_reply": "2021-04-25T09:35:36.123027Z",
     "shell.execute_reply.started": "2021-04-25T09:35:36.096583Z"
    }
   },
   "outputs": [
    {
     "data": {
      "text/plain": [
       "['VendorID',\n",
       " 'Store_and_fwd_flag',\n",
       " 'RatecodeID',\n",
       " 'PULocationID',\n",
       " 'DOLocationID',\n",
       " 'Payment_type',\n",
       " 'colour']"
      ]
     },
     "execution_count": 14,
     "metadata": {},
     "output_type": "execute_result"
    }
   ],
   "source": [
    "string_cols = [item[0] for item in df_dropped.dtypes if item[1].startswith('string')]\n",
    "string_cols"
   ]
  },
  {
   "cell_type": "code",
   "execution_count": 15,
   "metadata": {
    "execution": {
     "iopub.execute_input": "2021-04-25T09:35:36.125782Z",
     "iopub.status.busy": "2021-04-25T09:35:36.125496Z",
     "iopub.status.idle": "2021-04-25T09:35:36.238316Z",
     "shell.execute_reply": "2021-04-25T09:35:36.237355Z",
     "shell.execute_reply.started": "2021-04-25T09:35:36.125750Z"
    }
   },
   "outputs": [],
   "source": [
    "stages = []\n",
    "ohe_cols = []\n",
    "for col in string_cols:\n",
    "    index_col = f'{col}_index'\n",
    "    ohe_col = f'{col}_ohe'\n",
    "    col_indexer = StringIndexer(inputCol=col, outputCol=index_col).setHandleInvalid('keep')\n",
    "    col_encoder = OneHotEncoderEstimator(inputCols=[index_col], outputCols=[ohe_col])\n",
    "    stages += [col_indexer, col_encoder]\n",
    "    ohe_cols.append(ohe_col)"
   ]
  },
  {
   "cell_type": "code",
   "execution_count": 16,
   "metadata": {
    "execution": {
     "iopub.execute_input": "2021-04-25T09:35:36.239566Z",
     "iopub.status.busy": "2021-04-25T09:35:36.239372Z",
     "iopub.status.idle": "2021-04-25T09:35:36.256504Z",
     "shell.execute_reply": "2021-04-25T09:35:36.255554Z",
     "shell.execute_reply.started": "2021-04-25T09:35:36.239543Z"
    }
   },
   "outputs": [
    {
     "data": {
      "text/plain": [
       "['VendorID_ohe',\n",
       " 'Store_and_fwd_flag_ohe',\n",
       " 'RatecodeID_ohe',\n",
       " 'PULocationID_ohe',\n",
       " 'DOLocationID_ohe',\n",
       " 'Payment_type_ohe',\n",
       " 'colour_ohe']"
      ]
     },
     "execution_count": 16,
     "metadata": {},
     "output_type": "execute_result"
    }
   ],
   "source": [
    "ohe_cols"
   ]
  },
  {
   "cell_type": "markdown",
   "metadata": {},
   "source": [
    "## Numerical columns"
   ]
  },
  {
   "cell_type": "code",
   "execution_count": 17,
   "metadata": {
    "execution": {
     "iopub.execute_input": "2021-04-25T09:35:36.257882Z",
     "iopub.status.busy": "2021-04-25T09:35:36.257669Z",
     "iopub.status.idle": "2021-04-25T09:35:36.276304Z",
     "shell.execute_reply": "2021-04-25T09:35:36.275349Z",
     "shell.execute_reply.started": "2021-04-25T09:35:36.257858Z"
    }
   },
   "outputs": [
    {
     "data": {
      "text/plain": [
       "['tolls_amount',\n",
       " 'tip_amount',\n",
       " 'pickup_dayofmonth',\n",
       " 'pickup_hourofday',\n",
       " 'pickup_month',\n",
       " 'pickup_year',\n",
       " 'dropoff_year',\n",
       " 'pickup_dayofweek',\n",
       " 'improvement_surcharge',\n",
       " 'congestion_surcharge',\n",
       " 'trip_distance_km',\n",
       " 'mta_tax',\n",
       " 'extra',\n",
       " 'speed',\n",
       " 'Passenger_count',\n",
       " 'trip_duration',\n",
       " 'pickup_dayofyear',\n",
       " 'pickup_weekofyear']"
      ]
     },
     "execution_count": 17,
     "metadata": {},
     "output_type": "execute_result"
    }
   ],
   "source": [
    "num_cols = list(set(df_dropped.columns) - set(string_cols) - set(['Total_amount']))\n",
    "num_cols"
   ]
  },
  {
   "cell_type": "markdown",
   "metadata": {},
   "source": [
    "## Fillna\n",
    "\n",
    "The categorical columns will be filled with \"missing\". `VectorAssembler` doesn't handle null values."
   ]
  },
  {
   "cell_type": "code",
   "execution_count": 18,
   "metadata": {
    "execution": {
     "iopub.execute_input": "2021-04-25T09:35:36.277686Z",
     "iopub.status.busy": "2021-04-25T09:35:36.277479Z",
     "iopub.status.idle": "2021-04-25T09:35:36.685000Z",
     "shell.execute_reply": "2021-04-25T09:35:36.684077Z",
     "shell.execute_reply.started": "2021-04-25T09:35:36.277661Z"
    }
   },
   "outputs": [],
   "source": [
    "df_filled = (\n",
    "    df_dropped\n",
    "    .fillna(value='missing', subset=string_cols)\n",
    "    .fillna(value=0, subset=num_cols)\n",
    ")"
   ]
  },
  {
   "cell_type": "markdown",
   "metadata": {},
   "source": [
    "## Assemble the columns"
   ]
  },
  {
   "cell_type": "code",
   "execution_count": 19,
   "metadata": {
    "execution": {
     "iopub.execute_input": "2021-04-25T09:35:36.686186Z",
     "iopub.status.busy": "2021-04-25T09:35:36.685993Z",
     "iopub.status.idle": "2021-04-25T09:35:36.712884Z",
     "shell.execute_reply": "2021-04-25T09:35:36.711967Z",
     "shell.execute_reply.started": "2021-04-25T09:35:36.686163Z"
    }
   },
   "outputs": [],
   "source": [
    "assembler = VectorAssembler(inputCols=num_cols + ohe_cols, outputCol='features')\n",
    "stages += [assembler]"
   ]
  },
  {
   "cell_type": "markdown",
   "metadata": {},
   "source": [
    "## Pipeline"
   ]
  },
  {
   "cell_type": "code",
   "execution_count": 20,
   "metadata": {
    "execution": {
     "iopub.execute_input": "2021-04-25T09:35:36.714114Z",
     "iopub.status.busy": "2021-04-25T09:35:36.713920Z",
     "iopub.status.idle": "2021-04-25T09:35:36.735357Z",
     "shell.execute_reply": "2021-04-25T09:35:36.734143Z",
     "shell.execute_reply.started": "2021-04-25T09:35:36.714091Z"
    }
   },
   "outputs": [
    {
     "data": {
      "text/plain": [
       "[StringIndexer_91d32ac5a070,\n",
       " OneHotEncoderEstimator_b8a0f6257a58,\n",
       " StringIndexer_2b80ec0eb67b,\n",
       " OneHotEncoderEstimator_7402d5ad0959,\n",
       " StringIndexer_3f360700db91,\n",
       " OneHotEncoderEstimator_acab85cf6c94,\n",
       " StringIndexer_2f7dedbb407c,\n",
       " OneHotEncoderEstimator_52a9a3a3f4f2,\n",
       " StringIndexer_37378636444e,\n",
       " OneHotEncoderEstimator_a200e54e9640,\n",
       " StringIndexer_3700f881e298,\n",
       " OneHotEncoderEstimator_282dde2a35d3,\n",
       " StringIndexer_cf74eb556fc8,\n",
       " OneHotEncoderEstimator_7c7c56fec0b8,\n",
       " VectorAssembler_f5e17d877239]"
      ]
     },
     "execution_count": 20,
     "metadata": {},
     "output_type": "execute_result"
    }
   ],
   "source": [
    "stages"
   ]
  },
  {
   "cell_type": "code",
   "execution_count": 21,
   "metadata": {
    "execution": {
     "iopub.execute_input": "2021-04-25T09:35:36.736758Z",
     "iopub.status.busy": "2021-04-25T09:35:36.736520Z",
     "iopub.status.idle": "2021-04-25T09:35:36.752698Z",
     "shell.execute_reply": "2021-04-25T09:35:36.751754Z",
     "shell.execute_reply.started": "2021-04-25T09:35:36.736735Z"
    }
   },
   "outputs": [],
   "source": [
    "pipeline = Pipeline(stages=stages)"
   ]
  },
  {
   "cell_type": "code",
   "execution_count": 22,
   "metadata": {
    "execution": {
     "iopub.execute_input": "2021-04-25T09:35:36.754751Z",
     "iopub.status.busy": "2021-04-25T09:35:36.754293Z",
     "iopub.status.idle": "2021-04-25T09:36:39.783500Z",
     "shell.execute_reply": "2021-04-25T09:36:39.782547Z",
     "shell.execute_reply.started": "2021-04-25T09:35:36.754708Z"
    }
   },
   "outputs": [],
   "source": [
    "pipeline_model = pipeline.fit(df_filled)"
   ]
  },
  {
   "cell_type": "code",
   "execution_count": 23,
   "metadata": {
    "execution": {
     "iopub.execute_input": "2021-04-25T09:36:39.784696Z",
     "iopub.status.busy": "2021-04-25T09:36:39.784498Z",
     "iopub.status.idle": "2021-04-25T09:36:40.039690Z",
     "shell.execute_reply": "2021-04-25T09:36:40.038786Z",
     "shell.execute_reply.started": "2021-04-25T09:36:39.784672Z"
    }
   },
   "outputs": [],
   "source": [
    "df_transformed = pipeline_model.transform(df_filled)"
   ]
  },
  {
   "cell_type": "code",
   "execution_count": 24,
   "metadata": {
    "execution": {
     "iopub.execute_input": "2021-04-25T09:36:40.048899Z",
     "iopub.status.busy": "2021-04-25T09:36:40.048651Z",
     "iopub.status.idle": "2021-04-25T09:39:40.749387Z",
     "shell.execute_reply": "2021-04-25T09:39:40.747050Z",
     "shell.execute_reply.started": "2021-04-25T09:36:40.048875Z"
    }
   },
   "outputs": [
    {
     "name": "stdout",
     "output_type": "stream",
     "text": [
      "+--------+------------------+----------+------------+------------+---------------+-----+-------+----------+------------+---------------------+------------+------------+--------------------+------+-----------+------------+----------------+-----------------+----------------+-----------------+----------------+------------+-------------+------------------+------------------+--------------+-------------+------------------------+----------------------+----------------+--------------+------------------+----------------+------------------+----------------+------------------+----------------+------------+-------------+--------------------+\n",
      "|VendorID|Store_and_fwd_flag|RatecodeID|PULocationID|DOLocationID|Passenger_count|extra|mta_tax|tip_amount|tolls_amount|improvement_surcharge|Total_amount|Payment_type|congestion_surcharge|colour|pickup_year|pickup_month|pickup_dayofyear|pickup_dayofmonth|pickup_dayofweek|pickup_weekofyear|pickup_hourofday|dropoff_year|trip_duration|  trip_distance_km|             speed|VendorID_index| VendorID_ohe|Store_and_fwd_flag_index|Store_and_fwd_flag_ohe|RatecodeID_index|RatecodeID_ohe|PULocationID_index|PULocationID_ohe|DOLocationID_index|DOLocationID_ohe|Payment_type_index|Payment_type_ohe|colour_index|   colour_ohe|            features|\n",
      "+--------+------------------+----------+------------+------------+---------------+-----+-------+----------+------------+---------------------+------------+------------+--------------------+------+-----------+------------+----------------+-----------------+----------------+-----------------+----------------+------------+-------------+------------------+------------------+--------------+-------------+------------------------+----------------------+----------------+--------------+------------------+----------------+------------------+----------------+------------------+----------------+------------+-------------+--------------------+\n",
      "|       2|                 N|         1|         234|         107|              1|  0.5|    0.5|       1.7|         0.0|                  0.3|         8.5|           1|                 2.5|yellow|       2019|           5|             138|               18|               7|               20|               2|        2019|           87| 0.321868004796207|13.318676060532702|           0.0|(4,[0],[1.0])|                     0.0|         (3,[0],[1.0])|             0.0| (7,[0],[1.0])|              11.0| (20,[11],[1.0])|              17.0| (20,[17],[1.0])|               0.0|   (6,[0],[1.0])|         0.0|(2,[0],[1.0])|(80,[1,2,3,4,5,6,...|\n",
      "|       2|                 N|         1|         162|         163|              1|  0.5|    0.5|      3.39|         0.0|                  0.3|       14.69|           1|                 2.5|yellow|       2019|           4|              93|                3|               4|               14|              23|        2019|          596| 1.561059846043587| 9.429220546572001|           0.0|(4,[0],[1.0])|                     0.0|         (3,[0],[1.0])|             0.0| (7,[0],[1.0])|               5.0|  (20,[5],[1.0])|              13.0| (20,[13],[1.0])|               0.0|   (6,[0],[1.0])|         0.0|(2,[0],[1.0])|(80,[1,2,3,4,5,6,...|\n",
      "|       2|                 N|         1|        null|        null|              3|  0.5|    0.5|      3.76|         0.0|                  0.3|       22.56|           1|                 2.5|yellow|       2019|          12|             344|               10|               3|               50|              22|        2019|         1128| 5.005047231173515|15.973554993106964|           0.0|(4,[0],[1.0])|                     0.0|         (3,[0],[1.0])|             0.0| (7,[0],[1.0])|               0.0|  (20,[0],[1.0])|               0.0|  (20,[0],[1.0])|               0.0|   (6,[0],[1.0])|         0.0|(2,[0],[1.0])|(80,[1,2,3,4,5,6,...|\n",
      "|       2|                 N|         1|        null|        null|              5|  1.0|    0.5|       2.0|         0.0|                  0.3|        14.8|           1|                 2.5|yellow|       2019|          10|             294|               21|               2|               43|              19|        2019|          615|2.4461967693042754|14.319200600805514|           0.0|(4,[0],[1.0])|                     0.0|         (3,[0],[1.0])|             0.0| (7,[0],[1.0])|               0.0|  (20,[0],[1.0])|               0.0|  (20,[0],[1.0])|               0.0|   (6,[0],[1.0])|         0.0|(2,[0],[1.0])|(80,[1,2,3,4,5,6,...|\n",
      "|       2|                 N|         1|        null|         164|              1|  1.0|    0.5|      5.31|         0.0|                  0.3|       31.86|           1|                2.75| green|       2019|           3|              86|               27|               4|               13|              18|        2019|         1329| 10.10665553765297|27.376945022987726|           0.0|(4,[0],[1.0])|                     0.0|         (3,[0],[1.0])|             0.0| (7,[0],[1.0])|               0.0|  (20,[0],[1.0])|              18.0| (20,[18],[1.0])|               0.0|   (6,[0],[1.0])|         1.0|(2,[1],[1.0])|(80,[1,2,3,4,5,6,...|\n",
      "|       2|                 N|         1|         161|         170|              1|  1.0|    0.5|      2.56|         0.0|                  0.3|       15.36|           1|                 2.5|yellow|       2019|           9|             262|               19|               5|               38|              18|        2019|          657|1.8990211155867573|10.405595153900041|           0.0|(4,[0],[1.0])|                     0.0|         (3,[0],[1.0])|             0.0| (7,[0],[1.0])|               2.0|  (20,[2],[1.0])|               4.0|  (20,[4],[1.0])|               0.0|   (6,[0],[1.0])|         0.0|(2,[0],[1.0])|(80,[1,2,3,4,5,6,...|\n",
      "| missing|           missing|      null|        null|         170|              0|  0.0|    0.5|      2.92|         0.0|                  0.3|       16.41|     missing|                 2.5|yellow|       2020|           6|             167|               15|               2|               25|              11|        2020|          720| 3.041652576978206|15.208262884891031|           2.0|(4,[2],[1.0])|                     1.0|         (3,[1],[1.0])|             2.0| (7,[2],[1.0])|               0.0|  (20,[0],[1.0])|               4.0|  (20,[4],[1.0])|               2.0|   (6,[2],[1.0])|         0.0|(2,[0],[1.0])|(80,[1,2,3,4,5,6,...|\n",
      "|       2|                 N|         1|        null|        null|              1|  1.0|    0.5|       0.0|         0.0|                  0.3|        54.3|           1|                 0.0| green|       2019|           6|             176|               25|               3|               26|              16|        2019|         4027|         21.323755|19.062706232927738|           0.0|(4,[0],[1.0])|                     0.0|         (3,[0],[1.0])|             0.0| (7,[0],[1.0])|               0.0|  (20,[0],[1.0])|               0.0|  (20,[0],[1.0])|               0.0|   (6,[0],[1.0])|         1.0|(2,[1],[1.0])|(80,[2,3,4,5,6,7,...|\n",
      "|       1|                 N|         1|         236|         237|              1|  2.5|    0.5|      1.86|         0.0|                  0.3|       11.16|           1|                 2.5|yellow|       2020|           2|              56|               25|               3|                9|               9|        2020|          369| 1.287472019184828|12.560702626193443|           1.0|(4,[1],[1.0])|                     0.0|         (3,[0],[1.0])|             0.0| (7,[0],[1.0])|               3.0|  (20,[3],[1.0])|               2.0|  (20,[2],[1.0])|               0.0|   (6,[0],[1.0])|         0.0|(2,[0],[1.0])|(80,[1,2,3,4,5,6,...|\n",
      "|       2|                 N|         1|        null|         234|              1|  1.0|    0.5|      1.93|         0.0|                  0.3|       21.23|           1|                 2.5|yellow|       2019|           2|              36|                5|               3|                6|              19|        2019|          875| 6.083305153956412|25.028455490563527|           0.0|(4,[0],[1.0])|                     0.0|         (3,[0],[1.0])|             0.0| (7,[0],[1.0])|               0.0|  (20,[0],[1.0])|              10.0| (20,[10],[1.0])|               0.0|   (6,[0],[1.0])|         0.0|(2,[0],[1.0])|(80,[1,2,3,4,5,6,...|\n",
      "+--------+------------------+----------+------------+------------+---------------+-----+-------+----------+------------+---------------------+------------+------------+--------------------+------+-----------+------------+----------------+-----------------+----------------+-----------------+----------------+------------+-------------+------------------+------------------+--------------+-------------+------------------------+----------------------+----------------+--------------+------------------+----------------+------------------+----------------+------------------+----------------+------------+-------------+--------------------+\n",
      "\n"
     ]
    }
   ],
   "source": [
    "df_transformed.limit(10).show()"
   ]
  },
  {
   "cell_type": "markdown",
   "metadata": {},
   "source": [
    "# Split data\n",
    "\n",
    "The last three months of the data are to be used as the testing set."
   ]
  },
  {
   "cell_type": "code",
   "execution_count": 25,
   "metadata": {
    "execution": {
     "iopub.execute_input": "2021-04-25T09:39:40.754313Z",
     "iopub.status.busy": "2021-04-25T09:39:40.753583Z",
     "iopub.status.idle": "2021-04-25T09:39:40.882082Z",
     "shell.execute_reply": "2021-04-25T09:39:40.881112Z",
     "shell.execute_reply.started": "2021-04-25T09:39:40.754247Z"
    }
   },
   "outputs": [],
   "source": [
    "test_set_mask = (F.col('pickup_year') == 2020) & (F.col('pickup_month') >= 10)\n",
    "df_test = df_transformed.filter(test_set_mask)"
   ]
  },
  {
   "cell_type": "code",
   "execution_count": 26,
   "metadata": {
    "execution": {
     "iopub.execute_input": "2021-04-25T09:39:40.883493Z",
     "iopub.status.busy": "2021-04-25T09:39:40.883293Z",
     "iopub.status.idle": "2021-04-25T09:39:43.669034Z",
     "shell.execute_reply": "2021-04-25T09:39:43.667872Z",
     "shell.execute_reply.started": "2021-04-25T09:39:40.883470Z"
    }
   },
   "outputs": [
    {
     "name": "stdout",
     "output_type": "stream",
     "text": [
      "+-----------+------------+-------+\n",
      "|pickup_year|pickup_month|  count|\n",
      "+-----------+------------+-------+\n",
      "|       2020|          11|1575084|\n",
      "|       2020|          12|1522569|\n",
      "|       2020|          10|1750997|\n",
      "+-----------+------------+-------+\n",
      "\n"
     ]
    }
   ],
   "source": [
    "df_test.groupby(['pickup_year', 'pickup_month']).count().show()"
   ]
  },
  {
   "cell_type": "code",
   "execution_count": 27,
   "metadata": {
    "execution": {
     "iopub.execute_input": "2021-04-25T09:39:43.670601Z",
     "iopub.status.busy": "2021-04-25T09:39:43.670347Z",
     "iopub.status.idle": "2021-04-25T09:39:43.693919Z",
     "shell.execute_reply": "2021-04-25T09:39:43.692957Z",
     "shell.execute_reply.started": "2021-04-25T09:39:43.670577Z"
    }
   },
   "outputs": [],
   "source": [
    "df_train = df_transformed.filter(~test_set_mask)"
   ]
  },
  {
   "cell_type": "code",
   "execution_count": 28,
   "metadata": {
    "execution": {
     "iopub.execute_input": "2021-04-25T09:39:43.698100Z",
     "iopub.status.busy": "2021-04-25T09:39:43.697695Z",
     "iopub.status.idle": "2021-04-25T09:39:46.638442Z",
     "shell.execute_reply": "2021-04-25T09:39:46.637237Z",
     "shell.execute_reply.started": "2021-04-25T09:39:43.698065Z"
    }
   },
   "outputs": [
    {
     "name": "stdout",
     "output_type": "stream",
     "text": [
      "+-----------+------------+-------+\n",
      "|pickup_year|pickup_month|  count|\n",
      "+-----------+------------+-------+\n",
      "|       2019|           1|8210352|\n",
      "|       2019|           2|7515945|\n",
      "|       2019|           3|8348950|\n",
      "|       2019|           4|7869060|\n",
      "|       2019|           5|7985822|\n",
      "|       2019|           6|7327652|\n",
      "|       2019|           7|6701176|\n",
      "|       2019|           8|6443544|\n",
      "|       2019|           9|6934948|\n",
      "|       2019|          10|7606108|\n",
      "|       2019|          11|7246813|\n",
      "|       2019|          12|7265198|\n",
      "|       2020|           1|6776128|\n",
      "|       2020|           2|6626300|\n",
      "|       2020|           3|3194064|\n",
      "|       2020|           4| 268170|\n",
      "|       2020|           5| 398016|\n",
      "|       2020|           6| 603131|\n",
      "|       2020|           7| 859769|\n",
      "|       2020|           8|1073604|\n",
      "|       2020|           9|1407131|\n",
      "+-----------+------------+-------+\n",
      "\n"
     ]
    }
   ],
   "source": [
    "df_train.groupby(['pickup_year', 'pickup_month']).count().sort(['pickup_year', 'pickup_month']).show(24)"
   ]
  },
  {
   "cell_type": "code",
   "execution_count": 8,
   "metadata": {
    "execution": {
     "iopub.execute_input": "2021-04-25T10:25:14.934710Z",
     "iopub.status.busy": "2021-04-25T10:25:14.934471Z",
     "iopub.status.idle": "2021-04-25T10:25:14.951079Z",
     "shell.execute_reply": "2021-04-25T10:25:14.950079Z",
     "shell.execute_reply.started": "2021-04-25T10:25:14.934683Z"
    }
   },
   "outputs": [],
   "source": [
    "df_train_path = processed_data_dir.joinpath('df_train').as_posix()\n",
    "df_test_path = processed_data_dir.joinpath('df_test').as_posix()"
   ]
  },
  {
   "cell_type": "code",
   "execution_count": 31,
   "metadata": {
    "execution": {
     "iopub.execute_input": "2021-04-25T09:40:22.590983Z",
     "iopub.status.busy": "2021-04-25T09:40:22.590739Z",
     "iopub.status.idle": "2021-04-25T09:52:44.823977Z",
     "shell.execute_reply": "2021-04-25T09:52:44.821031Z",
     "shell.execute_reply.started": "2021-04-25T09:40:22.590958Z"
    }
   },
   "outputs": [],
   "source": [
    "df_train.write.parquet(df_train_path, mode='overwrite')\n",
    "df_test.write.parquet(df_test_path, mode='overwrite')"
   ]
  },
  {
   "cell_type": "code",
   "execution_count": 9,
   "metadata": {
    "execution": {
     "iopub.execute_input": "2021-04-25T10:25:15.979909Z",
     "iopub.status.busy": "2021-04-25T10:25:15.979669Z",
     "iopub.status.idle": "2021-04-25T10:25:19.915880Z",
     "shell.execute_reply": "2021-04-25T10:25:19.914967Z",
     "shell.execute_reply.started": "2021-04-25T10:25:15.979883Z"
    }
   },
   "outputs": [],
   "source": [
    "df_train = spark.read.parquet(df_train_path)\n",
    "df_test = spark.read.parquet(df_test_path)"
   ]
  },
  {
   "cell_type": "markdown",
   "metadata": {},
   "source": [
    "# Save subsets"
   ]
  },
  {
   "cell_type": "markdown",
   "metadata": {},
   "source": [
    "## 1%"
   ]
  },
  {
   "cell_type": "code",
   "execution_count": 34,
   "metadata": {
    "execution": {
     "iopub.execute_input": "2021-04-25T09:55:42.192488Z",
     "iopub.status.busy": "2021-04-25T09:55:42.192244Z",
     "iopub.status.idle": "2021-04-25T10:00:13.786766Z",
     "shell.execute_reply": "2021-04-25T10:00:13.785834Z",
     "shell.execute_reply.started": "2021-04-25T09:55:42.192463Z"
    }
   },
   "outputs": [],
   "source": [
    "fraction = 0.01\n",
    "filename = f'df_train_{fraction}'.replace('.', '')\n",
    "df_train_001 = df_train.sample(fraction=fraction)\n",
    "df_train_001_path = processed_data_dir.joinpath(filename).as_posix()\n",
    "df_train_001.write.parquet(df_train_001_path, mode='overwrite')"
   ]
  },
  {
   "cell_type": "markdown",
   "metadata": {},
   "source": [
    "## 5%"
   ]
  },
  {
   "cell_type": "code",
   "execution_count": 35,
   "metadata": {
    "execution": {
     "iopub.execute_input": "2021-04-25T10:00:13.788175Z",
     "iopub.status.busy": "2021-04-25T10:00:13.787982Z",
     "iopub.status.idle": "2021-04-25T10:04:59.537549Z",
     "shell.execute_reply": "2021-04-25T10:04:59.536638Z",
     "shell.execute_reply.started": "2021-04-25T10:00:13.788152Z"
    }
   },
   "outputs": [],
   "source": [
    "fraction = 0.05\n",
    "filename = f'df_train_{fraction}'.replace('.', '')\n",
    "\n",
    "df_train_005 = df_train.sample(fraction=fraction)\n",
    "df_train_005_path = processed_data_dir.joinpath(filename).as_posix()\n",
    "df_train_005.write.parquet(df_train_005_path, mode='overwrite')"
   ]
  },
  {
   "cell_type": "markdown",
   "metadata": {},
   "source": [
    "# Modelling "
   ]
  },
  {
   "cell_type": "code",
   "execution_count": 14,
   "metadata": {
    "execution": {
     "iopub.execute_input": "2021-04-25T10:41:44.251519Z",
     "iopub.status.busy": "2021-04-25T10:41:44.251265Z",
     "iopub.status.idle": "2021-04-25T10:41:44.283038Z",
     "shell.execute_reply": "2021-04-25T10:41:44.282121Z",
     "shell.execute_reply.started": "2021-04-25T10:41:44.251493Z"
    }
   },
   "outputs": [],
   "source": [
    "evaluator = RegressionEvaluator(metricName='rmse', labelCol='Total_amount')"
   ]
  },
  {
   "cell_type": "markdown",
   "metadata": {
    "execution": {
     "iopub.execute_input": "2021-04-25T09:29:00.805206Z",
     "iopub.status.busy": "2021-04-25T09:29:00.804833Z",
     "iopub.status.idle": "2021-04-25T09:29:00.809889Z",
     "shell.execute_reply": "2021-04-25T09:29:00.809125Z",
     "shell.execute_reply.started": "2021-04-25T09:29:00.805109Z"
    }
   },
   "source": [
    "## GLM"
   ]
  },
  {
   "cell_type": "code",
   "execution_count": 37,
   "metadata": {
    "execution": {
     "iopub.execute_input": "2021-04-25T10:04:59.575528Z",
     "iopub.status.busy": "2021-04-25T10:04:59.575323Z",
     "iopub.status.idle": "2021-04-25T10:06:52.599832Z",
     "shell.execute_reply": "2021-04-25T10:06:52.598406Z",
     "shell.execute_reply.started": "2021-04-25T10:04:59.575505Z"
    }
   },
   "outputs": [],
   "source": [
    "model_name = 'glm'\n",
    "model = GeneralizedLinearRegression(family=\"gaussian\", \n",
    "                                    link=\"identity\",\n",
    "                                    maxIter=10,\n",
    "                                    regParam=0.3,\n",
    "                                    labelCol=labelCol).fit(df_train)\n",
    "\n",
    "path = models_dir.joinpath(model_name).as_posix()\n",
    "model.save(path)"
   ]
  },
  {
   "cell_type": "code",
   "execution_count": 38,
   "metadata": {
    "execution": {
     "iopub.execute_input": "2021-04-25T10:06:52.601888Z",
     "iopub.status.busy": "2021-04-25T10:06:52.601702Z",
     "iopub.status.idle": "2021-04-25T10:08:38.785154Z",
     "shell.execute_reply": "2021-04-25T10:08:38.783967Z",
     "shell.execute_reply.started": "2021-04-25T10:06:52.601865Z"
    }
   },
   "outputs": [],
   "source": [
    "train_preds = model.transform(df_train)\n",
    "test_preds = model.transform(df_test)\n",
    "\n",
    "train_score = evaluator.evaluate(train_preds)\n",
    "test_score = evaluator.evaluate(test_preds)"
   ]
  },
  {
   "cell_type": "code",
   "execution_count": 40,
   "metadata": {
    "execution": {
     "iopub.execute_input": "2021-04-25T10:09:20.618739Z",
     "iopub.status.busy": "2021-04-25T10:09:20.618477Z",
     "iopub.status.idle": "2021-04-25T10:09:20.635667Z",
     "shell.execute_reply": "2021-04-25T10:09:20.634455Z",
     "shell.execute_reply.started": "2021-04-25T10:09:20.618714Z"
    }
   },
   "outputs": [
    {
     "name": "stdout",
     "output_type": "stream",
     "text": [
      "Train RMSE for glm model: 129.00596329943053\n",
      "Test RMSE for glm model: 488.29038922405243\n"
     ]
    }
   ],
   "source": [
    "print(f'Train RMSE for {model_name} model: {train_score}')\n",
    "print(f'Test RMSE for {model_name} model: {test_score}')"
   ]
  },
  {
   "cell_type": "markdown",
   "metadata": {
    "execution": {
     "iopub.execute_input": "2021-04-25T09:29:00.805206Z",
     "iopub.status.busy": "2021-04-25T09:29:00.804833Z",
     "iopub.status.idle": "2021-04-25T09:29:00.809889Z",
     "shell.execute_reply": "2021-04-25T09:29:00.809125Z",
     "shell.execute_reply.started": "2021-04-25T09:29:00.805109Z"
    }
   },
   "source": [
    "## Random Forest"
   ]
  },
  {
   "cell_type": "code",
   "execution_count": 12,
   "metadata": {
    "execution": {
     "iopub.execute_input": "2021-04-25T10:25:52.582292Z",
     "iopub.status.busy": "2021-04-25T10:25:52.582017Z",
     "iopub.status.idle": "2021-04-25T10:41:33.991487Z",
     "shell.execute_reply": "2021-04-25T10:41:33.975789Z",
     "shell.execute_reply.started": "2021-04-25T10:25:52.582264Z"
    }
   },
   "outputs": [],
   "source": [
    "model_name = 'rf'\n",
    "model = RandomForestRegressor(featuresCol='features',\n",
    "                              labelCol=labelCol).fit(df_train)\n",
    "\n",
    "path = models_dir.joinpath(model_name).as_posix()\n",
    "model.save(path)"
   ]
  },
  {
   "cell_type": "code",
   "execution_count": 15,
   "metadata": {
    "execution": {
     "iopub.execute_input": "2021-04-25T10:41:47.036553Z",
     "iopub.status.busy": "2021-04-25T10:41:47.036312Z",
     "iopub.status.idle": "2021-04-25T10:44:20.005701Z",
     "shell.execute_reply": "2021-04-25T10:44:20.004512Z",
     "shell.execute_reply.started": "2021-04-25T10:41:47.036527Z"
    }
   },
   "outputs": [],
   "source": [
    "train_preds = model.transform(df_train)\n",
    "test_preds = model.transform(df_test)\n",
    "\n",
    "train_score = evaluator.evaluate(train_preds)\n",
    "test_score = evaluator.evaluate(test_preds)"
   ]
  },
  {
   "cell_type": "code",
   "execution_count": 17,
   "metadata": {
    "execution": {
     "iopub.execute_input": "2021-04-25T10:46:56.927785Z",
     "iopub.status.busy": "2021-04-25T10:46:56.927514Z",
     "iopub.status.idle": "2021-04-25T10:46:56.953487Z",
     "shell.execute_reply": "2021-04-25T10:46:56.952530Z",
     "shell.execute_reply.started": "2021-04-25T10:46:56.927759Z"
    }
   },
   "outputs": [
    {
     "name": "stdout",
     "output_type": "stream",
     "text": [
      "Train RMSE for rf model: 167.7277791381423\n",
      "Test RMSE for rf model: 489.1960407601678\n"
     ]
    }
   ],
   "source": [
    "print(f'Train RMSE for {model_name} model: {train_score}')\n",
    "print(f'Test RMSE for {model_name} model: {test_score}')"
   ]
  },
  {
   "cell_type": "markdown",
   "metadata": {
    "execution": {
     "iopub.execute_input": "2021-04-25T09:29:00.805206Z",
     "iopub.status.busy": "2021-04-25T09:29:00.804833Z",
     "iopub.status.idle": "2021-04-25T09:29:00.809889Z",
     "shell.execute_reply": "2021-04-25T09:29:00.809125Z",
     "shell.execute_reply.started": "2021-04-25T09:29:00.805109Z"
    }
   },
   "source": [
    "## Gradient Boosted Trees"
   ]
  },
  {
   "cell_type": "code",
   "execution_count": 18,
   "metadata": {
    "execution": {
     "iopub.execute_input": "2021-04-25T10:47:23.717548Z",
     "iopub.status.busy": "2021-04-25T10:47:23.717307Z",
     "iopub.status.idle": "2021-04-25T11:42:39.760773Z",
     "shell.execute_reply": "2021-04-25T11:42:39.637074Z",
     "shell.execute_reply.started": "2021-04-25T10:47:23.717522Z"
    }
   },
   "outputs": [
    {
     "ename": "KeyboardInterrupt",
     "evalue": "",
     "output_type": "error",
     "traceback": [
      "\u001b[0;31m---------------------------------------------------------------------------\u001b[0m",
      "\u001b[0;31mKeyboardInterrupt\u001b[0m                         Traceback (most recent call last)",
      "\u001b[0;32m<ipython-input-18-e776731f5ba8>\u001b[0m in \u001b[0;36m<module>\u001b[0;34m\u001b[0m\n\u001b[1;32m      1\u001b[0m \u001b[0mmodel_name\u001b[0m \u001b[0;34m=\u001b[0m \u001b[0;34m'gbt'\u001b[0m\u001b[0;34m\u001b[0m\u001b[0;34m\u001b[0m\u001b[0m\n\u001b[1;32m      2\u001b[0m model = GBTRegressor(featuresCol='features',\n\u001b[0;32m----> 3\u001b[0;31m                      labelCol=labelCol).fit(df_train)\n\u001b[0m\u001b[1;32m      4\u001b[0m \u001b[0;34m\u001b[0m\u001b[0m\n\u001b[1;32m      5\u001b[0m \u001b[0mpath\u001b[0m \u001b[0;34m=\u001b[0m \u001b[0mmodels_dir\u001b[0m\u001b[0;34m.\u001b[0m\u001b[0mjoinpath\u001b[0m\u001b[0;34m(\u001b[0m\u001b[0mmodel_name\u001b[0m\u001b[0;34m)\u001b[0m\u001b[0;34m.\u001b[0m\u001b[0mas_posix\u001b[0m\u001b[0;34m(\u001b[0m\u001b[0;34m)\u001b[0m\u001b[0;34m\u001b[0m\u001b[0;34m\u001b[0m\u001b[0m\n",
      "\u001b[0;32m/usr/local/spark/python/pyspark/ml/base.py\u001b[0m in \u001b[0;36mfit\u001b[0;34m(self, dataset, params)\u001b[0m\n\u001b[1;32m    130\u001b[0m                 \u001b[0;32mreturn\u001b[0m \u001b[0mself\u001b[0m\u001b[0;34m.\u001b[0m\u001b[0mcopy\u001b[0m\u001b[0;34m(\u001b[0m\u001b[0mparams\u001b[0m\u001b[0;34m)\u001b[0m\u001b[0;34m.\u001b[0m\u001b[0m_fit\u001b[0m\u001b[0;34m(\u001b[0m\u001b[0mdataset\u001b[0m\u001b[0;34m)\u001b[0m\u001b[0;34m\u001b[0m\u001b[0;34m\u001b[0m\u001b[0m\n\u001b[1;32m    131\u001b[0m             \u001b[0;32melse\u001b[0m\u001b[0;34m:\u001b[0m\u001b[0;34m\u001b[0m\u001b[0;34m\u001b[0m\u001b[0m\n\u001b[0;32m--> 132\u001b[0;31m                 \u001b[0;32mreturn\u001b[0m \u001b[0mself\u001b[0m\u001b[0;34m.\u001b[0m\u001b[0m_fit\u001b[0m\u001b[0;34m(\u001b[0m\u001b[0mdataset\u001b[0m\u001b[0;34m)\u001b[0m\u001b[0;34m\u001b[0m\u001b[0;34m\u001b[0m\u001b[0m\n\u001b[0m\u001b[1;32m    133\u001b[0m         \u001b[0;32melse\u001b[0m\u001b[0;34m:\u001b[0m\u001b[0;34m\u001b[0m\u001b[0;34m\u001b[0m\u001b[0m\n\u001b[1;32m    134\u001b[0m             raise ValueError(\"Params must be either a param map or a list/tuple of param maps, \"\n",
      "\u001b[0;32m/usr/local/spark/python/pyspark/ml/wrapper.py\u001b[0m in \u001b[0;36m_fit\u001b[0;34m(self, dataset)\u001b[0m\n\u001b[1;32m    293\u001b[0m \u001b[0;34m\u001b[0m\u001b[0m\n\u001b[1;32m    294\u001b[0m     \u001b[0;32mdef\u001b[0m \u001b[0m_fit\u001b[0m\u001b[0;34m(\u001b[0m\u001b[0mself\u001b[0m\u001b[0;34m,\u001b[0m \u001b[0mdataset\u001b[0m\u001b[0;34m)\u001b[0m\u001b[0;34m:\u001b[0m\u001b[0;34m\u001b[0m\u001b[0;34m\u001b[0m\u001b[0m\n\u001b[0;32m--> 295\u001b[0;31m         \u001b[0mjava_model\u001b[0m \u001b[0;34m=\u001b[0m \u001b[0mself\u001b[0m\u001b[0;34m.\u001b[0m\u001b[0m_fit_java\u001b[0m\u001b[0;34m(\u001b[0m\u001b[0mdataset\u001b[0m\u001b[0;34m)\u001b[0m\u001b[0;34m\u001b[0m\u001b[0;34m\u001b[0m\u001b[0m\n\u001b[0m\u001b[1;32m    296\u001b[0m         \u001b[0mmodel\u001b[0m \u001b[0;34m=\u001b[0m \u001b[0mself\u001b[0m\u001b[0;34m.\u001b[0m\u001b[0m_create_model\u001b[0m\u001b[0;34m(\u001b[0m\u001b[0mjava_model\u001b[0m\u001b[0;34m)\u001b[0m\u001b[0;34m\u001b[0m\u001b[0;34m\u001b[0m\u001b[0m\n\u001b[1;32m    297\u001b[0m         \u001b[0;32mreturn\u001b[0m \u001b[0mself\u001b[0m\u001b[0;34m.\u001b[0m\u001b[0m_copyValues\u001b[0m\u001b[0;34m(\u001b[0m\u001b[0mmodel\u001b[0m\u001b[0;34m)\u001b[0m\u001b[0;34m\u001b[0m\u001b[0;34m\u001b[0m\u001b[0m\n",
      "\u001b[0;32m/usr/local/spark/python/pyspark/ml/wrapper.py\u001b[0m in \u001b[0;36m_fit_java\u001b[0;34m(self, dataset)\u001b[0m\n\u001b[1;32m    290\u001b[0m         \"\"\"\n\u001b[1;32m    291\u001b[0m         \u001b[0mself\u001b[0m\u001b[0;34m.\u001b[0m\u001b[0m_transfer_params_to_java\u001b[0m\u001b[0;34m(\u001b[0m\u001b[0;34m)\u001b[0m\u001b[0;34m\u001b[0m\u001b[0;34m\u001b[0m\u001b[0m\n\u001b[0;32m--> 292\u001b[0;31m         \u001b[0;32mreturn\u001b[0m \u001b[0mself\u001b[0m\u001b[0;34m.\u001b[0m\u001b[0m_java_obj\u001b[0m\u001b[0;34m.\u001b[0m\u001b[0mfit\u001b[0m\u001b[0;34m(\u001b[0m\u001b[0mdataset\u001b[0m\u001b[0;34m.\u001b[0m\u001b[0m_jdf\u001b[0m\u001b[0;34m)\u001b[0m\u001b[0;34m\u001b[0m\u001b[0;34m\u001b[0m\u001b[0m\n\u001b[0m\u001b[1;32m    293\u001b[0m \u001b[0;34m\u001b[0m\u001b[0m\n\u001b[1;32m    294\u001b[0m     \u001b[0;32mdef\u001b[0m \u001b[0m_fit\u001b[0m\u001b[0;34m(\u001b[0m\u001b[0mself\u001b[0m\u001b[0;34m,\u001b[0m \u001b[0mdataset\u001b[0m\u001b[0;34m)\u001b[0m\u001b[0;34m:\u001b[0m\u001b[0;34m\u001b[0m\u001b[0;34m\u001b[0m\u001b[0m\n",
      "\u001b[0;32m/usr/local/spark/python/lib/py4j-0.10.7-src.zip/py4j/java_gateway.py\u001b[0m in \u001b[0;36m__call__\u001b[0;34m(self, *args)\u001b[0m\n\u001b[1;32m   1253\u001b[0m             \u001b[0mproto\u001b[0m\u001b[0;34m.\u001b[0m\u001b[0mEND_COMMAND_PART\u001b[0m\u001b[0;34m\u001b[0m\u001b[0;34m\u001b[0m\u001b[0m\n\u001b[1;32m   1254\u001b[0m \u001b[0;34m\u001b[0m\u001b[0m\n\u001b[0;32m-> 1255\u001b[0;31m         \u001b[0manswer\u001b[0m \u001b[0;34m=\u001b[0m \u001b[0mself\u001b[0m\u001b[0;34m.\u001b[0m\u001b[0mgateway_client\u001b[0m\u001b[0;34m.\u001b[0m\u001b[0msend_command\u001b[0m\u001b[0;34m(\u001b[0m\u001b[0mcommand\u001b[0m\u001b[0;34m)\u001b[0m\u001b[0;34m\u001b[0m\u001b[0;34m\u001b[0m\u001b[0m\n\u001b[0m\u001b[1;32m   1256\u001b[0m         return_value = get_return_value(\n\u001b[1;32m   1257\u001b[0m             answer, self.gateway_client, self.target_id, self.name)\n",
      "\u001b[0;32m/usr/local/spark/python/lib/py4j-0.10.7-src.zip/py4j/java_gateway.py\u001b[0m in \u001b[0;36msend_command\u001b[0;34m(self, command, retry, binary)\u001b[0m\n\u001b[1;32m    983\u001b[0m         \u001b[0mconnection\u001b[0m \u001b[0;34m=\u001b[0m \u001b[0mself\u001b[0m\u001b[0;34m.\u001b[0m\u001b[0m_get_connection\u001b[0m\u001b[0;34m(\u001b[0m\u001b[0;34m)\u001b[0m\u001b[0;34m\u001b[0m\u001b[0;34m\u001b[0m\u001b[0m\n\u001b[1;32m    984\u001b[0m         \u001b[0;32mtry\u001b[0m\u001b[0;34m:\u001b[0m\u001b[0;34m\u001b[0m\u001b[0;34m\u001b[0m\u001b[0m\n\u001b[0;32m--> 985\u001b[0;31m             \u001b[0mresponse\u001b[0m \u001b[0;34m=\u001b[0m \u001b[0mconnection\u001b[0m\u001b[0;34m.\u001b[0m\u001b[0msend_command\u001b[0m\u001b[0;34m(\u001b[0m\u001b[0mcommand\u001b[0m\u001b[0;34m)\u001b[0m\u001b[0;34m\u001b[0m\u001b[0;34m\u001b[0m\u001b[0m\n\u001b[0m\u001b[1;32m    986\u001b[0m             \u001b[0;32mif\u001b[0m \u001b[0mbinary\u001b[0m\u001b[0;34m:\u001b[0m\u001b[0;34m\u001b[0m\u001b[0;34m\u001b[0m\u001b[0m\n\u001b[1;32m    987\u001b[0m                 \u001b[0;32mreturn\u001b[0m \u001b[0mresponse\u001b[0m\u001b[0;34m,\u001b[0m \u001b[0mself\u001b[0m\u001b[0;34m.\u001b[0m\u001b[0m_create_connection_guard\u001b[0m\u001b[0;34m(\u001b[0m\u001b[0mconnection\u001b[0m\u001b[0;34m)\u001b[0m\u001b[0;34m\u001b[0m\u001b[0;34m\u001b[0m\u001b[0m\n",
      "\u001b[0;32m/usr/local/spark/python/lib/py4j-0.10.7-src.zip/py4j/java_gateway.py\u001b[0m in \u001b[0;36msend_command\u001b[0;34m(self, command)\u001b[0m\n\u001b[1;32m   1150\u001b[0m \u001b[0;34m\u001b[0m\u001b[0m\n\u001b[1;32m   1151\u001b[0m         \u001b[0;32mtry\u001b[0m\u001b[0;34m:\u001b[0m\u001b[0;34m\u001b[0m\u001b[0;34m\u001b[0m\u001b[0m\n\u001b[0;32m-> 1152\u001b[0;31m             \u001b[0manswer\u001b[0m \u001b[0;34m=\u001b[0m \u001b[0msmart_decode\u001b[0m\u001b[0;34m(\u001b[0m\u001b[0mself\u001b[0m\u001b[0;34m.\u001b[0m\u001b[0mstream\u001b[0m\u001b[0;34m.\u001b[0m\u001b[0mreadline\u001b[0m\u001b[0;34m(\u001b[0m\u001b[0;34m)\u001b[0m\u001b[0;34m[\u001b[0m\u001b[0;34m:\u001b[0m\u001b[0;34m-\u001b[0m\u001b[0;36m1\u001b[0m\u001b[0;34m]\u001b[0m\u001b[0;34m)\u001b[0m\u001b[0;34m\u001b[0m\u001b[0;34m\u001b[0m\u001b[0m\n\u001b[0m\u001b[1;32m   1153\u001b[0m             \u001b[0mlogger\u001b[0m\u001b[0;34m.\u001b[0m\u001b[0mdebug\u001b[0m\u001b[0;34m(\u001b[0m\u001b[0;34m\"Answer received: {0}\"\u001b[0m\u001b[0;34m.\u001b[0m\u001b[0mformat\u001b[0m\u001b[0;34m(\u001b[0m\u001b[0manswer\u001b[0m\u001b[0;34m)\u001b[0m\u001b[0;34m)\u001b[0m\u001b[0;34m\u001b[0m\u001b[0;34m\u001b[0m\u001b[0m\n\u001b[1;32m   1154\u001b[0m             \u001b[0;32mif\u001b[0m \u001b[0manswer\u001b[0m\u001b[0;34m.\u001b[0m\u001b[0mstartswith\u001b[0m\u001b[0;34m(\u001b[0m\u001b[0mproto\u001b[0m\u001b[0;34m.\u001b[0m\u001b[0mRETURN_MESSAGE\u001b[0m\u001b[0;34m)\u001b[0m\u001b[0;34m:\u001b[0m\u001b[0;34m\u001b[0m\u001b[0;34m\u001b[0m\u001b[0m\n",
      "\u001b[0;32m/opt/conda/lib/python3.7/socket.py\u001b[0m in \u001b[0;36mreadinto\u001b[0;34m(self, b)\u001b[0m\n\u001b[1;32m    587\u001b[0m         \u001b[0;32mwhile\u001b[0m \u001b[0;32mTrue\u001b[0m\u001b[0;34m:\u001b[0m\u001b[0;34m\u001b[0m\u001b[0;34m\u001b[0m\u001b[0m\n\u001b[1;32m    588\u001b[0m             \u001b[0;32mtry\u001b[0m\u001b[0;34m:\u001b[0m\u001b[0;34m\u001b[0m\u001b[0;34m\u001b[0m\u001b[0m\n\u001b[0;32m--> 589\u001b[0;31m                 \u001b[0;32mreturn\u001b[0m \u001b[0mself\u001b[0m\u001b[0;34m.\u001b[0m\u001b[0m_sock\u001b[0m\u001b[0;34m.\u001b[0m\u001b[0mrecv_into\u001b[0m\u001b[0;34m(\u001b[0m\u001b[0mb\u001b[0m\u001b[0;34m)\u001b[0m\u001b[0;34m\u001b[0m\u001b[0;34m\u001b[0m\u001b[0m\n\u001b[0m\u001b[1;32m    590\u001b[0m             \u001b[0;32mexcept\u001b[0m \u001b[0mtimeout\u001b[0m\u001b[0;34m:\u001b[0m\u001b[0;34m\u001b[0m\u001b[0;34m\u001b[0m\u001b[0m\n\u001b[1;32m    591\u001b[0m                 \u001b[0mself\u001b[0m\u001b[0;34m.\u001b[0m\u001b[0m_timeout_occurred\u001b[0m \u001b[0;34m=\u001b[0m \u001b[0;32mTrue\u001b[0m\u001b[0;34m\u001b[0m\u001b[0;34m\u001b[0m\u001b[0m\n",
      "\u001b[0;31mKeyboardInterrupt\u001b[0m: "
     ]
    }
   ],
   "source": [
    "model_name = 'gbt'\n",
    "model = GBTRegressor(featuresCol='features',\n",
    "                     labelCol=labelCol).fit(df_train)\n",
    "\n",
    "path = models_dir.joinpath(model_name).as_posix()\n",
    "model.save(path)"
   ]
  },
  {
   "cell_type": "code",
   "execution_count": null,
   "metadata": {
    "execution": {
     "iopub.status.busy": "2021-04-25T11:42:39.895236Z",
     "iopub.status.idle": "2021-04-25T11:42:39.895816Z",
     "shell.execute_reply": "2021-04-25T11:42:39.895575Z"
    }
   },
   "outputs": [],
   "source": [
    "train_preds = model.transform(df_train)\n",
    "test_preds = model.transform(df_test)\n",
    "\n",
    "train_score = evaluator.evaluate(train_preds)\n",
    "test_score = evaluator.evaluate(test_preds)"
   ]
  },
  {
   "cell_type": "code",
   "execution_count": null,
   "metadata": {
    "execution": {
     "iopub.status.busy": "2021-04-25T11:42:39.905181Z",
     "iopub.status.idle": "2021-04-25T11:42:39.905689Z",
     "shell.execute_reply": "2021-04-25T11:42:39.905441Z"
    }
   },
   "outputs": [],
   "source": [
    "print(f'Train RMSE for {model_name} model: {train_score}')\n",
    "print(f'Test RMSE for {model_name} model: {test_score}')"
   ]
  },
  {
   "cell_type": "code",
   "execution_count": 19,
   "metadata": {
    "execution": {
     "iopub.execute_input": "2021-04-25T11:42:57.776728Z",
     "iopub.status.busy": "2021-04-25T11:42:57.765329Z",
     "iopub.status.idle": "2021-04-25T11:43:00.895990Z",
     "shell.execute_reply": "2021-04-25T11:43:00.894754Z",
     "shell.execute_reply.started": "2021-04-25T11:42:57.776658Z"
    }
   },
   "outputs": [],
   "source": [
    "spark.sparkContext.stop()"
   ]
  }
 ],
 "metadata": {
  "kernelspec": {
   "display_name": "Python 3",
   "language": "python",
   "name": "python3"
  },
  "language_info": {
   "codemirror_mode": {
    "name": "ipython",
    "version": 3
   },
   "file_extension": ".py",
   "mimetype": "text/x-python",
   "name": "python",
   "nbconvert_exporter": "python",
   "pygments_lexer": "ipython3",
   "version": "3.7.10"
  },
  "toc-autonumbering": true
 },
 "nbformat": 4,
 "nbformat_minor": 4
}
